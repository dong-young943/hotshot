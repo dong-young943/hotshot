{
 "cells": [
  {
   "cell_type": "markdown",
   "id": "75cf9e3b",
   "metadata": {},
   "source": [
    "# 날씨 좋은 월요일 오후 세 시, 자전거 타는 사람은 몇 명?"
   ]
  },
  {
   "cell_type": "markdown",
   "id": "47bba3da",
   "metadata": {},
   "source": [
    "## 데이터 준비"
   ]
  },
  {
   "cell_type": "code",
   "execution_count": 1,
   "id": "f2de58aa",
   "metadata": {},
   "outputs": [
    {
     "name": "stdout",
     "output_type": "stream",
     "text": [
      "슝=3\n"
     ]
    }
   ],
   "source": [
    "import pandas as pd\n",
    "print(\"슝=3\")"
   ]
  },
  {
   "cell_type": "markdown",
   "id": "91b77a11",
   "metadata": {},
   "source": [
    "## 프로젝트 1 : 손수 설계하는 선형회귀, 당뇨병 수치를 맞춰보자!"
   ]
  },
  {
   "cell_type": "markdown",
   "id": "ab055b70",
   "metadata": {},
   "source": [
    "### 데이터 가져오기\n",
    "#### 모델에 입력할 데이터 X 준비하기\n",
    "#### 모델에 예측할 데이터 y 준비하기"
   ]
  },
  {
   "cell_type": "code",
   "execution_count": 2,
   "id": "0c700de7",
   "metadata": {},
   "outputs": [],
   "source": [
    "from sklearn.datasets import load_diabetes\n",
    "from sklearn.model_selection import train_test_split\n",
    "from sklearn.metrics import classification_report\n",
    "diabetes=load_diabetes()"
   ]
  },
  {
   "cell_type": "code",
   "execution_count": 3,
   "id": "12cc1f59",
   "metadata": {},
   "outputs": [
    {
     "name": "stdout",
     "output_type": "stream",
     "text": [
      "[[ 0.03807591  0.05068012  0.06169621 ... -0.00259226  0.01990842\n",
      "  -0.01764613]\n",
      " [-0.00188202 -0.04464164 -0.05147406 ... -0.03949338 -0.06832974\n",
      "  -0.09220405]\n",
      " [ 0.08529891  0.05068012  0.04445121 ... -0.00259226  0.00286377\n",
      "  -0.02593034]\n",
      " ...\n",
      " [ 0.04170844  0.05068012 -0.01590626 ... -0.01107952 -0.04687948\n",
      "   0.01549073]\n",
      " [-0.04547248 -0.04464164  0.03906215 ...  0.02655962  0.04452837\n",
      "  -0.02593034]\n",
      " [-0.04547248 -0.04464164 -0.0730303  ... -0.03949338 -0.00421986\n",
      "   0.00306441]]\n",
      "[151.  75. 141. 206. 135.  97. 138.  63. 110. 310. 101.  69. 179. 185.\n",
      " 118. 171. 166. 144.  97. 168.  68.  49.  68. 245. 184. 202. 137.  85.\n",
      " 131. 283. 129.  59. 341.  87.  65. 102. 265. 276. 252.  90. 100.  55.\n",
      "  61.  92. 259.  53. 190. 142.  75. 142. 155. 225.  59. 104. 182. 128.\n",
      "  52.  37. 170. 170.  61. 144.  52. 128.  71. 163. 150.  97. 160. 178.\n",
      "  48. 270. 202. 111.  85.  42. 170. 200. 252. 113. 143.  51.  52. 210.\n",
      "  65. 141.  55. 134.  42. 111.  98. 164.  48.  96.  90. 162. 150. 279.\n",
      "  92.  83. 128. 102. 302. 198.  95.  53. 134. 144. 232.  81. 104.  59.\n",
      " 246. 297. 258. 229. 275. 281. 179. 200. 200. 173. 180.  84. 121. 161.\n",
      "  99. 109. 115. 268. 274. 158. 107.  83. 103. 272.  85. 280. 336. 281.\n",
      " 118. 317. 235.  60. 174. 259. 178. 128.  96. 126. 288.  88. 292.  71.\n",
      " 197. 186.  25.  84.  96. 195.  53. 217. 172. 131. 214.  59.  70. 220.\n",
      " 268. 152.  47.  74. 295. 101. 151. 127. 237. 225.  81. 151. 107.  64.\n",
      " 138. 185. 265. 101. 137. 143. 141.  79. 292. 178.  91. 116.  86. 122.\n",
      "  72. 129. 142.  90. 158.  39. 196. 222. 277.  99. 196. 202. 155.  77.\n",
      " 191.  70.  73.  49.  65. 263. 248. 296. 214. 185.  78.  93. 252. 150.\n",
      "  77. 208.  77. 108. 160.  53. 220. 154. 259.  90. 246. 124.  67.  72.\n",
      " 257. 262. 275. 177.  71.  47. 187. 125.  78.  51. 258. 215. 303. 243.\n",
      "  91. 150. 310. 153. 346.  63.  89.  50.  39. 103. 308. 116. 145.  74.\n",
      "  45. 115. 264.  87. 202. 127. 182. 241.  66.  94. 283.  64. 102. 200.\n",
      " 265.  94. 230. 181. 156. 233.  60. 219.  80.  68. 332. 248.  84. 200.\n",
      "  55.  85.  89.  31. 129.  83. 275.  65. 198. 236. 253. 124.  44. 172.\n",
      " 114. 142. 109. 180. 144. 163. 147.  97. 220. 190. 109. 191. 122. 230.\n",
      " 242. 248. 249. 192. 131. 237.  78. 135. 244. 199. 270. 164.  72.  96.\n",
      " 306.  91. 214.  95. 216. 263. 178. 113. 200. 139. 139.  88. 148.  88.\n",
      " 243.  71.  77. 109. 272.  60.  54. 221.  90. 311. 281. 182. 321.  58.\n",
      " 262. 206. 233. 242. 123. 167.  63. 197.  71. 168. 140. 217. 121. 235.\n",
      " 245.  40.  52. 104. 132.  88.  69. 219.  72. 201. 110.  51. 277.  63.\n",
      " 118.  69. 273. 258.  43. 198. 242. 232. 175.  93. 168. 275. 293. 281.\n",
      "  72. 140. 189. 181. 209. 136. 261. 113. 131. 174. 257.  55.  84.  42.\n",
      " 146. 212. 233.  91. 111. 152. 120.  67. 310.  94. 183.  66. 173.  72.\n",
      "  49.  64.  48. 178. 104. 132. 220.  57.]\n"
     ]
    }
   ],
   "source": [
    "df_x=diabetes.data\n",
    "df_y=diabetes.target\n",
    "\n",
    "import numpy as np\n",
    "df_x = np.array(df_x)\n",
    "df_y = np.array(df_y)\n",
    "print(df_x)\n",
    "print(df_y)"
   ]
  },
  {
   "cell_type": "code",
   "execution_count": 4,
   "id": "7da6235c",
   "metadata": {},
   "outputs": [
    {
     "name": "stdout",
     "output_type": "stream",
     "text": [
      "(442, 10)\n",
      "(442,)\n"
     ]
    }
   ],
   "source": [
    "print(df_x.shape)\n",
    "print(df_y.shape)"
   ]
  },
  {
   "cell_type": "markdown",
   "id": "88d4570a",
   "metadata": {},
   "source": [
    "### train 데이터와 test 데이터로 분리하기"
   ]
  },
  {
   "cell_type": "code",
   "execution_count": 5,
   "id": "1f3e8a3b",
   "metadata": {},
   "outputs": [
    {
     "name": "stdout",
     "output_type": "stream",
     "text": [
      "1.3.3\n"
     ]
    }
   ],
   "source": [
    "import pandas as pd\n",
    "print(pd.__version__)"
   ]
  },
  {
   "cell_type": "code",
   "execution_count": 6,
   "id": "9ffe09b8",
   "metadata": {},
   "outputs": [
    {
     "name": "stdout",
     "output_type": "stream",
     "text": [
      "['DESCR', 'data', 'data_filename', 'data_module', 'feature_names', 'frame', 'target', 'target_filename']\n"
     ]
    }
   ],
   "source": [
    "print(dir(diabetes))"
   ]
  },
  {
   "cell_type": "code",
   "execution_count": 7,
   "id": "0b68de1e",
   "metadata": {},
   "outputs": [
    {
     "name": "stdout",
     "output_type": "stream",
     "text": [
      "X_train 개수:  88 , X_test 개수:  354\n"
     ]
    }
   ],
   "source": [
    "X_train, X_test, y_train, y_test = train_test_split(df_x, \n",
    "                                                    df_y, \n",
    "                                                    test_size=0.8, \n",
    "                                                    random_state=7)\n",
    "\n",
    "print('X_train 개수: ', len(X_train),', X_test 개수: ', len(X_test))"
   ]
  },
  {
   "cell_type": "code",
   "execution_count": 8,
   "id": "a2c93a5a",
   "metadata": {},
   "outputs": [
    {
     "data": {
      "text/plain": [
       "((88, 10), (88,))"
      ]
     },
     "execution_count": 8,
     "metadata": {},
     "output_type": "execute_result"
    }
   ],
   "source": [
    "X_train.shape, y_train.shape"
   ]
  },
  {
   "cell_type": "code",
   "execution_count": 9,
   "id": "4da3b508",
   "metadata": {},
   "outputs": [
    {
     "data": {
      "text/plain": [
       "((354, 10), (354,))"
      ]
     },
     "execution_count": 9,
     "metadata": {},
     "output_type": "execute_result"
    }
   ],
   "source": [
    "X_test.shape, y_test.shape"
   ]
  },
  {
   "cell_type": "code",
   "execution_count": 10,
   "id": "70c7e2ea",
   "metadata": {},
   "outputs": [
    {
     "data": {
      "text/plain": [
       "(array([270.,  72., 144., 152., 179., 182., 142., 222., 235., 200.,  49.,\n",
       "        210., 274., 135.,  53.,  72.,  60.,  84.,  87., 174., 135., 168.,\n",
       "        185., 104.,  54., 126.,  77.,  51., 212.,  88., 190., 248.,  90.,\n",
       "        101., 200., 270.,  91.,  48.,  88., 140.,  91.,  63.,  95., 183.,\n",
       "        122., 113., 280.,  39., 252.,  39., 136., 332.,  79., 243., 246.,\n",
       "        185., 292., 144., 192., 178., 259.,  94., 138., 303., 180.,  42.,\n",
       "        151.,  63.,  88., 160., 220., 118., 214.,  61., 233., 139., 202.,\n",
       "        245., 242., 101., 148., 198., 140.,  70.,  97., 202.,  72., 127.]),\n",
       " array([ 71.,  81.,  61., 173., 109.,  66.,  72., 111.,  63., 151., 168.,\n",
       "        202., 229.,  52., 252., 219., 116., 272.,  45., 187., 257., 132.,\n",
       "        128., 198., 225.,  68., 281., 113., 163., 131., 109., 268., 178.,\n",
       "        111., 143., 129.,  94.,  59., 259., 225.,  66., 179.,  59., 242.,\n",
       "        196.,  93., 209., 141., 102., 102.,  72.,  73.,  58., 156., 143.,\n",
       "        201., 259., 158., 214.,  52.,  89.,  44., 103., 137., 172., 129.,\n",
       "         51., 189., 147., 118.,  96., 186., 206.,  48., 262., 199., 258.,\n",
       "        124., 336., 281., 131., 107.,  91., 175., 131.,  55.,  59.,  68.,\n",
       "        108., 341., 275., 202.,  37., 167.,  52.,  59., 317.,  65., 155.,\n",
       "         78., 206., 197., 241., 264.,  49., 295., 311., 181., 101., 200.,\n",
       "        150., 115.,  92., 127., 221.,  69., 185., 198., 146.,  47.,  98.,\n",
       "        233., 170., 195., 220.,  85., 113., 265., 141., 258.,  51., 237.,\n",
       "        110., 151., 217., 296.,  50., 104.,  84., 120., 257., 150., 262.,\n",
       "        196., 346.,  83., 171., 215., 258.,  55., 276., 310., 214., 111.,\n",
       "        168.,  95., 268., 248., 166., 277.,  42., 164., 118., 302., 182.,\n",
       "         86.,  84.,  48.,  83.,  71.,  64., 124., 232., 200.,  89.,  97.,\n",
       "        216.,  68., 128., 178.,  69.,  88.,  65.,  64., 288.,  72., 219.,\n",
       "         78., 116., 279., 243., 197., 180., 297., 275.,  84.,  47., 232.,\n",
       "        121.,  90., 160., 161.,  64.,  91., 164.,  42.,  71., 150., 123.,\n",
       "         52., 321., 184., 306., 172., 178.,  99., 109.,  99., 281., 252.,\n",
       "        125.,  81., 170., 132.,  78., 150., 249., 293., 144., 114.,  96.,\n",
       "        245., 145., 178., 265., 100.,  53., 163.,  69., 275., 174., 236.,\n",
       "         49.,  74., 109., 191., 220., 265., 190., 310., 242., 273., 237.,\n",
       "         67., 154., 191., 115.,  60., 177.,  63., 310., 261.,  85., 110.,\n",
       "         25.,  85.,  71., 153., 230.,  71.,  75., 155.,  75.,  87.,  74.,\n",
       "         80.,  55., 162.,  67.,  94., 275.,  53., 217.,  43., 281., 200.,\n",
       "        139., 128., 220., 137.,  31.,  90.,  65., 173., 181., 104.,  96.,\n",
       "        141., 208., 308.,  60., 170., 200., 244., 134.,  57., 138.,  53.,\n",
       "        142.,  97., 144., 246.,  77., 134., 103.,  90.,  77.,  65., 292.,\n",
       "        277., 122., 230., 283., 152., 107., 128., 129.,  77., 272., 131.,\n",
       "         40., 142.,  70., 263.,  85., 233.,  96., 158.,  90., 263.,  92.,\n",
       "        182.,  55.,  83.,  93., 253., 102.,  97., 142., 283., 121., 235.,\n",
       "        104., 248.]))"
      ]
     },
     "execution_count": 10,
     "metadata": {},
     "output_type": "execute_result"
    }
   ],
   "source": [
    "y_train, y_test"
   ]
  },
  {
   "cell_type": "markdown",
   "id": "d954728c",
   "metadata": {},
   "source": [
    "### 모델 준비하기"
   ]
  },
  {
   "cell_type": "code",
   "execution_count": 11,
   "id": "c1e111bb",
   "metadata": {},
   "outputs": [
    {
     "name": "stdout",
     "output_type": "stream",
     "text": [
      "슝=3\n"
     ]
    }
   ],
   "source": [
    "W= np.random.rand(10)\n",
    "b = np.random.rand()\n",
    "print(\"슝=3\")"
   ]
  },
  {
   "cell_type": "code",
   "execution_count": 12,
   "id": "237e7378",
   "metadata": {},
   "outputs": [
    {
     "name": "stdout",
     "output_type": "stream",
     "text": [
      "슝=3\n"
     ]
    }
   ],
   "source": [
    "def model(X, W, b):\n",
    "    predictions = 0\n",
    "    for i in range(10):\n",
    "        predictions += X[:, i] * W[i]\n",
    "    predictions += b\n",
    "    return predictions\n",
    "print(\"슝=3\")"
   ]
  },
  {
   "cell_type": "code",
   "execution_count": 13,
   "id": "ca110554",
   "metadata": {},
   "outputs": [
    {
     "name": "stdout",
     "output_type": "stream",
     "text": [
      "슝=3\n"
     ]
    }
   ],
   "source": [
    "def MSE(a, b):\n",
    "    mse = ((a - b) ** 2).mean()  # 두 값의 차이의 제곱의 평균\n",
    "    return mse\n",
    "print(\"슝=3\")"
   ]
  },
  {
   "cell_type": "markdown",
   "id": "7615d51f",
   "metadata": {},
   "source": [
    "### 손실함수 loss 정의하기"
   ]
  },
  {
   "cell_type": "code",
   "execution_count": 14,
   "id": "c8fe7d11",
   "metadata": {},
   "outputs": [],
   "source": [
    "def loss(X, W, b, y):\n",
    "    predictions = model(X, W, b)\n",
    "    L = MSE(predictions, y)\n",
    "    return L"
   ]
  },
  {
   "cell_type": "code",
   "execution_count": 15,
   "id": "6b334de0",
   "metadata": {},
   "outputs": [
    {
     "data": {
      "text/plain": [
       "28916.495748063717"
      ]
     },
     "execution_count": 15,
     "metadata": {},
     "output_type": "execute_result"
    }
   ],
   "source": [
    "c=loss(df_x, W, b, df_y)\n",
    "c"
   ]
  },
  {
   "cell_type": "markdown",
   "id": "da9bc69a",
   "metadata": {},
   "source": [
    "### 기울기를 구하는 gradient 함수 구현하기"
   ]
  },
  {
   "cell_type": "code",
   "execution_count": 16,
   "id": "793b9736",
   "metadata": {},
   "outputs": [
    {
     "name": "stdout",
     "output_type": "stream",
     "text": [
      "슝=3\n"
     ]
    }
   ],
   "source": [
    "def gradient(X, W, b, y):\n",
    "    N = len(W)\n",
    "    y_pred = model(X, W, b)\n",
    "    dW = 1/N * 2 * X.T.dot(y_pred - y)\n",
    "    db = 2 * (y_pred - y).mean()\n",
    "    return dW, db, y_pred\n",
    "print(\"슝=3\")"
   ]
  },
  {
   "cell_type": "code",
   "execution_count": 17,
   "id": "f4fa6798",
   "metadata": {},
   "outputs": [
    {
     "name": "stdout",
     "output_type": "stream",
     "text": [
      "dW: [ -60.45035231  -13.77158938 -189.6108428  -142.5543014   -68.18240108\n",
      "  -55.95155231  127.7284408  -139.02314694 -182.82048025 -123.47709232]\n",
      "db: -303.2910093429569\n",
      "[0.49682865 0.37086899 0.50571236 0.37917867 0.46614732 0.20472713\n",
      " 0.33202845 0.73929937 0.49109792 0.38137662 0.17431241 0.42185371\n",
      " 0.44404478 0.51823122 0.49315528 0.65040845 0.59642147 0.67507605\n",
      " 0.33298944 0.3823313  0.31582075 0.32544039 0.34674788 0.71961089\n",
      " 0.32280201 0.36928786 0.18822902 0.37682166 0.3691829  0.60537955\n",
      " 0.37799963 0.28541501 0.51810765 0.44410106 0.2904339  0.61247444\n",
      " 0.55755603 0.39082595 0.76260636 0.45033227 0.65034794 0.14697994\n",
      " 0.33509241 0.4876374  0.54286612 0.50444337 0.27872104 0.16744623\n",
      " 0.54009392 0.45032327 0.44476303 0.51293048 0.46683609 0.55227689\n",
      " 0.45858481 0.37555579 0.37419899 0.21755625 0.56084351 0.68922301\n",
      " 0.24335828 0.37850908 0.38588539 0.36383502 0.43120763 0.54121249\n",
      " 0.4427141  0.51169301 0.4496152  0.35004252 0.45253918 0.654389\n",
      " 0.72790641 0.56330453 0.63892614 0.46286668 0.33593293 0.22485798\n",
      " 0.3249124  0.31366288 0.69898395 0.50171685 0.42719332 0.28382785\n",
      " 0.25753551 0.4622802  0.25112405 0.62959472 0.36567183 0.41653811\n",
      " 0.38461717 0.59526563 0.56680422 0.29632332 0.3392657  0.25567495\n",
      " 0.62849814 0.5079653  0.43445993 0.49556685 0.578321   0.59252864\n",
      " 0.43336441 0.6128293  0.36569963 0.44484196 0.20336828 0.42899762\n",
      " 0.49429283 0.57654127 0.39807553 0.48255825 0.37369548 0.65346763\n",
      " 0.62789442 0.60023177 0.66156401 0.75709613 0.53433505 0.48000034\n",
      " 0.35722116 0.57973966 0.67783609 0.78606898 0.41915912 0.47223029\n",
      " 0.21073429 0.54862711 0.34031053 0.57334874 0.58471424 0.2291439\n",
      " 0.5602945  0.25267677 0.37632373 0.41746442 0.20101365 0.54987333\n",
      " 0.61494327 0.51600416 0.52126609 0.54936153 0.67104639 0.43968929\n",
      " 0.56160913 0.42990119 0.50795856 0.46819829 0.474811   0.39250842\n",
      " 0.46225122 0.45639503 0.63647517 0.5706946  0.59775699 0.6895274\n",
      " 0.379232   0.54267989 0.35752613 0.57445496 0.31814391 0.79113209\n",
      " 0.32084127 0.60031229 0.59092631 0.3088422  0.19563437 0.68992866\n",
      " 0.68870804 0.63922094 0.4276633  0.20588193 0.68180226 0.28634339\n",
      " 0.34470013 0.45088951 0.62059324 0.57842284 0.4999813  0.46632636\n",
      " 0.48608655 0.49990472 0.6912088  0.61875509 0.46199683 0.4189076\n",
      " 0.47832727 0.18740999 0.62995433 0.44347499 0.48512763 0.33028397\n",
      " 0.54614301 0.58255606 0.36200763 0.59332497 0.46321519 0.61465114\n",
      " 0.26427315 0.63725608 0.60205166 0.42666121 0.81127791 0.63485885\n",
      " 0.62824035 0.45565554 0.54348467 0.5650633  0.65428689 0.50137312\n",
      " 0.54268391 0.5255778  0.6559214  0.43714947 0.38535605 0.63144866\n",
      " 0.69063987 0.73723086 0.37808146 0.26006364 0.36636857 0.35833775\n",
      " 0.4365161  0.20905988 0.24872676 0.54023271 0.30066955 0.60674403\n",
      " 0.34066149 0.45371336 0.70655811 0.51928335 0.58717726 0.44598965\n",
      " 0.62172343 0.54137412 0.6739946  0.4413376  0.52827949 0.6666765\n",
      " 0.6241489  0.5698925  0.1843969  0.43568426 0.34808817 0.26145256\n",
      " 0.56927788 0.31990444 0.72747735 0.61492544 0.62544726 0.68212107\n",
      " 0.46072398 0.68404539 0.75609071 0.45757513 0.3872423  0.46248132\n",
      " 0.5566494  0.47743594 0.4549282  0.68500741 0.63134921 0.27024599\n",
      " 0.40051208 0.47844587 0.42044801 0.59381062 0.71308105 0.51813319\n",
      " 0.54116369 0.50437219 0.27507118 0.7666728  0.51771077 0.50727952\n",
      " 0.74319698 0.36131127 0.48895833 0.48181334 0.57670462 0.32997133\n",
      " 0.67615027 0.31595627 0.43458852 0.50436378 0.33075219 0.69717652\n",
      " 0.61604317 0.49307863 0.62141725 0.68288608 0.34574833 0.43753767\n",
      " 0.43579365 0.42175021 0.40839484 0.30754443 0.32081864 0.46016961\n",
      " 0.49490245 0.59587403 0.58880881 0.73147858 0.67670183 0.4200472\n",
      " 0.44462449 0.64706726 0.27609674 0.65859547 0.51246828 0.60410332\n",
      " 0.33405917 0.68400336 0.41253232 0.47952195 0.56874445 0.674743\n",
      " 0.64991666 0.55767947 0.59140765 0.78723627 0.70493601 0.76426107\n",
      " 0.66770815 0.58320563 0.53019072 0.62381036 0.36475007 0.45379833\n",
      " 0.54551009 0.41942899 0.60157981 0.54969721 0.26020818 0.42312548\n",
      " 0.6321828  0.56682985 0.34086515 0.59249327 0.52437787 0.53271913\n",
      " 0.59056563 0.52091824 0.39975757 0.61488792 0.75326845 0.44438206\n",
      " 0.49859089 0.25096348 0.68179785 0.22356719 0.3851164  0.55367243\n",
      " 0.71865173 0.38156941 0.44883534 0.43596782 0.31330845 0.61284972\n",
      " 0.51604254 0.45519833 0.5631919  0.39315519 0.52350279 0.55951765\n",
      " 0.57709509 0.60594537 0.599024   0.40796697 0.38435359 0.69365056\n",
      " 0.47239699 0.28086368 0.18366872 0.71365055 0.67227843 0.53595057\n",
      " 0.49402508 0.31838797 0.41690675 0.26336124 0.51690003 0.44328941\n",
      " 0.66388334 0.45491905 0.45681806 0.2133917  0.57590434 0.35856325\n",
      " 0.65932271 0.23996712 0.50223987 0.2903453  0.61137163 0.37565788\n",
      " 0.24964608 0.45075815 0.50350152 0.64877809 0.50436491 0.39119176\n",
      " 0.60485243 0.49456715 0.46095828 0.4810167  0.20059522 0.46663729\n",
      " 0.7030745  0.59268795 0.56850918 0.30737618 0.67863342 0.41602315\n",
      " 0.76362741 0.47690484 0.54236069 0.33036869 0.6049844  0.27130592\n",
      " 0.50366063 0.64603659 0.61221699 0.57387401 0.48473302 0.14817458\n",
      " 0.70088506 0.35281986 0.7714644  0.45602268 0.43356864 0.52802555\n",
      " 0.64020946 0.47574964 0.49928168 0.36426267 0.29390934 0.59755694\n",
      " 0.51890467 0.48252257 0.46646421 0.50405154]\n"
     ]
    }
   ],
   "source": [
    "dW, db, y_pred= gradient(df_x, W, b, df_y)\n",
    "print(\"dW:\", dW)\n",
    "print(\"db:\", db)\n",
    "print(y_pred)"
   ]
  },
  {
   "cell_type": "markdown",
   "id": "5a5949b7",
   "metadata": {},
   "source": [
    "### 하이퍼 파라미터인 학습률 설정하기"
   ]
  },
  {
   "cell_type": "code",
   "execution_count": 18,
   "id": "858b4c20",
   "metadata": {},
   "outputs": [],
   "source": [
    "LEARNING_RATE = 0.05"
   ]
  },
  {
   "cell_type": "markdown",
   "id": "2b0a142d",
   "metadata": {},
   "source": [
    "### 모델 학습하기"
   ]
  },
  {
   "cell_type": "code",
   "execution_count": 19,
   "id": "9885bff8",
   "metadata": {},
   "outputs": [
    {
     "name": "stdout",
     "output_type": "stream",
     "text": [
      "Iteration 10 : Loss 7808.4791\n",
      "Iteration 20 : Loss 5148.8421\n",
      "Iteration 30 : Loss 4636.2554\n",
      "Iteration 40 : Loss 4408.5794\n",
      "Iteration 50 : Loss 4236.1787\n",
      "Iteration 60 : Loss 4088.1608\n",
      "Iteration 70 : Loss 3958.2218\n",
      "Iteration 80 : Loss 3843.4314\n",
      "Iteration 90 : Loss 3741.5978\n",
      "Iteration 100 : Loss 3650.8963\n",
      "Iteration 110 : Loss 3569.7821\n",
      "Iteration 120 : Loss 3496.9431\n",
      "Iteration 130 : Loss 3431.2637\n",
      "Iteration 140 : Loss 3371.7945\n",
      "Iteration 150 : Loss 3317.7268\n",
      "Iteration 160 : Loss 3268.3711\n",
      "Iteration 170 : Loss 3223.1388\n",
      "Iteration 180 : Loss 3181.5269\n",
      "Iteration 190 : Loss 3143.1047\n",
      "Iteration 200 : Loss 3107.5031\n",
      "Iteration 210 : Loss 3074.4051\n",
      "Iteration 220 : Loss 3043.5381\n",
      "Iteration 230 : Loss 3014.6668\n",
      "Iteration 240 : Loss 2987.5882\n",
      "Iteration 250 : Loss 2962.1263\n",
      "Iteration 260 : Loss 2938.1284\n",
      "Iteration 270 : Loss 2915.4613\n",
      "Iteration 280 : Loss 2894.0089\n",
      "Iteration 290 : Loss 2873.6692\n",
      "Iteration 300 : Loss 2854.3529\n",
      "Iteration 310 : Loss 2835.9809\n",
      "Iteration 320 : Loss 2818.4833\n",
      "Iteration 330 : Loss 2801.7979\n",
      "Iteration 340 : Loss 2785.8693\n",
      "Iteration 350 : Loss 2770.6477\n",
      "Iteration 360 : Loss 2756.0886\n",
      "Iteration 370 : Loss 2742.1515\n",
      "Iteration 380 : Loss 2728.7998\n",
      "Iteration 390 : Loss 2716.0004\n",
      "Iteration 400 : Loss 2703.7228\n",
      "Iteration 410 : Loss 2691.9392\n",
      "Iteration 420 : Loss 2680.6238\n",
      "Iteration 430 : Loss 2669.7530\n",
      "Iteration 440 : Loss 2659.3049\n",
      "Iteration 450 : Loss 2649.2592\n",
      "Iteration 460 : Loss 2639.5967\n",
      "Iteration 470 : Loss 2630.2998\n",
      "Iteration 480 : Loss 2621.3518\n",
      "Iteration 490 : Loss 2612.7372\n",
      "Iteration 500 : Loss 2604.4412\n",
      "Iteration 510 : Loss 2596.4500\n",
      "Iteration 520 : Loss 2588.7506\n",
      "Iteration 530 : Loss 2581.3305\n",
      "Iteration 540 : Loss 2574.1781\n",
      "Iteration 550 : Loss 2567.2822\n",
      "Iteration 560 : Loss 2560.6323\n",
      "Iteration 570 : Loss 2554.2184\n",
      "Iteration 580 : Loss 2548.0308\n",
      "Iteration 590 : Loss 2542.0605\n",
      "Iteration 600 : Loss 2536.2987\n",
      "Iteration 610 : Loss 2530.7373\n",
      "Iteration 620 : Loss 2525.3683\n",
      "Iteration 630 : Loss 2520.1841\n",
      "Iteration 640 : Loss 2515.1775\n",
      "Iteration 650 : Loss 2510.3416\n",
      "Iteration 660 : Loss 2505.6699\n",
      "Iteration 670 : Loss 2501.1559\n",
      "Iteration 680 : Loss 2496.7936\n",
      "Iteration 690 : Loss 2492.5772\n",
      "Iteration 700 : Loss 2488.5011\n",
      "Iteration 710 : Loss 2484.5601\n",
      "Iteration 720 : Loss 2480.7490\n",
      "Iteration 730 : Loss 2477.0629\n",
      "Iteration 740 : Loss 2473.4971\n",
      "Iteration 750 : Loss 2470.0472\n",
      "Iteration 760 : Loss 2466.7087\n",
      "Iteration 770 : Loss 2463.4776\n",
      "Iteration 780 : Loss 2460.3498\n",
      "Iteration 790 : Loss 2457.3216\n",
      "Iteration 800 : Loss 2454.3893\n",
      "Iteration 810 : Loss 2451.5494\n",
      "Iteration 820 : Loss 2448.7984\n",
      "Iteration 830 : Loss 2446.1331\n",
      "Iteration 840 : Loss 2443.5505\n",
      "Iteration 850 : Loss 2441.0475\n",
      "Iteration 860 : Loss 2438.6212\n",
      "Iteration 870 : Loss 2436.2689\n",
      "Iteration 880 : Loss 2433.9880\n",
      "Iteration 890 : Loss 2431.7758\n",
      "Iteration 900 : Loss 2429.6299\n",
      "Iteration 910 : Loss 2427.5480\n",
      "Iteration 920 : Loss 2425.5278\n",
      "Iteration 930 : Loss 2423.5671\n",
      "Iteration 940 : Loss 2421.6638\n",
      "Iteration 950 : Loss 2419.8159\n",
      "Iteration 960 : Loss 2418.0215\n",
      "Iteration 970 : Loss 2416.2787\n",
      "Iteration 980 : Loss 2414.5857\n",
      "Iteration 990 : Loss 2412.9409\n",
      "Iteration 1000 : Loss 2411.3424\n"
     ]
    }
   ],
   "source": [
    "losses = []\n",
    "\n",
    "for i in range(1, 1001):\n",
    "    dW, db, y_pred = gradient(X_train, W, b, y_train)\n",
    "    W -= LEARNING_RATE * dW\n",
    "    b -= LEARNING_RATE * db\n",
    "    L = loss(X_train, W, b, y_train)\n",
    "    losses.append(L)\n",
    "    if i % 10 == 0:\n",
    "        print('Iteration %d : Loss %0.4f' % (i, L))"
   ]
  },
  {
   "cell_type": "markdown",
   "id": "a4710380",
   "metadata": {},
   "source": [
    "### test 데이터에 대한 성능 확인하기"
   ]
  },
  {
   "cell_type": "code",
   "execution_count": 20,
   "id": "00fe502f",
   "metadata": {},
   "outputs": [
    {
     "data": {
      "image/png": "[encoded data removed]",
      "text/plain": [
       "<Figure size 432x288 with 1 Axes>"
      ]
     },
     "metadata": {
      "needs_background": "light"
     },
     "output_type": "display_data"
    }
   ],
   "source": [
    "import matplotlib.pyplot as plt\n",
    "plt.plot(losses)\n",
    "plt.show()"
   ]
  },
  {
   "cell_type": "code",
   "execution_count": 21,
   "id": "f11dc0f5",
   "metadata": {},
   "outputs": [
    {
     "data": {
      "text/plain": [
       "(array([  47.49190281, -213.12334284,  344.72343924,  342.73455382,\n",
       "         -64.63732905,  -97.94459176, -341.76623108,  106.78447533,\n",
       "         460.09034787,   -0.88094202]),\n",
       " 152.6662968114572)"
      ]
     },
     "execution_count": 21,
     "metadata": {},
     "output_type": "execute_result"
    }
   ],
   "source": [
    "W, b"
   ]
  },
  {
   "cell_type": "code",
   "execution_count": 22,
   "id": "8223ed26",
   "metadata": {},
   "outputs": [
    {
     "data": {
      "text/plain": [
       "3117.459665996647"
      ]
     },
     "execution_count": 22,
     "metadata": {},
     "output_type": "execute_result"
    }
   ],
   "source": [
    "prediction = model(X_test, W, b)\n",
    "mse = loss(X_test, W, b, y_test)\n",
    "mse"
   ]
  },
  {
   "cell_type": "code",
   "execution_count": 23,
   "id": "9ca3bbb0",
   "metadata": {},
   "outputs": [
    {
     "name": "stdout",
     "output_type": "stream",
     "text": [
      "슝=3\n"
     ]
    }
   ],
   "source": [
    "import matplotlib.pyplot as plt\n",
    "# 실행한 브라우저에서 바로 그림을 볼 수 있게 해줌\n",
    "%matplotlib inline \n",
    "%config InlineBackend.figure_format = 'retina' # 더 높은 해상도로 출력한다.\n",
    "print(\"슝=3\")"
   ]
  },
  {
   "cell_type": "markdown",
   "id": "13406499",
   "metadata": {},
   "source": [
    "### 정답 데이터와 예측한 데이터 시각화하기"
   ]
  },
  {
   "cell_type": "code",
   "execution_count": 24,
   "id": "e66dbd00",
   "metadata": {},
   "outputs": [
    {
     "data": {
      "image/png": "[encoded data removed]",
      "text/plain": [
       "<Figure size 432x288 with 1 Axes>"
      ]
     },
     "metadata": {
      "image/png": {
       "height": 248,
       "width": 375
      },
      "needs_background": "light"
     },
     "output_type": "display_data"
    }
   ],
   "source": [
    "plt.scatter(X_test[:, 0], y_test)\n",
    "plt.scatter(X_test[:, 0], prediction)\n",
    "plt.show()"
   ]
  },
  {
   "cell_type": "code",
   "execution_count": 25,
   "id": "162f0d25",
   "metadata": {},
   "outputs": [],
   "source": [
    "class MultiLinear:\n",
    "  def __init__(self,learning_rate=0.001):\n",
    "    self.w=None #모델의 weight 벡터 self.w=(w_1,w_2)\n",
    "    self.b=None #모델의 bias\n",
    "    self.lr=learning_rate #모델의 학습률\n",
    "    self.losses=[] #매 에포크마다 손실을 저장하기 위한 리스트\n",
    "    self.weight_history=[] #매 에포크마다 계산된 weight를 저장하기 위한 리스트\n",
    "    self.bias_history=[] #매 에포크마다 계산된 bias를 저장하기 위한 리스트\n",
    "\n",
    "  def forward(self,x):\n",
    "    y_pred=np.sum(x*self.w)+self.b #np.sum함수는 인자로 받은 numpy배열의 모든 원소의 합을 return합니다.\n",
    "    return y_pred\n",
    "\n",
    "  def loss(self,x,y):\n",
    "    y_pred=self.forward(x)\n",
    "    return (y_pred-y)**2\n",
    "\n",
    "  def gradient(self,x,y):\n",
    "    y_pred=self.forward(x)\n",
    "    w_grad=2*x*(y_pred-y)\n",
    "    b_grad=2*(y_pred-y)\n",
    "\n",
    "    return w_grad,b_grad\n",
    "\n",
    "  def fit(self,df_x,df_y,epochs=20):\n",
    "    self.w=np.ones(df_x.shape[1]) #모델의 weight들을 전부 1로 초기화\n",
    "    self.b=0 #모델의 bias를 0으로 초기화\n",
    "    for epoch in range(epochs):\n",
    "      l=0 #계산할 손실값\n",
    "      w_grad=np.zeros(df_x.shape[1]) #weight의 기울기를 누적할 numpy배열\n",
    "      b_grad=0  #bias의 기울기를 누적할 변수\n",
    "\n",
    "      for x,y in zip(df_x,df_y):\n",
    "        l+=self.loss(x,y)\n",
    "        w_i,b_i=self.gradient(x,y)\n",
    "\n",
    "        w_grad+=w_i #weight누적\n",
    "        b_grad+=b_i #bias누적\n",
    "\n",
    "      self.w-=self.lr*(w_grad/len(df_y)) #weight 업데이트\n",
    "      self.b-=self.lr*(b_grad/len(df_y)) #bias 업데이트\n",
    " \n",
    "      print(f'epoch ({epoch+1}) ===> loss : {l/len(df_y):.5f}')\n",
    "      self.losses.append(l/len(df_y)) #손실값 저장\n",
    "      self.weight_history.append(self.w) #weight 배열 저장\n",
    "      self.bias_history.append(self.b) #bias값 저장"
   ]
  },
  {
   "cell_type": "code",
   "execution_count": 26,
   "id": "6172e6fc",
   "metadata": {},
   "outputs": [
    {
     "data": {
      "text/plain": [
       "array([277.72980715, 109.63746771, 159.14791744, 108.81537017,\n",
       "       117.43031796, 152.25573262, 122.41035141, 195.11403301,\n",
       "       180.33971919, 148.14935128,  92.83494316, 148.68003888,\n",
       "       220.81881247, 107.26647977,  95.49758524,  55.36617287,\n",
       "        60.34503146, 172.42911363, 100.14859332, 170.64746771,\n",
       "       137.86720994, 121.07749373, 141.98291061, 107.10527732,\n",
       "       104.05208601, 184.45415583,  85.7333839 ,  84.72619073,\n",
       "       195.17814483, 135.60170715, 175.69190288, 209.26720773,\n",
       "       132.96415644, 114.72736402, 124.2498343 , 227.89057698,\n",
       "       175.29743254, 177.82815603, 127.1851046 , 125.89267374,\n",
       "       103.98454133, 108.3602619 , 141.36099982, 127.92620937,\n",
       "       171.33251142, 153.95672941, 225.46867878,  47.29477357,\n",
       "       234.50246074,  75.48124226, 141.13683492, 214.13260286,\n",
       "       125.81993179, 264.73906561, 143.81348211, 164.28986941,\n",
       "       200.99267767, 124.15803541, 210.44341203, 136.46076364,\n",
       "       219.61094155, 156.52336463,  89.60073167, 260.28600069,\n",
       "       168.97780822, 132.39140905, 202.42993008,  72.03861727,\n",
       "       118.60700343, 121.4314599 , 252.95779641, 100.50881311,\n",
       "       144.57525971, 152.84515527, 230.78976988, 131.8307171 ,\n",
       "       147.22375146, 265.89006707, 172.37663281, 195.58327825,\n",
       "       121.97743202, 164.28951893, 162.81684622, 175.20942766,\n",
       "       131.50407266, 153.48791131,  99.68970027, 128.2150812 ])"
      ]
     },
     "execution_count": 26,
     "metadata": {},
     "output_type": "execute_result"
    }
   ],
   "source": [
    "y_pred"
   ]
  },
  {
   "cell_type": "code",
   "execution_count": 27,
   "id": "2b7b1a80",
   "metadata": {
    "scrolled": true
   },
   "outputs": [
    {
     "data": {
      "text/plain": [
       "(354,)"
      ]
     },
     "execution_count": 27,
     "metadata": {},
     "output_type": "execute_result"
    }
   ],
   "source": [
    "y_test.shape"
   ]
  },
  {
   "cell_type": "code",
   "execution_count": 28,
   "id": "0faa54e8",
   "metadata": {},
   "outputs": [
    {
     "ename": "ValueError",
     "evalue": "Found input variables with inconsistent numbers of samples: [354, 88]",
     "output_type": "error",
     "traceback": [
      "\u001b[0;31m---------------------------------------------------------------------------\u001b[0m",
      "\u001b[0;31mValueError\u001b[0m                                Traceback (most recent call last)",
      "\u001b[0;32m/tmp/ipykernel_886/1125925567.py\u001b[0m in \u001b[0;36m<module>\u001b[0;34m\u001b[0m\n\u001b[1;32m      1\u001b[0m \u001b[0;32mfrom\u001b[0m \u001b[0msklearn\u001b[0m\u001b[0;34m.\u001b[0m\u001b[0mmetrics\u001b[0m \u001b[0;32mimport\u001b[0m \u001b[0mmean_squared_error\u001b[0m\u001b[0;34m\u001b[0m\u001b[0;34m\u001b[0m\u001b[0m\n\u001b[0;32m----> 2\u001b[0;31m \u001b[0mmean_squared_error\u001b[0m\u001b[0;34m(\u001b[0m\u001b[0my_test\u001b[0m\u001b[0;34m,\u001b[0m \u001b[0my_pred\u001b[0m\u001b[0;34m)\u001b[0m\u001b[0;34m\u001b[0m\u001b[0;34m\u001b[0m\u001b[0m\n\u001b[0m",
      "\u001b[0;32m/opt/conda/lib/python3.9/site-packages/sklearn/metrics/_regression.py\u001b[0m in \u001b[0;36mmean_squared_error\u001b[0;34m(y_true, y_pred, sample_weight, multioutput, squared)\u001b[0m\n\u001b[1;32m    421\u001b[0m     \u001b[0;36m0.825\u001b[0m\u001b[0;34m...\u001b[0m\u001b[0;34m\u001b[0m\u001b[0;34m\u001b[0m\u001b[0m\n\u001b[1;32m    422\u001b[0m     \"\"\"\n\u001b[0;32m--> 423\u001b[0;31m     y_type, y_true, y_pred, multioutput = _check_reg_targets(\n\u001b[0m\u001b[1;32m    424\u001b[0m         \u001b[0my_true\u001b[0m\u001b[0;34m,\u001b[0m \u001b[0my_pred\u001b[0m\u001b[0;34m,\u001b[0m \u001b[0mmultioutput\u001b[0m\u001b[0;34m\u001b[0m\u001b[0;34m\u001b[0m\u001b[0m\n\u001b[1;32m    425\u001b[0m     )\n",
      "\u001b[0;32m/opt/conda/lib/python3.9/site-packages/sklearn/metrics/_regression.py\u001b[0m in \u001b[0;36m_check_reg_targets\u001b[0;34m(y_true, y_pred, multioutput, dtype)\u001b[0m\n\u001b[1;32m     87\u001b[0m         \u001b[0mthe\u001b[0m \u001b[0mdtype\u001b[0m \u001b[0margument\u001b[0m \u001b[0mpassed\u001b[0m \u001b[0mto\u001b[0m \u001b[0mcheck_array\u001b[0m\u001b[0;34m.\u001b[0m\u001b[0;34m\u001b[0m\u001b[0;34m\u001b[0m\u001b[0m\n\u001b[1;32m     88\u001b[0m     \"\"\"\n\u001b[0;32m---> 89\u001b[0;31m     \u001b[0mcheck_consistent_length\u001b[0m\u001b[0;34m(\u001b[0m\u001b[0my_true\u001b[0m\u001b[0;34m,\u001b[0m \u001b[0my_pred\u001b[0m\u001b[0;34m)\u001b[0m\u001b[0;34m\u001b[0m\u001b[0;34m\u001b[0m\u001b[0m\n\u001b[0m\u001b[1;32m     90\u001b[0m     \u001b[0my_true\u001b[0m \u001b[0;34m=\u001b[0m \u001b[0mcheck_array\u001b[0m\u001b[0;34m(\u001b[0m\u001b[0my_true\u001b[0m\u001b[0;34m,\u001b[0m \u001b[0mensure_2d\u001b[0m\u001b[0;34m=\u001b[0m\u001b[0;32mFalse\u001b[0m\u001b[0;34m,\u001b[0m \u001b[0mdtype\u001b[0m\u001b[0;34m=\u001b[0m\u001b[0mdtype\u001b[0m\u001b[0;34m)\u001b[0m\u001b[0;34m\u001b[0m\u001b[0;34m\u001b[0m\u001b[0m\n\u001b[1;32m     91\u001b[0m     \u001b[0my_pred\u001b[0m \u001b[0;34m=\u001b[0m \u001b[0mcheck_array\u001b[0m\u001b[0;34m(\u001b[0m\u001b[0my_pred\u001b[0m\u001b[0;34m,\u001b[0m \u001b[0mensure_2d\u001b[0m\u001b[0;34m=\u001b[0m\u001b[0;32mFalse\u001b[0m\u001b[0;34m,\u001b[0m \u001b[0mdtype\u001b[0m\u001b[0;34m=\u001b[0m\u001b[0mdtype\u001b[0m\u001b[0;34m)\u001b[0m\u001b[0;34m\u001b[0m\u001b[0;34m\u001b[0m\u001b[0m\n",
      "\u001b[0;32m/opt/conda/lib/python3.9/site-packages/sklearn/utils/validation.py\u001b[0m in \u001b[0;36mcheck_consistent_length\u001b[0;34m(*arrays)\u001b[0m\n\u001b[1;32m    329\u001b[0m     \u001b[0muniques\u001b[0m \u001b[0;34m=\u001b[0m \u001b[0mnp\u001b[0m\u001b[0;34m.\u001b[0m\u001b[0munique\u001b[0m\u001b[0;34m(\u001b[0m\u001b[0mlengths\u001b[0m\u001b[0;34m)\u001b[0m\u001b[0;34m\u001b[0m\u001b[0;34m\u001b[0m\u001b[0m\n\u001b[1;32m    330\u001b[0m     \u001b[0;32mif\u001b[0m \u001b[0mlen\u001b[0m\u001b[0;34m(\u001b[0m\u001b[0muniques\u001b[0m\u001b[0;34m)\u001b[0m \u001b[0;34m>\u001b[0m \u001b[0;36m1\u001b[0m\u001b[0;34m:\u001b[0m\u001b[0;34m\u001b[0m\u001b[0;34m\u001b[0m\u001b[0m\n\u001b[0;32m--> 331\u001b[0;31m         raise ValueError(\n\u001b[0m\u001b[1;32m    332\u001b[0m             \u001b[0;34m\"Found input variables with inconsistent numbers of samples: %r\"\u001b[0m\u001b[0;34m\u001b[0m\u001b[0;34m\u001b[0m\u001b[0m\n\u001b[1;32m    333\u001b[0m             \u001b[0;34m%\u001b[0m \u001b[0;34m[\u001b[0m\u001b[0mint\u001b[0m\u001b[0;34m(\u001b[0m\u001b[0ml\u001b[0m\u001b[0;34m)\u001b[0m \u001b[0;32mfor\u001b[0m \u001b[0ml\u001b[0m \u001b[0;32min\u001b[0m \u001b[0mlengths\u001b[0m\u001b[0;34m]\u001b[0m\u001b[0;34m\u001b[0m\u001b[0;34m\u001b[0m\u001b[0m\n",
      "\u001b[0;31mValueError\u001b[0m: Found input variables with inconsistent numbers of samples: [354, 88]"
     ]
    }
   ],
   "source": [
    "from sklearn.metrics import mean_squared_error \n",
    "mean_squared_error(y_test, y_pred)"
   ]
  },
  {
   "cell_type": "markdown",
   "id": "568b0e09",
   "metadata": {},
   "source": [
    "# 프로젝트 2 : 날씨 좋은 월요일 오후 세 시, 자전거 타는 사람은 몇 명?\n",
    "### 데이터 가져오기"
   ]
  },
  {
   "cell_type": "code",
   "execution_count": null,
   "id": "2c988e54",
   "metadata": {},
   "outputs": [],
   "source": [
    "import numpy as np\n",
    "import pandas as pd\n",
    "path = '/aiffel/aiffel/EX/bike-sharing-demand/train.csv'\n",
    "data =pd.read_csv(path)\n",
    "print(data)"
   ]
  },
  {
   "cell_type": "markdown",
   "id": "ebabaa05",
   "metadata": {},
   "source": [
    "### datetime 컬럼을 datetime 자료형으로 변환하고 연, 월, 일, 시, 분, 초까지 6가지 컬럼 생성하기"
   ]
  },
  {
   "cell_type": "code",
   "execution_count": null,
   "id": "3a5eb2bc",
   "metadata": {},
   "outputs": [],
   "source": [
    "data['datetime']"
   ]
  },
  {
   "cell_type": "code",
   "execution_count": null,
   "id": "90e2cdab",
   "metadata": {},
   "outputs": [],
   "source": [
    "pd.to_datetime(data['datetime'])"
   ]
  },
  {
   "cell_type": "code",
   "execution_count": null,
   "id": "4d3b86cf",
   "metadata": {},
   "outputs": [],
   "source": [
    "data['날짜_datetime']=pd.to_datetime(data['datetime'])"
   ]
  },
  {
   "cell_type": "code",
   "execution_count": null,
   "id": "e84d5de8",
   "metadata": {},
   "outputs": [],
   "source": [
    "data['날짜_연도']=data['날짜_datetime'].dt.year\n",
    "data['날짜_월']=data['날짜_datetime'].dt.month\n",
    "data['날짜_일']=data['날짜_datetime'].dt.date\n",
    "data['날짜_시']=data['날짜_datetime'].dt.hour\n",
    "data['날짜_분']=data['날짜_datetime'].dt.minute\n",
    "data['날짜_초']=data['날짜_datetime'].dt.second"
   ]
  },
  {
   "cell_type": "code",
   "execution_count": null,
   "id": "007178ed",
   "metadata": {},
   "outputs": [],
   "source": [
    "data['날짜_datetime']"
   ]
  },
  {
   "cell_type": "markdown",
   "id": "a5c7722c",
   "metadata": {},
   "source": [
    "### year, month, day, hour, minute, second 데이터 개수 시각화하기"
   ]
  },
  {
   "cell_type": "code",
   "execution_count": null,
   "id": "44322e89",
   "metadata": {},
   "outputs": [],
   "source": [
    "import seaborn as sns\n",
    "import matplotlib.pyplot as plt\n",
    "import warnings\n",
    "warnings.filterwarnings(\"ignore\")\n",
    "\n",
    "plt.subplot(321)\n",
    "sns.countplot(x=data['날짜_연도'], data=data['count'])\n",
    "plt.title(\"년별 팁을 준 횟수\")\n",
    "plt.subplot(322)\n",
    "sns.countplot(x=data['날짜_월'], data=data['count'])\n",
    "plt.title(\"월별 팁을 준 횟수\")\n",
    "plt.subplot(323)\n",
    "sns.countplot(x=data['날짜_일'], data=data['count'])\n",
    "plt.title(\"날짜별 팁을 준 횟수\")\n",
    "plt.subplot(324)\n",
    "sns.countplot(x=data['날짜_시'], data=data['count'])\n",
    "plt.title(\"시별 팁을 준 횟수\")\n",
    "plt.subplot(325)\n",
    "sns.countplot(x=data['날짜_분'], data=data['count'])\n",
    "plt.title(\"분별 팁을 준 횟수\")\n",
    "plt.subplot(326)\n",
    "sns.countplot(x=data['날짜_초'], data=data['count'])\n",
    "plt.title(\"초별 팁을 준 횟수\")\n",
    "\n",
    "plt.show()"
   ]
  },
  {
   "cell_type": "markdown",
   "id": "f7f111a3",
   "metadata": {},
   "source": [
    "### X, y 컬럼 선택 및 train/test 데이터 분리"
   ]
  },
  {
   "cell_type": "code",
   "execution_count": null,
   "id": "10920b03",
   "metadata": {},
   "outputs": [],
   "source": [
    "data.keys()"
   ]
  },
  {
   "cell_type": "code",
   "execution_count": null,
   "id": "cb06e5f1",
   "metadata": {},
   "outputs": [],
   "source": [
    "import pandas as pd\n",
    "\n",
    "data = data.drop(columns=['datetime', 'registered', '날짜_datetime'],inplace=True)\n",
    "data\n"
   ]
  },
  {
   "cell_type": "code",
   "execution_count": null,
   "id": "16e55b27",
   "metadata": {},
   "outputs": [],
   "source": [
    "data"
   ]
  },
  {
   "cell_type": "code",
   "execution_count": null,
   "id": "d7d1cd3e",
   "metadata": {},
   "outputs": [],
   "source": [
    "dt_x = data.values\n",
    "dt_y = data['count'].values\n",
    "print(\"슝=3\")"
   ]
  },
  {
   "cell_type": "code",
   "execution_count": null,
   "id": "615841df",
   "metadata": {},
   "outputs": [],
   "source": [
    "from sklearn.model_selection import train_test_split\n",
    "\n",
    "\n",
    "\n",
    "X_train, X_test, y_train, y_test = train_test_split(dt_x, \n",
    "                                                    dt_y, \n",
    "                                                    test_size=0.8, \n",
    "                                                    random_state=7)\n",
    "\n",
    "print('X_train 개수: ', len(X_train),', X_test 개수: ', len(X_test))"
   ]
  },
  {
   "cell_type": "code",
   "execution_count": null,
   "id": "42a7b317",
   "metadata": {},
   "outputs": [],
   "source": [
    "X_train.shape, y_train.shape"
   ]
  },
  {
   "cell_type": "code",
   "execution_count": null,
   "id": "81928437",
   "metadata": {},
   "outputs": [],
   "source": [
    "X_test.shape, y_test.shape"
   ]
  },
  {
   "cell_type": "code",
   "execution_count": null,
   "id": "5881f64e",
   "metadata": {},
   "outputs": [],
   "source": [
    "y_train, y_test"
   ]
  },
  {
   "cell_type": "code",
   "execution_count": null,
   "id": "c8851826",
   "metadata": {},
   "outputs": [],
   "source": [
    "W= np.random.rand(16)\n",
    "b = np.random.rand()\n",
    "print(\"슝=3\")"
   ]
  },
  {
   "cell_type": "markdown",
   "id": "0c6f6df2",
   "metadata": {},
   "source": [
    "### LinearRegression 모델 학습"
   ]
  },
  {
   "cell_type": "code",
   "execution_count": null,
   "id": "f491cd64",
   "metadata": {},
   "outputs": [],
   "source": [
    "from sklearn.linear_model import LinearRegression\n",
    "from sklearn.model_selection import train_test_split\n",
    "\n",
    "model = LinearRegression()\n",
    "model.fit(X_train, y_train)\n",
    "model.score(X_test, y_test)"
   ]
  },
  {
   "cell_type": "markdown",
   "id": "7e6576e5",
   "metadata": {},
   "source": [
    "# 더 이상은 진행하기가 어려워서 기한내에 제출합니다."
   ]
  },
  {
   "cell_type": "markdown",
   "id": "215e4c00",
   "metadata": {},
   "source": [
    "# 회고\n",
    "#### 어려웠던 점 : MSE가 2700으로 3000 밑으로 떨어졌는데, 이상하게 집에서 하니까 다시 3000 위로 올라갔다.\n",
    "#### 알아낸 점 : Learning rate가 MSE에 영향을 많이 미친다.\n",
    "#### 시도한 것들 : Learning rate 값을 계속 수정하였다.\n",
    "#### if 달성하지 못했을 때, : 프로젝트2는 계속 좌절되었다.\n",
    "#### 자기 다짐 : 별 한개라도 받을 수 있으면 좋겠다."
   ]
  },
  {
   "cell_type": "code",
   "execution_count": null,
   "id": "e2c540d0",
   "metadata": {},
   "outputs": [],
   "source": []
  }
 ],
 "metadata": {
  "kernelspec": {
   "display_name": "Python 3 (ipykernel)",
   "language": "python",
   "name": "python3"
  },
  "language_info": {
   "codemirror_mode": {
    "name": "ipython",
    "version": 3
   },
   "file_extension": ".py",
   "mimetype": "text/x-python",
   "name": "python",
   "nbconvert_exporter": "python",
   "pygments_lexer": "ipython3",
   "version": "3.9.7"
  }
 },
 "nbformat": 4,
 "nbformat_minor": 5
}
