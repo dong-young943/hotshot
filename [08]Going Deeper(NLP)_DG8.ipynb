{
 "cells": [
  {
   "cell_type": "markdown",
   "id": "33f7d3f9",
   "metadata": {},
   "source": [
    "# 8. Seq2seq으로 번역기 만들기\n",
    "## Step 0. 라이브러리 불러오기"
   ]
  },
  {
   "cell_type": "code",
   "execution_count": 1,
   "id": "e9b133da",
   "metadata": {},
   "outputs": [],
   "source": [
    "import pandas as pd\n",
    "import tensorflow as tf\n",
    "import numpy as np\n",
    "import matplotlib.ticker as ticker\n",
    "import matplotlib.pyplot as plt\n",
    "import os\n",
    "import re\n",
    "\n",
    "# print(pandas.__version__)\n",
    "# print(tensorflow.__version__)\n",
    "# print(matplotlib.__version__)"
   ]
  },
  {
   "cell_type": "markdown",
   "id": "55d76fed",
   "metadata": {},
   "source": [
    "## Step 1. 데이터 다운로드"
   ]
  },
  {
   "cell_type": "code",
   "execution_count": 2,
   "id": "000e9c7e",
   "metadata": {},
   "outputs": [
    {
     "name": "stdout",
     "output_type": "stream",
     "text": [
      "완료!\n"
     ]
    }
   ],
   "source": [
    "import matplotlib as mpl\n",
    "import matplotlib.pyplot as plt\n",
    " \n",
    "%config InlineBackend.figure_format = 'retina'\n",
    " \n",
    "import matplotlib.font_manager as fm\n",
    "fontpath = '/usr/share/fonts/truetype/nanum/NanumBarunGothic.ttf'\n",
    "font = fm.FontProperties(fname=fontpath, size=9)\n",
    "plt.rc('font', family='NanumBarunGothic') \n",
    "mpl.font_manager.findfont(font)\n",
    "\n",
    "print(\"완료!\")"
   ]
  },
  {
   "cell_type": "code",
   "execution_count": 3,
   "id": "f7b14e75",
   "metadata": {},
   "outputs": [
    {
     "name": "stdout",
     "output_type": "stream",
     "text": [
      "Downloading data from https://github.com/jungyeul/korean-parallel-corpora/raw/master/korean-english-news-v1/korean-english-park.train.tar.gz\n",
      "8724480/8718893 [==============================] - 0s 0us/step\n",
      "8732672/8718893 [==============================] - 0s 0us/step\n"
     ]
    }
   ],
   "source": [
    "path_to_zip = tf.keras.utils.get_file(\n",
    "    'korean-english-park.train.tar.gz',\n",
    "    origin='https://github.com/jungyeul/korean-parallel-corpora/raw/master/korean-english-news-v1/korean-english-park.train.tar.gz',\n",
    "    extract=True)\n",
    "\n",
    "path_to_eng = os.path.dirname(path_to_zip)+\"/korean-english-park.train.en\"\n",
    "path_to_kor = os.path.dirname(path_to_zip)+\"/korean-english-park.train.ko\""
   ]
  },
  {
   "cell_type": "code",
   "execution_count": 4,
   "id": "05c71db3",
   "metadata": {},
   "outputs": [
    {
     "data": {
      "text/plain": [
       "'/aiffel/.keras/datasets/korean-english-park.train.tar.gz'"
      ]
     },
     "execution_count": 4,
     "metadata": {},
     "output_type": "execute_result"
    }
   ],
   "source": [
    "path_to_zip"
   ]
  },
  {
   "cell_type": "code",
   "execution_count": 5,
   "id": "600653da",
   "metadata": {},
   "outputs": [
    {
     "name": "stdout",
     "output_type": "stream",
     "text": [
      "English Data Size: 94123\n",
      "English Example:\n",
      ">> Much of personal computing is about \"can you top this?\"\n",
      ">> so a mention a few weeks ago about a rechargeable wireless optical mouse brought in another rechargeable, wireless mouse.\n",
      ">> Like all optical mice, But it also doesn't need a desk.\n",
      ">> uses gyroscopic sensors to control the cursor movement as you move your wrist, arm, whatever through the air.\n",
      ">> Intelligence officials have revealed a spate of foiled plots on ships in Southeast Asia and are warning that a narrow stretch of water carrying almost one third of the world's maritime trade is vulnerable to a terror attack.\n",
      ">> After learning of several foiled al Qaeda attempts on U.S. and commercial ships in the area, experts are warning that the terror network still wants to cripple the global economy, the world's economic jugular vein in Southeast Asia is at risk.\n",
      ">> Caffeine can help increase reaction time and improve performance for military servicemen who must perform complex tasks or who need help staying alert for longer periods of time, according to a new report by the National Academy of Sciences.\n",
      ">> \"Specifically, it can be used in maintaining speed of reactions and visual and auditory vigilance, which in military operations could be a life or death situation,\" according to the report.\n",
      ">> \"Something that will boost their capabilities at crucial moments is very important.\"\n",
      ">> Researchers are already exploring ways to put caffeine in nutrition bars or chewing gum as alternatives to coffee, Archibald said.\n",
      ">> A similar dose of caffeine, about 200-600 mg, also appears effective in enhancing physical endurance and may be especially useful in returning some of the physical endurance lost at high altitude, the study found.\n",
      ">> The Institute of Medicine is part of the National Academy of Sciences, a private organization chartered by Congress to advise the government on scientific matters.\n",
      ">> thanks to robust demand in Asia, boosting the trade surplus to 1.055 trillion yen ($8.47 billion), the Ministry of Finance said.\n",
      ">> But the prospect of a slowing U.S. economy and weak demand at home overshadowed any optimism for the months ahead.\n",
      ">> More than 750 hostages were rescued, including all 75 non-Russians and 25 children, when special forces stormed the building.\n",
      ">> Russian special forces used a sedative gas before storming the theatre.\n",
      ">> Many captives were taken to hospital suffering from the effects of the chemical.\n",
      ">> marking a historic shift to the left for Latin America's largest country.\n",
      ">> hours after Silva's Workers Party had declared their candidate the winner.\n",
      ">> Thousands of Silva supporters gathered in the streets of Sao Paulo and Rio de Janeiro, waving his party's red flag in celebration.\n",
      ">> Amid mounting pressure on North Korea to abandon its nuclear weapons program Japanese and North Korean diplomats have resumed talks on normalizing diplomatic relations.\n",
      ">> The two days of meetings in the Malaysian capital, Kuala Lumpur, are expected to be dominated by Japanese concerns over the North's bomb-making efforts, as well as calls for a fuller explanation over the kidnapping of Japanese civilians in the 1970s and 80s.\n",
      ">> At least 54 people have been confirmed dead but that figure is expected to rise, possibly to over 100\n",
      ">> after a fire tore through a six-storey building in Vietnam's Ho Chi Minh City that housed shops, a disco and several foreign companies.\n",
      ">> Initial reports indicated it may have been sparked by a short-circuit in the Blue Disco on the building's second floor.\n",
      ">> prevented firefighters from entering the building for about four hours with firefighters taking more than five hours to extinguish the inferno.\n",
      ">> Mobile bomb-fighting robots can already inspect suspicious cars, buildings or mail for explosives or hazardous materials, according to Jan Karlsson, an expert at the U.N.\n",
      ">> The Geneva-based commission, in its annual study of the industry titled “World Robotics 2001,” said a record 100,000 robots were installed last year, up 25 percent on 1999.\n",
      ">> “There is definitely a much higher incentive to invest in automated technology to fight terrorists,” Karlsson said.\n",
      ">> “It could be used in post offices, in surveillance of offices after hours and to inspect suspicious cars.”\n",
      ">> Postal Service - whose postmaster told a Senate panel that the financial impact of the anthrax crisis could be several billion dollars - uses robots to sort parcels, but other automated equipment sorts letters.\n",
      ">> At the same time, labor costs are more and more.”\n",
      ">> “For industrial robots, 2000 was the best year ever,” added the Swede.\n",
      ">> “Not only in Japan and Europe and North America, but they have also started to take off in some developing countries, for example in Brazil, Mexico, China and South Africa.”\n",
      ">> Annual sales of robot units are estimated at $5 billion to $6 billion.\n",
      ">> But with the cost of installing necessary software and integration systems, the total robotics market could be worth closer to $25 billion.\n",
      ">> About 50 systems of firefighting and bomb-disposal robots have been sold through 2000 in countries including Israel and Britain.\n",
      ">> The study, written before the devastating U.S. attacks, predicts sales of 120 systems by 2004.\n",
      ">> About 2,300 robots work in demolition, servicing or dismantling nuclear, chemical, waste or other hazardous complexes, the report said.\n",
      ">> Another 60 robots work in surveillance.\n",
      ">> “Guard robots are used privately and professionally to detect intruders or fire,” Karlsson said.\n",
      ">> “The Pentagon have several, and they are used in nuclear plants in the United States and Europe, but the market is still rather marginal.\"\n",
      ">> Five United States Congressmen have written to President Bush urging him to punish North Korea for continuing with its nuclear weapons program and push for a change of government in the isolated Stalinist state.\n",
      ">> In a letter to the administration, Republican Senators Jesse Helms, Bob Smith and John Kyl, Republican Representative Chris Cox and Democrat Representative Ed Markey called on the president for the U.S. to provide North Korea with fuel oil.\n",
      ">> Four days of peace talks between the Sri Lankan government and Tamil rebels have ended on a high note as both sides bid to end one of Asia's longest-running conflicts.\n",
      ">> Both sides declared success in Thailand, after they agreed to set up three committees to look at issues that lie at the heart of the 19-year-old war that has killed nearly 65,000 people and displaced more than 1.5 million.\n",
      ">> The government says the new bodies will address ethnic and power-sharing issues and will also oversee a resettlement of refugees and restoration of areas destroyed by the decades-old civil war.\n",
      ">> A 194-vehicle pileup on a freeway south of Los Angeles left more than 40 people injured, five seriously, The accident occurred shortly before 7 a.m.\n",
      ">> and prompted the California Highway Patrol to close a two-mile stretch of Interstate 710 in both directions Traffic was being diverted to alternate routes.\n",
      ">> Thick fog may have been a factor in the accident, California Highway Patrol officers said.\n"
     ]
    }
   ],
   "source": [
    "with open(path_to_eng, \"r\") as f:\n",
    "    eng_raw = f.read().splitlines()\n",
    "\n",
    "print(\"English Data Size:\", len(eng_raw))\n",
    "print(\"English Example:\")\n",
    "\n",
    "for sen in eng_raw[0:50]: print(\">>\", sen)"
   ]
  },
  {
   "cell_type": "code",
   "execution_count": 6,
   "id": "6ac31421",
   "metadata": {},
   "outputs": [
    {
     "name": "stdout",
     "output_type": "stream",
     "text": [
      "Korean Data Size: 94123\n",
      "Korean Example:\n",
      ">> 개인용 컴퓨터 사용의 상당 부분은 \"이것보다 뛰어날 수 있느냐?\"\n",
      ">> 모든 광마우스와 마찬가지 로 이 광마우스도 책상 위에 놓는 마우스 패드를 필요로 하지 않는다.\n",
      ">> 그러나 이것은 또한 책상도 필요로 하지 않는다.\n",
      ">> 79.95달러하는 이 최첨단 무선 광마우스는 허공에서 팔목, 팔, 그외에 어떤 부분이든 그 움직임에따라 커서의 움직임을 조절하는 회전 운동 센서를 사용하고 있다.\n",
      ">> 정보 관리들은 동남 아시아에서의 선박들에 대한 많은 (테러) 계획들이 실패로 돌아갔음을 밝혔으며, 세계 해상 교역량의 거의 3분의 1을 운송하는 좁은 해로인 말라카 해협이 테러 공격을 당하기 쉽다고 경고하고 있다.\n",
      ">> 이 지역에 있는 미국 선박과 상업용 선박들에 대한 알카에다의 (테러) 시도 중 여러 건이 실패했다는 것을 알게 된 후에, 전문가들은 테러 조직이 여전히 세계 경제에 타격을 입히려 한다고 경고하고 있으며, 동남 아시아에 있는 세계 경제의 주요 통로가 위험에 처해 있다고 그들은 생각하고 있다.\n",
      ">> 국립 과학 학회가 발표한 새 보고서에따르면, 복잡한 임무를 수행해야 하는 군인들이나 보다 오랜 시간 동안 경계를 늦추지 않고 있기 위해 도움이 필요한 군인들에게 카페인이 반응 시간을 증가시키고 임무 수행 능력을 향상시키는데 도움이 된다고 한다.\n",
      ">> 이 보고서에따르면, \"특히, 군사 작전에서 생사가 걸린 상황이 될 수도 있는 반응 속도와 시각 및 청각의 경계 상태를 유지시키기 위해 카페인이 사용될 수도 있다.\" 고 한다.\n",
      ">> \"결정적인 순간에 그들의 능력을 증가시켜 줄 그 무엇이 매우 중요합니다.\"\n",
      ">> 연구가들이 이미 커피 대체품으로서 음식 대용 과자나 껌에 카페인을 첨가하는 방법을 연구하고 있다고 Archibald는 말했다.\n",
      ">> 약 200600밀리그램의, 비슷한 분량의 카페인은 또한 육체적 지구력을 강화시키는 데 효과적인 것 같으며, 특히 고도가 높은 곳에서 약해진 육체적 지구력을 일부 회복시켜주는 데 유용하다는 것이 이번 연구에서 밝혀졌다.\n",
      ">> 의약 연구소는 정부에 과학 문제에 관해 자문하기 위해 의회가 설립 인가를 내어 준 민간 단체인 국립 과학 학회의 부속 단체이다.\n",
      ">> 아시아에서의 왕성한 수요 덕분에 일본의 수출이 9월에 연속 6개월간 증가하여, 무역 흑자가 1조550억엔(84억7,000만달러)으로 늘어났다고 재무성이 발표했다.\n",
      ">> 그러나 침체되고 있는 미국 경제와 국내 수요의 약세 전망이 향후 수개월 동안의 낙관론을 어둡게 했다.\n",
      ">> 특수 부대가 극장 건물로 공격해 들어가면서, 러시아인이 아닌 75명의 외국인과 25명의 어린이 전부를 포함해 750명 이상의 인질들이 구출되었다.\n",
      ">> 러시아 특수 부대는 극장으로 공격해 들어가기 전에 신경 독가스를 사용했다.\n",
      ">> 많은 인질들이 화학 가스의 영향으로 고통을 겪으며 병원으로 옮겨졌다.\n",
      ">> 과거 노조 지도자였던 루이스 이나시오 룰라 다 실바가 브라질의 대통령 선거 결선 투표에서 압승을 거두면서, 라틴 아메리카 최대 국가로서는 좌파로의 역사적인 전환을 맞이하게 되었다.\n",
      ">> 실바의 노동자당이 자신들의 후보가 선거의 승리자라고 선언한 후 몇 시간이 지나, 집권당 후보인 조제 세하는 패배를 시인했다.\n",
      ">> 수천명의 실바 지지자들이 상 파울로와 리오 데 자네이로의 거리에 모여 들어, 실바가 이끄는 당의 붉은 깃발을 흔들며 축하했다.\n",
      ">> 북한의 핵무기 계획을 포기하도록 하려는 압력이 거세지고 있는 가운데, 일본과 북한의 외교관들이 외교 관계를 정상화하려는 회담을 재개했다.\n",
      ">> 말레이시아의 수도 쿠알라 룸푸르에서 열리는 이틀간의 회담에서는 1970년대와 80년대에 있었던 일본 민간인들의 납치에 대한 보다 충분한 설명을 요청하는 것 뿐만아니라 북한의 (핵)폭탄 제조 노력에 대한 일본의 우려가 주로 논의될 것으로 예상되고 있다.\n",
      ">> 100여명의 사망자가 예상되는 베트남 빌딩 화재\n",
      ">> 상점, 디스코텍, 그리고 여러 외국 회사들이 들어 있는 베트남 호지민市의 6층 건물을 휩쓸어버린 화재가 발생하여, 적어도 54명이 사망한 것으로 확인되었는데\n",
      ">> 최초 보도에 의하면 그 화재는 건물 2층의 Blue Disco에서 누전에 의해 발화되었을 것이라고 했다.\n",
      ">> 소방관들이 그 지옥 같은 화재를 진압하는데는 5 시간 이상이 걸렸는데, 강한 열과 수그러들지 않는 불길 때문에 소방관들은 약 4시간 동안 건물에 진입할 수 없었다.\n",
      ">> 이동할 수 있는 폭탄 제거 로보트가 이미 폭발물이나 위험 물질이 있는 것으로 의심되는 자동차, 건물, 또는 우편물을 검사할 수 있다고, 유엔의 유럽 경제 위원회 소속 전문가인 Jan Karlsson이 전하고 있다.\n",
      ">> 어휘 :\n",
      ">> \"테러범들과 싸우기 위해서 자동화 기술에 투자하는 것이 분명히 훨씬 많은 이익이 있습니다,\" 라고 Karlsson이 말했다.\n",
      ">> \"자동화 기술은 우체국에서, 그리고 업무가 끝난 후 사무실 경비에, 그리고 의심스러운 차량을 수색하는 데 사용될 수 있습니다.\"\n",
      ">> 어휘 :\n",
      ">> 그와 동시 에 노동 비용은 더욱 상승하고 있습니다.\" 라고 말했다.\n",
      ">> \"산업용 로보트 분야에서 2000년은 최상의 해였습니다.\" 라고 이 스웨덴인은 덧붙혀 말했다.\n",
      ">> \"일본, 유럽 및 북아메리카 뿐만아니라 일부 개발도상국들, 예를들어 브라질, 중국 및 남아프리카에서도 산업용 로보트는 사용량이 폭증하기 시작했습니다.\n",
      ">> 로보트 장치의 연간 판매액은 50억60억달러로 추산되고 있다.\n",
      ">> 그러나 필수 소프트웨어 및 통합 시스템 설치 비용을 합할 경우, 전체 로보트 공학 시장의 가치는 250억달러에 달할 수 있다.\n",
      ">> 2000년까지 이스라엘과 영국을 비롯한 여러 국가들에서 화재 진압 및 폭탄 처리 로보트 시스템이 약 50대가 판매되었다.\n",
      ">> 미국에서 끔찍한 공격이 발생하기 전에 작성된 이 연구 보고서는 2004년까지 120대의 시스템이 판매될 것으로 예측하고 있다.\n",
      ">> 약 2,300대의 로보트가 핵, 화학 물질, 폐기물, 또는 기타 위험한 합성물을 파괴하거나, 처리하거나, 해체하는 작업을 하고 있다고 보고서는 전했다.\n",
      ">> 또 다른 60대의 로보트가 경비 일을 하고 있다.\n",
      ">> \"경호 로보트가 침입자나 화재를 탐지하기 위해서 개인적으로, 그리고 전문적으로 사용되고 있습니다.\"\n",
      ">> 라고 Karlsson이 말했다. \"국방성은 그러한 로보트를 여러 대 갖고 있으며, 그 로보트들은 미국과 유럽의 핵 발전소에서 사용되고 있지만, 시장은 아직도 한계를 벗어나지 못하고 있습니다.\"\n",
      ">> 미국 의회 의원 5명은 북한이 핵무기 계획을 계속 진행하는 데 대해 북한을 응징하고, 이 고립된 사회주의 국가에서의 정권 교체를 추진하라고 촉구하는 서한을 부시 대통령에게 보냈다.\n",
      ">> 행정부에 보낸 서한에서, 공화당 상원의원 제시 헬름스, 봅 스미스, 존 킬, 그리고 공화당 하원의원 크리스 콕스와 민주당 하원의원 에드 마키는 대통령에게 미국이 북한에게 연료용 기름을 제공하기로 한 1994 협약을 폐지하라고 요청했다.\n",
      ">> 양측이 아시아에서 가장 오래 지속되어온 분쟁을 종식시키기 위해 노력함에따라, 스리랑카 정부와 타밀 반군 사이 의 4일간의 평화 회담이 큰 성과를 거두고 끝났다.\n",
      ">> 65,000명에 가까운 사상자를 냈으며, 150만명 이상을 피난시켰던 19년간의 전쟁에서의 핵심적인 쟁점들을 검토하기 위해 3개 위원회를 구성하기로 합의한 후에, 양측은 태국에서의 회담이 성공적이었다고 선언했다.\n",
      ">> 새 기구들은 민족 문제와 권력 분할 문제를 중점적으로 다룰 것이며, 난민 재정착과 수십년간의 내전으로 파괴된 지역의 복구 문제를 감독할 것이라고 스리랑카 정부는 말하고 있다.\n",
      ">> 로스앤젤레스 남부의 한 고속도로에서 194대의 차량이 연쇄 추돌하여 40명 이상이 부상당하고, 5명이 중상을 입었다고 경찰이 발표했다.\n",
      ">> 이 사고는 오전 7시 직전에 발생했으며, 사고가 나자 캘리포니아 고속도로 순찰대는 즉시 Interstate 710 도로의 2마일 구간을 양방향 모두 그날 오후까지 폐쇄시켰다.\n",
      ">> 짙은 안개가 사고의 요인이었을 것이라고 캘리포니아 고속도로 순찰대 관리들이 말했다.\n"
     ]
    }
   ],
   "source": [
    "with open(path_to_kor, \"r\") as f:\n",
    "    kor_raw = f.read().splitlines()\n",
    "\n",
    "print(\"Korean Data Size:\", len(kor_raw))\n",
    "print(\"Korean Example:\")\n",
    "\n",
    "for sen in kor_raw[0:50]: print(\">>\", sen)"
   ]
  },
  {
   "cell_type": "code",
   "execution_count": 7,
   "id": "899d2d7b",
   "metadata": {},
   "outputs": [],
   "source": [
    "kor_raw_df = pd.DataFrame({'Korean' : kor_raw})\n",
    "eng_raw_df = pd.DataFrame({'English' : eng_raw})"
   ]
  },
  {
   "cell_type": "code",
   "execution_count": 8,
   "id": "505bf2eb",
   "metadata": {},
   "outputs": [
    {
     "data": {
      "text/html": [
       "<div>\n",
       "<style scoped>\n",
       "    .dataframe tbody tr th:only-of-type {\n",
       "        vertical-align: middle;\n",
       "    }\n",
       "\n",
       "    .dataframe tbody tr th {\n",
       "        vertical-align: top;\n",
       "    }\n",
       "\n",
       "    .dataframe thead th {\n",
       "        text-align: right;\n",
       "    }\n",
       "</style>\n",
       "<table border=\"1\" class=\"dataframe\">\n",
       "  <thead>\n",
       "    <tr style=\"text-align: right;\">\n",
       "      <th></th>\n",
       "      <th>Korean</th>\n",
       "    </tr>\n",
       "  </thead>\n",
       "  <tbody>\n",
       "    <tr>\n",
       "      <th>0</th>\n",
       "      <td>개인용 컴퓨터 사용의 상당 부분은 \"이것보다 뛰어날 수 있느냐?\"</td>\n",
       "    </tr>\n",
       "    <tr>\n",
       "      <th>1</th>\n",
       "      <td>모든 광마우스와 마찬가지 로 이 광마우스도 책상 위에 놓는 마우스 패드를 필요로 하...</td>\n",
       "    </tr>\n",
       "    <tr>\n",
       "      <th>2</th>\n",
       "      <td>그러나 이것은 또한 책상도 필요로 하지 않는다.</td>\n",
       "    </tr>\n",
       "    <tr>\n",
       "      <th>3</th>\n",
       "      <td>79.95달러하는 이 최첨단 무선 광마우스는 허공에서 팔목, 팔, 그외에 어떤 부분...</td>\n",
       "    </tr>\n",
       "    <tr>\n",
       "      <th>4</th>\n",
       "      <td>정보 관리들은 동남 아시아에서의 선박들에 대한 많은 (테러) 계획들이 실패로 돌아갔...</td>\n",
       "    </tr>\n",
       "    <tr>\n",
       "      <th>...</th>\n",
       "      <td>...</td>\n",
       "    </tr>\n",
       "    <tr>\n",
       "      <th>94118</th>\n",
       "      <td>“우리는 3월 8일 김승연 회장과 그의 아들이 보복폭행에 가담한 혐의를 찾기 위해 ...</td>\n",
       "    </tr>\n",
       "    <tr>\n",
       "      <th>94119</th>\n",
       "      <td>월요일 술집 종업원 6명은 김회장과 아들에게 폭행을 당했음을 진술했다고 경찰은 말했다.</td>\n",
       "    </tr>\n",
       "    <tr>\n",
       "      <th>94120</th>\n",
       "      <td>그러나 불충분한 증거 확보로 수사에 어려움이 있다.</td>\n",
       "    </tr>\n",
       "    <tr>\n",
       "      <th>94121</th>\n",
       "      <td>김회장과 그의 아들은 보복폭행 혐의를 강력히 부인하고 있다.</td>\n",
       "    </tr>\n",
       "    <tr>\n",
       "      <th>94122</th>\n",
       "      <td>경찰은 김회장의 집무실에서 추가 증거를 찾은 이후 가능한 한 오늘 김회장과 아들을 ...</td>\n",
       "    </tr>\n",
       "  </tbody>\n",
       "</table>\n",
       "<p>94123 rows × 1 columns</p>\n",
       "</div>"
      ],
      "text/plain": [
       "                                                  Korean\n",
       "0                   개인용 컴퓨터 사용의 상당 부분은 \"이것보다 뛰어날 수 있느냐?\"\n",
       "1      모든 광마우스와 마찬가지 로 이 광마우스도 책상 위에 놓는 마우스 패드를 필요로 하...\n",
       "2                             그러나 이것은 또한 책상도 필요로 하지 않는다.\n",
       "3      79.95달러하는 이 최첨단 무선 광마우스는 허공에서 팔목, 팔, 그외에 어떤 부분...\n",
       "4      정보 관리들은 동남 아시아에서의 선박들에 대한 많은 (테러) 계획들이 실패로 돌아갔...\n",
       "...                                                  ...\n",
       "94118  “우리는 3월 8일 김승연 회장과 그의 아들이 보복폭행에 가담한 혐의를 찾기 위해 ...\n",
       "94119   월요일 술집 종업원 6명은 김회장과 아들에게 폭행을 당했음을 진술했다고 경찰은 말했다.\n",
       "94120                       그러나 불충분한 증거 확보로 수사에 어려움이 있다.\n",
       "94121                  김회장과 그의 아들은 보복폭행 혐의를 강력히 부인하고 있다.\n",
       "94122  경찰은 김회장의 집무실에서 추가 증거를 찾은 이후 가능한 한 오늘 김회장과 아들을 ...\n",
       "\n",
       "[94123 rows x 1 columns]"
      ]
     },
     "execution_count": 8,
     "metadata": {},
     "output_type": "execute_result"
    }
   ],
   "source": [
    "# 한글데이터 확인\n",
    "kor_raw_df"
   ]
  },
  {
   "cell_type": "code",
   "execution_count": 9,
   "id": "9a395a40",
   "metadata": {
    "scrolled": true
   },
   "outputs": [
    {
     "data": {
      "text/html": [
       "<div>\n",
       "<style scoped>\n",
       "    .dataframe tbody tr th:only-of-type {\n",
       "        vertical-align: middle;\n",
       "    }\n",
       "\n",
       "    .dataframe tbody tr th {\n",
       "        vertical-align: top;\n",
       "    }\n",
       "\n",
       "    .dataframe thead th {\n",
       "        text-align: right;\n",
       "    }\n",
       "</style>\n",
       "<table border=\"1\" class=\"dataframe\">\n",
       "  <thead>\n",
       "    <tr style=\"text-align: right;\">\n",
       "      <th></th>\n",
       "      <th>English</th>\n",
       "    </tr>\n",
       "  </thead>\n",
       "  <tbody>\n",
       "    <tr>\n",
       "      <th>0</th>\n",
       "      <td>Much of personal computing is about \"can you t...</td>\n",
       "    </tr>\n",
       "    <tr>\n",
       "      <th>1</th>\n",
       "      <td>so a mention a few weeks ago about a rechargea...</td>\n",
       "    </tr>\n",
       "    <tr>\n",
       "      <th>2</th>\n",
       "      <td>Like all optical mice, But it also doesn't nee...</td>\n",
       "    </tr>\n",
       "    <tr>\n",
       "      <th>3</th>\n",
       "      <td>uses gyroscopic sensors to control the cursor ...</td>\n",
       "    </tr>\n",
       "    <tr>\n",
       "      <th>4</th>\n",
       "      <td>Intelligence officials have revealed a spate o...</td>\n",
       "    </tr>\n",
       "    <tr>\n",
       "      <th>...</th>\n",
       "      <td>...</td>\n",
       "    </tr>\n",
       "    <tr>\n",
       "      <th>94118</th>\n",
       "      <td>””We are hoping to seize material evidence to ...</td>\n",
       "    </tr>\n",
       "    <tr>\n",
       "      <th>94119</th>\n",
       "      <td>” On Monday, police secured statements from si...</td>\n",
       "    </tr>\n",
       "    <tr>\n",
       "      <th>94120</th>\n",
       "      <td>But the lack of material evidence is making it...</td>\n",
       "    </tr>\n",
       "    <tr>\n",
       "      <th>94121</th>\n",
       "      <td>Kim and his son both deny the allegations.</td>\n",
       "    </tr>\n",
       "    <tr>\n",
       "      <th>94122</th>\n",
       "      <td>Police are planning to seek arrest warrants fo...</td>\n",
       "    </tr>\n",
       "  </tbody>\n",
       "</table>\n",
       "<p>94123 rows × 1 columns</p>\n",
       "</div>"
      ],
      "text/plain": [
       "                                                 English\n",
       "0      Much of personal computing is about \"can you t...\n",
       "1      so a mention a few weeks ago about a rechargea...\n",
       "2      Like all optical mice, But it also doesn't nee...\n",
       "3      uses gyroscopic sensors to control the cursor ...\n",
       "4      Intelligence officials have revealed a spate o...\n",
       "...                                                  ...\n",
       "94118  ””We are hoping to seize material evidence to ...\n",
       "94119  ” On Monday, police secured statements from si...\n",
       "94120  But the lack of material evidence is making it...\n",
       "94121         Kim and his son both deny the allegations.\n",
       "94122  Police are planning to seek arrest warrants fo...\n",
       "\n",
       "[94123 rows x 1 columns]"
      ]
     },
     "execution_count": 9,
     "metadata": {},
     "output_type": "execute_result"
    }
   ],
   "source": [
    "# 영어데이터 확인\n",
    "eng_raw_df"
   ]
  },
  {
   "cell_type": "code",
   "execution_count": 10,
   "id": "a65a81e2",
   "metadata": {},
   "outputs": [
    {
     "data": {
      "text/html": [
       "<div>\n",
       "<style scoped>\n",
       "    .dataframe tbody tr th:only-of-type {\n",
       "        vertical-align: middle;\n",
       "    }\n",
       "\n",
       "    .dataframe tbody tr th {\n",
       "        vertical-align: top;\n",
       "    }\n",
       "\n",
       "    .dataframe thead th {\n",
       "        text-align: right;\n",
       "    }\n",
       "</style>\n",
       "<table border=\"1\" class=\"dataframe\">\n",
       "  <thead>\n",
       "    <tr style=\"text-align: right;\">\n",
       "      <th></th>\n",
       "      <th>Korean</th>\n",
       "      <th>English</th>\n",
       "    </tr>\n",
       "  </thead>\n",
       "  <tbody>\n",
       "    <tr>\n",
       "      <th>0</th>\n",
       "      <td>개인용 컴퓨터 사용의 상당 부분은 \"이것보다 뛰어날 수 있느냐?\"</td>\n",
       "      <td>Much of personal computing is about \"can you t...</td>\n",
       "    </tr>\n",
       "    <tr>\n",
       "      <th>1</th>\n",
       "      <td>모든 광마우스와 마찬가지 로 이 광마우스도 책상 위에 놓는 마우스 패드를 필요로 하...</td>\n",
       "      <td>so a mention a few weeks ago about a rechargea...</td>\n",
       "    </tr>\n",
       "    <tr>\n",
       "      <th>2</th>\n",
       "      <td>그러나 이것은 또한 책상도 필요로 하지 않는다.</td>\n",
       "      <td>Like all optical mice, But it also doesn't nee...</td>\n",
       "    </tr>\n",
       "    <tr>\n",
       "      <th>3</th>\n",
       "      <td>79.95달러하는 이 최첨단 무선 광마우스는 허공에서 팔목, 팔, 그외에 어떤 부분...</td>\n",
       "      <td>uses gyroscopic sensors to control the cursor ...</td>\n",
       "    </tr>\n",
       "    <tr>\n",
       "      <th>4</th>\n",
       "      <td>정보 관리들은 동남 아시아에서의 선박들에 대한 많은 (테러) 계획들이 실패로 돌아갔...</td>\n",
       "      <td>Intelligence officials have revealed a spate o...</td>\n",
       "    </tr>\n",
       "    <tr>\n",
       "      <th>...</th>\n",
       "      <td>...</td>\n",
       "      <td>...</td>\n",
       "    </tr>\n",
       "    <tr>\n",
       "      <th>94118</th>\n",
       "      <td>“우리는 3월 8일 김승연 회장과 그의 아들이 보복폭행에 가담한 혐의를 찾기 위해 ...</td>\n",
       "      <td>””We are hoping to seize material evidence to ...</td>\n",
       "    </tr>\n",
       "    <tr>\n",
       "      <th>94119</th>\n",
       "      <td>월요일 술집 종업원 6명은 김회장과 아들에게 폭행을 당했음을 진술했다고 경찰은 말했다.</td>\n",
       "      <td>” On Monday, police secured statements from si...</td>\n",
       "    </tr>\n",
       "    <tr>\n",
       "      <th>94120</th>\n",
       "      <td>그러나 불충분한 증거 확보로 수사에 어려움이 있다.</td>\n",
       "      <td>But the lack of material evidence is making it...</td>\n",
       "    </tr>\n",
       "    <tr>\n",
       "      <th>94121</th>\n",
       "      <td>김회장과 그의 아들은 보복폭행 혐의를 강력히 부인하고 있다.</td>\n",
       "      <td>Kim and his son both deny the allegations.</td>\n",
       "    </tr>\n",
       "    <tr>\n",
       "      <th>94122</th>\n",
       "      <td>경찰은 김회장의 집무실에서 추가 증거를 찾은 이후 가능한 한 오늘 김회장과 아들을 ...</td>\n",
       "      <td>Police are planning to seek arrest warrants fo...</td>\n",
       "    </tr>\n",
       "  </tbody>\n",
       "</table>\n",
       "<p>94123 rows × 2 columns</p>\n",
       "</div>"
      ],
      "text/plain": [
       "                                                  Korean  \\\n",
       "0                   개인용 컴퓨터 사용의 상당 부분은 \"이것보다 뛰어날 수 있느냐?\"   \n",
       "1      모든 광마우스와 마찬가지 로 이 광마우스도 책상 위에 놓는 마우스 패드를 필요로 하...   \n",
       "2                             그러나 이것은 또한 책상도 필요로 하지 않는다.   \n",
       "3      79.95달러하는 이 최첨단 무선 광마우스는 허공에서 팔목, 팔, 그외에 어떤 부분...   \n",
       "4      정보 관리들은 동남 아시아에서의 선박들에 대한 많은 (테러) 계획들이 실패로 돌아갔...   \n",
       "...                                                  ...   \n",
       "94118  “우리는 3월 8일 김승연 회장과 그의 아들이 보복폭행에 가담한 혐의를 찾기 위해 ...   \n",
       "94119   월요일 술집 종업원 6명은 김회장과 아들에게 폭행을 당했음을 진술했다고 경찰은 말했다.   \n",
       "94120                       그러나 불충분한 증거 확보로 수사에 어려움이 있다.   \n",
       "94121                  김회장과 그의 아들은 보복폭행 혐의를 강력히 부인하고 있다.   \n",
       "94122  경찰은 김회장의 집무실에서 추가 증거를 찾은 이후 가능한 한 오늘 김회장과 아들을 ...   \n",
       "\n",
       "                                                 English  \n",
       "0      Much of personal computing is about \"can you t...  \n",
       "1      so a mention a few weeks ago about a rechargea...  \n",
       "2      Like all optical mice, But it also doesn't nee...  \n",
       "3      uses gyroscopic sensors to control the cursor ...  \n",
       "4      Intelligence officials have revealed a spate o...  \n",
       "...                                                  ...  \n",
       "94118  ””We are hoping to seize material evidence to ...  \n",
       "94119  ” On Monday, police secured statements from si...  \n",
       "94120  But the lack of material evidence is making it...  \n",
       "94121         Kim and his son both deny the allegations.  \n",
       "94122  Police are planning to seek arrest warrants fo...  \n",
       "\n",
       "[94123 rows x 2 columns]"
      ]
     },
     "execution_count": 10,
     "metadata": {},
     "output_type": "execute_result"
    }
   ],
   "source": [
    "raw_df = pd.merge(kor_raw_df, eng_raw_df, left_index = True, right_index = True, how = 'left')\n",
    "raw_df"
   ]
  },
  {
   "cell_type": "code",
   "execution_count": 11,
   "id": "a2133958",
   "metadata": {},
   "outputs": [
    {
     "data": {
      "text/html": [
       "<div>\n",
       "<style scoped>\n",
       "    .dataframe tbody tr th:only-of-type {\n",
       "        vertical-align: middle;\n",
       "    }\n",
       "\n",
       "    .dataframe tbody tr th {\n",
       "        vertical-align: top;\n",
       "    }\n",
       "\n",
       "    .dataframe thead th {\n",
       "        text-align: right;\n",
       "    }\n",
       "</style>\n",
       "<table border=\"1\" class=\"dataframe\">\n",
       "  <thead>\n",
       "    <tr style=\"text-align: right;\">\n",
       "      <th></th>\n",
       "      <th>Korean</th>\n",
       "      <th>English</th>\n",
       "    </tr>\n",
       "  </thead>\n",
       "  <tbody>\n",
       "    <tr>\n",
       "      <th>27</th>\n",
       "      <td>어휘 :</td>\n",
       "      <td>The Geneva-based commission, in its annual stu...</td>\n",
       "    </tr>\n",
       "    <tr>\n",
       "      <th>30</th>\n",
       "      <td>어휘 :</td>\n",
       "      <td>Postal Service - whose postmaster told a Senat...</td>\n",
       "    </tr>\n",
       "    <tr>\n",
       "      <th>282</th>\n",
       "      <td>어휘 :</td>\n",
       "      <td>the United States will take every measure agai...</td>\n",
       "    </tr>\n",
       "    <tr>\n",
       "      <th>318</th>\n",
       "      <td>어휘 : examine 면밀히 조사하다   plight 상태, 양상   revive...</td>\n",
       "      <td>In our Focus report, Bob Dody examines the pli...</td>\n",
       "    </tr>\n",
       "    <tr>\n",
       "      <th>773</th>\n",
       "      <td>어휘 : psychologist 심리학자   tactful 재치있는   no les...</td>\n",
       "      <td>Kenneth Gergen, a Swarthmore College professor...</td>\n",
       "    </tr>\n",
       "    <tr>\n",
       "      <th>1064</th>\n",
       "      <td>어휘 : in general 일반적으로   even 훨씬, 더욱   interest...</td>\n",
       "      <td>Government in general is even less interesting.</td>\n",
       "    </tr>\n",
       "    <tr>\n",
       "      <th>1454</th>\n",
       "      <td>어휘 : 콩고 화산 폭발로 40명 이상 사망</td>\n",
       "      <td>Lava edged with black crust inched through the...</td>\n",
       "    </tr>\n",
       "    <tr>\n",
       "      <th>1456</th>\n",
       "      <td>어휘 :</td>\n",
       "      <td>aid groups set up freshwater tanks to provide ...</td>\n",
       "    </tr>\n",
       "    <tr>\n",
       "      <th>2226</th>\n",
       "      <td>어휘 :</td>\n",
       "      <td>communications with the tiny $4.5 million DASH...</td>\n",
       "    </tr>\n",
       "    <tr>\n",
       "      <th>3003</th>\n",
       "      <td>어휘 :</td>\n",
       "      <td>The upper end of that range would put SG344 on...</td>\n",
       "    </tr>\n",
       "    <tr>\n",
       "      <th>3100</th>\n",
       "      <td>어휘 :</td>\n",
       "      <td>The meeting comes on the heels of a recent UNI...</td>\n",
       "    </tr>\n",
       "    <tr>\n",
       "      <th>3172</th>\n",
       "      <td>어휘 :</td>\n",
       "      <td>About 40 percent of the more than 5,600 partic...</td>\n",
       "    </tr>\n",
       "    <tr>\n",
       "      <th>3289</th>\n",
       "      <td>어휘 :</td>\n",
       "      <td>A study by Australia's main scientific body fo...</td>\n",
       "    </tr>\n",
       "    <tr>\n",
       "      <th>3329</th>\n",
       "      <td>어휘 :</td>\n",
       "      <td>Online merchants share some of the credit for ...</td>\n",
       "    </tr>\n",
       "    <tr>\n",
       "      <th>3374</th>\n",
       "      <td>어휘 :</td>\n",
       "      <td>In much rarer instances, boulders one kilomete...</td>\n",
       "    </tr>\n",
       "    <tr>\n",
       "      <th>3557</th>\n",
       "      <td>어휘 :</td>\n",
       "      <td>Heavy drinkers were one-and-a-half times more ...</td>\n",
       "    </tr>\n",
       "    <tr>\n",
       "      <th>4404</th>\n",
       "      <td>어휘 : concern 우려, 걱정  / unprecedented 전례 없는  / ...</td>\n",
       "      <td>unprecedented control of access lines by high-...</td>\n",
       "    </tr>\n",
       "    <tr>\n",
       "      <th>4758</th>\n",
       "      <td>어휘 :</td>\n",
       "      <td>still experimental but expected to win approva...</td>\n",
       "    </tr>\n",
       "    <tr>\n",
       "      <th>5218</th>\n",
       "      <td>어휘 :</td>\n",
       "      <td>It was approved over the weekend by a U.N. pan...</td>\n",
       "    </tr>\n",
       "    <tr>\n",
       "      <th>5278</th>\n",
       "      <td>어휘 :</td>\n",
       "      <td>A Texas jury found Andrea Yates guilty of capi...</td>\n",
       "    </tr>\n",
       "    <tr>\n",
       "      <th>5346</th>\n",
       "      <td>어휘 :</td>\n",
       "      <td>such as mobile phones, wireless messaging unit...</td>\n",
       "    </tr>\n",
       "    <tr>\n",
       "      <th>5494</th>\n",
       "      <td>어휘 :</td>\n",
       "      <td>shortly after the captain reported a fire in t...</td>\n",
       "    </tr>\n",
       "    <tr>\n",
       "      <th>5514</th>\n",
       "      <td>어휘 :</td>\n",
       "      <td>Tech stocks led the way, and there are high ho...</td>\n",
       "    </tr>\n",
       "    <tr>\n",
       "      <th>5742</th>\n",
       "      <td>어휘 :</td>\n",
       "      <td>China is honing \"credible options\" and could a...</td>\n",
       "    </tr>\n",
       "    <tr>\n",
       "      <th>5782</th>\n",
       "      <td>어휘 :</td>\n",
       "      <td>The Times of India said members of the Indian ...</td>\n",
       "    </tr>\n",
       "  </tbody>\n",
       "</table>\n",
       "</div>"
      ],
      "text/plain": [
       "                                                 Korean  \\\n",
       "27                                                 어휘 :   \n",
       "30                                                 어휘 :   \n",
       "282                                                어휘 :   \n",
       "318   어휘 : examine 면밀히 조사하다   plight 상태, 양상   revive...   \n",
       "773   어휘 : psychologist 심리학자   tactful 재치있는   no les...   \n",
       "1064  어휘 : in general 일반적으로   even 훨씬, 더욱   interest...   \n",
       "1454                           어휘 : 콩고 화산 폭발로 40명 이상 사망   \n",
       "1456                                               어휘 :   \n",
       "2226                                               어휘 :   \n",
       "3003                                               어휘 :   \n",
       "3100                                               어휘 :   \n",
       "3172                                               어휘 :   \n",
       "3289                                               어휘 :   \n",
       "3329                                               어휘 :   \n",
       "3374                                               어휘 :   \n",
       "3557                                               어휘 :   \n",
       "4404  어휘 : concern 우려, 걱정  / unprecedented 전례 없는  / ...   \n",
       "4758                                               어휘 :   \n",
       "5218                                               어휘 :   \n",
       "5278                                               어휘 :   \n",
       "5346                                               어휘 :   \n",
       "5494                                               어휘 :   \n",
       "5514                                               어휘 :   \n",
       "5742                                               어휘 :   \n",
       "5782                                               어휘 :   \n",
       "\n",
       "                                                English  \n",
       "27    The Geneva-based commission, in its annual stu...  \n",
       "30    Postal Service - whose postmaster told a Senat...  \n",
       "282   the United States will take every measure agai...  \n",
       "318   In our Focus report, Bob Dody examines the pli...  \n",
       "773   Kenneth Gergen, a Swarthmore College professor...  \n",
       "1064    Government in general is even less interesting.  \n",
       "1454  Lava edged with black crust inched through the...  \n",
       "1456  aid groups set up freshwater tanks to provide ...  \n",
       "2226  communications with the tiny $4.5 million DASH...  \n",
       "3003  The upper end of that range would put SG344 on...  \n",
       "3100  The meeting comes on the heels of a recent UNI...  \n",
       "3172  About 40 percent of the more than 5,600 partic...  \n",
       "3289  A study by Australia's main scientific body fo...  \n",
       "3329  Online merchants share some of the credit for ...  \n",
       "3374  In much rarer instances, boulders one kilomete...  \n",
       "3557  Heavy drinkers were one-and-a-half times more ...  \n",
       "4404  unprecedented control of access lines by high-...  \n",
       "4758  still experimental but expected to win approva...  \n",
       "5218  It was approved over the weekend by a U.N. pan...  \n",
       "5278  A Texas jury found Andrea Yates guilty of capi...  \n",
       "5346  such as mobile phones, wireless messaging unit...  \n",
       "5494  shortly after the captain reported a fire in t...  \n",
       "5514  Tech stocks led the way, and there are high ho...  \n",
       "5742  China is honing \"credible options\" and could a...  \n",
       "5782  The Times of India said members of the Indian ...  "
      ]
     },
     "execution_count": 11,
     "metadata": {},
     "output_type": "execute_result"
    }
   ],
   "source": [
    "raw_df[raw_df['Korean'].str.contains('어휘 :')]"
   ]
  },
  {
   "cell_type": "markdown",
   "id": "ac24a41c",
   "metadata": {},
   "source": [
    "###### 한글 raw 데이터에 보면 어휘:라고만 쓰여져 있는 문장이 있었다. 이러한 문장들이 얼마나 있는지 확인해보자."
   ]
  },
  {
   "cell_type": "markdown",
   "id": "d684b41d",
   "metadata": {},
   "source": [
    "## Step 2. 데이터 정제\n",
    "### 2.1 중복 제거"
   ]
  },
  {
   "cell_type": "code",
   "execution_count": 12,
   "id": "5307b2dd",
   "metadata": {},
   "outputs": [
    {
     "data": {
      "text/plain": [
       "<zip at 0x7f07ef34c5c0>"
      ]
     },
     "execution_count": 12,
     "metadata": {},
     "output_type": "execute_result"
    }
   ],
   "source": [
    "# 데이터의 병렬 쌍이 흐트러지지 않게 중복 제거하기 위해서 zip 함수를 사용하여 하나의 파일로 묶어본다.\n",
    "data = zip(kor_raw, eng_raw)\n",
    "data"
   ]
  },
  {
   "cell_type": "code",
   "execution_count": 13,
   "id": "b479eabc",
   "metadata": {},
   "outputs": [],
   "source": [
    "# 중복을 제거하기 위해 set으로 데이터 형태를 변경해보자.\n",
    "set_data = set(data)"
   ]
  },
  {
   "cell_type": "code",
   "execution_count": 14,
   "id": "f6bdc4ac",
   "metadata": {},
   "outputs": [
    {
     "data": {
      "text/plain": [
       "78968"
      ]
     },
     "execution_count": 14,
     "metadata": {},
     "output_type": "execute_result"
    }
   ],
   "source": [
    "len(set_data)"
   ]
  },
  {
   "cell_type": "code",
   "execution_count": 15,
   "id": "c92126de",
   "metadata": {},
   "outputs": [],
   "source": [
    "# *와 zip 함수를 활용하여 다시 한글, 영어 파일로 unpacking\n",
    "clean_corpus_kor, clean_corpus_eng = zip(*set_data)"
   ]
  },
  {
   "cell_type": "code",
   "execution_count": 16,
   "id": "6884588f",
   "metadata": {},
   "outputs": [
    {
     "data": {
      "text/plain": [
       "'토마스 노이베르트가 다비드 솔가가 올려준 프리킥을 골로 연결시키며 뮌헨의 간담을 서늘케 했다.'"
      ]
     },
     "execution_count": 16,
     "metadata": {},
     "output_type": "execute_result"
    }
   ],
   "source": [
    "clean_corpus_kor[0]"
   ]
  },
  {
   "cell_type": "code",
   "execution_count": 17,
   "id": "2ff21b04",
   "metadata": {},
   "outputs": [
    {
     "data": {
      "text/plain": [
       "'Thomas Neubert headed in a free-kick from David Solga corner to put the amateur side ahead.'"
      ]
     },
     "execution_count": 17,
     "metadata": {},
     "output_type": "execute_result"
    }
   ],
   "source": [
    "clean_corpus_eng[0]"
   ]
  },
  {
   "cell_type": "code",
   "execution_count": 18,
   "id": "75d51ba2",
   "metadata": {},
   "outputs": [
    {
     "name": "stdout",
     "output_type": "stream",
     "text": [
      "한글 raw 데이터 수 :  94123\n",
      "중복 제거한 데이터 수 :  78968\n",
      "-----------------\n",
      "영어 raw 데이터 수 :  94123\n",
      "중복 제거한 데이터 수 :  78968\n"
     ]
    }
   ],
   "source": [
    "print('한글 raw 데이터 수 : ', len(kor_raw))\n",
    "print('중복 제거한 데이터 수 : ', len(clean_corpus_kor))\n",
    "print('-----------------')\n",
    "print('영어 raw 데이터 수 : ', len(eng_raw))\n",
    "print('중복 제거한 데이터 수 : ', len(clean_corpus_eng))"
   ]
  },
  {
   "cell_type": "markdown",
   "id": "5d712eb8",
   "metadata": {},
   "source": [
    "###### 약 16,000개가 중복되어 제거되었다.\n",
    "## 2.2 정규표현식 활용"
   ]
  },
  {
   "cell_type": "code",
   "execution_count": 19,
   "id": "01814f64",
   "metadata": {},
   "outputs": [],
   "source": [
    "from konlpy.tag import Mecab"
   ]
  },
  {
   "cell_type": "code",
   "execution_count": 20,
   "id": "049c096c",
   "metadata": {},
   "outputs": [
    {
     "name": "stdout",
     "output_type": "stream",
     "text": [
      "슝~\n"
     ]
    }
   ],
   "source": [
    "def preprocess_sentence_kor(sentence, s_token=False, e_token=False):\n",
    "    sentence = sentence.lower().strip()\n",
    "\n",
    "    sentence = re.sub(r\"([?.!,])\", r\" \\1 \", sentence)   # \\1 : 앞의 첫 번째 그룹을 뜻함 / 첫 번째 그룹에 있는 문자 앞 뒤로 공백 추가\n",
    "    sentence = re.sub(r'[\" \"]+', \" \", sentence)     # 여러 개의 공백을 하나의 공백으로 변경\n",
    "    sentence = re.sub(r\"[^ㄱ-ㅎㅏ-ㅣ가-힣0-9?.!,]+\", \" \", sentence)   # 한글, 숫자, ?.!, 제외한 것들을 공백으로 변경\n",
    "\n",
    "    sentence = sentence.strip()   # 문자열 양 끝에 있는 공백 제거\n",
    "    \n",
    "    if s_token:\n",
    "        sentence = '<start> ' + sentence   \n",
    "\n",
    "    if e_token:\n",
    "        sentence += ' <end>'\n",
    "        \n",
    "    tokenizer = Mecab()\n",
    "    \n",
    "    sentence = tokenizer.morphs(sentence)\n",
    "\n",
    "    return sentence\n",
    "\n",
    "print(\"슝~\")"
   ]
  },
  {
   "cell_type": "code",
   "execution_count": 21,
   "id": "b47f08ce",
   "metadata": {},
   "outputs": [
    {
     "name": "stdout",
     "output_type": "stream",
     "text": [
      "슝~\n"
     ]
    }
   ],
   "source": [
    "def preprocess_sentence_eng(sentence, s_token=True, e_token=True):\n",
    "    sentence = sentence.lower().strip()\n",
    "\n",
    "    sentence = re.sub(r\"([?.!,])\", r\" \\1 \", sentence)   # \\1 : 앞의 첫 번째 그룹을 뜻함 / 첫 번째 그룹에 있는 문자 앞 뒤로 공백 추가\n",
    "    sentence = re.sub(r'[\" \"]+', \" \", sentence)     # 여러 개의 공백을 하나의 공백으로 변경\n",
    "    sentence = re.sub(r\"[^a-zA-Z0-9?.!,]+\", \" \", sentence)   # 영어 대문자, 소문자, 숫자, ?.!, 제외한 것들을 공백으로 변경\n",
    "\n",
    "    sentence = sentence.strip()   # 문자열 양 끝에 있는 공백 제거\n",
    "    \n",
    "    if s_token:\n",
    "        sentence = '<start> ' + sentence   \n",
    "\n",
    "    if e_token:\n",
    "        sentence += ' <end>'\n",
    "        \n",
    "    sentence = sentence.split()\n",
    "    \n",
    "    return sentence\n",
    "\n",
    "print(\"슝~\")"
   ]
  },
  {
   "cell_type": "markdown",
   "id": "0cf1c614",
   "metadata": {},
   "source": [
    "###### 토큰의 길이가 40 이하인 데이터를 선별하여 kor_corpus와 eng_corpus를 구축해보자."
   ]
  },
  {
   "cell_type": "code",
   "execution_count": 22,
   "id": "813a7f7c",
   "metadata": {},
   "outputs": [
    {
     "name": "stdout",
     "output_type": "stream",
     "text": [
      "61489\n",
      "61489\n"
     ]
    }
   ],
   "source": [
    "kor_corpus = []\n",
    "eng_corpus = []\n",
    "\n",
    "for kor, eng in zip(clean_corpus_kor, clean_corpus_eng):\n",
    "    tmp_kor = preprocess_sentence_kor(kor)\n",
    "    tmp_eng = preprocess_sentence_eng(eng)\n",
    "    \n",
    "    if len(tmp_kor) <= 40 and len(tmp_eng) <= 40:\n",
    "        kor_corpus.append(tmp_kor)\n",
    "        eng_corpus.append(tmp_eng)\n",
    "    \n",
    "print(len(kor_corpus))\n",
    "print(len(eng_corpus))"
   ]
  },
  {
   "cell_type": "markdown",
   "id": "ab97d013",
   "metadata": {},
   "source": [
    "###### 제대로 전처리가 잘 되었는지 확인해보자."
   ]
  },
  {
   "cell_type": "code",
   "execution_count": 23,
   "id": "ba138178",
   "metadata": {},
   "outputs": [
    {
     "name": "stdout",
     "output_type": "stream",
     "text": [
      "정제한 한글 :  ['2', '년', '전', ',', '암소', '한', '마리', '가', '멸', '종위', '기종', '인', '복제', '야생', '숫소', '새끼', '노아', '를', '낳', '았', '다', '.']\n",
      "정제한 영어 :  ['<start>', 'two', 'years', 'ago', ',', 'a', 'cow', 'gave', 'birth', 'to', 'an', 'endangered', 'cloned', 'wild', 'ox', 'named', 'noah', '.', '<end>']\n"
     ]
    }
   ],
   "source": [
    "print('정제한 한글 : ', kor_corpus[300])\n",
    "print('정제한 영어 : ', eng_corpus[300])"
   ]
  },
  {
   "cell_type": "code",
   "execution_count": 24,
   "id": "ee37abbb",
   "metadata": {},
   "outputs": [
    {
     "name": "stdout",
     "output_type": "stream",
     "text": [
      "정제한 한글 :  ['김대중', '전', '대통령', ',', '미국', '은', '북한', '에', '유연', '하', '게', '대처', '해야']\n",
      "정제한 영어 :  ['<start>', 'former', 'president', 'kim', 'dae', 'jung', 'urges', 'u', '.', 's', 'to', 'show', 'more', 'flexible', 'attitude', 'toward', 'north', 'korea', '.', '<end>']\n"
     ]
    }
   ],
   "source": [
    "print('정제한 한글 : ', kor_corpus[10])\n",
    "print('정제한 영어 : ', eng_corpus[10])"
   ]
  },
  {
   "cell_type": "code",
   "execution_count": 25,
   "id": "691641e1",
   "metadata": {},
   "outputs": [
    {
     "data": {
      "text/plain": [
       "[['토마스',\n",
       "  '노이',\n",
       "  '베르트',\n",
       "  '가',\n",
       "  '다비드',\n",
       "  '솔가',\n",
       "  '가',\n",
       "  '올려',\n",
       "  '준',\n",
       "  '프리킥',\n",
       "  '을',\n",
       "  '골',\n",
       "  '로',\n",
       "  '연결',\n",
       "  '시키',\n",
       "  '며',\n",
       "  '뮌헨',\n",
       "  '의',\n",
       "  '간담',\n",
       "  '을',\n",
       "  '서늘',\n",
       "  '케',\n",
       "  '했',\n",
       "  '다',\n",
       "  '.'],\n",
       " ['오바마',\n",
       "  '대통령',\n",
       "  '과',\n",
       "  '저',\n",
       "  '는',\n",
       "  '양국',\n",
       "  '의',\n",
       "  '관계',\n",
       "  '를',\n",
       "  '더욱',\n",
       "  '굳건히',\n",
       "  '하',\n",
       "  '기',\n",
       "  '위해',\n",
       "  '터키',\n",
       "  '의',\n",
       "  '대통령',\n",
       "  '및',\n",
       "  '수상',\n",
       "  '과',\n",
       "  '함께',\n",
       "  '여러분',\n",
       "  '들',\n",
       "  '과',\n",
       "  '힘써',\n",
       "  '나갈',\n",
       "  '것',\n",
       "  '입니다',\n",
       "  '.'],\n",
       " ['당시',\n",
       "  '숨진',\n",
       "  '남성',\n",
       "  '은',\n",
       "  '직장',\n",
       "  '동료',\n",
       "  '4',\n",
       "  '명',\n",
       "  '을',\n",
       "  '차',\n",
       "  '에',\n",
       "  '태우',\n",
       "  '고',\n",
       "  '퇴근',\n",
       "  '하',\n",
       "  '던',\n",
       "  '길',\n",
       "  '이',\n",
       "  '었',\n",
       "  '다',\n",
       "  '.'],\n",
       " ['그러나',\n",
       "  '양',\n",
       "  '의',\n",
       "  '복귀',\n",
       "  '후',\n",
       "  '야후',\n",
       "  '의',\n",
       "  '주가',\n",
       "  '는',\n",
       "  '25',\n",
       "  '하락',\n",
       "  '한',\n",
       "  '반면',\n",
       "  '구글',\n",
       "  '의',\n",
       "  '주가',\n",
       "  '는',\n",
       "  '15',\n",
       "  '이상',\n",
       "  '올라',\n",
       "  '대조',\n",
       "  '를',\n",
       "  '이뤘',\n",
       "  '다',\n",
       "  '.'],\n",
       " ['연기',\n",
       "  '속',\n",
       "  '잔해',\n",
       "  '에서',\n",
       "  '9',\n",
       "  '.',\n",
       "  '11',\n",
       "  '생존자',\n",
       "  '를',\n",
       "  '수색',\n",
       "  '하',\n",
       "  '며',\n",
       "  '그',\n",
       "  '후',\n",
       "  '허리케인',\n",
       "  '카트리나',\n",
       "  '로',\n",
       "  '인해',\n",
       "  '무너진',\n",
       "  '파편',\n",
       "  '조각',\n",
       "  '에서',\n",
       "  '도',\n",
       "  '구조',\n",
       "  '작업',\n",
       "  '을',\n",
       "  '돕',\n",
       "  '던',\n",
       "  '검정',\n",
       "  '래브라도',\n",
       "  '리트리버',\n",
       "  '가',\n",
       "  '암',\n",
       "  '에',\n",
       "  '걸려',\n",
       "  '사망',\n",
       "  '했',\n",
       "  '다',\n",
       "  '.']]"
      ]
     },
     "execution_count": 25,
     "metadata": {},
     "output_type": "execute_result"
    }
   ],
   "source": [
    "kor_corpus[:5]"
   ]
  },
  {
   "cell_type": "code",
   "execution_count": 26,
   "id": "21d3d3ed",
   "metadata": {},
   "outputs": [
    {
     "data": {
      "text/plain": [
       "[['<start>',\n",
       "  'thomas',\n",
       "  'neubert',\n",
       "  'headed',\n",
       "  'in',\n",
       "  'a',\n",
       "  'free',\n",
       "  'kick',\n",
       "  'from',\n",
       "  'david',\n",
       "  'solga',\n",
       "  'corner',\n",
       "  'to',\n",
       "  'put',\n",
       "  'the',\n",
       "  'amateur',\n",
       "  'side',\n",
       "  'ahead',\n",
       "  '.',\n",
       "  '<end>'],\n",
       " ['<start>',\n",
       "  'i',\n",
       "  'know',\n",
       "  'that',\n",
       "  'president',\n",
       "  'obama',\n",
       "  'and',\n",
       "  'i',\n",
       "  'will',\n",
       "  'work',\n",
       "  'with',\n",
       "  'you',\n",
       "  ',',\n",
       "  'with',\n",
       "  'the',\n",
       "  'president',\n",
       "  'and',\n",
       "  'the',\n",
       "  'prime',\n",
       "  'minister',\n",
       "  ',',\n",
       "  'to',\n",
       "  'strengthen',\n",
       "  'and',\n",
       "  'deepen',\n",
       "  'those',\n",
       "  'ties',\n",
       "  '.',\n",
       "  '<end>'],\n",
       " ['<start>',\n",
       "  'the',\n",
       "  'man',\n",
       "  'was',\n",
       "  'in',\n",
       "  'a',\n",
       "  'group',\n",
       "  'of',\n",
       "  'four',\n",
       "  'people',\n",
       "  'driving',\n",
       "  'home',\n",
       "  'from',\n",
       "  'work',\n",
       "  'when',\n",
       "  'they',\n",
       "  'encountered',\n",
       "  'a',\n",
       "  'tree',\n",
       "  'in',\n",
       "  'the',\n",
       "  'road',\n",
       "  '.',\n",
       "  '<end>'],\n",
       " ['<start>',\n",
       "  'since',\n",
       "  'yang',\n",
       "  'became',\n",
       "  'ceo',\n",
       "  ',',\n",
       "  'yahoo',\n",
       "  's',\n",
       "  'stock',\n",
       "  'price',\n",
       "  'has',\n",
       "  'declined',\n",
       "  'by',\n",
       "  '25',\n",
       "  'percent',\n",
       "  'while',\n",
       "  'google',\n",
       "  'shares',\n",
       "  'have',\n",
       "  'surged',\n",
       "  'by',\n",
       "  'more',\n",
       "  'than',\n",
       "  '15',\n",
       "  'percent',\n",
       "  '.',\n",
       "  '<end>'],\n",
       " ['<start>',\n",
       "  'a',\n",
       "  'black',\n",
       "  'labrador',\n",
       "  'retriever',\n",
       "  'who',\n",
       "  'searched',\n",
       "  'for',\n",
       "  'survivors',\n",
       "  'in',\n",
       "  'smoking',\n",
       "  'debris',\n",
       "  'after',\n",
       "  'september',\n",
       "  '11',\n",
       "  'and',\n",
       "  'flooded',\n",
       "  'rubble',\n",
       "  'after',\n",
       "  'hurricane',\n",
       "  'katrina',\n",
       "  'has',\n",
       "  'died',\n",
       "  'after',\n",
       "  'battling',\n",
       "  'cancer',\n",
       "  '.',\n",
       "  '<end>']]"
      ]
     },
     "execution_count": 26,
     "metadata": {},
     "output_type": "execute_result"
    }
   ],
   "source": [
    "eng_corpus[:5]"
   ]
  },
  {
   "cell_type": "markdown",
   "id": "a0081520",
   "metadata": {},
   "source": [
    "## Step 3. 데이터 토큰화"
   ]
  },
  {
   "cell_type": "code",
   "execution_count": 27,
   "id": "7432cebf",
   "metadata": {},
   "outputs": [],
   "source": [
    "def tokenize(corpus):\n",
    "    tokenizer = tf.keras.preprocessing.text.Tokenizer(filters='')\n",
    "    tokenizer.fit_on_texts(corpus)\n",
    "\n",
    "    tensor = tokenizer.texts_to_sequences(corpus)\n",
    "\n",
    "    tensor = tf.keras.preprocessing.sequence.pad_sequences(tensor, padding='post')    # 패딩\n",
    "\n",
    "    return tensor, tokenizer"
   ]
  },
  {
   "cell_type": "code",
   "execution_count": 28,
   "id": "bb7f5908",
   "metadata": {},
   "outputs": [],
   "source": [
    "kor_tensor, kor_tokenizer = tokenize(kor_corpus)\n",
    "eng_tensor, eng_tokenizer = tokenize(eng_corpus)"
   ]
  },
  {
   "cell_type": "code",
   "execution_count": 29,
   "id": "2dece8ff",
   "metadata": {},
   "outputs": [
    {
     "name": "stdout",
     "output_type": "stream",
     "text": [
      "(61489, 40) (61489, 40)\n"
     ]
    }
   ],
   "source": [
    "print(kor_tensor.shape, eng_tensor.shape)"
   ]
  },
  {
   "cell_type": "code",
   "execution_count": 30,
   "id": "a4b17e21",
   "metadata": {},
   "outputs": [
    {
     "name": "stdout",
     "output_type": "stream",
     "text": [
      "[ 2654 13490 15475    13  6866 24110    13  4262  1198  7669     5   760\n",
      "    21  1257   259    43  4481     6 13491     5 10855  1454     9     2\n",
      "     1     0     0     0     0     0     0     0     0     0     0     0\n",
      "     0     0     0     0]\n"
     ]
    }
   ],
   "source": [
    "print(kor_tensor[0])"
   ]
  },
  {
   "cell_type": "code",
   "execution_count": 31,
   "id": "1e1df826",
   "metadata": {},
   "outputs": [
    {
     "name": "stdout",
     "output_type": "stream",
     "text": [
      "[    3  2444 24983  1803     9     8   431  3593    24   656 24984  2815\n",
      "     6   393     1  8208   545   476     2     4     0     0     0     0\n",
      "     0     0     0     0     0     0     0     0     0     0     0     0\n",
      "     0     0     0     0]\n"
     ]
    }
   ],
   "source": [
    "print(eng_tensor[0])"
   ]
  },
  {
   "cell_type": "code",
   "execution_count": 32,
   "id": "cb66347e",
   "metadata": {},
   "outputs": [
    {
     "name": "stdout",
     "output_type": "stream",
     "text": [
      "한글 Vocab Size :  37898\n",
      "영어 Vocab Size :  39445\n"
     ]
    }
   ],
   "source": [
    "print('한글 Vocab Size : ', len(kor_tokenizer.index_word))\n",
    "print('영어 Vocab Size : ', len(eng_tokenizer.index_word))"
   ]
  },
  {
   "cell_type": "markdown",
   "id": "98ab19e2",
   "metadata": {},
   "source": [
    "## Step 4. 모델 설계\n",
    "### 4.1 Attention"
   ]
  },
  {
   "cell_type": "code",
   "execution_count": 33,
   "id": "4192a9b2",
   "metadata": {},
   "outputs": [
    {
     "name": "stdout",
     "output_type": "stream",
     "text": [
      "슝~\n"
     ]
    }
   ],
   "source": [
    "class BahdanauAttention(tf.keras.layers.Layer):\n",
    "    def __init__(self, units):\n",
    "        super(BahdanauAttention, self).__init__()\n",
    "        self.w_eng = tf.keras.layers.Dense(units)\n",
    "        self.w_kor = tf.keras.layers.Dense(units)\n",
    "        self.w_com = tf.keras.layers.Dense(1)\n",
    "    \n",
    "    def call(self, h_kor, h_eng):\n",
    "        h_kor = self.w_kor(h_kor)\n",
    "        h_eng = tf.expand_dims(h_eng, 1)\n",
    "        h_eng = self.w_eng(h_eng)\n",
    "\n",
    "        score = self.w_com(tf.nn.tanh(h_eng + h_kor))\n",
    "        \n",
    "        attn = tf.nn.softmax(score, axis=1)\n",
    "\n",
    "        context_vec = attn * h_kor\n",
    "        context_vec = tf.reduce_sum(context_vec, axis=1)\n",
    "\n",
    "        return context_vec, attn\n",
    "\n",
    "print(\"슝~\")"
   ]
  },
  {
   "cell_type": "markdown",
   "id": "94f10951",
   "metadata": {},
   "source": [
    "### 4.2 Encoder"
   ]
  },
  {
   "cell_type": "code",
   "execution_count": 34,
   "id": "f81c189e",
   "metadata": {},
   "outputs": [],
   "source": [
    "class Encoder(tf.keras.Model):\n",
    "    def __init__(self, vocab_size, embedding_dim, kor_units):\n",
    "        super(Encoder, self).__init__()\n",
    "        \n",
    "        self.kor_units = kor_units\n",
    "        self.embedding = tf.keras.layers.Embedding(vocab_size, embedding_dim)\n",
    "        self.gru = tf.keras.layers.GRU(kor_units,\n",
    "                                       return_sequences=True)\n",
    "        \n",
    "    def call(self, x):\n",
    "        out = self.embedding(x)\n",
    "        out = self.gru(out)\n",
    "        \n",
    "        return out"
   ]
  },
  {
   "cell_type": "markdown",
   "id": "5252d65a",
   "metadata": {},
   "source": [
    "### 4.3 Decoder"
   ]
  },
  {
   "cell_type": "code",
   "execution_count": 35,
   "id": "215aec61",
   "metadata": {},
   "outputs": [],
   "source": [
    "class Decoder(tf.keras.Model):\n",
    "    def __init__(self, vocab_size, embedding_dim, eng_units):\n",
    "        super(Decoder, self).__init__()\n",
    "        self.eng_units = eng_units\n",
    "        self.embedding = tf.keras.layers.Embedding(vocab_size, embedding_dim)\n",
    "        self.gru = tf.keras.layers.GRU(eng_units,\n",
    "                                       return_sequences=True,\n",
    "                                       return_state=True)\n",
    "        self.fc = tf.keras.layers.Dense(vocab_size)\n",
    "\n",
    "        self.attention = BahdanauAttention(self.eng_units)\n",
    "\n",
    "    def call(self, x, h_eng, kor_out):\n",
    "        context_vec, attn = self.attention(kor_out, h_eng)\n",
    "\n",
    "        out = self.embedding(x)\n",
    "        out = tf.concat([tf.expand_dims(context_vec, 1), out], axis=-1)\n",
    "        \n",
    "        out, h_eng = self.gru(out)\n",
    "        out = tf.reshape(out, (-1, out.shape[2]))\n",
    "        out = self.fc(out)\n",
    "\n",
    "        return out, h_eng, attn"
   ]
  },
  {
   "cell_type": "markdown",
   "id": "083e6387",
   "metadata": {},
   "source": [
    "### 4.4 실행"
   ]
  },
  {
   "cell_type": "code",
   "execution_count": 36,
   "id": "358fc21c",
   "metadata": {},
   "outputs": [
    {
     "name": "stdout",
     "output_type": "stream",
     "text": [
      "Encoder Output: (64, 30, 1024)\n",
      "Decoder Output: (64, 39446)\n",
      "Decoder Hidden State: (64, 1024)\n",
      "Attention: (64, 30, 1)\n"
     ]
    }
   ],
   "source": [
    "BATCH_SIZE     = 64\n",
    "SRC_VOCAB_SIZE = len(kor_tokenizer.index_word) + 1\n",
    "TGT_VOCAB_SIZE = len(eng_tokenizer.index_word) + 1\n",
    "\n",
    "units         = 1024\n",
    "embedding_dim = 512\n",
    "\n",
    "encoder = Encoder(SRC_VOCAB_SIZE, embedding_dim, units)\n",
    "decoder = Decoder(TGT_VOCAB_SIZE, embedding_dim, units)\n",
    "\n",
    "# sample input\n",
    "sequence_len = 30\n",
    "\n",
    "sample_kor = tf.random.uniform((BATCH_SIZE, sequence_len))\n",
    "sample_output = encoder(sample_kor)\n",
    "\n",
    "print ('Encoder Output:', sample_output.shape)\n",
    "\n",
    "sample_state = tf.random.uniform((BATCH_SIZE, units))\n",
    "\n",
    "sample_logits, h_eng, attn = decoder(tf.random.uniform((BATCH_SIZE, 1)),\n",
    "                                     sample_state, sample_output)\n",
    "\n",
    "print ('Decoder Output:', sample_logits.shape)\n",
    "print ('Decoder Hidden State:', h_eng.shape)\n",
    "print ('Attention:', attn.shape)"
   ]
  },
  {
   "cell_type": "markdown",
   "id": "68603351",
   "metadata": {},
   "source": [
    "## Step 5. 훈련하기\n",
    "### 5.1 Optimizer & Loss"
   ]
  },
  {
   "cell_type": "code",
   "execution_count": 37,
   "id": "bf7bd691",
   "metadata": {},
   "outputs": [
    {
     "name": "stdout",
     "output_type": "stream",
     "text": [
      "슝~\n"
     ]
    }
   ],
   "source": [
    "optimizer = tf.keras.optimizers.Adam()\n",
    "loss_object = tf.keras.losses.SparseCategoricalCrossentropy(\n",
    "    from_logits=True, reduction='none')\n",
    "\n",
    "def loss_function(real, pred):\n",
    "    mask = tf.math.logical_not(tf.math.equal(real, 0))\n",
    "    loss = loss_object(real, pred)\n",
    "    \n",
    "    mask = tf.cast(mask, dtype=loss.dtype)  # mask는 정답지에서 <PAD> 토큰을 찾아내 그 부분에 대한 Loss를 구하지 않도록 하는 역할을 함\n",
    "    loss *= mask\n",
    "    \n",
    "    return tf.reduce_mean(loss)\n",
    "\n",
    "print(\"슝~\")"
   ]
  },
  {
   "cell_type": "markdown",
   "id": "1a8cd936",
   "metadata": {},
   "source": [
    "### 5.2 train_step 구현하기"
   ]
  },
  {
   "cell_type": "code",
   "execution_count": 38,
   "id": "4b6ca2d4",
   "metadata": {},
   "outputs": [
    {
     "name": "stdout",
     "output_type": "stream",
     "text": [
      "슝~\n"
     ]
    }
   ],
   "source": [
    "@tf.function     # 해당 데코레이터는 훈련 외적인 텐서플로우 연산을 GPU에서 동작하게 해 훈련을 가속할 수 있도록 도와줌\n",
    "def train_step(src, tgt, encoder, decoder, optimizer, eng_tok):\n",
    "    bsz = src.shape[0]\n",
    "    loss = 0\n",
    "\n",
    "    with tf.GradientTape() as tape:     # 학습하며 발생한 모든 연산을 기록하는 테이프 / 모델이 각 스텝의 최종 단계에서 미분값을 구하는데 사용\n",
    "        kor_out = encoder(src)\n",
    "        h_eng = kor_out[:, -1]   # t = 0일 때, Decoder의 Hidden State는 Encoder의 Final State로 정의\n",
    "        \n",
    "        eng_src = tf.expand_dims([eng_tok.word_index['<start>']] * bsz, 1)     # Decoder에 입력으로 전달할 <start> 토큰 문장 생성\n",
    "\n",
    "        for t in range(1, tgt.shape[1]):\n",
    "            pred, h_eng, _ = decoder(eng_src, h_eng, kor_out)   # <start> 문장, kor_out, Hidden State를 기반으로 다음단어를 예측\n",
    "\n",
    "            loss += loss_function(tgt[:, t], pred)    # 예측된 단어와 정답 간의 Loss를 구함\n",
    "            eng_src = tf.expand_dims(tgt[:, t], 1)    # t = 1의 정답 단어를 다음 입력으로 사용\n",
    "        \n",
    "    batch_loss = (loss / int(tgt.shape[1]))\n",
    "\n",
    "    variables = encoder.trainable_variables + decoder.trainable_variables\n",
    "    gradients = tape.gradient(loss, variables)\n",
    "    optimizer.apply_gradients(zip(gradients, variables))\n",
    "    \n",
    "    return batch_loss\n",
    "\n",
    "print(\"슝~\")"
   ]
  },
  {
   "cell_type": "markdown",
   "id": "99264970",
   "metadata": {},
   "source": [
    "### 5.3 훈련 시작하기"
   ]
  },
  {
   "cell_type": "code",
   "execution_count": 39,
   "id": "5823b202",
   "metadata": {},
   "outputs": [
    {
     "name": "stderr",
     "output_type": "stream",
     "text": [
      "Epoch  1: 100%|██████████| 961/961 [10:52<00:00,  1.47it/s, Loss 3.7693] \n",
      "Epoch  2: 100%|██████████| 961/961 [09:56<00:00,  1.61it/s, Loss 3.1580]\n",
      "Epoch  3: 100%|██████████| 961/961 [09:58<00:00,  1.61it/s, Loss 2.8624]\n",
      "Epoch  4: 100%|██████████| 961/961 [09:59<00:00,  1.60it/s, Loss 2.5889]\n",
      "Epoch  5: 100%|██████████| 961/961 [09:59<00:00,  1.60it/s, Loss 2.3477]\n",
      "Epoch  6: 100%|██████████| 961/961 [09:59<00:00,  1.60it/s, Loss 2.1184]\n",
      "Epoch  7: 100%|██████████| 961/961 [09:59<00:00,  1.60it/s, Loss 1.8995]\n",
      "Epoch  8: 100%|██████████| 961/961 [09:59<00:00,  1.60it/s, Loss 1.7017]\n",
      "Epoch  9: 100%|██████████| 961/961 [09:59<00:00,  1.60it/s, Loss 1.5258]\n",
      "Epoch 10: 100%|██████████| 961/961 [09:59<00:00,  1.60it/s, Loss 1.3732]\n"
     ]
    }
   ],
   "source": [
    "from tqdm import tqdm    # tqdm : 훈련의 진행 과정을 한 눈에 볼 수 있게 해주는 라이브러리\n",
    "import random\n",
    "\n",
    "EPOCHS = 10\n",
    "\n",
    "for epoch in range(EPOCHS):\n",
    "    total_loss = 0\n",
    "    \n",
    "    idx_list = list(range(0, kor_tensor.shape[0], BATCH_SIZE))\n",
    "    random.shuffle(idx_list)   # 랜덤한 인덱스로 데이터를 불러와 인덱스를 섞어서 처리함.\n",
    "    t = tqdm(idx_list)    # tqdm\n",
    "    \n",
    "    # 각 미니배치를 train_step() 함수에서 학습함\n",
    "    # train_step() : 학습에 필요한 것은 모두 가져가 Loss를 계산한 후 반환하는 함수\n",
    "    for (batch, idx) in enumerate(t): \n",
    "        batch_loss = train_step(kor_tensor[idx:idx+BATCH_SIZE], \n",
    "                                eng_tensor[idx:idx+BATCH_SIZE],\n",
    "                                encoder,\n",
    "                                decoder,\n",
    "                                optimizer,\n",
    "                                eng_tokenizer)\n",
    "    \n",
    "        total_loss += batch_loss\n",
    "        \n",
    "        t.set_description_str('Epoch %2d' % (epoch + 1))    # tqdm\n",
    "        t.set_postfix_str('Loss %.4f' % (total_loss.numpy() / (batch + 1)))    # tqdm"
   ]
  },
  {
   "cell_type": "code",
   "execution_count": 40,
   "id": "4307197e",
   "metadata": {},
   "outputs": [],
   "source": [
    "def evaluate(sentence, encoder, decoder):\n",
    "    attention = np.zeros((eng_tensor.shape[-1], kor_tensor.shape[-1]))\n",
    "    \n",
    "    sentence = preprocess_sentence_kor(sentence)\n",
    "    inputs = kor_tokenizer.texts_to_sequences([sentence])\n",
    "    inputs = tf.keras.preprocessing.sequence.pad_sequences(inputs,\n",
    "                                                           maxlen=kor_tensor.shape[-1],\n",
    "                                                           padding='post')\n",
    "\n",
    "    result = ''\n",
    "\n",
    "    kor_out = encoder(inputs)\n",
    "\n",
    "    eng_hidden = kor_out[:, -1]\n",
    "    eng_input = tf.expand_dims([eng_tokenizer.word_index['<start>']], 0)\n",
    "\n",
    "    for t in range(eng_tensor.shape[-1]):\n",
    "        predictions, eng_hidden, attention_weights = decoder(eng_input,\n",
    "                                                             eng_hidden,\n",
    "                                                             kor_out)\n",
    "\n",
    "        attention_weights = tf.reshape(attention_weights, (-1, ))\n",
    "        attention[t] = attention_weights.numpy()\n",
    "\n",
    "        predicted_id = \\\n",
    "        tf.argmax(tf.math.softmax(predictions, axis=-1)[0]).numpy()\n",
    "\n",
    "        result += eng_tokenizer.index_word[predicted_id] + ' '\n",
    "\n",
    "        if eng_tokenizer.index_word[predicted_id] == '<end>':\n",
    "            return result, sentence, attention\n",
    "\n",
    "        eng_input = tf.expand_dims([predicted_id], 0)\n",
    "\n",
    "    return result, sentence, attention\n",
    "\n",
    "\n",
    "def plot_attention(attention, sentence, predicted_sentence):\n",
    "    fig = plt.figure(figsize=(10,10))\n",
    "    ax = fig.add_subplot(1, 1, 1)\n",
    "    ax.matshow(attention, cmap='viridis')\n",
    "\n",
    "    fontdict = {'fontsize': 14}\n",
    "\n",
    "    ax.set_xticklabels([''] + sentence, fontdict=fontdict, rotation=90)\n",
    "    ax.set_yticklabels([''] + predicted_sentence, fontdict=fontdict)\n",
    "\n",
    "    ax.xaxis.set_major_locator(ticker.MultipleLocator(1))\n",
    "    ax.yaxis.set_major_locator(ticker.MultipleLocator(1))\n",
    "\n",
    "    plt.show()\n",
    "\n",
    "\n",
    "def translate(sentence, encoder, decoder):\n",
    "    result, sentence, attention = evaluate(sentence, encoder, decoder)\n",
    "\n",
    "    print('Input: %s' % (sentence))\n",
    "    print('Predicted translation: {}'.format(result))\n",
    "    \n",
    "    attention = attention[:len(result.split()), :len(sentence)]\n",
    "    plot_attention(attention, sentence, result.split(' '))"
   ]
  },
  {
   "cell_type": "markdown",
   "id": "4ef86527",
   "metadata": {},
   "source": [
    "### 5.4 번역하기"
   ]
  },
  {
   "cell_type": "code",
   "execution_count": 41,
   "id": "d2eb786c",
   "metadata": {},
   "outputs": [
    {
     "name": "stderr",
     "output_type": "stream",
     "text": [
      "/tmp/ipykernel_48/2811506968.py:45: UserWarning: FixedFormatter should only be used together with FixedLocator\n",
      "  ax.set_xticklabels([''] + sentence, fontdict=fontdict, rotation=90)\n",
      "/tmp/ipykernel_48/2811506968.py:46: UserWarning: FixedFormatter should only be used together with FixedLocator\n",
      "  ax.set_yticklabels([''] + predicted_sentence, fontdict=fontdict)\n"
     ]
    },
    {
     "name": "stdout",
     "output_type": "stream",
     "text": [
      "Input: ['오바마', '는', '대통령', '이', '다', '.']\n",
      "Predicted translation: obama has a lot . <end> \n"
     ]
    },
    {
     "data": {
      "image/png": "[encoded data removed]",
      "text/plain": [
       "<Figure size 720x720 with 1 Axes>"
      ]
     },
     "metadata": {
      "image/png": {
       "height": 606,
       "width": 608
      },
      "needs_background": "light"
     },
     "output_type": "display_data"
    }
   ],
   "source": [
    "translate(\"오바마는 대통령이다.\", encoder, decoder)"
   ]
  },
  {
   "cell_type": "code",
   "execution_count": 42,
   "id": "599a0b10",
   "metadata": {},
   "outputs": [
    {
     "name": "stdout",
     "output_type": "stream",
     "text": [
      "Input: ['시민', '들', '은', '도시', '속', '에', '산다', '.']\n",
      "Predicted translation: they are in the town . <end> \n"
     ]
    },
    {
     "name": "stderr",
     "output_type": "stream",
     "text": [
      "/tmp/ipykernel_48/2811506968.py:45: UserWarning: FixedFormatter should only be used together with FixedLocator\n",
      "  ax.set_xticklabels([''] + sentence, fontdict=fontdict, rotation=90)\n",
      "/tmp/ipykernel_48/2811506968.py:46: UserWarning: FixedFormatter should only be used together with FixedLocator\n",
      "  ax.set_yticklabels([''] + predicted_sentence, fontdict=fontdict)\n"
     ]
    },
    {
     "data": {
      "image/png": "[encoded data removed]",
      "text/plain": [
       "<Figure size 720x720 with 1 Axes>"
      ]
     },
     "metadata": {
      "image/png": {
       "height": 538,
       "width": 616
      },
      "needs_background": "light"
     },
     "output_type": "display_data"
    }
   ],
   "source": [
    "translate(\"시민들은 도시 속에 산다.\", encoder, decoder)"
   ]
  },
  {
   "cell_type": "code",
   "execution_count": 43,
   "id": "187f8cee",
   "metadata": {},
   "outputs": [
    {
     "name": "stdout",
     "output_type": "stream",
     "text": [
      "Input: ['커피', '는', '필요', '없', '다', '.']\n",
      "Predicted translation: it s no more efficient than anything . <end> \n"
     ]
    },
    {
     "name": "stderr",
     "output_type": "stream",
     "text": [
      "/tmp/ipykernel_48/2811506968.py:45: UserWarning: FixedFormatter should only be used together with FixedLocator\n",
      "  ax.set_xticklabels([''] + sentence, fontdict=fontdict, rotation=90)\n",
      "/tmp/ipykernel_48/2811506968.py:46: UserWarning: FixedFormatter should only be used together with FixedLocator\n",
      "  ax.set_yticklabels([''] + predicted_sentence, fontdict=fontdict)\n"
     ]
    },
    {
     "data": {
      "image/png": "[encoded data removed]",
      "text/plain": [
       "<Figure size 720x720 with 1 Axes>"
      ]
     },
     "metadata": {
      "image/png": {
       "height": 593,
       "width": 439
      },
      "needs_background": "light"
     },
     "output_type": "display_data"
    }
   ],
   "source": [
    "translate(\"커피는 필요 없다.\", encoder, decoder)"
   ]
  },
  {
   "cell_type": "code",
   "execution_count": 44,
   "id": "1c4a36c4",
   "metadata": {},
   "outputs": [
    {
     "name": "stdout",
     "output_type": "stream",
     "text": [
      "Input: ['일곱', '명', '의', '사망자', '가', '발생', '했', '다', '.']\n",
      "Predicted translation: seven people were killed . <end> \n"
     ]
    },
    {
     "name": "stderr",
     "output_type": "stream",
     "text": [
      "/tmp/ipykernel_48/2811506968.py:45: UserWarning: FixedFormatter should only be used together with FixedLocator\n",
      "  ax.set_xticklabels([''] + sentence, fontdict=fontdict, rotation=90)\n",
      "/tmp/ipykernel_48/2811506968.py:46: UserWarning: FixedFormatter should only be used together with FixedLocator\n",
      "  ax.set_yticklabels([''] + predicted_sentence, fontdict=fontdict)\n"
     ]
    },
    {
     "data": {
      "image/png": "[encoded data removed]",
      "text/plain": [
       "<Figure size 720x720 with 1 Axes>"
      ]
     },
     "metadata": {
      "image/png": {
       "height": 434,
       "width": 622
      },
      "needs_background": "light"
     },
     "output_type": "display_data"
    }
   ],
   "source": [
    "translate(\"일곱 명의 사망자가 발생했다.\", encoder, decoder)"
   ]
  },
  {
   "cell_type": "code",
   "execution_count": 45,
   "id": "86aa30c7",
   "metadata": {},
   "outputs": [
    {
     "name": "stdout",
     "output_type": "stream",
     "text": [
      "Input: ['핫도그', '3', '개', '주', '세요', '.']\n",
      "Predicted translation: we are expected to be a lot of time . <end> \n"
     ]
    },
    {
     "name": "stderr",
     "output_type": "stream",
     "text": [
      "/tmp/ipykernel_48/2811506968.py:45: UserWarning: FixedFormatter should only be used together with FixedLocator\n",
      "  ax.set_xticklabels([''] + sentence, fontdict=fontdict, rotation=90)\n",
      "/tmp/ipykernel_48/2811506968.py:46: UserWarning: FixedFormatter should only be used together with FixedLocator\n",
      "  ax.set_yticklabels([''] + predicted_sentence, fontdict=fontdict)\n"
     ]
    },
    {
     "data": {
      "image/png": "[encoded data removed]",
      "text/plain": [
       "<Figure size 720x720 with 1 Axes>"
      ]
     },
     "metadata": {
      "image/png": {
       "height": 606,
       "width": 377
      },
      "needs_background": "light"
     },
     "output_type": "display_data"
    }
   ],
   "source": [
    "translate(\"핫도그 3개 주세요.\", encoder, decoder)"
   ]
  },
  {
   "cell_type": "code",
   "execution_count": 46,
   "id": "ded3c4ef",
   "metadata": {},
   "outputs": [
    {
     "name": "stdout",
     "output_type": "stream",
     "text": [
      "Input: ['해리포터', '는', '재밌', '다']\n",
      "Predicted translation: harry potter is more than usual <end> \n"
     ]
    },
    {
     "name": "stderr",
     "output_type": "stream",
     "text": [
      "/tmp/ipykernel_48/2811506968.py:45: UserWarning: FixedFormatter should only be used together with FixedLocator\n",
      "  ax.set_xticklabels([''] + sentence, fontdict=fontdict, rotation=90)\n",
      "/tmp/ipykernel_48/2811506968.py:46: UserWarning: FixedFormatter should only be used together with FixedLocator\n",
      "  ax.set_yticklabels([''] + predicted_sentence, fontdict=fontdict)\n"
     ]
    },
    {
     "data": {
      "image/png": "[encoded data removed]",
      "text/plain": [
       "<Figure size 720x720 with 1 Axes>"
      ]
     },
     "metadata": {
      "image/png": {
       "height": 618,
       "width": 371
      },
      "needs_background": "light"
     },
     "output_type": "display_data"
    }
   ],
   "source": [
    "translate(\"해리포터는 재밌다\", encoder, decoder)"
   ]
  },
  {
   "cell_type": "markdown",
   "id": "593d89a6",
   "metadata": {},
   "source": [
    "###### 회고 : 정규표현식을 활용해서 한국어와 영어를 텍스트 전처리하였다. 그리고 training loss가 1.3732까지 떨어지면서 성공적으로 작동하였다. 모델을 만들고 디코딩을 하였는데, 처음에는 모델의 성능이 너무 나빠서 같은 단어가 계속 반복되는 무한루프 오류에 빠졌었다. 결국 런타임을 초기화하고 다시 돌렸더니 그나마 정상적인 수준으로 되었다. 지금도 번역이 제대로 안 된 거 같지만, 그전에 비하면 만족한다."
   ]
  }
 ],
 "metadata": {
  "kernelspec": {
   "display_name": "Python 3 (ipykernel)",
   "language": "python",
   "name": "python3"
  },
  "language_info": {
   "codemirror_mode": {
    "name": "ipython",
    "version": 3
   },
   "file_extension": ".py",
   "mimetype": "text/x-python",
   "name": "python",
   "nbconvert_exporter": "python",
   "pygments_lexer": "ipython3",
   "version": "3.9.7"
  }
 },
 "nbformat": 4,
 "nbformat_minor": 5
}
