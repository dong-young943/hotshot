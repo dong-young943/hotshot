{
 "cells": [
  {
   "cell_type": "markdown",
   "id": "ef747b29",
   "metadata": {},
   "source": [
    "# 6. 임베딩 내 편향성 알아보기\n",
    "## Step 0. 라이브러리 불러오기"
   ]
  },
  {
   "cell_type": "code",
   "execution_count": 1,
   "id": "511d29b7",
   "metadata": {},
   "outputs": [
    {
     "name": "stdout",
     "output_type": "stream",
     "text": [
      "0.5.2\n",
      "4.1.2\n",
      "1.0\n",
      "0.11.2\n"
     ]
    }
   ],
   "source": [
    "import konlpy\n",
    "import gensim\n",
    "import sklearn\n",
    "import seaborn\n",
    "import matplotlib as plt\n",
    "import matplotlib.pyplot as plt\n",
    "\n",
    "print(konlpy.__version__)\n",
    "print(gensim.__version__)\n",
    "print(sklearn.__version__)\n",
    "print(seaborn.__version__)"
   ]
  },
  {
   "cell_type": "markdown",
   "id": "f74a7dbe",
   "metadata": {},
   "source": [
    "## Step 1. 형태소 분석기를 이용하여 품사가 명사인 경우 해당 단어를 추출하기"
   ]
  },
  {
   "cell_type": "code",
   "execution_count": 2,
   "id": "ee456d69",
   "metadata": {},
   "outputs": [
    {
     "name": "stdout",
     "output_type": "stream",
     "text": [
      "사운드 엔지니어 상우(유지태 분)는 치매에 걸린 할머니(백성희 분)와\n",
      " 젊은 시절 상처한 한 아버지(박인환 분), 고모(신신애 분)와 함께 살고 있다.\n",
      " 어느 겨울 그는 지방 방송국 라디오 PD 은수(이영애 분)를 만난다.\n",
      " 자연의 소리를 채집해 틀어주는 라디오 프로그램을 준비하는 은수는 상우와 녹음 여행을 떠난다.\n",
      " 자연스레 가까워지는 두 사람은 어느 날, 은수의 아파트에서 밤을 보낸다.\n",
      " 너무 쉽게 사랑에 빠진 두 사람... 상우는 주체할 수 없을 정도로 그녀에게 빨려든다.\n",
      " 그러나 겨울에 만난 두 사람의 관계는 봄을 지나 여름을 맞이하면서 삐걱거린다.\n",
      " 이혼 경험이 있는 은수는 상우에게 결혼할 생각이 없다며 부담스러운 표정을 내비친다.\n",
      " \"어떻게 사랑이 변하니?...\"라고 묻는 상우에게 은수는 그저 \"헤어져\" 라고 단호하게 말한다.\n",
      " 영원히 변할 것 같지 않던 사랑이 변하고, 그 사실을 받아들이지 못하는 상우는 어찌 할 바를 모른다.\n",
      " 은수를 잊지 못하는 상우는 미련과 집착의 감정을 이기지 못하고 서울과 강릉을 오간다.\n",
      "유사 이래 연령, 성별, 빈부의 차이와 정치적인 입장을 불문하고 일거에 국민을 통합해 온 '애국심'이라는 성역에 일침을 가하는 다큐멘터리. 재작년 전국 민족민주 유가족협의회의 장기농성을 다룬 인상적인 다큐멘터리 <민들레>를 만들었던 독립영화집단 '빨간 눈사람'이 우리 사회 구석구석을 발빠르게 돌아다니며 애국심과 민족주의가 강요되는 현장을 발굴하여 카메라에 담았다. 박홍 서강대 명예총장, 이도형 '한국논단' 발행인, 축구해설자 신문선, 홍세화, 박노해 등 사회 각계의 '스타'들이 등장해 저마다의 확고한 신념을 성토한다. 감독 이경순과 최하동하는 이 작품을 위해 3년간 백여 명을 인터뷰했다고 한다. 2001 올해의 독립영화상 수상.\n",
      " 민족과 국가란 공동체에서 부단히 권력과 부를 얻는 자, 나아가 민족과 국가란 공동체에서 얻은 신분과 부귀를 영원히 그의 자손에게 대물림하려는 자, 그래서 민족과 국가란 공동체를 부단히 유지해야만 하는 자, 따라서 민족과 국가란 공동체의 당위성과 개인의 가치를 초월하는 그 존엄성을 끝도 없이 창조하고 되뇌어야 하는 자, 종국에는 민족과 국가란 공동체에 속해 있다고 태내에서부터 세뇌된 모든 이들의 삶과 행동에서 영원히 자기복제되는 순환의 고리, 영생하는 애국의 원동력은 그 순환의 골에서 온다.\n",
      "엽기적인 살인사건이 발생한 장소를 관광하는 투어팀. 그 팀에서 관광객들은 살인사건과 관련하여 히스테리컬한 반응을 보이는데 과연 이들의 정체는? (Tourists see whrer a murder take place. They respond hysterically to the murder…what are they?)\n",
      " 제46회 발라돌리드 국제영화제 (2001, 스페인)\n",
      "착하지만 엉뚱한 태희(배두나 분), 예쁜 깍쟁이 혜주(이요원 분), 그림을 잘 그리는 지영(옥지영 분), 명랑한 쌍둥이 비류(이은실 분)와 온조(이은주 분)는 단짝친구들. 늘 함께였던 그들이지만 스무 살이 되면서 길이 달라진다. 증권회사에 입사한 혜주는 성공한 커리어우먼의 야심을 키우고 미술에 재능이 있는 지영은 유학을 꿈꾼다. 한편 태희는 봉사활동에서 알게 된 뇌성마비 시인을 좋아하는데...\n",
      "  어느 날 지영이 길 잃은 새끼 고양이 티티를 만남면서 스무 살 그녀들의 삶에 고양이 한 마리가 끼어들게 된다. 혼자 있길 좋아하고, 쉽게 마음을 열지 않는 신비로운 동물 고양이. 고양이를 닮은 스무 살 그녀들. 고양이 티티와 함께 한 시간동안 삶은 예상못한 방향으로 흘러가지만 마침내 그녀들만의 해결책을 찾게 되는데... 사랑스런 몽상가 태희, 아름다운 야심가 혜주, 신비로운 아웃사이더 지영. 마지막으로 고양이를 부탁받은 사람은 누구일까?\n",
      "인도 등 아시아 식민지에 처음 발을 디딘 뒤 여행하고 “경영”한 이들은 과연 누구였을까? 과거의 이미지들은, 이민과 인종 문제, ‘오리엔탈리즘’이 격렬히 충돌하고 있는 현재와 강력하게 공명한다.\n",
      " [제19회 인디다큐페스티발]\n",
      "홀로 살아가는 미국 할머니와 한국 할머니의 이야기. 공원에서 가끔 마주치게 되는 그들은 비록 언어 소통의 어려움을 겪지만 시간이 흘러감에 따라 서로 가까워져 그들의 외로움과 우정을 공유하게 된다. 겨울이 지나고 봄이 왔을 때 길가의 민들레 홀씨는 삶의 이치를 말해주듯 한 할머니의 주위를 맴돈다. (Two elderly widows, an American and a Korean, frequent the same park in Philadelphia and attempt a friendship, though the Korean widow speaks no English. Driven by loneliness and a spark of hope, they persevere within the limits of body language, and the outcome poses a question of life as fundamental as a flower.)\n"
     ]
    }
   ],
   "source": [
    "import os\n",
    "\n",
    "with open(os.getenv('HOME')+'/aiffel/weat/synopsis.txt', 'r') as file:\n",
    "    for i in range(20):\n",
    "        print(file.readline(), end='')"
   ]
  },
  {
   "cell_type": "code",
   "execution_count": 3,
   "id": "f90fcec9",
   "metadata": {},
   "outputs": [
    {
     "name": "stdout",
     "output_type": "stream",
     "text": [
      "슝~\n"
     ]
    }
   ],
   "source": [
    "# ⏳ 시간이 꽤나 걸림.....\n",
    "\n",
    "from konlpy.tag import Okt\n",
    "\n",
    "okt = Okt()\n",
    "tokenized = []\n",
    "\n",
    "with open(os.getenv('HOME')+'/aiffel/weat/synopsis.txt', 'r') as file:\n",
    "    while True:\n",
    "        line = file.readline()\n",
    "        if not line: break\n",
    "        words = okt.pos(line, stem=True, norm=True)\n",
    "        res = []\n",
    "        for w in words:\n",
    "            if w[1] in [\"Noun\"]:      # \"Adjective\", \"Verb\" 등을 포함할 수도 있습니다.\n",
    "                res.append(w[0])    # 명사일 때만 tokenized 에 저장하게 됩니다. \n",
    "        tokenized.append(res)\n",
    "\n",
    "print(\"슝~\")"
   ]
  },
  {
   "cell_type": "code",
   "execution_count": 4,
   "id": "360a2458",
   "metadata": {},
   "outputs": [
    {
     "name": "stdout",
     "output_type": "stream",
     "text": [
      "71156\n"
     ]
    }
   ],
   "source": [
    "print(len(tokenized))"
   ]
  },
  {
   "cell_type": "markdown",
   "id": "86b400e4",
   "metadata": {},
   "source": [
    "## Step 2. 추출된 결과로 embedding model 만들기"
   ]
  },
  {
   "cell_type": "code",
   "execution_count": 5,
   "id": "df87e03f",
   "metadata": {},
   "outputs": [],
   "source": [
    "from gensim.models import Word2Vec\n",
    "\n",
    "model = Word2Vec(tokenized, vector_size=100, window=5, min_count=3, sg=0)"
   ]
  },
  {
   "cell_type": "code",
   "execution_count": 6,
   "id": "8ce6eefb",
   "metadata": {},
   "outputs": [
    {
     "data": {
      "text/plain": [
       "[('작품', 0.8865927457809448),\n",
       " ('다큐멘터리', 0.8566116690635681),\n",
       " ('드라마', 0.8198196291923523),\n",
       " ('영화로', 0.8015280365943909),\n",
       " ('형식', 0.783150315284729),\n",
       " ('코미디', 0.7815341353416443),\n",
       " ('블랙유머', 0.7714214324951172),\n",
       " ('스토리', 0.7675023674964905),\n",
       " ('소재', 0.7654954195022583),\n",
       " ('주제', 0.7643876671791077)]"
      ]
     },
     "execution_count": 6,
     "metadata": {},
     "output_type": "execute_result"
    }
   ],
   "source": [
    "model.wv.most_similar(positive=['영화'])"
   ]
  },
  {
   "cell_type": "code",
   "execution_count": 7,
   "id": "0e490474",
   "metadata": {},
   "outputs": [
    {
     "data": {
      "text/plain": [
       "[('행복', 0.7166273593902588),\n",
       " ('애정', 0.7054958939552307),\n",
       " ('첫사랑', 0.6928143501281738),\n",
       " ('연애', 0.6908572912216187),\n",
       " ('만남', 0.6892435550689697),\n",
       " ('아르튬', 0.685911238193512),\n",
       " ('진심', 0.6847829818725586),\n",
       " ('이별', 0.68364417552948),\n",
       " ('만인', 0.6768924593925476),\n",
       " ('가슴', 0.6768292188644409)]"
      ]
     },
     "execution_count": 7,
     "metadata": {},
     "output_type": "execute_result"
    }
   ],
   "source": [
    "model.wv.most_similar(positive=['사랑'])"
   ]
  },
  {
   "cell_type": "code",
   "execution_count": 8,
   "id": "c118a828",
   "metadata": {},
   "outputs": [
    {
     "data": {
      "text/plain": [
       "[('연극', 0.8684383630752563),\n",
       " ('배우', 0.8578201532363892),\n",
       " ('시나리오', 0.843828558921814),\n",
       " ('출연', 0.841179609298706),\n",
       " ('니웨', 0.8371821045875549),\n",
       " ('김태용', 0.8216798901557922),\n",
       " ('스타일', 0.808588981628418),\n",
       " ('인상', 0.8065677285194397),\n",
       " ('군더더기', 0.8048309087753296),\n",
       " ('조연', 0.799900233745575)]"
      ]
     },
     "execution_count": 8,
     "metadata": {},
     "output_type": "execute_result"
    }
   ],
   "source": [
    "model.wv.most_similar(positive=['연기'])"
   ]
  },
  {
   "cell_type": "markdown",
   "id": "11998ebf",
   "metadata": {},
   "source": [
    "## Step 3. TF-IDF로 해당 데이터를 가장 잘 표현하는 단어 셋 만들기\n",
    "### 3.1 영화 구분 데이터의 단어 셋"
   ]
  },
  {
   "cell_type": "code",
   "execution_count": 9,
   "id": "285319ef",
   "metadata": {},
   "outputs": [],
   "source": [
    "import os\n",
    "from sklearn.feature_extraction.text import TfidfVectorizer\n",
    "import numpy as np"
   ]
  },
  {
   "cell_type": "code",
   "execution_count": 10,
   "id": "a9a13e0d",
   "metadata": {},
   "outputs": [],
   "source": [
    "art_txt = 'synopsis_art.txt'\n",
    "gen_txt = 'synopsis_gen.txt'"
   ]
  },
  {
   "cell_type": "code",
   "execution_count": 11,
   "id": "6b36e5b2",
   "metadata": {},
   "outputs": [
    {
     "name": "stdout",
     "output_type": "stream",
     "text": [
      "슝~\n"
     ]
    }
   ],
   "source": [
    "def read_token(file_name):\n",
    "    okt = Okt()\n",
    "    result = []\n",
    "    with open(os.getenv('HOME')+'/aiffel/weat/'+file_name, 'r') as fread: \n",
    "        print(file_name, '파일을 읽고 있습니다.')\n",
    "        while True:\n",
    "            line = fread.readline() \n",
    "            if not line: break \n",
    "            tokenlist = okt.pos(line, stem=True, norm=True) \n",
    "            for word in tokenlist:\n",
    "                if word[1] in [\"Noun\"]:#, \"Adjective\", \"Verb\"]:\n",
    "                    result.append((word[0])) \n",
    "    return ' '.join(result)\n",
    "\n",
    "print(\"슝~\")"
   ]
  },
  {
   "cell_type": "code",
   "execution_count": 12,
   "id": "f7a2b583",
   "metadata": {},
   "outputs": [
    {
     "name": "stdout",
     "output_type": "stream",
     "text": [
      "synopsis_art.txt 파일을 읽고 있습니다.\n",
      "synopsis_gen.txt 파일을 읽고 있습니다.\n"
     ]
    }
   ],
   "source": [
    "# ⏳ 시간이 꽤나 걸림.....222\n",
    "art = read_token(art_txt)\n",
    "gen = read_token(gen_txt)"
   ]
  },
  {
   "cell_type": "code",
   "execution_count": 13,
   "id": "84416cf2",
   "metadata": {},
   "outputs": [
    {
     "data": {
      "text/plain": [
       "'사운드'"
      ]
     },
     "execution_count": 13,
     "metadata": {},
     "output_type": "execute_result"
    }
   ],
   "source": [
    "art[:3]"
   ]
  },
  {
   "cell_type": "code",
   "execution_count": 14,
   "id": "fa08d0cd",
   "metadata": {},
   "outputs": [
    {
     "data": {
      "text/plain": [
       "'유사 '"
      ]
     },
     "execution_count": 14,
     "metadata": {},
     "output_type": "execute_result"
    }
   ],
   "source": [
    "gen[:3]"
   ]
  },
  {
   "cell_type": "code",
   "execution_count": 15,
   "id": "1ec25d6b",
   "metadata": {},
   "outputs": [
    {
     "name": "stdout",
     "output_type": "stream",
     "text": [
      "(2, 41082)\n"
     ]
    }
   ],
   "source": [
    "vectorizer = TfidfVectorizer()\n",
    "X = vectorizer.fit_transform([art, gen])\n",
    "\n",
    "print(X.shape)"
   ]
  },
  {
   "cell_type": "code",
   "execution_count": 16,
   "id": "b869cc98",
   "metadata": {},
   "outputs": [
    {
     "name": "stdout",
     "output_type": "stream",
     "text": [
      "23976\n",
      "영화\n"
     ]
    },
    {
     "name": "stderr",
     "output_type": "stream",
     "text": [
      "/opt/conda/lib/python3.9/site-packages/sklearn/utils/deprecation.py:87: FutureWarning: Function get_feature_names is deprecated; get_feature_names is deprecated in 1.0 and will be removed in 1.2. Please use get_feature_names_out instead.\n",
      "  warnings.warn(msg, category=FutureWarning)\n"
     ]
    }
   ],
   "source": [
    "print(vectorizer.vocabulary_['영화'])\n",
    "print(vectorizer.get_feature_names()[23976])"
   ]
  },
  {
   "cell_type": "code",
   "execution_count": 17,
   "id": "299c1973",
   "metadata": {},
   "outputs": [
    {
     "name": "stdout",
     "output_type": "stream",
     "text": [
      "예술영화를 대표하는 단어들:\n",
      "그녀, 자신, 시작, 위해, 사랑, 사람, 영화, 친구, 남자, 가족, 이야기, 마을, 사건, 마음, 세상, 아버지, 아이, 엄마, 모든, 여자, 대한, 서로, 과연, 다시, 시간, 아들, 소녀, 아내, 다른, 사이, 영화제, 세계, 사실, 하나, 점점, 남편, 감독, 여행, 인생, 발견, 모두, 순간, 우리, 가장, 마지막, 생활, 아빠, 모습, 통해, 죽음, 기억, 비밀, 학교, 음악, 한편, 소년, 생각, 도시, 명의, 사고, 결혼, 전쟁, 때문, 위기, 이제, 최고, 이자, 과거, 일상, 경찰, 상황, 간다, 미국, 결심, 운명, 현실, 관계, 지금, 단편, 여인, 하루, 이름, 이후, 준비, 인간, 감정, 만난, 국제, 처음, 충격, 살인, 누구, 동안, 존재, 그린, 어머니, 연인, 계속, 동생, 작품, \n",
      "\n",
      "일반영화를 대표하는 단어들:\n",
      "자신, 그녀, 영화제, 위해, 사람, 시작, 국제, 영화, 친구, 사랑, 남자, 이야기, 대한, 서울, 여자, 사건, 남편, 아이, 가족, 아버지, 다른, 마을, 시간, 엄마, 아들, 모든, 단편, 마음, 사실, 다시, 세계, 모습, 작품, 통해, 생각, 서로, 세상, 발견, 감독, 아내, 관계, 소녀, 사이, 하나, 우리, 애니메이션, 때문, 여성, 죽음, 과연, 점점, 인간, 생활, 한편, 결혼, 상황, 모두, 기억, 명의, 소년, 여행, 가장, 간다, 순간, 이제, 도시, 비밀, 학교, 과거, 가지, 이자, 경찰, 마지막, 미국, 동안, 전쟁, 주인공, 대해, 존재, 현실, 연출, 사고, 살인, 일상, 어머니, 계속, 사회, 인생, 다큐멘터리, 부문, 섹스, 최고, 바로, 동생, 의도, 하루, 위기, 계획, 정체, 한국, "
     ]
    }
   ],
   "source": [
    "m1 = X[0].tocoo()   # art를 TF-IDF로 표현한 sparse matrix를 가져옵니다. \n",
    "m2 = X[1].tocoo()   # gen을 TF-IDF로 표현한 sparse matrix를 가져옵니다. \n",
    "\n",
    "w1 = [[i, j] for i, j in zip(m1.col, m1.data)]\n",
    "w2 = [[i, j] for i, j in zip(m2.col, m2.data)]\n",
    "\n",
    "w1.sort(key=lambda x: x[1], reverse=True)   #art를 구성하는 단어들을 TF-IDF가 높은 순으로 정렬합니다. \n",
    "w2.sort(key=lambda x: x[1], reverse=True)   #gen을 구성하는 단어들을 TF-IDF가 높은 순으로 정렬합니다. \n",
    "\n",
    "print('예술영화를 대표하는 단어들:')\n",
    "for i in range(100):\n",
    "    print(vectorizer.get_feature_names()[w1[i][0]], end=', ')\n",
    "\n",
    "print('\\n')\n",
    "    \n",
    "print('일반영화를 대표하는 단어들:')\n",
    "for i in range(100):\n",
    "    print(vectorizer.get_feature_names()[w2[i][0]], end=', ')"
   ]
  },
  {
   "cell_type": "code",
   "execution_count": 18,
   "id": "a43f0aa8",
   "metadata": {},
   "outputs": [],
   "source": [
    "n = 15\n",
    "w1_, w2_ = [], []\n",
    "for i in range(100):\n",
    "    w1_.append(vectorizer.get_feature_names()[w1[i][0]])\n",
    "    w2_.append(vectorizer.get_feature_names()[w2[i][0]])\n",
    "\n",
    "# w1에만 있고 w2에는 없는, 예술영화를 잘 대표하는 단어를 15개 추출한다.\n",
    "target_art, target_gen = [], []\n",
    "for i in range(100):\n",
    "    if (w1_[i] not in w2_) and (w1_[i] in model.wv): target_art.append(w1_[i])\n",
    "    if len(target_art) == n: break \n",
    "\n",
    "# w2에만 있고 w1에는 없는, 일반영화를 잘 대표하는 단어를 15개 추출한다.\n",
    "for i in range(100):\n",
    "    if (w2_[i] not in w1_) and (w2_[i] in model.wv): target_gen.append(w2_[i])\n",
    "    if len(target_gen) == n: break"
   ]
  },
  {
   "cell_type": "code",
   "execution_count": 19,
   "id": "d5d84b0f",
   "metadata": {},
   "outputs": [
    {
     "name": "stdout",
     "output_type": "stream",
     "text": [
      "['아빠', '음악', '결심', '운명', '지금', '여인', '이름', '이후', '준비', '감정', '만난', '처음', '충격', '누구', '그린']\n"
     ]
    }
   ],
   "source": [
    "print(target_art)"
   ]
  },
  {
   "cell_type": "code",
   "execution_count": 20,
   "id": "cc5203da",
   "metadata": {},
   "outputs": [
    {
     "name": "stdout",
     "output_type": "stream",
     "text": [
      "['서울', '애니메이션', '여성', '가지', '주인공', '대해', '연출', '사회', '다큐멘터리', '부문', '섹스', '바로', '의도', '계획', '정체']\n"
     ]
    }
   ],
   "source": [
    "print(target_gen)"
   ]
  },
  {
   "cell_type": "markdown",
   "id": "0a4881ed",
   "metadata": {},
   "source": [
    "## 3.2 영화 장르 데이터의 단어 셋"
   ]
  },
  {
   "cell_type": "code",
   "execution_count": 21,
   "id": "6156ea71",
   "metadata": {},
   "outputs": [],
   "source": [
    "genre_txt = ['synopsis_SF.txt', 'synopsis_family.txt', 'synopsis_show.txt', 'synopsis_horror.txt', 'synopsis_etc.txt', \n",
    "             'synopsis_documentary.txt', 'synopsis_drama.txt', 'synopsis_romance.txt', 'synopsis_musical.txt', \n",
    "             'synopsis_mystery.txt', 'synopsis_crime.txt', 'synopsis_historical.txt', 'synopsis_western.txt', \n",
    "             'synopsis_adult.txt', 'synopsis_thriller.txt', 'synopsis_animation.txt', 'synopsis_action.txt', \n",
    "             'synopsis_adventure.txt', 'synopsis_war.txt', 'synopsis_comedy.txt', 'synopsis_fantasy.txt']\n",
    "genre_name = ['SF', '가족', '공연', '공포(호러)', '기타', '다큐멘터리', '드라마', '멜로로맨스', '뮤지컬', '미스터리', '범죄', '사극', '서부극(웨스턴)',\n",
    "         '성인물(에로)', '스릴러', '애니메이션', '액션', '어드벤처', '전쟁', '코미디', '판타지']"
   ]
  },
  {
   "cell_type": "code",
   "execution_count": 22,
   "id": "3c3c2524",
   "metadata": {},
   "outputs": [
    {
     "name": "stdout",
     "output_type": "stream",
     "text": [
      "synopsis_SF.txt 파일을 읽고 있습니다.\n",
      "synopsis_family.txt 파일을 읽고 있습니다.\n",
      "synopsis_show.txt 파일을 읽고 있습니다.\n",
      "synopsis_horror.txt 파일을 읽고 있습니다.\n",
      "synopsis_etc.txt 파일을 읽고 있습니다.\n",
      "synopsis_documentary.txt 파일을 읽고 있습니다.\n",
      "synopsis_drama.txt 파일을 읽고 있습니다.\n",
      "synopsis_romance.txt 파일을 읽고 있습니다.\n",
      "synopsis_musical.txt 파일을 읽고 있습니다.\n",
      "synopsis_mystery.txt 파일을 읽고 있습니다.\n",
      "synopsis_crime.txt 파일을 읽고 있습니다.\n",
      "synopsis_historical.txt 파일을 읽고 있습니다.\n",
      "synopsis_western.txt 파일을 읽고 있습니다.\n",
      "synopsis_adult.txt 파일을 읽고 있습니다.\n",
      "synopsis_thriller.txt 파일을 읽고 있습니다.\n",
      "synopsis_animation.txt 파일을 읽고 있습니다.\n",
      "synopsis_action.txt 파일을 읽고 있습니다.\n",
      "synopsis_adventure.txt 파일을 읽고 있습니다.\n",
      "synopsis_war.txt 파일을 읽고 있습니다.\n",
      "synopsis_comedy.txt 파일을 읽고 있습니다.\n",
      "synopsis_fantasy.txt 파일을 읽고 있습니다.\n"
     ]
    }
   ],
   "source": [
    "# ⏳ 시간이 꽤나 걸림.....333\n",
    "genre = []\n",
    "for file_name in genre_txt:\n",
    "    genre.append(read_token(file_name))"
   ]
  },
  {
   "cell_type": "code",
   "execution_count": 23,
   "id": "4b8c1dc4",
   "metadata": {},
   "outputs": [
    {
     "name": "stdout",
     "output_type": "stream",
     "text": [
      "(21, 42191)\n"
     ]
    }
   ],
   "source": [
    "vectorizer = TfidfVectorizer()\n",
    "X = vectorizer.fit_transform(genre)\n",
    "\n",
    "print(X.shape)"
   ]
  },
  {
   "cell_type": "code",
   "execution_count": 24,
   "id": "d65fce06",
   "metadata": {},
   "outputs": [
    {
     "name": "stdout",
     "output_type": "stream",
     "text": [
      "SF: 위해, 자신, 지구, 시작, 사람, 인류, 인간, 미래, 우주, 그녀, 로봇, 세계, 모든, 박사, 우주선, \n",
      "가족: 엄마, 아빠, 가족, 영화제, 자신, 위해, 친구, 아주르, 아버지, 시작, 그녀, 아들, 마을, 국제, 낙타, \n",
      "공연: 오페라, 사랑, 토스카, 실황, 올레, 자신, 카바, 그녀, 공연, 오텔로, 리골레토, 백작, 프레, 베르디, 위해, \n",
      "공포(호러): 시작, 위해, 사람, 자신, 친구, 그녀, 사건, 공포, 발견, 죽음, 마을, 가족, 악령, 남자, 좀비, \n",
      "기타: 영화제, 국제, 서울, 단편, 영화, 자신, 사람, 이야기, 그녀, 남자, 위해, 시작, 사랑, 뉴미디어, 페스티벌, \n",
      "다큐멘터리: 영화제, 영화, 다큐, 국제, 다큐멘터리, 사람, 이야기, 대한, 자신, 감독, 위해, 서울, 우리, 시작, 세계, \n",
      "드라마: 자신, 영화제, 그녀, 사람, 사랑, 영화, 위해, 시작, 국제, 남자, 친구, 이야기, 엄마, 여자, 아버지, \n",
      "멜로로맨스: 그녀, 사랑, 자신, 시작, 남편, 남자, 여자, 사람, 친구, 섹스, 위해, 마음, 결혼, 서로, 아내, \n",
      "뮤지컬: 뮤지컬, 사랑, 에스메랄다, 그녀, 음악, 충무로, 모차르트, 영화, 토스카, 자신, 니웨, 카바, 영화제, 바흐, 페뷔스, \n",
      "미스터리: 사건, 그녀, 시작, 자신, 위해, 사람, 발견, 사고, 진실, 죽음, 기억, 살인, 친구, 아내, 남자, \n",
      "범죄: 사건, 위해, 자신, 경찰, 시작, 그녀, 범죄, 조직, 살인, 사람, 마약, 형사, 남자, 모든, 살해, \n",
      "사극: 조선, 위해, 시작, 신기전, 사랑, 자신, 아가멤논, 황제, 그녀, 루안, 최고, 운명, 사람, 하선, 전쟁, \n",
      "서부극(웨스턴): 서부, 보안관, 위해, 벌린, 카우보이, 그레이프바인, 헨리, 마을, 자신, 개릿, 아이, 시작, 무법자, 프린트, 마적, \n",
      "성인물(에로): 그녀, 남편, 마사지, 자신, 섹스, 관계, 영화, 정사, 남자, 위해, 시작, 여자, 유부녀, 마음, 사랑, \n",
      "스릴러: 자신, 그녀, 사건, 시작, 위해, 사람, 살인, 남자, 발견, 아내, 경찰, 친구, 모든, 사실, 살해, \n",
      "애니메이션: 애니메이션, 국제, 영화제, 친구, 인디애니페스트, 위해, 자신, 시작, 사람, 페스티벌, 서울, 이야기, 아이, 마을, 소녀, \n",
      "액션: 위해, 자신, 시작, 조직, 사건, 사람, 그녀, 경찰, 전쟁, 모든, 목숨, 사실, 친구, 가족, 요원, \n",
      "어드벤처: 위해, 자신, 시작, 친구, 마을, 아버지, 영화, 아이, 사람, 여행, 세계, 앤트, 세상, 가족, 모험, \n",
      "전쟁: 전쟁, 독일군, 전투, 위해, 작전, 시작, 부대, 윈터스, 독일, 연합군, 미군, 임무, 자신, 사람, 나치, \n",
      "코미디: 그녀, 자신, 시작, 위해, 사랑, 사람, 친구, 영화, 남자, 여자, 영화제, 가족, 과연, 마을, 사건, \n",
      "판타지: 자신, 그녀, 시작, 위해, 사람, 사랑, 요괴, 영화제, 이야기, 영화, 소녀, 남자, 인간, 세상, 마을, \n"
     ]
    }
   ],
   "source": [
    "m = [X[i].tocoo() for i in range(X.shape[0])]\n",
    "\n",
    "w = [[[i, j] for i, j in zip(mm.col, mm.data)] for mm in m]\n",
    "\n",
    "for i in range(len(w)):\n",
    "    w[i].sort(key=lambda x: x[1], reverse=True)\n",
    "attributes = []\n",
    "for i in range(len(w)):\n",
    "    print(genre_name[i], end=': ')\n",
    "    attr = []\n",
    "    j = 0\n",
    "    while (len(attr) < 15):\n",
    "        if vectorizer.get_feature_names()[w[i][j][0]] in model.wv:\n",
    "            attr.append(vectorizer.get_feature_names()[w[i][j][0]])\n",
    "            print(vectorizer.get_feature_names()[w[i][j][0]], end=', ')\n",
    "        j += 1\n",
    "    attributes.append(attr)\n",
    "    print()"
   ]
  },
  {
   "cell_type": "markdown",
   "id": "426a1ae9",
   "metadata": {},
   "source": [
    "## Step 4. WEAT score 계산과 시각화"
   ]
  },
  {
   "cell_type": "code",
   "execution_count": 25,
   "id": "5c6caf75",
   "metadata": {},
   "outputs": [
    {
     "name": "stdout",
     "output_type": "stream",
     "text": [
      "슝~\n"
     ]
    }
   ],
   "source": [
    "import numpy as np\n",
    "from numpy import dot\n",
    "from numpy.linalg import norm \n",
    "\n",
    "print(\"슝~\")"
   ]
  },
  {
   "cell_type": "code",
   "execution_count": 26,
   "id": "770c1f34",
   "metadata": {},
   "outputs": [],
   "source": [
    "def cos_sim(i, j):\n",
    "    return dot(i, j.T)/(norm(i)*norm(j))"
   ]
  },
  {
   "cell_type": "code",
   "execution_count": 27,
   "id": "f6027d76",
   "metadata": {},
   "outputs": [],
   "source": [
    "def s(w, A, B):\n",
    "    c_a = cos_sim(w, A)\n",
    "    c_b = cos_sim(w, B)\n",
    "    mean_A = np.mean(c_a, axis=-1)\n",
    "    mean_B = np.mean(c_b, axis=-1)\n",
    "    return mean_A - mean_B  #, c_a, c_b"
   ]
  },
  {
   "cell_type": "code",
   "execution_count": 28,
   "id": "42805fb8",
   "metadata": {},
   "outputs": [],
   "source": [
    "def weat_score(X, Y, A, B):\n",
    "    \n",
    "    s_X = s(X, A, B)\n",
    "    s_Y = s(Y, A, B)\n",
    "\n",
    "    mean_X = np.mean(s_X)\n",
    "    mean_Y = np.mean(s_Y)\n",
    "    \n",
    "    std_dev = np.std(np.concatenate([s_X, s_Y], axis=0))\n",
    "    \n",
    "    return  (mean_X-mean_Y)/std_dev"
   ]
  },
  {
   "cell_type": "code",
   "execution_count": 29,
   "id": "ebf0e9fd",
   "metadata": {},
   "outputs": [
    {
     "data": {
      "text/plain": [
       "[[0, 0, 0, 0, 0, 0, 0, 0, 0, 0, 0, 0, 0, 0, 0, 0, 0, 0, 0, 0, 0],\n",
       " [0, 0, 0, 0, 0, 0, 0, 0, 0, 0, 0, 0, 0, 0, 0, 0, 0, 0, 0, 0, 0],\n",
       " [0, 0, 0, 0, 0, 0, 0, 0, 0, 0, 0, 0, 0, 0, 0, 0, 0, 0, 0, 0, 0],\n",
       " [0, 0, 0, 0, 0, 0, 0, 0, 0, 0, 0, 0, 0, 0, 0, 0, 0, 0, 0, 0, 0],\n",
       " [0, 0, 0, 0, 0, 0, 0, 0, 0, 0, 0, 0, 0, 0, 0, 0, 0, 0, 0, 0, 0],\n",
       " [0, 0, 0, 0, 0, 0, 0, 0, 0, 0, 0, 0, 0, 0, 0, 0, 0, 0, 0, 0, 0],\n",
       " [0, 0, 0, 0, 0, 0, 0, 0, 0, 0, 0, 0, 0, 0, 0, 0, 0, 0, 0, 0, 0],\n",
       " [0, 0, 0, 0, 0, 0, 0, 0, 0, 0, 0, 0, 0, 0, 0, 0, 0, 0, 0, 0, 0],\n",
       " [0, 0, 0, 0, 0, 0, 0, 0, 0, 0, 0, 0, 0, 0, 0, 0, 0, 0, 0, 0, 0],\n",
       " [0, 0, 0, 0, 0, 0, 0, 0, 0, 0, 0, 0, 0, 0, 0, 0, 0, 0, 0, 0, 0],\n",
       " [0, 0, 0, 0, 0, 0, 0, 0, 0, 0, 0, 0, 0, 0, 0, 0, 0, 0, 0, 0, 0],\n",
       " [0, 0, 0, 0, 0, 0, 0, 0, 0, 0, 0, 0, 0, 0, 0, 0, 0, 0, 0, 0, 0],\n",
       " [0, 0, 0, 0, 0, 0, 0, 0, 0, 0, 0, 0, 0, 0, 0, 0, 0, 0, 0, 0, 0],\n",
       " [0, 0, 0, 0, 0, 0, 0, 0, 0, 0, 0, 0, 0, 0, 0, 0, 0, 0, 0, 0, 0],\n",
       " [0, 0, 0, 0, 0, 0, 0, 0, 0, 0, 0, 0, 0, 0, 0, 0, 0, 0, 0, 0, 0],\n",
       " [0, 0, 0, 0, 0, 0, 0, 0, 0, 0, 0, 0, 0, 0, 0, 0, 0, 0, 0, 0, 0],\n",
       " [0, 0, 0, 0, 0, 0, 0, 0, 0, 0, 0, 0, 0, 0, 0, 0, 0, 0, 0, 0, 0],\n",
       " [0, 0, 0, 0, 0, 0, 0, 0, 0, 0, 0, 0, 0, 0, 0, 0, 0, 0, 0, 0, 0],\n",
       " [0, 0, 0, 0, 0, 0, 0, 0, 0, 0, 0, 0, 0, 0, 0, 0, 0, 0, 0, 0, 0],\n",
       " [0, 0, 0, 0, 0, 0, 0, 0, 0, 0, 0, 0, 0, 0, 0, 0, 0, 0, 0, 0, 0],\n",
       " [0, 0, 0, 0, 0, 0, 0, 0, 0, 0, 0, 0, 0, 0, 0, 0, 0, 0, 0, 0, 0]]"
      ]
     },
     "execution_count": 29,
     "metadata": {},
     "output_type": "execute_result"
    }
   ],
   "source": [
    "matrix = [[0 for _ in range(len(genre_name))] for _ in range(len(genre_name))]\n",
    "matrix"
   ]
  },
  {
   "cell_type": "code",
   "execution_count": 30,
   "id": "ce701353",
   "metadata": {},
   "outputs": [
    {
     "name": "stdout",
     "output_type": "stream",
     "text": [
      "슝~\n"
     ]
    }
   ],
   "source": [
    "X = np.array([model.wv[word] for word in target_art])\n",
    "Y = np.array([model.wv[word] for word in target_gen])\n",
    "\n",
    "for i in range(len(genre_name)-1):\n",
    "    for j in range(i+1, len(genre_name)):\n",
    "        A = np.array([model.wv[word] for word in attributes[i]])\n",
    "        B = np.array([model.wv[word] for word in attributes[j]])\n",
    "        matrix[i][j] = weat_score(X, Y, A, B)\n",
    "\n",
    "print(\"슝~\")"
   ]
  },
  {
   "cell_type": "code",
   "execution_count": 31,
   "id": "76f546cd",
   "metadata": {},
   "outputs": [
    {
     "name": "stdout",
     "output_type": "stream",
     "text": [
      "[ attribute_A = SF ]\n",
      "SF 가족 -0.5488156\n",
      "SF 공연 -0.41210812\n",
      "SF 공포(호러) -0.69767684\n",
      "SF 기타 0.31660822\n",
      "SF 다큐멘터리 0.58476204\n",
      "SF 드라마 -0.4380572\n",
      "SF 멜로로맨스 -0.8290636\n",
      "SF 뮤지컬 0.31434575\n",
      "SF 미스터리 -0.697465\n",
      "SF 범죄 -0.22129756\n",
      "SF 사극 -0.88498414\n",
      "SF 서부극(웨스턴) -0.45649952\n",
      "SF 성인물(에로) -0.6154849\n",
      "SF 스릴러 -0.5290659\n",
      "SF 애니메이션 0.33041772\n",
      "SF 액션 -0.44366378\n",
      "SF 어드벤처 -0.8273883\n",
      "SF 전쟁 0.20552933\n",
      "SF 코미디 -0.487467\n",
      "SF 판타지 -0.24229044\n",
      "----------------\n",
      "[ attribute_A = 가족 ]\n",
      "가족 공연 0.20661671\n",
      "가족 공포(호러) -0.13204046\n",
      "가족 기타 0.77056414\n",
      "가족 다큐멘터리 0.85215765\n",
      "가족 드라마 0.21115509\n",
      "가족 멜로로맨스 -0.61942244\n",
      "가족 뮤지컬 0.7203875\n",
      "가족 미스터리 -0.27262917\n",
      "가족 범죄 0.2548719\n",
      "가족 사극 -0.064902045\n",
      "가족 서부극(웨스턴) 0.43057927\n",
      "가족 성인물(에로) -0.3236046\n",
      "가족 스릴러 -0.10115283\n",
      "가족 애니메이션 0.8926346\n",
      "가족 액션 0.17401095\n",
      "가족 어드벤처 0.016169654\n",
      "가족 전쟁 0.67593133\n",
      "가족 코미디 0.23645464\n",
      "가족 판타지 0.44322258\n",
      "----------------\n",
      "[ attribute_A = 공연 ]\n",
      "공연 공포(호러) -0.23672538\n",
      "공연 기타 0.9334578\n",
      "공연 다큐멘터리 0.93322915\n",
      "공연 드라마 -0.033720236\n",
      "공연 멜로로맨스 -0.7185848\n",
      "공연 뮤지컬 0.8932996\n",
      "공연 미스터리 -0.34162205\n",
      "공연 범죄 0.11314572\n",
      "공연 사극 -0.3715759\n",
      "공연 서부극(웨스턴) 0.043851767\n",
      "공연 성인물(에로) -0.5045735\n",
      "공연 스릴러 -0.19654633\n",
      "공연 애니메이션 0.8988107\n",
      "공연 액션 0.013630507\n",
      "공연 어드벤처 -0.19147527\n",
      "공연 전쟁 0.6040924\n",
      "공연 코미디 0.014777184\n",
      "공연 판타지 0.32736352\n",
      "----------------\n",
      "[ attribute_A = 공포(호러) ]\n",
      "공포(호러) 기타 0.6280295\n",
      "공포(호러) 다큐멘터리 0.7433739\n",
      "공포(호러) 드라마 0.27632913\n",
      "공포(호러) 멜로로맨스 -0.6544779\n",
      "공포(호러) 뮤지컬 0.603493\n",
      "공포(호러) 미스터리 -0.5603225\n",
      "공포(호러) 범죄 0.7347318\n",
      "공포(호러) 사극 0.09964178\n",
      "공포(호러) 서부극(웨스턴) 0.39692444\n",
      "공포(호러) 성인물(에로) -0.25320846\n",
      "공포(호러) 스릴러 0.028594011\n",
      "공포(호러) 애니메이션 0.64682496\n",
      "공포(호러) 액션 0.6345954\n",
      "공포(호러) 어드벤처 0.18256342\n",
      "공포(호러) 전쟁 0.6681004\n",
      "공포(호러) 코미디 0.43801746\n",
      "공포(호러) 판타지 0.5143754\n",
      "----------------\n",
      "[ attribute_A = 기타 ]\n",
      "기타 다큐멘터리 0.6181173\n",
      "기타 드라마 -0.8961179\n",
      "기타 멜로로맨스 -0.895178\n",
      "기타 뮤지컬 0.007004373\n",
      "기타 미스터리 -0.6460388\n",
      "기타 범죄 -0.3525216\n",
      "기타 사극 -0.82241416\n",
      "기타 서부극(웨스턴) -0.61561185\n",
      "기타 성인물(에로) -0.82164174\n",
      "기타 스릴러 -0.5449278\n",
      "기타 애니메이션 -0.03575057\n",
      "기타 액션 -0.45034674\n",
      "기타 어드벤처 -0.7842302\n",
      "기타 전쟁 -0.2003943\n",
      "기타 코미디 -0.7153804\n",
      "기타 판타지 -0.67559177\n",
      "----------------\n",
      "[ attribute_A = 다큐멘터리 ]\n",
      "다큐멘터리 드라마 -0.93231875\n",
      "다큐멘터리 멜로로맨스 -0.90805125\n",
      "다큐멘터리 뮤지컬 -0.7538599\n",
      "다큐멘터리 미스터리 -0.7451223\n",
      "다큐멘터리 범죄 -0.48952857\n",
      "다큐멘터리 사극 -0.9138539\n",
      "다큐멘터리 서부극(웨스턴) -0.73335034\n",
      "다큐멘터리 성인물(에로) -0.84690046\n",
      "다큐멘터리 스릴러 -0.6462113\n",
      "다큐멘터리 애니메이션 -0.54915524\n",
      "다큐멘터리 액션 -0.5933021\n",
      "다큐멘터리 어드벤처 -0.942487\n",
      "다큐멘터리 전쟁 -0.4323591\n",
      "다큐멘터리 코미디 -0.82309127\n",
      "다큐멘터리 판타지 -0.9058283\n",
      "----------------\n",
      "[ attribute_A = 드라마 ]\n",
      "드라마 멜로로맨스 -0.8362812\n",
      "드라마 뮤지컬 0.83198583\n",
      "드라마 미스터리 -0.3914043\n",
      "드라마 범죄 0.13480794\n",
      "드라마 사극 -0.31296563\n",
      "드라마 서부극(웨스턴) 0.069489494\n",
      "드라마 성인물(에로) -0.5888877\n",
      "드라마 스릴러 -0.21180563\n",
      "드라마 애니메이션 0.8899159\n",
      "드라마 액션 0.03021644\n",
      "드라마 어드벤처 -0.22892813\n",
      "드라마 전쟁 0.50263387\n",
      "드라마 코미디 0.07860465\n",
      "드라마 판타지 0.5558077\n",
      "----------------\n",
      "[ attribute_A = 멜로로맨스 ]\n",
      "멜로로맨스 뮤지컬 0.8658277\n",
      "멜로로맨스 미스터리 0.4902628\n",
      "멜로로맨스 범죄 0.9027839\n",
      "멜로로맨스 사극 0.6648417\n",
      "멜로로맨스 서부극(웨스턴) 0.7613983\n",
      "멜로로맨스 성인물(에로) 0.8277764\n",
      "멜로로맨스 스릴러 0.6981545\n",
      "멜로로맨스 애니메이션 0.87807375\n",
      "멜로로맨스 액션 0.8037192\n",
      "멜로로맨스 어드벤처 0.6293887\n",
      "멜로로맨스 전쟁 0.8255333\n",
      "멜로로맨스 코미디 0.924334\n",
      "멜로로맨스 판타지 0.8403951\n",
      "----------------\n",
      "[ attribute_A = 뮤지컬 ]\n",
      "뮤지컬 미스터리 -0.6273191\n",
      "뮤지컬 범죄 -0.3385634\n",
      "뮤지컬 사극 -0.79588634\n",
      "뮤지컬 서부극(웨스턴) -0.5738256\n",
      "뮤지컬 성인물(에로) -0.79620236\n",
      "뮤지컬 스릴러 -0.52524406\n",
      "뮤지컬 애니메이션 -0.030328134\n",
      "뮤지컬 액션 -0.43552563\n",
      "뮤지컬 어드벤처 -0.7620274\n",
      "뮤지컬 전쟁 -0.18996908\n",
      "뮤지컬 코미디 -0.6715068\n",
      "뮤지컬 판타지 -0.6530209\n",
      "----------------\n",
      "[ attribute_A = 미스터리 ]\n",
      "미스터리 범죄 1.0834967\n",
      "미스터리 사극 0.2687976\n",
      "미스터리 서부극(웨스턴) 0.4883132\n",
      "미스터리 성인물(에로) -0.074000485\n",
      "미스터리 스릴러 0.78348696\n",
      "미스터리 애니메이션 0.6546809\n",
      "미스터리 액션 0.82599413\n",
      "미스터리 어드벤처 0.32167912\n",
      "미스터리 전쟁 0.6863845\n",
      "미스터리 코미디 0.5354695\n",
      "미스터리 판타지 0.55924404\n",
      "----------------\n",
      "[ attribute_A = 범죄 ]\n",
      "범죄 사극 -0.355225\n",
      "범죄 서부극(웨스턴) -0.12960476\n",
      "범죄 성인물(에로) -0.55596334\n",
      "범죄 스릴러 -1.0560265\n",
      "범죄 애니메이션 0.35487443\n",
      "범죄 액션 -0.34337017\n",
      "범죄 어드벤처 -0.25887355\n",
      "범죄 전쟁 0.35264713\n",
      "범죄 코미디 -0.1466116\n",
      "범죄 판타지 0.060012948\n",
      "----------------\n",
      "[ attribute_A = 사극 ]\n",
      "사극 서부극(웨스턴) 0.40882546\n",
      "사극 성인물(에로) -0.34347653\n",
      "사극 스릴러 -0.065545484\n",
      "사극 애니메이션 0.8221304\n",
      "사극 액션 0.28218448\n",
      "사극 어드벤처 0.115359396\n",
      "사극 전쟁 0.90179586\n",
      "사극 코미디 0.47204772\n",
      "사극 판타지 0.65741503\n",
      "----------------\n",
      "[ attribute_A = 서부극(웨스턴) ]\n",
      "서부극(웨스턴) 성인물(에로) -0.4659191\n",
      "서부극(웨스턴) 스릴러 -0.30737877\n",
      "서부극(웨스턴) 애니메이션 0.6877413\n",
      "서부극(웨스턴) 액션 -0.020089017\n",
      "서부극(웨스턴) 어드벤처 -0.3362158\n",
      "서부극(웨스턴) 전쟁 0.696123\n",
      "서부극(웨스턴) 코미디 -0.037602697\n",
      "서부극(웨스턴) 판타지 0.24631748\n",
      "----------------\n",
      "[ attribute_A = 성인물(에로) ]\n",
      "성인물(에로) 스릴러 0.26227844\n",
      "성인물(에로) 애니메이션 0.7718193\n",
      "성인물(에로) 액션 0.44903126\n",
      "성인물(에로) 어드벤처 0.33814853\n",
      "성인물(에로) 전쟁 0.6410536\n",
      "성인물(에로) 코미디 0.6262483\n",
      "성인물(에로) 판타지 0.64968795\n",
      "----------------\n",
      "[ attribute_A = 스릴러 ]\n",
      "스릴러 애니메이션 0.55409396\n",
      "스릴러 액션 0.5634056\n",
      "스릴러 어드벤처 0.11665736\n",
      "스릴러 전쟁 0.58508855\n",
      "스릴러 코미디 0.30114982\n",
      "스릴러 판타지 0.3782591\n",
      "----------------\n",
      "[ attribute_A = 애니메이션 ]\n",
      "애니메이션 액션 -0.46588108\n",
      "애니메이션 어드벤처 -0.86254334\n",
      "애니메이션 전쟁 -0.20673019\n",
      "애니메이션 코미디 -0.7191214\n",
      "애니메이션 판타지 -0.67265904\n",
      "----------------\n",
      "[ attribute_A = 액션 ]\n",
      "액션 어드벤처 -0.186201\n",
      "액션 전쟁 0.5396974\n",
      "액션 코미디 -0.008211559\n",
      "액션 판타지 0.18855152\n",
      "----------------\n",
      "[ attribute_A = 어드벤처 ]\n",
      "어드벤처 전쟁 0.6968765\n",
      "어드벤처 코미디 0.34329566\n",
      "어드벤처 판타지 0.7448142\n",
      "----------------\n",
      "[ attribute_A = 전쟁 ]\n",
      "전쟁 코미디 -0.53139013\n",
      "전쟁 판타지 -0.3034313\n",
      "----------------\n",
      "[ attribute_A = 코미디 ]\n",
      "코미디 판타지 0.48258004\n",
      "----------------\n"
     ]
    }
   ],
   "source": [
    "\n",
    "for i in range(len(genre_name)-1):\n",
    "    print('[ attribute_A =', genre_name[i], ']')\n",
    "    for j in range(i+1, len(genre_name)):\n",
    "        print(genre_name[i], genre_name[j],matrix[i][j])\n",
    "    print('----------------')"
   ]
  },
  {
   "cell_type": "code",
   "execution_count": 32,
   "id": "07124234",
   "metadata": {},
   "outputs": [
    {
     "data": {
      "image/png": "[encoded data removed]",
      "text/plain": [
       "<Figure size 1080x1080 with 2 Axes>"
      ]
     },
     "metadata": {},
     "output_type": "display_data"
    }
   ],
   "source": [
    "import numpy as np; \n",
    "import seaborn as sns; \n",
    "\n",
    "np.random.seed(0)\n",
    "\n",
    "# 한글 지원 폰트\n",
    "sns.set(font='NanumGothic')\n",
    "\n",
    "# 마이너스 부호 \n",
    "\n",
    "plt.rcParams['axes.unicode_minus'] = False\n",
    "plt.rcParams[\"figure.figsize\"] = (15,15)\n",
    "\n",
    "sns.heatmap(matrix, xticklabels=genre_name, yticklabels=genre_name, annot=True,  cmap='RdYlGn_r')\n",
    "\n",
    "plt.ylabel('attribute_A', fontsize = 15)\n",
    "plt.xlabel('attribute_B', fontsize = 15)\n",
    "\n",
    "plt.show()"
   ]
  },
  {
   "cell_type": "markdown",
   "id": "bfc042e4",
   "metadata": {},
   "source": [
    "# 회고\n",
    "#### 코퍼스를 바탕으로 워드임베딩 모델을 잘 만들었다. most_similar()값도 정상적으로 나왔다. 영화 구분, 장르별로 target, attribute 대표성있는 단어셋을 세팅하였다. WEAT score 시각화를 하였다."
   ]
  }
 ],
 "metadata": {
  "kernelspec": {
   "display_name": "Python 3 (ipykernel)",
   "language": "python",
   "name": "python3"
  },
  "language_info": {
   "codemirror_mode": {
    "name": "ipython",
    "version": 3
   },
   "file_extension": ".py",
   "mimetype": "text/x-python",
   "name": "python",
   "nbconvert_exporter": "python",
   "pygments_lexer": "ipython3",
   "version": "3.9.7"
  }
 },
 "nbformat": 4,
 "nbformat_minor": 5
}
