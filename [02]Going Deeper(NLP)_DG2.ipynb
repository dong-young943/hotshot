{
 "cells": [
  {
   "cell_type": "markdown",
   "id": "f2e38b33",
   "metadata": {},
   "source": [
    "# 2. 멋진 단어사전 만들기"
   ]
  },
  {
   "cell_type": "markdown",
   "id": "d9a4a331",
   "metadata": {},
   "source": [
    "## 라이브러리 버전을 확인해 봅니다"
   ]
  },
  {
   "cell_type": "code",
   "execution_count": 1,
   "id": "24f8c93b",
   "metadata": {},
   "outputs": [
    {
     "name": "stdout",
     "output_type": "stream",
     "text": [
      "2.6.0\n",
      "1.21.4\n",
      "0.5.2\n"
     ]
    }
   ],
   "source": [
    "import tensorflow as tf\n",
    "import numpy as np\n",
    "import pandas as pd\n",
    "import matplotlib.pyplot as plt\n",
    "import konlpy\n",
    "\n",
    "import warnings\n",
    "warnings.filterwarnings(\"ignore\")\n",
    "\n",
    "print(tf.__version__)\n",
    "print(np.__version__)\n",
    "print(konlpy.__version__)"
   ]
  },
  {
   "cell_type": "markdown",
   "id": "de90f2db",
   "metadata": {},
   "source": [
    "## Step 1. 데이터 전처리"
   ]
  },
  {
   "cell_type": "code",
   "execution_count": 2,
   "id": "76460c21",
   "metadata": {},
   "outputs": [
    {
     "data": {
      "text/html": [
       "<div>\n",
       "<style scoped>\n",
       "    .dataframe tbody tr th:only-of-type {\n",
       "        vertical-align: middle;\n",
       "    }\n",
       "\n",
       "    .dataframe tbody tr th {\n",
       "        vertical-align: top;\n",
       "    }\n",
       "\n",
       "    .dataframe thead th {\n",
       "        text-align: right;\n",
       "    }\n",
       "</style>\n",
       "<table border=\"1\" class=\"dataframe\">\n",
       "  <thead>\n",
       "    <tr style=\"text-align: right;\">\n",
       "      <th></th>\n",
       "      <th>id</th>\n",
       "      <th>document</th>\n",
       "      <th>label</th>\n",
       "    </tr>\n",
       "  </thead>\n",
       "  <tbody>\n",
       "    <tr>\n",
       "      <th>0</th>\n",
       "      <td>8112052</td>\n",
       "      <td>어릴때보고 지금다시봐도 재밌어요ㅋㅋ</td>\n",
       "      <td>1</td>\n",
       "    </tr>\n",
       "    <tr>\n",
       "      <th>1</th>\n",
       "      <td>8132799</td>\n",
       "      <td>디자인을 배우는 학생으로, 외국디자이너와 그들이 일군 전통을 통해 발전해가는 문화산...</td>\n",
       "      <td>1</td>\n",
       "    </tr>\n",
       "    <tr>\n",
       "      <th>2</th>\n",
       "      <td>4655635</td>\n",
       "      <td>폴리스스토리 시리즈는 1부터 뉴까지 버릴께 하나도 없음.. 최고.</td>\n",
       "      <td>1</td>\n",
       "    </tr>\n",
       "    <tr>\n",
       "      <th>3</th>\n",
       "      <td>9251303</td>\n",
       "      <td>와.. 연기가 진짜 개쩔구나.. 지루할거라고 생각했는데 몰입해서 봤다.. 그래 이런...</td>\n",
       "      <td>1</td>\n",
       "    </tr>\n",
       "    <tr>\n",
       "      <th>4</th>\n",
       "      <td>10067386</td>\n",
       "      <td>안개 자욱한 밤하늘에 떠 있는 초승달 같은 영화.</td>\n",
       "      <td>1</td>\n",
       "    </tr>\n",
       "  </tbody>\n",
       "</table>\n",
       "</div>"
      ],
      "text/plain": [
       "         id                                           document  label\n",
       "0   8112052                                어릴때보고 지금다시봐도 재밌어요ㅋㅋ      1\n",
       "1   8132799  디자인을 배우는 학생으로, 외국디자이너와 그들이 일군 전통을 통해 발전해가는 문화산...      1\n",
       "2   4655635               폴리스스토리 시리즈는 1부터 뉴까지 버릴께 하나도 없음.. 최고.      1\n",
       "3   9251303  와.. 연기가 진짜 개쩔구나.. 지루할거라고 생각했는데 몰입해서 봤다.. 그래 이런...      1\n",
       "4  10067386                        안개 자욱한 밤하늘에 떠 있는 초승달 같은 영화.      1"
      ]
     },
     "execution_count": 2,
     "metadata": {},
     "output_type": "execute_result"
    }
   ],
   "source": [
    "data = pd.read_table('~/aiffel/GD/ratings.txt')\n",
    "data.head()"
   ]
  },
  {
   "cell_type": "code",
   "execution_count": 3,
   "id": "045b9d33",
   "metadata": {},
   "outputs": [
    {
     "name": "stdout",
     "output_type": "stream",
     "text": [
      "데이터 개수 :  200000\n"
     ]
    }
   ],
   "source": [
    "print('데이터 개수 : ', len(data))"
   ]
  },
  {
   "cell_type": "markdown",
   "id": "7212526f",
   "metadata": {},
   "source": [
    "### 1.2 결측치 제거"
   ]
  },
  {
   "cell_type": "code",
   "execution_count": 4,
   "id": "e56d3d8a",
   "metadata": {},
   "outputs": [
    {
     "data": {
      "text/plain": [
       "200000"
      ]
     },
     "execution_count": 4,
     "metadata": {},
     "output_type": "execute_result"
    }
   ],
   "source": [
    "orig_len = len(data)\n",
    "orig_len"
   ]
  },
  {
   "cell_type": "code",
   "execution_count": 5,
   "id": "3a3568c1",
   "metadata": {},
   "outputs": [
    {
     "data": {
      "text/plain": [
       "id          0\n",
       "document    8\n",
       "label       0\n",
       "dtype: int64"
      ]
     },
     "execution_count": 5,
     "metadata": {},
     "output_type": "execute_result"
    }
   ],
   "source": [
    "data.isnull().sum()"
   ]
  },
  {
   "cell_type": "code",
   "execution_count": 6,
   "id": "77567500",
   "metadata": {},
   "outputs": [
    {
     "name": "stdout",
     "output_type": "stream",
     "text": [
      "결측치 제거 후 데이터 개수 :  199992\n"
     ]
    }
   ],
   "source": [
    "data_dropna = data.dropna(axis = 0)\n",
    "\n",
    "print('결측치 제거 후 데이터 개수 : ', len(data_dropna))"
   ]
  },
  {
   "cell_type": "markdown",
   "id": "26f3cd67",
   "metadata": {},
   "source": [
    "### 1.3 중복 제거"
   ]
  },
  {
   "cell_type": "code",
   "execution_count": 7,
   "id": "8922af1a",
   "metadata": {},
   "outputs": [
    {
     "name": "stdout",
     "output_type": "stream",
     "text": [
      "중복 제거 후 데이터 개수 :  194543\n"
     ]
    }
   ],
   "source": [
    "cleaned_corpus = data_dropna.drop_duplicates(['document'])\n",
    "\n",
    "print('중복 제거 후 데이터 개수 : ', len(cleaned_corpus))"
   ]
  },
  {
   "cell_type": "code",
   "execution_count": 8,
   "id": "f50d4f35",
   "metadata": {},
   "outputs": [
    {
     "name": "stdout",
     "output_type": "stream",
     "text": [
      "전처리 전 데이터 개수 :  200000\n",
      "결측치 제거 후 데이터 개수 :  199992\n",
      "중복 제거 후 데이터 개수 :  194543\n"
     ]
    }
   ],
   "source": [
    "print('전처리 전 데이터 개수 : ', len(data))\n",
    "print('결측치 제거 후 데이터 개수 : ', len(data_dropna))\n",
    "print('중복 제거 후 데이터 개수 : ', len(cleaned_corpus))"
   ]
  },
  {
   "cell_type": "markdown",
   "id": "7e33ddb8",
   "metadata": {},
   "source": [
    "## Step 2. 데이터 분석"
   ]
  },
  {
   "cell_type": "code",
   "execution_count": 9,
   "id": "2313453d",
   "metadata": {},
   "outputs": [],
   "source": [
    "review = cleaned_corpus['document']"
   ]
  },
  {
   "cell_type": "code",
   "execution_count": 10,
   "id": "6a44c88d",
   "metadata": {},
   "outputs": [],
   "source": [
    "new_review = []\n",
    "\n",
    "for i in review:\n",
    "    new_review.append(len(i))"
   ]
  },
  {
   "cell_type": "code",
   "execution_count": 11,
   "id": "ef74fffa",
   "metadata": {},
   "outputs": [
    {
     "data": {
      "text/html": [
       "<div>\n",
       "<style scoped>\n",
       "    .dataframe tbody tr th:only-of-type {\n",
       "        vertical-align: middle;\n",
       "    }\n",
       "\n",
       "    .dataframe tbody tr th {\n",
       "        vertical-align: top;\n",
       "    }\n",
       "\n",
       "    .dataframe thead th {\n",
       "        text-align: right;\n",
       "    }\n",
       "</style>\n",
       "<table border=\"1\" class=\"dataframe\">\n",
       "  <thead>\n",
       "    <tr style=\"text-align: right;\">\n",
       "      <th></th>\n",
       "      <th>id</th>\n",
       "      <th>document</th>\n",
       "      <th>label</th>\n",
       "      <th>corpus_length</th>\n",
       "    </tr>\n",
       "  </thead>\n",
       "  <tbody>\n",
       "    <tr>\n",
       "      <th>0</th>\n",
       "      <td>8112052</td>\n",
       "      <td>어릴때보고 지금다시봐도 재밌어요ㅋㅋ</td>\n",
       "      <td>1</td>\n",
       "      <td>19</td>\n",
       "    </tr>\n",
       "    <tr>\n",
       "      <th>1</th>\n",
       "      <td>8132799</td>\n",
       "      <td>디자인을 배우는 학생으로, 외국디자이너와 그들이 일군 전통을 통해 발전해가는 문화산...</td>\n",
       "      <td>1</td>\n",
       "      <td>137</td>\n",
       "    </tr>\n",
       "    <tr>\n",
       "      <th>2</th>\n",
       "      <td>4655635</td>\n",
       "      <td>폴리스스토리 시리즈는 1부터 뉴까지 버릴께 하나도 없음.. 최고.</td>\n",
       "      <td>1</td>\n",
       "      <td>36</td>\n",
       "    </tr>\n",
       "    <tr>\n",
       "      <th>3</th>\n",
       "      <td>9251303</td>\n",
       "      <td>와.. 연기가 진짜 개쩔구나.. 지루할거라고 생각했는데 몰입해서 봤다.. 그래 이런...</td>\n",
       "      <td>1</td>\n",
       "      <td>54</td>\n",
       "    </tr>\n",
       "    <tr>\n",
       "      <th>4</th>\n",
       "      <td>10067386</td>\n",
       "      <td>안개 자욱한 밤하늘에 떠 있는 초승달 같은 영화.</td>\n",
       "      <td>1</td>\n",
       "      <td>27</td>\n",
       "    </tr>\n",
       "    <tr>\n",
       "      <th>...</th>\n",
       "      <td>...</td>\n",
       "      <td>...</td>\n",
       "      <td>...</td>\n",
       "      <td>...</td>\n",
       "    </tr>\n",
       "    <tr>\n",
       "      <th>199995</th>\n",
       "      <td>8963373</td>\n",
       "      <td>포켓 몬스터 짜가 ㅡㅡ;;</td>\n",
       "      <td>0</td>\n",
       "      <td>14</td>\n",
       "    </tr>\n",
       "    <tr>\n",
       "      <th>199996</th>\n",
       "      <td>3302770</td>\n",
       "      <td>쓰.레.기</td>\n",
       "      <td>0</td>\n",
       "      <td>5</td>\n",
       "    </tr>\n",
       "    <tr>\n",
       "      <th>199997</th>\n",
       "      <td>5458175</td>\n",
       "      <td>완전 사이코영화. 마지막은 더욱더 이 영화의질을 떨어트린다.</td>\n",
       "      <td>0</td>\n",
       "      <td>33</td>\n",
       "    </tr>\n",
       "    <tr>\n",
       "      <th>199998</th>\n",
       "      <td>6908648</td>\n",
       "      <td>왜난 재미없었지 ㅠㅠ 라따뚜이 보고나서 스머프 봐서 그런가 ㅋㅋ</td>\n",
       "      <td>0</td>\n",
       "      <td>35</td>\n",
       "    </tr>\n",
       "    <tr>\n",
       "      <th>199999</th>\n",
       "      <td>8548411</td>\n",
       "      <td>포풍저그가나가신다영차영차영차</td>\n",
       "      <td>0</td>\n",
       "      <td>15</td>\n",
       "    </tr>\n",
       "  </tbody>\n",
       "</table>\n",
       "<p>194543 rows × 4 columns</p>\n",
       "</div>"
      ],
      "text/plain": [
       "              id                                           document  label  \\\n",
       "0        8112052                                어릴때보고 지금다시봐도 재밌어요ㅋㅋ      1   \n",
       "1        8132799  디자인을 배우는 학생으로, 외국디자이너와 그들이 일군 전통을 통해 발전해가는 문화산...      1   \n",
       "2        4655635               폴리스스토리 시리즈는 1부터 뉴까지 버릴께 하나도 없음.. 최고.      1   \n",
       "3        9251303  와.. 연기가 진짜 개쩔구나.. 지루할거라고 생각했는데 몰입해서 봤다.. 그래 이런...      1   \n",
       "4       10067386                        안개 자욱한 밤하늘에 떠 있는 초승달 같은 영화.      1   \n",
       "...          ...                                                ...    ...   \n",
       "199995   8963373                                     포켓 몬스터 짜가 ㅡㅡ;;      0   \n",
       "199996   3302770                                              쓰.레.기      0   \n",
       "199997   5458175                  완전 사이코영화. 마지막은 더욱더 이 영화의질을 떨어트린다.      0   \n",
       "199998   6908648                왜난 재미없었지 ㅠㅠ 라따뚜이 보고나서 스머프 봐서 그런가 ㅋㅋ      0   \n",
       "199999   8548411                                    포풍저그가나가신다영차영차영차      0   \n",
       "\n",
       "        corpus_length  \n",
       "0                  19  \n",
       "1                 137  \n",
       "2                  36  \n",
       "3                  54  \n",
       "4                  27  \n",
       "...               ...  \n",
       "199995             14  \n",
       "199996              5  \n",
       "199997             33  \n",
       "199998             35  \n",
       "199999             15  \n",
       "\n",
       "[194543 rows x 4 columns]"
      ]
     },
     "execution_count": 11,
     "metadata": {},
     "output_type": "execute_result"
    }
   ],
   "source": [
    "cleaned_corpus['corpus_length'] = new_review\n",
    "cleaned_corpus"
   ]
  },
  {
   "cell_type": "markdown",
   "id": "7120ccb5",
   "metadata": {},
   "source": [
    "### 2.1 문장 길이 확인"
   ]
  },
  {
   "cell_type": "code",
   "execution_count": 12,
   "id": "cb7a515b",
   "metadata": {},
   "outputs": [
    {
     "name": "stdout",
     "output_type": "stream",
     "text": [
      "문장의 최단 길이: 1\n",
      "문장의 최장 길이: 142\n",
      "문장의 평균 길이: 36\n"
     ]
    },
    {
     "data": {
      "image/png": "[encoded data removed]",
      "text/plain": [
       "<Figure size 432x288 with 1 Axes>"
      ]
     },
     "metadata": {
      "needs_background": "light"
     },
     "output_type": "display_data"
    }
   ],
   "source": [
    "min_len = 999\n",
    "max_len = 0\n",
    "sum_len = 0\n",
    "\n",
    "for sen in review:\n",
    "    length = len(sen)\n",
    "    if min_len > length: min_len = length\n",
    "    if max_len < length: max_len = length\n",
    "    sum_len += length\n",
    "\n",
    "print(\"문장의 최단 길이:\", min_len)\n",
    "print(\"문장의 최장 길이:\", max_len)\n",
    "print(\"문장의 평균 길이:\", sum_len // len(review))\n",
    "\n",
    "sentence_length = np.zeros((max_len), dtype=np.int)\n",
    "\n",
    "for sen in review:\n",
    "    sentence_length[len(sen)-1] += 1\n",
    "\n",
    "plt.bar(range(max_len), sentence_length, width=1.0)\n",
    "plt.title(\"Sentence Length Distribution\")\n",
    "plt.show()"
   ]
  },
  {
   "cell_type": "markdown",
   "id": "093a3482",
   "metadata": {},
   "source": [
    "#### 2.1.1 길이가 1인 문장"
   ]
  },
  {
   "cell_type": "code",
   "execution_count": 13,
   "id": "dd950059",
   "metadata": {},
   "outputs": [],
   "source": [
    "def check_sentence_with_length(review, length):\n",
    "    count = 0\n",
    "    \n",
    "    for sen in review:\n",
    "        if len(sen) == length:\n",
    "            print(sen)\n",
    "            count += 1\n",
    "            if count > 100: return"
   ]
  },
  {
   "cell_type": "code",
   "execution_count": 14,
   "id": "6b888919",
   "metadata": {},
   "outputs": [
    {
     "name": "stdout",
     "output_type": "stream",
     "text": [
      "굿\n",
      "핡\n",
      "휴\n",
      "시\n",
      "ㅋ\n",
      "ㅇ\n",
      "‥\n",
      "O\n",
      "갑\n",
      "ㅎ\n",
      ".\n",
      "올\n",
      "헷\n",
      "g\n",
      "♥\n",
      "짱\n",
      "ㅆ\n",
      "굳\n",
      "잼\n",
      "ㅁ\n",
      "?\n",
      "애\n",
      "흠\n",
      "!\n",
      "찜\n",
      "b\n",
      ",\n",
      "1\n",
      "9\n",
      "♬\n",
      "ㅗ\n",
      "ㄳ\n",
      "ㄴ\n",
      "호\n",
      "a\n",
      "d\n",
      "f\n",
      "음\n",
      "헐\n",
      "캬\n",
      "린\n",
      "업\n",
      "乃\n",
      "ㅠ\n",
      ";\n",
      "·\n",
      "k\n",
      "움\n",
      "ㄱ\n",
      "쩜\n",
      "-\n",
      "군\n",
      "ㅉ\n",
      "훗\n",
      "z\n",
      "쨩\n",
      "뿌\n",
      "♡\n",
      "하\n",
      "h\n",
      "ㅍ\n",
      "꽉\n",
      "토\n",
      "귯\n",
      "아\n",
      "오\n",
      "ㅣ\n",
      "봐\n",
      "웅\n",
      "네\n",
      "ㅂ\n",
      "꿈\n",
      "헉\n",
      "와\n",
      "뻑\n",
      "걍\n",
      "헝\n",
      "우\n",
      "즛\n",
      "풉\n",
      "4\n",
      "쀍\n",
      "ㄹ\n",
      "삼\n",
      "쒯\n",
      "즐\n",
      "함\n",
      "0\n",
      "진\n",
      "악\n",
      "풋\n",
      "쩝\n",
      "욜\n",
      "ㄷ\n",
      "흐\n",
      "싫\n",
      "ㅜ\n",
      "잏\n",
      "허\n",
      "엿\n",
      "쉣\n"
     ]
    }
   ],
   "source": [
    "check_sentence_with_length(review, 1)"
   ]
  },
  {
   "cell_type": "markdown",
   "id": "9fcdc342",
   "metadata": {},
   "source": [
    "#### 2.1.2 길이가 긴 문장"
   ]
  },
  {
   "cell_type": "code",
   "execution_count": 15,
   "id": "c6a75cb3",
   "metadata": {},
   "outputs": [
    {
     "name": "stdout",
     "output_type": "stream",
     "text": [
      "영화 초반을 보면서 ' 좀 허항된 . 황당한 코믹스런 ' 연출이 되겠다란 생각을 하고 보기시작했는데 .. 연주가 처음 시작되는 부분에서 저도 모르게 눈가가 초촉해 지기시작하더군요 .. 이유는 모르겠네요 ... 자유에 대한 갈증과 박해에 대한 내용을 &gt\n"
     ]
    }
   ],
   "source": [
    "check_sentence_with_length(review, 142)"
   ]
  },
  {
   "cell_type": "code",
   "execution_count": 16,
   "id": "dc9790aa",
   "metadata": {},
   "outputs": [
    {
     "name": "stdout",
     "output_type": "stream",
     "text": [
      "Outlier Index: 2\n",
      "Outlier Index: 3\n",
      "Outlier Index: 4\n",
      "Outlier Index: 5\n",
      "Outlier Index: 6\n",
      "Outlier Index: 7\n",
      "Outlier Index: 8\n",
      "Outlier Index: 9\n",
      "Outlier Index: 10\n",
      "Outlier Index: 11\n",
      "Outlier Index: 12\n",
      "Outlier Index: 13\n",
      "Outlier Index: 14\n",
      "Outlier Index: 15\n",
      "Outlier Index: 16\n",
      "Outlier Index: 17\n",
      "Outlier Index: 18\n",
      "Outlier Index: 19\n",
      "Outlier Index: 20\n",
      "Outlier Index: 21\n",
      "Outlier Index: 22\n",
      "Outlier Index: 23\n",
      "Outlier Index: 24\n",
      "Outlier Index: 25\n",
      "Outlier Index: 26\n",
      "Outlier Index: 27\n",
      "Outlier Index: 28\n",
      "Outlier Index: 29\n",
      "Outlier Index: 30\n",
      "Outlier Index: 31\n",
      "Outlier Index: 32\n",
      "Outlier Index: 33\n",
      "Outlier Index: 34\n",
      "Outlier Index: 35\n",
      "Outlier Index: 36\n",
      "Outlier Index: 37\n",
      "Outlier Index: 38\n",
      "Outlier Index: 39\n",
      "Outlier Index: 40\n",
      "Outlier Index: 41\n",
      "Outlier Index: 42\n",
      "Outlier Index: 43\n",
      "Outlier Index: 44\n",
      "Outlier Index: 45\n",
      "Outlier Index: 46\n",
      "Outlier Index: 47\n",
      "Outlier Index: 48\n",
      "Outlier Index: 49\n",
      "Outlier Index: 50\n",
      "Outlier Index: 51\n",
      "Outlier Index: 52\n",
      "Outlier Index: 53\n",
      "Outlier Index: 54\n",
      "Outlier Index: 55\n",
      "Outlier Index: 56\n",
      "Outlier Index: 57\n",
      "Outlier Index: 58\n",
      "Outlier Index: 59\n",
      "Outlier Index: 60\n",
      "Outlier Index: 61\n",
      "Outlier Index: 62\n",
      "Outlier Index: 63\n",
      "Outlier Index: 64\n",
      "Outlier Index: 65\n",
      "Outlier Index: 66\n",
      "Outlier Index: 67\n",
      "Outlier Index: 68\n",
      "Outlier Index: 69\n",
      "Outlier Index: 70\n",
      "Outlier Index: 71\n",
      "Outlier Index: 72\n",
      "Outlier Index: 73\n",
      "Outlier Index: 74\n",
      "Outlier Index: 75\n",
      "Outlier Index: 76\n",
      "Outlier Index: 77\n",
      "Outlier Index: 78\n",
      "Outlier Index: 79\n",
      "Outlier Index: 80\n",
      "Outlier Index: 81\n",
      "Outlier Index: 82\n",
      "Outlier Index: 83\n",
      "Outlier Index: 84\n",
      "Outlier Index: 85\n",
      "Outlier Index: 86\n",
      "Outlier Index: 87\n",
      "Outlier Index: 88\n",
      "Outlier Index: 89\n",
      "Outlier Index: 90\n",
      "Outlier Index: 91\n",
      "Outlier Index: 92\n",
      "Outlier Index: 93\n",
      "Outlier Index: 94\n",
      "Outlier Index: 95\n",
      "Outlier Index: 96\n",
      "Outlier Index: 97\n",
      "Outlier Index: 98\n",
      "Outlier Index: 99\n",
      "Outlier Index: 100\n",
      "Outlier Index: 101\n",
      "Outlier Index: 102\n",
      "Outlier Index: 103\n",
      "Outlier Index: 104\n",
      "Outlier Index: 105\n",
      "Outlier Index: 106\n",
      "Outlier Index: 107\n",
      "Outlier Index: 108\n",
      "Outlier Index: 109\n",
      "Outlier Index: 110\n",
      "Outlier Index: 111\n",
      "Outlier Index: 112\n",
      "Outlier Index: 113\n",
      "Outlier Index: 114\n",
      "Outlier Index: 115\n",
      "Outlier Index: 116\n",
      "Outlier Index: 117\n",
      "Outlier Index: 118\n",
      "Outlier Index: 119\n",
      "Outlier Index: 120\n",
      "Outlier Index: 121\n",
      "Outlier Index: 122\n",
      "Outlier Index: 123\n",
      "Outlier Index: 124\n",
      "Outlier Index: 125\n",
      "Outlier Index: 126\n",
      "Outlier Index: 127\n",
      "Outlier Index: 128\n",
      "Outlier Index: 129\n",
      "Outlier Index: 130\n",
      "Outlier Index: 131\n",
      "Outlier Index: 132\n",
      "Outlier Index: 133\n",
      "Outlier Index: 134\n",
      "Outlier Index: 135\n",
      "Outlier Index: 136\n",
      "Outlier Index: 137\n",
      "Outlier Index: 138\n",
      "Outlier Index: 139\n",
      "Outlier Index: 140\n"
     ]
    }
   ],
   "source": [
    "for idx, _sum in enumerate(sentence_length):\n",
    "    # 문장의 수가 140 이상인 문장 길이를 추출합니다.\n",
    "    if _sum >= 140:\n",
    "        print(\"Outlier Index:\", idx+1)"
   ]
  },
  {
   "cell_type": "code",
   "execution_count": 17,
   "id": "6fa9e215",
   "metadata": {},
   "outputs": [
    {
     "data": {
      "text/plain": [
       "array([ 124,  460,  793, 1222, 1469, 1882, 2187, 2270, 2440, 3379, 4459,\n",
       "       5711, 5970, 5848, 5518, 5265, 5005, 4947, 4806, 4626, 4542, 4436,\n",
       "       4264, 4129, 4073, 3973, 3865, 3809, 3743, 3665, 3561, 3566, 3353,\n",
       "       3339, 3036, 2831, 2736, 2736, 2775, 2856, 2486, 2486, 2495, 2625,\n",
       "       2599, 2257, 1660, 1311, 1079,  968,  893,  844,  799,  789,  765,\n",
       "        678,  686,  654,  658,  648,  614,  554,  600,  555,  544,  554,\n",
       "        528,  528,  473,  493,  443,  477,  469,  443,  403,  437,  422,\n",
       "        388,  398,  365,  372,  398,  380,  381,  326,  350,  327,  308,\n",
       "        333,  332,  260,  286,  300,  281,  291,  255,  261,  271,  283,\n",
       "        246,  231,  233,  223,  224,  244,  221,  223,  216,  211,  198,\n",
       "        185,  206,  199,  215,  177,  178,  178,  219,  198,  199,  195,\n",
       "        183,  221,  192,  226,  194,  218,  218,  247,  245,  252,  276,\n",
       "        304,  350,  380,  452,  514,  589,  802, 1328,    0,    1])"
      ]
     },
     "execution_count": 17,
     "metadata": {},
     "output_type": "execute_result"
    }
   ],
   "source": [
    "sentence_length"
   ]
  },
  {
   "cell_type": "markdown",
   "id": "ee6bac6e",
   "metadata": {},
   "source": [
    "### 2.2 최장 길이(max_len) 정하기"
   ]
  },
  {
   "cell_type": "code",
   "execution_count": 18,
   "id": "45b1425b",
   "metadata": {},
   "outputs": [
    {
     "data": {
      "image/png": "[encoded data removed]",
      "text/plain": [
       "<Figure size 360x720 with 1 Axes>"
      ]
     },
     "metadata": {
      "needs_background": "light"
     },
     "output_type": "display_data"
    }
   ],
   "source": [
    "text_len = [len(sen) for sen in review]\n",
    "\n",
    "plt.figure(figsize = (5,10))\n",
    "plt.boxplot(text_len)\n",
    "plt.show()"
   ]
  },
  {
   "cell_type": "markdown",
   "id": "a4dff211",
   "metadata": {},
   "source": [
    "###### 사분위수 정의 https://sosomemo.tistory.com/34"
   ]
  },
  {
   "cell_type": "code",
   "execution_count": 19,
   "id": "d674fde9",
   "metadata": {},
   "outputs": [
    {
     "name": "stdout",
     "output_type": "stream",
     "text": [
      "Q1 =  16.0\n",
      "Q2 =  27.0\n",
      "Q3 =  43.0\n",
      "IQR =  27.0\n",
      "MAX =  83.5\n"
     ]
    }
   ],
   "source": [
    "num = pd.Series(text_len)\n",
    "\n",
    "Q1 = num.quantile(.25)\n",
    "Q2 = num.quantile(.5)\n",
    "Q3 = num.quantile(.75)\n",
    "IQR = Q3 - Q1\n",
    "MAX = Q3 + (1.5 * IQR)\n",
    "\n",
    "print('Q1 = ', Q1)  # 제 1사분위수\n",
    "print('Q2 = ', Q2)  # 중위수\n",
    "print('Q3 = ', Q3)   #제 3사분위수\n",
    "print('IQR = ', IQR)  # 사분위간 범위\n",
    "print('MAX = ', MAX)  # 최댓값"
   ]
  },
  {
   "cell_type": "code",
   "execution_count": 20,
   "id": "3deaed56",
   "metadata": {},
   "outputs": [
    {
     "name": "stdout",
     "output_type": "stream",
     "text": [
      "=3\n"
     ]
    }
   ],
   "source": [
    "# below_threshold_len : 데이터의 몇 %가 최대 길이 안에 들어오는지 계산하는 함수\n",
    "\n",
    "def below_threshold_len(max_len, nested_list):\n",
    "    cnt = 0\n",
    "    for s in nested_list:\n",
    "        if(len(s) <= max_len):\n",
    "            cnt = cnt + 1\n",
    "    print('전체 샘플 중 길이가 %s 이하인 샘플의 비율: %s'%(max_len, (cnt / len(nested_list))*100))\n",
    "print('=3')"
   ]
  },
  {
   "cell_type": "code",
   "execution_count": 21,
   "id": "5acda153",
   "metadata": {},
   "outputs": [
    {
     "name": "stdout",
     "output_type": "stream",
     "text": [
      "전체 샘플 중 길이가 142 이하인 샘플의 비율: 100.0\n",
      "전체 샘플 중 길이가 83 이하인 샘플의 비율: 91.43839665266805\n",
      "전체 샘플 중 길이가 60 이하인 샘플의 비율: 85.86739178484962\n",
      "전체 샘플 중 길이가 43 이하인 샘플의 비율: 75.63160843618121\n"
     ]
    }
   ],
   "source": [
    "below_threshold_len(max_len, review)\n",
    "below_threshold_len(83, review)   # 최댓값 \n",
    "below_threshold_len(60, review)  \n",
    "below_threshold_len(43, review)   # 제 3사분위수"
   ]
  },
  {
   "cell_type": "code",
   "execution_count": 22,
   "id": "482a8be1",
   "metadata": {},
   "outputs": [
    {
     "data": {
      "image/png": "[encoded data removed]",
      "text/plain": [
       "<Figure size 432x288 with 1 Axes>"
      ]
     },
     "metadata": {
      "needs_background": "light"
     },
     "output_type": "display_data"
    }
   ],
   "source": [
    "max_len = 43\n",
    "\n",
    "# 길이 조건에 맞는 문장만 선택합니다.\n",
    "filtered_corpus = [s for s in review if len(s) <= max_len]\n",
    "\n",
    "removed_data = cleaned_corpus[cleaned_corpus['corpus_length']<= max_len]\n",
    "\n",
    "# 분포도를 다시 그려봅니다.\n",
    "sentence_length = np.zeros((max_len), dtype=np.int)\n",
    "\n",
    "for sen in filtered_corpus:\n",
    "    sentence_length[len(sen)-1] += 1\n",
    "\n",
    "plt.bar(range(max_len), sentence_length, width=1.0)\n",
    "plt.title(\"Sentence Length Distribution\")\n",
    "plt.show()"
   ]
  },
  {
   "cell_type": "code",
   "execution_count": 23,
   "id": "1fc32b29",
   "metadata": {},
   "outputs": [
    {
     "data": {
      "text/html": [
       "<div>\n",
       "<style scoped>\n",
       "    .dataframe tbody tr th:only-of-type {\n",
       "        vertical-align: middle;\n",
       "    }\n",
       "\n",
       "    .dataframe tbody tr th {\n",
       "        vertical-align: top;\n",
       "    }\n",
       "\n",
       "    .dataframe thead th {\n",
       "        text-align: right;\n",
       "    }\n",
       "</style>\n",
       "<table border=\"1\" class=\"dataframe\">\n",
       "  <thead>\n",
       "    <tr style=\"text-align: right;\">\n",
       "      <th></th>\n",
       "      <th>id</th>\n",
       "      <th>document</th>\n",
       "      <th>label</th>\n",
       "      <th>corpus_length</th>\n",
       "    </tr>\n",
       "  </thead>\n",
       "  <tbody>\n",
       "    <tr>\n",
       "      <th>0</th>\n",
       "      <td>8112052</td>\n",
       "      <td>어릴때보고 지금다시봐도 재밌어요ㅋㅋ</td>\n",
       "      <td>1</td>\n",
       "      <td>19</td>\n",
       "    </tr>\n",
       "    <tr>\n",
       "      <th>2</th>\n",
       "      <td>4655635</td>\n",
       "      <td>폴리스스토리 시리즈는 1부터 뉴까지 버릴께 하나도 없음.. 최고.</td>\n",
       "      <td>1</td>\n",
       "      <td>36</td>\n",
       "    </tr>\n",
       "    <tr>\n",
       "      <th>4</th>\n",
       "      <td>10067386</td>\n",
       "      <td>안개 자욱한 밤하늘에 떠 있는 초승달 같은 영화.</td>\n",
       "      <td>1</td>\n",
       "      <td>27</td>\n",
       "    </tr>\n",
       "    <tr>\n",
       "      <th>5</th>\n",
       "      <td>2190435</td>\n",
       "      <td>사랑을 해본사람이라면 처음부터 끝까지 웃을수 있는영화</td>\n",
       "      <td>1</td>\n",
       "      <td>29</td>\n",
       "    </tr>\n",
       "    <tr>\n",
       "      <th>6</th>\n",
       "      <td>9279041</td>\n",
       "      <td>완전 감동입니다 다시봐도 감동</td>\n",
       "      <td>1</td>\n",
       "      <td>16</td>\n",
       "    </tr>\n",
       "    <tr>\n",
       "      <th>...</th>\n",
       "      <td>...</td>\n",
       "      <td>...</td>\n",
       "      <td>...</td>\n",
       "      <td>...</td>\n",
       "    </tr>\n",
       "    <tr>\n",
       "      <th>199995</th>\n",
       "      <td>8963373</td>\n",
       "      <td>포켓 몬스터 짜가 ㅡㅡ;;</td>\n",
       "      <td>0</td>\n",
       "      <td>14</td>\n",
       "    </tr>\n",
       "    <tr>\n",
       "      <th>199996</th>\n",
       "      <td>3302770</td>\n",
       "      <td>쓰.레.기</td>\n",
       "      <td>0</td>\n",
       "      <td>5</td>\n",
       "    </tr>\n",
       "    <tr>\n",
       "      <th>199997</th>\n",
       "      <td>5458175</td>\n",
       "      <td>완전 사이코영화. 마지막은 더욱더 이 영화의질을 떨어트린다.</td>\n",
       "      <td>0</td>\n",
       "      <td>33</td>\n",
       "    </tr>\n",
       "    <tr>\n",
       "      <th>199998</th>\n",
       "      <td>6908648</td>\n",
       "      <td>왜난 재미없었지 ㅠㅠ 라따뚜이 보고나서 스머프 봐서 그런가 ㅋㅋ</td>\n",
       "      <td>0</td>\n",
       "      <td>35</td>\n",
       "    </tr>\n",
       "    <tr>\n",
       "      <th>199999</th>\n",
       "      <td>8548411</td>\n",
       "      <td>포풍저그가나가신다영차영차영차</td>\n",
       "      <td>0</td>\n",
       "      <td>15</td>\n",
       "    </tr>\n",
       "  </tbody>\n",
       "</table>\n",
       "<p>147136 rows × 4 columns</p>\n",
       "</div>"
      ],
      "text/plain": [
       "              id                              document  label  corpus_length\n",
       "0        8112052                   어릴때보고 지금다시봐도 재밌어요ㅋㅋ      1             19\n",
       "2        4655635  폴리스스토리 시리즈는 1부터 뉴까지 버릴께 하나도 없음.. 최고.      1             36\n",
       "4       10067386           안개 자욱한 밤하늘에 떠 있는 초승달 같은 영화.      1             27\n",
       "5        2190435         사랑을 해본사람이라면 처음부터 끝까지 웃을수 있는영화      1             29\n",
       "6        9279041                      완전 감동입니다 다시봐도 감동      1             16\n",
       "...          ...                                   ...    ...            ...\n",
       "199995   8963373                        포켓 몬스터 짜가 ㅡㅡ;;      0             14\n",
       "199996   3302770                                 쓰.레.기      0              5\n",
       "199997   5458175     완전 사이코영화. 마지막은 더욱더 이 영화의질을 떨어트린다.      0             33\n",
       "199998   6908648   왜난 재미없었지 ㅠㅠ 라따뚜이 보고나서 스머프 봐서 그런가 ㅋㅋ      0             35\n",
       "199999   8548411                       포풍저그가나가신다영차영차영차      0             15\n",
       "\n",
       "[147136 rows x 4 columns]"
      ]
     },
     "execution_count": 23,
     "metadata": {},
     "output_type": "execute_result"
    }
   ],
   "source": [
    "removed_data"
   ]
  },
  {
   "cell_type": "code",
   "execution_count": 24,
   "id": "bcddfb3e",
   "metadata": {},
   "outputs": [
    {
     "data": {
      "text/plain": [
       "array([ 124,  460,  793, 1222, 1469, 1882, 2187, 2270, 2440, 3379, 4459,\n",
       "       5711, 5970, 5848, 5518, 5265, 5005, 4947, 4806, 4626, 4542, 4436,\n",
       "       4264, 4129, 4073, 3973, 3865, 3809, 3743, 3665, 3561, 3566, 3353,\n",
       "       3339, 3036, 2831, 2736, 2736, 2775, 2856, 2486, 2486, 2495])"
      ]
     },
     "execution_count": 24,
     "metadata": {},
     "output_type": "execute_result"
    }
   ],
   "source": [
    "sentence_length"
   ]
  },
  {
   "cell_type": "code",
   "execution_count": 25,
   "id": "f2a79102",
   "metadata": {},
   "outputs": [
    {
     "name": "stdout",
     "output_type": "stream",
     "text": [
      "전처리 전 데이터 개수 :  200000\n",
      "결측치 제거 후 데이터 개수 :  199992\n",
      "중복 제거 후 데이터 개수 :  194543\n",
      "maxlen 설정 후 데이터 개수 :  147136\n",
      "최종 데이터 양(%) :  73.568\n"
     ]
    }
   ],
   "source": [
    "print('전처리 전 데이터 개수 : ', len(data))\n",
    "print('결측치 제거 후 데이터 개수 : ', len(data_dropna))\n",
    "print('중복 제거 후 데이터 개수 : ', len(cleaned_corpus))\n",
    "print('maxlen 설정 후 데이터 개수 : ', len(removed_data))\n",
    "print('최종 데이터 양(%) : ', (len(removed_data) / len(data) * 100))"
   ]
  },
  {
   "cell_type": "markdown",
   "id": "88feb796",
   "metadata": {},
   "source": [
    "## Step 3. SentencePiece 모델 학습"
   ]
  },
  {
   "cell_type": "code",
   "execution_count": 26,
   "id": "a3c979bb",
   "metadata": {},
   "outputs": [
    {
     "name": "stderr",
     "output_type": "stream",
     "text": [
      "sentencepiece_trainer.cc(177) LOG(INFO) Running command: --input=/aiffel/aiffel/sp_tokenizer/data/korean-english-park.train.ko.temp --model_prefix=korean_spm --vocab_size=8000\n",
      "sentencepiece_trainer.cc(77) LOG(INFO) Starts training with : \n",
      "trainer_spec {\n",
      "  input: /aiffel/aiffel/sp_tokenizer/data/korean-english-park.train.ko.temp\n",
      "  input_format: \n",
      "  model_prefix: korean_spm\n",
      "  model_type: UNIGRAM\n",
      "  vocab_size: 8000\n",
      "  self_test_sample_size: 0\n",
      "  character_coverage: 0.9995\n",
      "  input_sentence_size: 0\n",
      "  shuffle_input_sentence: 1\n",
      "  seed_sentencepiece_size: 1000000\n",
      "  shrinking_factor: 0.75\n",
      "  max_sentence_length: 4192\n",
      "  num_threads: 16\n",
      "  num_sub_iterations: 2\n",
      "  max_sentencepiece_length: 16\n",
      "  split_by_unicode_script: 1\n",
      "  split_by_number: 1\n",
      "  split_by_whitespace: 1\n",
      "  split_digits: 0\n",
      "  treat_whitespace_as_suffix: 0\n",
      "  allow_whitespace_only_pieces: 0\n",
      "  required_chars: \n",
      "  byte_fallback: 0\n",
      "  vocabulary_output_piece_score: 1\n",
      "  train_extremely_large_corpus: 0\n",
      "  hard_vocab_limit: 1\n",
      "  use_all_vocab: 0\n",
      "  unk_id: 0\n",
      "  bos_id: 1\n",
      "  eos_id: 2\n",
      "  pad_id: -1\n",
      "  unk_piece: <unk>\n",
      "  bos_piece: <s>\n",
      "  eos_piece: </s>\n",
      "  pad_piece: <pad>\n",
      "  unk_surface:  ⁇ \n",
      "}\n",
      "normalizer_spec {\n",
      "  name: nmt_nfkc\n",
      "  add_dummy_prefix: 1\n",
      "  remove_extra_whitespaces: 1\n",
      "  escape_whitespaces: 1\n",
      "  normalization_rule_tsv: \n",
      "}\n",
      "denormalizer_spec {}\n",
      "trainer_interface.cc(329) LOG(INFO) SentenceIterator is not specified. Using MultiFileSentenceIterator.\n",
      "trainer_interface.cc(178) LOG(INFO) Loading corpus: /aiffel/aiffel/sp_tokenizer/data/korean-english-park.train.ko.temp\n",
      "trainer_interface.cc(385) LOG(INFO) Loaded all 147136 sentences\n",
      "trainer_interface.cc(400) LOG(INFO) Adding meta_piece: <unk>\n",
      "trainer_interface.cc(400) LOG(INFO) Adding meta_piece: <s>\n",
      "trainer_interface.cc(400) LOG(INFO) Adding meta_piece: </s>\n",
      "trainer_interface.cc(405) LOG(INFO) Normalizing sentences...\n",
      "trainer_interface.cc(466) LOG(INFO) all chars count=3488286\n",
      "trainer_interface.cc(477) LOG(INFO) Done: 99.95% characters are covered.\n",
      "trainer_interface.cc(487) LOG(INFO) Alphabet size=1765\n",
      "trainer_interface.cc(488) LOG(INFO) Final character coverage=0.9995\n",
      "trainer_interface.cc(520) LOG(INFO) Done! preprocessed 147136 sentences.\n",
      "unigram_model_trainer.cc(139) LOG(INFO) Making suffix array...\n",
      "unigram_model_trainer.cc(143) LOG(INFO) Extracting frequent sub strings...\n",
      "unigram_model_trainer.cc(194) LOG(INFO) Initialized 213776 seed sentencepieces\n",
      "trainer_interface.cc(526) LOG(INFO) Tokenizing input sentences with whitespace: 147136\n",
      "trainer_interface.cc(537) LOG(INFO) Done! 243347\n",
      "unigram_model_trainer.cc(489) LOG(INFO) Using 243347 sentences for EM training\n",
      "unigram_model_trainer.cc(505) LOG(INFO) EM sub_iter=0 size=111109 obj=15.2798 num_tokens=571024 num_tokens/piece=5.13931\n",
      "unigram_model_trainer.cc(505) LOG(INFO) EM sub_iter=1 size=103270 obj=14.2298 num_tokens=574642 num_tokens/piece=5.56446\n",
      "unigram_model_trainer.cc(505) LOG(INFO) EM sub_iter=0 size=77410 obj=14.3514 num_tokens=600068 num_tokens/piece=7.75182\n",
      "unigram_model_trainer.cc(505) LOG(INFO) EM sub_iter=1 size=77298 obj=14.2909 num_tokens=601067 num_tokens/piece=7.77597\n",
      "unigram_model_trainer.cc(505) LOG(INFO) EM sub_iter=0 size=57967 obj=14.5563 num_tokens=633130 num_tokens/piece=10.9222\n",
      "unigram_model_trainer.cc(505) LOG(INFO) EM sub_iter=1 size=57965 obj=14.4875 num_tokens=633405 num_tokens/piece=10.9274\n",
      "unigram_model_trainer.cc(505) LOG(INFO) EM sub_iter=0 size=43473 obj=14.7776 num_tokens=664262 num_tokens/piece=15.2799\n",
      "unigram_model_trainer.cc(505) LOG(INFO) EM sub_iter=1 size=43473 obj=14.7096 num_tokens=664268 num_tokens/piece=15.28\n",
      "unigram_model_trainer.cc(505) LOG(INFO) EM sub_iter=0 size=32604 obj=15.0347 num_tokens=697358 num_tokens/piece=21.3887\n",
      "unigram_model_trainer.cc(505) LOG(INFO) EM sub_iter=1 size=32604 obj=14.9641 num_tokens=697399 num_tokens/piece=21.39\n",
      "unigram_model_trainer.cc(505) LOG(INFO) EM sub_iter=0 size=24453 obj=15.3248 num_tokens=731204 num_tokens/piece=29.9024\n",
      "unigram_model_trainer.cc(505) LOG(INFO) EM sub_iter=1 size=24453 obj=15.2514 num_tokens=731202 num_tokens/piece=29.9023\n",
      "unigram_model_trainer.cc(505) LOG(INFO) EM sub_iter=0 size=18339 obj=15.6498 num_tokens=766208 num_tokens/piece=41.7802\n",
      "unigram_model_trainer.cc(505) LOG(INFO) EM sub_iter=1 size=18339 obj=15.5713 num_tokens=766222 num_tokens/piece=41.781\n",
      "unigram_model_trainer.cc(505) LOG(INFO) EM sub_iter=0 size=13754 obj=16.0015 num_tokens=802590 num_tokens/piece=58.3532\n",
      "unigram_model_trainer.cc(505) LOG(INFO) EM sub_iter=1 size=13754 obj=15.9139 num_tokens=802591 num_tokens/piece=58.3533\n",
      "unigram_model_trainer.cc(505) LOG(INFO) EM sub_iter=0 size=10315 obj=16.3842 num_tokens=841890 num_tokens/piece=81.618\n",
      "unigram_model_trainer.cc(505) LOG(INFO) EM sub_iter=1 size=10315 obj=16.2753 num_tokens=842037 num_tokens/piece=81.6323\n",
      "unigram_model_trainer.cc(505) LOG(INFO) EM sub_iter=0 size=8800 obj=16.5531 num_tokens=864741 num_tokens/piece=98.266\n",
      "unigram_model_trainer.cc(505) LOG(INFO) EM sub_iter=1 size=8800 obj=16.4946 num_tokens=864747 num_tokens/piece=98.2667\n",
      "trainer_interface.cc(615) LOG(INFO) Saving model: korean_spm.model\n",
      "trainer_interface.cc(626) LOG(INFO) Saving vocabs: korean_spm.vocab\n"
     ]
    },
    {
     "name": "stdout",
     "output_type": "stream",
     "text": [
      "-rw-r--r-- 1 root root 375259 Sep 23 03:04 korean_spm.model\r\n",
      "-rw-r--r-- 1 root root 144741 Sep 23 03:04 korean_spm.vocab\r\n"
     ]
    }
   ],
   "source": [
    "import sentencepiece as spm\n",
    "import os\n",
    "temp_file = os.getenv('HOME')+'/aiffel/sp_tokenizer/data/korean-english-park.train.ko.temp'\n",
    "\n",
    "vocab_size = 8000\n",
    "\n",
    "with open(temp_file, 'w') as f:\n",
    "    for row in removed_data['document']:   # 이전 스텝에서 정제했던 corpus를 활용합니다.\n",
    "        f.write(str(row) + '\\n')\n",
    "\n",
    "spm.SentencePieceTrainer.Train(\n",
    "    '--input={} --model_prefix=korean_spm --vocab_size={}'.format(temp_file, vocab_size)    \n",
    ")\n",
    "#위 Train에서  --model_type = 'unigram'이 디폴트 적용되어 있습니다. --model_type = 'bpe' 로 옵션을 주어 변경할 수 있습니다.\n",
    "\n",
    "!ls -l korean_spm*"
   ]
  },
  {
   "cell_type": "code",
   "execution_count": 27,
   "id": "335c1af3",
   "metadata": {},
   "outputs": [
    {
     "name": "stdout",
     "output_type": "stream",
     "text": [
      "[1616, 10, 409, 16, 1586, 10, 160, 13, 4]\n",
      "['▁아버지', '가', '방', '에', '들어', '가', '신', '다', '.']\n",
      "아버지가방에들어가신다.\n"
     ]
    }
   ],
   "source": [
    "s = spm.SentencePieceProcessor()\n",
    "s.Load('korean_spm.model')\n",
    "\n",
    "# SentencePiece를 활용한 sentence -> encoding\n",
    "tokensIDs = s.EncodeAsIds('아버지가방에들어가신다.')\n",
    "print(tokensIDs)\n",
    "\n",
    "# SentencePiece를 활용한 sentence -> encoded pieces\n",
    "print(s.SampleEncodeAsPieces('아버지가방에들어가신다.',1, 0.0))\n",
    "\n",
    "# SentencePiece를 활용한 encoding -> sentence 복원\n",
    "print(s.DecodeIds(tokensIDs))"
   ]
  },
  {
   "cell_type": "markdown",
   "id": "679d630c",
   "metadata": {},
   "source": [
    "## Step 4. Tokenizer 함수 작성"
   ]
  },
  {
   "cell_type": "code",
   "execution_count": 28,
   "id": "e58fbd69",
   "metadata": {},
   "outputs": [],
   "source": [
    "def sp_tokenize(s, corpus):\n",
    "\n",
    "    tensor = []\n",
    "\n",
    "    for sen in corpus:\n",
    "        tensor.append(s.EncodeAsIds(sen))\n",
    "\n",
    "    with open(\"./korean_spm.vocab\", 'r') as f:\n",
    "        vocab = f.readlines()\n",
    "\n",
    "    word_index = {}\n",
    "    index_word = {}\n",
    "\n",
    "    for idx, line in enumerate(vocab):\n",
    "        word = line.split(\"\\t\")[0]\n",
    "\n",
    "        word_index.update({idx:word})\n",
    "        index_word.update({word:idx})\n",
    "\n",
    "    tensor = tf.keras.preprocessing.sequence.pad_sequences(tensor, padding='post')\n",
    "\n",
    "    return tensor, word_index, index_word"
   ]
  },
  {
   "cell_type": "code",
   "execution_count": 29,
   "id": "9e4c3cdd",
   "metadata": {},
   "outputs": [
    {
     "name": "stdout",
     "output_type": "stream",
     "text": [
      "[[ 476 3136   15 1092 3057    4    0    0    0    0]\n",
      " [1539 2140  219  540   10    3   18 7910  814    7]]\n",
      "{0: '<unk>', 1: '<s>', 2: '</s>', 3: '▁', 4: '.', 5: '..', 6: '▁영화', 7: '...', 8: '이', 9: '의', 10: '가', 11: '도', 12: '는', 13: '다', 14: ',', 15: '을', 16: '에', 17: '은', 18: '고', 19: '?', 20: '지', 21: '!', 22: '▁너무', 23: '한', 24: '▁정말', 25: '만', 26: '~', 27: '를', 28: '▁진짜', 29: '영화', 30: '▁이', 31: '로', 32: '나', 33: '게', 34: '어', 35: '라', 36: '네', 37: '점', 38: '리', 39: '아', 40: '!!', 41: '기', 42: '과', 43: '....', 44: '인', 45: '▁1', 46: '요', 47: '▁아', 48: '▁왜', 49: '서', 50: '▁잘', 51: '▁안', 52: '으로', 53: '▁이런', 54: '하고', 55: '자', 56: '해', 57: '들', 58: '▁그', 59: '와', 60: '▁더', 61: '▁그냥', 62: '에서', 63: '거', 64: '▁10', 65: '네요', 66: '▁수', 67: '▁다', 68: '스', 69: '▁본', 70: '▁드라마', 71: '음', 72: '하는', 73: '▁최고', 74: '야', 75: '▁최고의', 76: '▁평점', 77: '▁ᄏᄏ', 78: '대', 79: '하', 80: '▁이거', 81: '니', 82: '함', 83: '면', 84: '▁완전', 85: '시', 86: '▁쓰레기', 87: '이다', 88: '▁보고', 89: '하다', 90: '수', 91: '▁내', 92: '사', 93: '▁연기', 94: '지만', 95: '!!!', 96: '▁좀', 97: '▁없다', 98: '미', 99: 'ᄏᄏ', 100: '임', 101: '▁이건', 102: '▁봤는데', 103: '냐', 104: '▁참', 105: '▁이게', 106: '▁없는', 107: '보다', 108: '^^', 109: '여', 110: '진', 111: '▁한', 112: '드', 113: '보', 114: '데', 115: '우', 116: '▁난', 117: '▁영화를', 118: '▁개', 119: '일', 120: '▁내가', 121: '하게', 122: '구', 123: '~~', 124: '▁못', 125: '▁2', 126: 'ᄏ', 127: '주', 128: '할', 129: '안', 130: '▁좋은', 131: '▁영화는', 132: '▁역시', 133: '▁스토리', 134: '▁나', 135: '▁평점이', 136: '성', 137: '▁재미', 138: '듯', 139: '▁영화가', 140: '▁이렇게', 141: '▁보는', 142: '정', 143: '상', 144: '▁다시', 145: '중', 146: '마', 147: '▁3', 148: '적', 149: '트', 150: '▁재밌게', 151: '던', 152: '는데', 153: ';;', 154: '▁별로', 155: '▁감동', 156: '려', 157: '▁넘', 158: '▁작품', 159: '장', 160: '신', 161: '1', 162: '▁있는', 163: '치', 164: '건', 165: '용', 166: '들이', 167: '▁뭐', 168: '전', 169: '▁오', 170: '▁말', 171: '??', 172: '오', 173: '부', 174: '보고', 175: '개', 176: '▁아깝다', 177: '러', 178: '질', 179: '▁ᄏᄏᄏ', 180: '까지', 181: '화', 182: '▁하', 183: '▁보', 184: '때', 185: '해서', 186: '물', 187: '내', 188: '▁명작', 189: '원', 190: '▁별', 191: '▁이야기', 192: 'ᅲᅲ', 193: '▁꼭', 194: '분', 195: '히', 196: '세', 197: '▁많이', 198: '랑', 199: '2', 200: '▁볼', 201: '했다', 202: '어요', 203: '▁전', 204: '소', 205: '그', 206: '▁ᄏ', 207: '▁마지막', 208: '▁감독', 209: ';', 210: '▁액션', 211: '▁중', 212: '▁지', 213: '▁짱', 214: '진짜', 215: '▁것', 216: 'ᄏᄏᄏ', 217: '▁또', 218: '년', 219: '▁ᅲᅲ', 220: '습니다', 221: '▁저', 222: '비', 223: '▁무', 224: '군', 225: '적인', 226: '무', 227: '급', 228: '▁기대', 229: '▁ᅳᅳ', 230: '▁말이', 231: '감', 232: '너무', 233: '▁좋다', 234: '영', 235: '식', 236: '▁재밌다', 237: '▁시간', 238: '것', 239: '인데', 240: '입니다', 241: '▁가장', 242: '선', 243: '▁하나', 244: '말', 245: '편', 246: '디', 247: 'ᅲ', 248: '같은', 249: '줄', 250: '▁무슨', 251: '▁김', 252: '란', 253: '걸', 254: '▁만든', 255: '제', 256: '본', 257: '조', 258: '좀', 259: '▁생각', 260: '하지', 261: '더', 262: '▁보면', 263: '▁주', 264: '▁한국', 265: '▁사랑', 266: '▁와', 267: '작', 268: '호', 269: '▁미', 270: \"'\", 271: '없는', 272: '남', 273: '▁하는', 274: '▁정', 275: '동', 276: '드라마', 277: '▁ᄒᄒ', 278: '▁재미없다', 279: '당', 280: '라고', 281: '▁지금', 282: '르', 283: '▁어', 284: '바', 285: '긴', 286: '심', 287: '▁코미디', 288: '모', 289: ',,', 290: '▁비', 291: '▁유', 292: 'ᅳᅳ', 293: '레', 294: '▁할', 295: '울', 296: '정말', 297: '▁굿', 298: '유', 299: '부터', 300: '▁일본', 301: '▁재미있게', 302: '▁없고', 303: '▁최악', 304: '▁사', 305: '두', 306: '연', 307: '▁일', 308: '▁조', 309: '▁내용', 310: '▁느낌', 311: '▁제', 312: '한다', 313: '크', 314: '▁대박', 315: '▁봤다', 316: '3', 317: '노', 318: '된', 319: ')', 320: '▁영화다', 321: '▁대', 322: '▁배우', 323: '씨', 324: '▁좋아', 325: '▁아니', 326: '류', 327: '으면', 328: '죠', 329: '▁봐도', 330: '있는', 331: '▁자', 332: '었다', 333: '▁처음', 334: '▁최악의', 335: '린', 336: '▁솔직히', 337: '잘', 338: '명', 339: '▁아주', 340: '▁다른', 341: '간', 342: '▁돈', 343: '난', 344: '▁이걸', 345: '에게', 346: '발', 347: '이나', 348: '위', 349: '으', 350: '▁마', 351: '▁모', 352: '들의', 353: '▁인생', 354: '길', 355: '연기', 356: '준', 357: '살', 358: '없다', 359: '운', 360: '때문에', 361: '타', 362: '▁그리고', 363: '▁이영화', 364: '루', 365: '워', 366: '점도', 367: '▁끝까지', 368: '▁있다', 369: '▁구', 370: '▁알', 371: '짱', 372: '합니다', 373: '▁두', 374: '구나', 375: '-', 376: '▁뭔가', 377: '▁기', 378: '~~~', 379: '!!!!', 380: '하나', 381: '▁우', 382: '날', 383: '▁거', 384: 'ᄒᄒ', 385: '경', 386: '래', 387: '♥', 388: '▁재밌어요', 389: '▁신', 390: '▁같은', 391: '▁여자', 392: '▁시', 393: '10', 394: '희', 395: '저', 396: '라는', 397: '▁0', 398: '번', 399: '님', 400: 'ᄒ', 401: '▁아니다', 402: '프', 403: '했던', 404: '▁연출', 405: '하네', 406: '판', 407: '▁아름다운', 408: '봤는데', 409: '방', 410: '▁해', 411: '림', 412: '단', 413: '따', 414: '▁보기', 415: '▁반', 416: '인가', 417: '▁공포', 418: '▁4', 419: '▁후', 420: '▁한번', 421: '▁모두', 422: '▁추천', 423: '▁실망', 424: '▁스릴러', 425: '▁때', 426: '박', 427: '▁그래도', 428: '엔', 429: '▁부', 430: 'ᅳ', 431: '▁딱', 432: '터', 433: 'e', 434: '까', 435: '피', 436: '▁내용이', 437: '실', 438: '▁바', 439: '▁최고다', 440: '▁줄', 441: '▁소', 442: '반', 443: \"▁'\", 444: '파', 445: '재', 446: '애', 447: '▁제일', 448: '▁애', 449: '▁재밌', 450: '▁ᄏᄏᄏᄏ', 451: '▁끝', 452: '▁전혀', 453: '점이', 454: '▁대한', 455: '형', 456: '카', 457: '4', 458: 'o', 459: '▁아까운', 460: '지는', 461: '관', 462: '민', 463: '▁강', 464: '▁스', 465: '▁싶다', 466: '▁만드는', 467: '되는', 468: '▁사람', 469: '든', 470: '▁9', 471: '▁보다', 472: '▁7', 473: '▁5', 474: '▁OO', 475: '▁재미도', 476: '▁나는', 477: '▁보다가', 478: '▁이제', 479: '▁배우들', 480: '▁^^', 481: '하지만', 482: '하면', 483: '▁만들어', 484: '▁계속', 485: '▁하지만', 486: '(', 487: '▁같다', 488: '▁연기가', 489: '▁봤', 490: '인지', 491: '▁우리', 492: '▁남는', 493: '~!', 494: '▁않는', 495: '코', 496: '▁많은', 497: '달', 498: '▁반전', 499: '겠다', 500: '▁조금', 501: '▁8', 502: '▁오랜만에', 503: '▁이상', 504: '키', 505: 'ᅮᅮ', 506: '처럼', 507: '▁박', 508: '▁아직도', 509: '티', 510: '▁전개', 511: '▁나름', 512: '없', 513: '???', 514: '▁엄청', 515: '시간', 516: '▁시간이', 517: '▁않은', 518: '▁재', 519: '다니', 520: '즈', 521: '▁내내', 522: '최고', 523: '5', 524: '▁영화라고', 525: '버', 526: ';;;', 527: '▁남', 528: '▁공포영화', 529: 'ᄏᄏᄏᄏ', 530: '▁ᅲ', 531: '▁OOO', 532: '들은', 533: '없이', 534: '겨', 535: '년대', 536: '▁수준', 537: '이랑', 538: '문', 539: '▁않고', 540: '▁배', 541: '▁아닌', 542: '져', 543: '왜', 544: '망', 545: '▁음악', 546: '▁장', 547: '못', 548: '니까', 549: '되', 550: '▁나오는', 551: '이라', 552: '구만', 553: '국', 554: '▁결말', 555: '▁기억', 556: '▁어떻게', 557: '▁졸작', 558: '하네요', 559: '공', 560: '▁여운이', 561: '▁걍', 562: '▁내용도', 563: '▁불', 564: '▁공', 565: '차', 566: '잼', 567: '▁아니라', 568: '▁지루하고', 569: '볼', 570: '▁절대', 571: '▁나도', 572: '후', 573: '▁재밌음', 574: '▁되', 575: '생각', 576: '▁원작', 577: '▁애니', 578: '▁노', 579: '▁감독이', 580: '▁개봉', 581: '▁멋진', 582: '▁봤습니다', 583: '스토리', 584: '지도', 585: '▁매력', 586: '▁강추', 587: '▁듯', 588: '넘', 589: '▁영화입니다', 590: '점은', 591: '▁지루한', 592: '▁지루하다', 593: '▁재밌는', 594: '▁눈', 595: '감동', 596: '봤', 597: '▁진심', 598: '극', 599: '▁현실', 600: '▁보세요', 601: '해요', 602: '▁좋아요', 603: '▁쓰', 604: '면서', 605: '▁시리즈', 606: '쳐', 607: '▁주인공', 608: '▁속', 609: '력', 610: '현', 611: '▁모든', 612: '▁재미가', 613: '▁지루함', 614: '▁욕', 615: '▁좋았다', 616: '▁뻔한', 617: '▁성', 618: '토', 619: '배', 620: '▁남자', 621: '▁수작', 622: '▁날', 623: '▁요즘', 624: '▁연기력', 625: '▁건', 626: '며', 627: '이란', 628: '▁가슴', 629: ',,,', 630: '▁한국영화', 631: '포', 632: '▁가족', 633: '인듯', 634: '▁때문에', 635: '▁괜찮은', 636: '참', 637: '뿐', 638: '평점', 639: '▁있', 640: '▁발', 641: '▁초', 642: '▁이해', 643: '봄', 644: '▁장면', 645: '▁도대체', 646: '등', 647: '않', 648: '▁B', 649: '▁없음', 650: 'i', 651: '▁봤던', 652: '금', 653: '산', 654: '▁차라리', 655: '▁제대로', 656: '였다', 657: '정도', 658: '\"', 659: '▁주는', 660: '스트', 661: '▁피', 662: '태', 663: '▁진', 664: '속', 665: '▁울', 666: '배우', 667: '▁근데', 668: '예', 669: '승', 670: '▁싶은', 671: '봤다', 672: '▁제목', 673: '▁좋고', 674: '재미', 675: '▁없', 676: '▁정도', 677: '학', 678: '▁스토리가', 679: '▁막장', 680: '▁뭘', 681: '보면', 682: '생', 683: '보는', 684: '▁잼', 685: '▁연기도', 686: 'd', 687: '▁ᄒ', 688: '▁눈물', 689: '▁머', 690: '던데', 691: '▁인', 692: '더라', 693: '▁봤어요', 694: '이야', 695: '▁미국', 696: '는게', 697: '8', 698: '난다', 699: '꺼', 700: '이라는', 701: '▁시작', 702: '녀', 703: '▁억지', 704: '죽', 705: '▁살', 706: '▁기분', 707: '론', 708: '▁그저', 709: '▁만들', 710: '▁최', 711: '▁감독의', 712: '매', 713: '봐', 714: '/', 715: '회', 716: '▁여', 717: '▁20', 718: '▁기억에', 719: '▁원', 720: '▁우리나라', 721: '▁긴장감', 722: '▁소재', 723: '한테', 724: '▁되는', 725: '▁알바', 726: '▁그런', 727: '6', 728: '다가', 729: '것도', 730: '▁존나', 731: '▁않', 732: '▁6', 733: '쓰레기', 734: '그냥', 735: '하기', 736: '▁뭔', 737: 't', 738: '7', 739: '역', 740: '이네', 741: '▁좋아하는', 742: '사랑', 743: '▁영', 744: '밖에', 745: '업', 746: '테', 747: '▁만화', 748: '▁맞', 749: '▁인간', 750: '▁음', 751: '▁나온', 752: '있다', 753: '석', 754: '감독', 755: '▁허', 756: '체', 757: '▁연', 758: '어서', 759: '▁망', 760: '먹', 761: '▁필요', 762: '▁심', 763: '▁공감', 764: '탄', 765: '리는', 766: '▁코믹', 767: '▁재미있다', 768: '케', 769: '중에', 770: '격', 771: '갈', 772: '악', 773: '▁화', 774: '▁매', 775: '천', 776: '▁후회', 777: '▁ᅮᅮ', 778: '▁영화의', 779: '▁보는내내', 780: '절', 781: '종', 782: '▁재미없음', 783: '작품', 784: '너', 785: '슨', 786: '▁걸작', 787: '▁시나리오', 788: '적으로', 789: '움', 790: '▁노잼', 791: '▁영상', 792: 's', 793: '▁동', 794: '었는데', 795: '▁세', 796: '▁스토리도', 797: '돈', 798: '만들', 799: '좋아', 800: '▁죽', 801: '▁애니메이션', 802: '집', 803: '불', 804: '설', 805: '▁아니고', 806: '▁좋', 807: '았', 808: '▁모르겠다', 809: '머', 810: '▁극장에서', 811: '했는데', 812: '▁나오', 813: '씬', 814: '니다', 815: '양', 816: '였', 817: '뭐', 818: '▁걸', 819: '잡', 820: '▁보지', 821: '▁제발', 822: '▁졸', 823: '보단', 824: '▁지루', 825: 'ᅮ', 826: '만큼', 827: '▁감동적인', 828: '었', 829: '강', 830: '이지', 831: '▁예', 832: '▁마지막에', 833: '액션', 834: '▁않다', 835: '봐도', 836: '▁보면서', 837: '▁뭐야', 838: '릴', 839: '▁함께', 840: '능', 841: '약', 842: '▁재미있어요', 843: '통', 844: '메', 845: '▁쓰레기영화', 846: '이상', 847: '순', 848: '▁호', 849: '▁몇', 850: '▁재밋', 851: '▁못한', 852: '했', 853: '사람', 854: '▁큰', 855: '라도', 856: '군요', 857: '근', 858: '▁예술', 859: '▁파', 860: '▁잔잔한', 861: '블', 862: '담', 863: '▁그만', 864: '▁-', 865: '▁행복', 866: '▁꽤', 867: '▁캐스팅', 868: '해도', 869: '투', 870: '대로', 871: '알', 872: '려고', 873: 'g', 874: '▁이해가', 875: '▁간만에', 876: '계', 877: '내용', 878: '아니', 879: '▁영화중', 880: '▁될', 881: '었던', 882: '▁별점', 883: '▁베', 884: '창', 885: '버린', 886: '▁매우', 887: 'l', 888: '▁영화에', 889: '▁재밌네요', 890: '완전', 891: 'a', 892: '▁막', 893: '▁잠', 894: '▁재미없', 895: '쓰', 896: '▁웃음', 897: '는거', 898: '▁웃', 899: '▁\"', 900: '▁표현', 901: '+', 902: '▁재미있는', 903: '▁영화네요', 904: 'ᄋ', 905: '▁더빙', 906: '▁꿀잼', 907: '이런', 908: '이라고', 909: '거야', 910: '▁똥', 911: '교', 912: '▁기억이', 913: '짐', 914: '▁감동이', 915: '베', 916: '▁봐야', 917: '영화는', 918: '색', 919: '▁볼만한', 920: '▁유치', 921: '▁재밌고', 922: '외', 923: '▁가슴이', 924: '▁노래', 925: '▁약간', 926: '을까', 927: '름', 928: '▁개인적으로', 929: '된다', 930: '-_-', 931: '▁캐릭터', 932: '건지', 933: '장면', 934: '▁오늘', 935: '▁생각보다', 936: '▁위한', 937: '▁어설픈', 938: '글', 939: '있', 940: '입', 941: '▁사실', 942: '점을', 943: '▁타', 944: '재밌', 945: '김', 946: '빠', 947: '했음', 948: '기는', 949: '▁영화로', 950: '적이', 951: '▁재미없는', 952: '▁마음이', 953: '▁대사', 954: '▁야', 955: '▁결국', 956: '점대', 957: '▁안되는', 958: '▁선', 959: '직', 960: '열', 961: '▁너무나', 962: '주는', 963: '▁토', 964: '▁배우들의', 965: '▁된', 966: '▁미친', 967: '▁누가', 968: '▁없었다', 969: '▁너', 970: '▁성룡', 971: '▁결말이', 972: '▁하고', 973: '▁없어', 974: '▁단', 975: '▁실', 976: '▁스릴', 977: '행', 978: '▁몰입도', 979: '▁점수', 980: '>', 981: '록', 982: '존', 983: '▁자체', 984: '끼', 985: '▁분위기', 986: '온', 987: '났', 988: '인줄', 989: '▁않는다', 990: '나는', 991: '평', 992: '▁내용은', 993: '이고', 994: '브', 995: '♡', 996: '락', 997: '▁드', 998: '나오', 999: '왕', 1000: 'h', 1001: '▁한다', 1002: '재미있', 1003: '▁대체', 1004: '잖아', 1005: '▁만들었', 1006: '초', 1007: '▁갈수록', 1008: '플', 1009: '향', 1010: '▁잡', 1011: '▁어떤', 1012: '▁평', 1013: '▁따라', 1014: '잔', 1015: '▁경', 1016: '증', 1017: '▁명', 1018: '▁재미는', 1019: '나요', 1020: '이었다', 1021: '칠', 1022: '놈', 1023: '~!!', 1024: '이네요', 1025: '는지', 1026: '이거', 1027: '▁눈물이', 1028: '기도', 1029: '범', 1030: '▁극', 1031: '▁이런영화', 1032: '▁다큐', 1033: '별로', 1034: '뻔', 1035: '▁열', 1036: '▁상', 1037: '▁차', 1038: '▁엔딩', 1039: '법', 1040: '▁없이', 1041: '▁준', 1042: '▁아무리', 1043: '▁아쉽다', 1044: '▁영화관에서', 1045: '▁아이', 1046: '▁사람들', 1047: '이건', 1048: '건가', 1049: '에도', 1050: '▁ᅳ', 1051: '징', 1052: '▁로맨스', 1053: '▁진정한', 1054: '맞', 1055: '할수', 1056: '이지만', 1057: '짜', 1058: '언', 1059: '▁장난', 1060: '▁찾아', 1061: '▁연기는', 1062: '땜에', 1063: '▁싶', 1064: '▁나왔', 1065: '▁당', 1066: '거지', 1067: '병', 1068: '될', 1069: '좋', 1070: '또', 1071: '▁정신', 1072: '▁많', 1073: '▁좋은영화', 1074: '수가', 1075: '▁출연', 1076: '▁문제', 1077: '▁웃기', 1078: '▁시즌', 1079: '▁방', 1080: '진다', 1081: '출', 1082: '▁카', 1083: '들을', 1084: '▁좋은데', 1085: '짓', 1086: '▁약', 1087: '0', 1088: '▁중국', 1089: '▁재밌는데', 1090: '별', 1091: '최악', 1092: '▁먹', 1093: '막', 1094: '백', 1095: '결', 1096: '▁치', 1097: '▁뭐지', 1098: '▁밖에', 1099: '▁허접', 1100: '잇', 1101: '▁백', 1102: '느', 1103: '▁훨씬', 1104: '▁다시봐도', 1105: '▁총', 1106: '▁적', 1107: '▁감', 1108: '침', 1109: '▁그래서', 1110: '▁아무', 1111: '▁봐', 1112: '▁들', 1113: 'p', 1114: '하면서', 1115: '▁간', 1116: '▁맘에', 1117: '▁있고', 1118: '▁올', 1119: '올', 1120: '▁구성', 1121: '느낌', 1122: '▁전쟁', 1123: '▁설정', 1124: '권', 1125: '▁당시', 1126: '줘', 1127: '재밋', 1128: '훈', 1129: '▁하나도', 1130: '친', 1131: '_', 1132: '께', 1133: '욕', 1134: '▁비디오', 1135: '▁초딩', 1136: '▁감동도', 1137: '▁역사', 1138: '렸', 1139: '맨', 1140: '었음', 1141: '▁포스터', 1142: '새', 1143: '~~~~', 1144: '▁영화였다', 1145: '▁애들', 1146: '먼', 1147: '대박', 1148: '▁뭐냐', 1149: '해라', 1150: '▁존', 1151: '▁생각이', 1152: '▁볼만', 1153: '▁주연', 1154: '됨', 1155: '편이', 1156: '▁생', 1157: '▁상당히', 1158: '▁이것도', 1159: '슬', 1160: '웃', 1161: '습', 1162: '▁좋네요', 1163: '련', 1164: '▁영상미', 1165: '▁준다', 1166: '▁힘', 1167: '기를', 1168: '9', 1169: '길래', 1170: '▁마음', 1171: '▁특히', 1172: '여자', 1173: '슴', 1174: '았다', 1175: '였음', 1176: '▁재미없어', 1177: '했지만', 1178: '▁뿐', 1179: '명작', 1180: '▁오래', 1181: '굿', 1182: '합', 1183: '▁어릴때', 1184: '▁따뜻한', 1185: '표', 1186: '라면', 1187: '▁있었', 1188: '▁얼굴', 1189: '커', 1190: '▁발연기', 1191: '▁첨', 1192: '기에', 1193: '▁관객', 1194: '▁보게', 1195: '▁헐', 1196: '린다', 1197: '없음', 1198: '환', 1199: '▁잼있', 1200: '▁물', 1201: '▁그렇게', 1202: '수준', 1203: '^', 1204: '돌', 1205: '▁한마디로', 1206: '기대', 1207: '▁종', 1208: '른', 1209: '▁멜로', 1210: '▁봤음', 1211: '소리', 1212: '▁외', 1213: '▁그나마', 1214: '▁이딴', 1215: '▁감동을', 1216: '보기', 1217: '▁너무너무', 1218: '▁없네', 1219: '년이', 1220: '????', 1221: '▁지루해', 1222: '▁같이', 1223: '▁네이버', 1224: 'k', 1225: 'OO', 1226: '▁으', 1227: '▁짜증', 1228: '▁재미있', 1229: '▁더럽게', 1230: '▁메', 1231: 'c', 1232: '▁낫다', 1233: '추', 1234: '▁돌아', 1235: '▁추', 1236: '▁생각하게', 1237: '해야', 1238: '퍼', 1239: '럽', 1240: '▁재밌었다', 1241: '▁있을까', 1242: '복', 1243: '사람들', 1244: '▁길', 1245: '▁옛날', 1246: '엇', 1247: '각', 1248: '▁봐라', 1249: '▁위', 1250: '효', 1251: '치는', 1252: '보니', 1253: '어야', 1254: '▁얼마나', 1255: '허', 1256: '이야기', 1257: '▁충격', 1258: '▁흠', 1259: '한영화', 1260: 'u', 1261: '▁언제', 1262: '했어요', 1263: '▁느낌이', 1264: '▁감성', 1265: '▁보여주는', 1266: '▁어디서', 1267: '▁아까움', 1268: '시리즈', 1269: '▁버', 1270: '거리', 1271: '▁나와', 1272: 'D', 1273: '찍', 1274: '▁변', 1275: '빈', 1276: '▁어느', 1277: '▁크', 1278: '▁안되', 1279: '▁바로', 1280: '영화가', 1281: '▁것이', 1282: '▁들어', 1283: '셨', 1284: 'y', 1285: '덕', 1286: '▁영화임', 1287: '▁여주인공', 1288: '스럽다', 1289: '▁위해', 1290: 'b', 1291: '치고', 1292: '▁중간에', 1293: '▁여기', 1294: '료', 1295: '술', 1296: '▁아님', 1297: '웠', 1298: '▁데', 1299: '만한', 1300: '▁재밌어', 1301: '주의', 1302: '햇', 1303: 'ᄉ', 1304: '편은', 1305: '채', 1306: '▁찍', 1307: '배우들', 1308: '▁배경', 1309: '졌', 1310: '듯한', 1311: '▁입', 1312: '▁별루', 1313: '▁뭐가', 1314: '▁좋음', 1315: '▁30', 1316: '▁90', 1317: '▁따', 1318: '▁ᄍᄍ', 1319: '▁스토리는', 1320: '▁초반', 1321: '하며', 1322: '*', 1323: '익', 1324: '▁레', 1325: '▁판타지', 1326: '▁전부', 1327: '▁사람이', 1328: '삼', 1329: '▁갈', 1330: '더니', 1331: '▁TV', 1332: '▁-_-', 1333: '처', 1334: '▁의미', 1335: '▁알고', 1336: '리고', 1337: '▁코', 1338: '▁살아', 1339: '었어요', 1340: '척', 1341: '▁존재', 1342: '으나', 1343: '앗', 1344: 'r', 1345: '거냐', 1346: '▁높', 1347: '▁분', 1348: '▁꿈', 1349: '라서', 1350: '▁CG', 1351: '▁평가', 1352: '겠', 1353: '▁봤지만', 1354: '▁나와서', 1355: '▁대단한', 1356: '▁산', 1357: '▁개연성', 1358: '▁tv', 1359: '▁친구', 1360: '▁된다', 1361: '▁코메디', 1362: '▁같아요', 1363: '▁일본영화', 1364: '▁어렸을때', 1365: '▁손', 1366: '▁다들', 1367: '▁주고', 1368: '▁제작', 1369: '레이', 1370: '을때', 1371: 'f', 1372: '▁줄거리', 1373: '년전', 1374: '▁있을', 1375: '▁같', 1376: '▁M', 1377: '▁아직', 1378: '기만', 1379: '자체가', 1380: '▁부족', 1381: '해지는', 1382: '▁봐서', 1383: '▁삼류', 1384: '▁몸', 1385: '▁비해', 1386: '졌다', 1387: '튼', 1388: '▁평점을', 1389: '재미없', 1390: '▁재밌었어요', 1391: '▁그닥', 1392: '▁아이들', 1393: '▁원작을', 1394: '엉', 1395: '▁작', 1396: '▁돌', 1397: '▁추억', 1398: '▁슬픈', 1399: '▁대단', 1400: '혜', 1401: '▁굉장히', 1402: '이에요', 1403: '▁엄마', 1404: '좋다', 1405: '네여', 1406: '▁속편', 1407: '▁킬링타임용', 1408: '▁ᄒᄒᄒ', 1409: '▁영화도', 1410: '▁그리', 1411: '렸다', 1412: '▁저질', 1413: '고싶', 1414: '▁포', 1415: '숙', 1416: '▁새로운', 1417: '눈', 1418: '▁암', 1419: '▁두번', 1420: '▁배우들이', 1421: '▁100', 1422: '▁봄', 1423: '▁마음에', 1424: '하는데', 1425: '스러운', 1426: '▁이영화를', 1427: '▁대작', 1428: '광', 1429: '▁빠', 1430: '쉬', 1431: '▁모습', 1432: '▁그대로', 1433: '▁흥미진진', 1434: '▁글', 1435: '얼', 1436: '만든', 1437: '▁삶', 1438: '▁낮은', 1439: '랄', 1440: '▁편', 1441: '▁훌륭한', 1442: '▁유쾌한', 1443: '하자', 1444: '▁각본', 1445: ':', 1446: '월', 1447: '▁악', 1448: '션', 1449: '▁유치한', 1450: '▁천', 1451: '▁팬', 1452: '▁깨', 1453: '▁끝나', 1454: '▁새', 1455: '▁연기를', 1456: '야지', 1457: '%', 1458: '▁영화인데', 1459: '▁패', 1460: '봐라', 1461: '낸', 1462: '나오는', 1463: '듬', 1464: '▁재미있고', 1465: '▁시대', 1466: '귀', 1467: '▁병맛', 1468: '이라도', 1469: '▁했다', 1470: '▁그러', 1471: '▁장르', 1472: '만으로도', 1473: '좋은', 1474: '▁생각을', 1475: '▁이정도', 1476: '▁평점에', 1477: '오빠', 1478: '▁하다', 1479: '▁어디', 1480: '▁진실', 1481: '점준다', 1482: '▁예상', 1483: '▁만점', 1484: '혀', 1485: '▁찾', 1486: '▁딸', 1487: '츠', 1488: '재밌게', 1489: '겠지', 1490: '다고', 1491: '▁ᄏᄏᄏᄏᄏ', 1492: '▁나온다', 1493: '▁세상', 1494: '▁왕', 1495: '받', 1496: '▁첫', 1497: '▁대해', 1498: '끝', 1499: '이게', 1500: '▁윤', 1501: '찬', 1502: '▁b', 1503: '▁비교', 1504: '▁세계', 1505: '▁여배우', 1506: '이라니', 1507: '립', 1508: '▁흥행', 1509: '껏', 1510: '염', 1511: '▁좋았어요', 1512: '▁감독님', 1513: '▁몰입', 1514: '라니', 1515: '▁바보', 1516: '간다', 1517: '없고', 1518: '▁혼자', 1519: '▁절', 1520: '▁요', 1521: '▁나의', 1522: '▁것을', 1523: '철', 1524: '▁(', 1525: '▁돈주고', 1526: '에요', 1527: '▁번', 1528: '혹', 1529: '조차', 1530: '줌', 1531: '▁맛', 1532: '▁나만', 1533: '탈', 1534: '▁누구', 1535: '씩', 1536: '▁불륜', 1537: '▁나올', 1538: '▁극장판', 1539: '▁그러나', 1540: '▁액션영화', 1541: '▁다음', 1542: '같', 1543: '▁아까워', 1544: '▁휴', 1545: '▁관', 1546: '영화를', 1547: '▁망작', 1548: '▁나이', 1549: '분들', 1550: '▁프랑스', 1551: '틀', 1552: '페', 1553: '같다', 1554: '거다', 1555: '▁빨리', 1556: '▁졸라', 1557: '▁매력적인', 1558: '▁완벽한', 1559: '▁만족', 1560: 'ᄂ', 1561: '아깝다', 1562: '▁무조건', 1563: '▁집중', 1564: '▁얘기', 1565: '최고의', 1566: '할때', 1567: '리가', 1568: '학교', 1569: '▁연출력', 1570: '하냐', 1571: '시대', 1572: '▁높은', 1573: '▁삼', 1574: '▁게', 1575: '추천', 1576: '강추', 1577: '지루', 1578: '반전', 1579: '목', 1580: '다시', 1581: '▁디', 1582: 'ᄅ', 1583: '▁귀여운', 1584: '세요', 1585: '▁현', 1586: '들어', 1587: '▁처음부터', 1588: '맛', 1589: '▁여주', 1590: '것이', 1591: '▁양', 1592: '런', 1593: '▁안된다', 1594: '남자', 1595: '졸', 1596: '▁질', 1597: '곡', 1598: '▁소리', 1599: '▁머리', 1600: '영화중', 1601: '▁항상', 1602: '▁왜이리', 1603: '한번', 1604: '▁80', 1605: '품', 1606: '▁이런게', 1607: '누', 1608: '▁전형적인', 1609: '▁내인생', 1610: '▁짜', 1611: '풍', 1612: '▁아름답다', 1613: '영화다', 1614: '싸', 1615: '▁웃겨', 1616: '▁아버지', 1617: '▁재미없고', 1618: '▁대단하다', 1619: '▁돈이', 1620: '▁낚', 1621: '땐', 1622: '▁청춘', 1623: '▁명작이다', 1624: '▁통', 1625: '아서', 1626: '▁엄청난', 1627: '▁투', 1628: '▁화이팅', 1629: '▁답답', 1630: '▁역', 1631: '▁이름', 1632: '~^^', 1633: '▁달', 1634: '▁커', 1635: '점짜리', 1636: '▁지금봐도', 1637: '재미없다', 1638: '준다', 1639: '▁좋겠다', 1640: '노잼', 1641: '▁느', 1642: '▁예고편', 1643: '▁예전에', 1644: '▁목소리', 1645: '▁짜증나', 1646: '처음', 1647: '▁순', 1648: '잉', 1649: '놓고', 1650: '이라면', 1651: 'm', 1652: '다는', 1653: '휴', 1654: '갑', 1655: '▁빠져', 1656: '괴', 1657: '▁로맨틱', 1658: '▁장면이', 1659: '있고', 1660: '일까', 1661: '▁보여', 1662: '▁생각해', 1663: '셔', 1664: '▁거의', 1665: '--', 1666: '▁없을', 1667: '▁앞', 1668: '이냐', 1669: '벌', 1670: '했습니다', 1671: '여서', 1672: '▁추억의', 1673: '▁감동적이', 1674: '▁했는데', 1675: '▁여운', 1676: '▁굳', 1677: '▁영화보다', 1678: '주세요', 1679: '▁작가', 1680: 'ᅲᅲᅲ', 1681: '▁클', 1682: '▁리메이크', 1683: '실망', 1684: '▁전편', 1685: '▁아이들이', 1686: 'ᄆ', 1687: '▁낮', 1688: '음악', 1689: '▁만들지', 1690: '애니', 1691: '▁힘든', 1692: '놈들', 1693: '▁터', 1694: '났다', 1695: '했으면', 1696: '부분', 1697: '▁스타일', 1698: '한거', 1699: '같이', 1700: '▁부족한', 1701: '독', 1702: '킹', 1703: '▁충분히', 1704: '고싶다', 1705: '▁교훈', 1706: '재밌어요', 1707: '였습니다', 1708: '는건', 1709: '많이', 1710: '▁골', 1711: '▁재미없네', 1712: '▁같은데', 1713: '▁이영화는', 1714: '▁잘봤습니다', 1715: '짝', 1716: '▁싸', 1717: '▁형', 1718: '▁아오', 1719: '▁문', 1720: '▁있어', 1721: '▁일단', 1722: '건데', 1723: 'ᄃ', 1724: '▁화면', 1725: '빵', 1726: '코미디', 1727: '▁감정', 1728: '▁천재', 1729: '보게', 1730: '필요', 1731: '▁재미있음', 1732: '을듯', 1733: '▁봤네요', 1734: '본다', 1735: '▁않았', 1736: '▁복', 1737: '꼬', 1738: '정도로', 1739: '▁200', 1740: '▁믿고', 1741: '▁유쾌', 1742: '▁앞으로', 1743: '잼있', 1744: '▁알았다', 1745: '▁감동적이고', 1746: '▁만드', 1747: '봐서', 1748: ',,,,', 1749: '▁있었다', 1750: '▁주제', 1751: '청', 1752: '▁최악이다', 1753: '▁책', 1754: '겠네', 1755: 'ᄒᄒᄒ', 1756: '▁잘만든', 1757: '▁전작', 1758: '▁유치하고', 1759: '에는', 1760: '▁궁금', 1761: '낮', 1762: '▁관람', 1763: '랬', 1764: '▁놀', 1765: '윤', 1766: '깔', 1767: '▁SF', 1768: '꼭', 1769: '▁뒤', 1770: '▁하지', 1771: '▁상상력', 1772: '▁더욱', 1773: '지금', 1774: '▁보고싶다', 1775: '▁재밌었음', 1776: '걸까', 1777: '보다는', 1778: '▁지금까지', 1779: '▁멋지다', 1780: '▁작품성', 1781: '곤', 1782: '▁힘들', 1783: '한데', 1784: '들도', 1785: '▁글쎄', 1786: '뜨', 1787: '▁이상한', 1788: '▁재밌습니다', 1789: '▁ᄉᄇ', 1790: '▁시걸', 1791: '▁태', 1792: '▁사회', 1793: '▁리', 1794: '도없고', 1795: '겁', 1796: '▁괜히', 1797: '▁아쉬운', 1798: '▁믿', 1799: '▁아놔', 1800: '▁끌', 1801: '▁왠지', 1802: '재밌다', 1803: '▁좋았음', 1804: '들에게', 1805: '다면', 1806: '겟', 1807: '▁반전이', 1808: '그런', 1809: '▁액션도', 1810: '근데', 1811: '▁그래', 1812: 'ᄀ', 1813: '▁나쁜', 1814: '필', 1815: '▁담', 1816: '▁저는', 1817: '에선', 1818: '앙', 1819: '▁보니', 1820: '▁유머', 1821: '▁시간낭비', 1822: '응', 1823: '구요', 1824: '▁이런걸', 1825: '▁성장', 1826: '▁써', 1827: '많', 1828: '▁이런거', 1829: '▁슬프다', 1830: '▁실화', 1831: '규', 1832: '▁이연걸', 1833: '▁그래픽', 1834: '성이', 1835: '▁왜이렇게', 1836: '▁감독은', 1837: '▁괜찮', 1838: '리스', 1839: '▁성우', 1840: '▁상상', 1841: '▁사랑을', 1842: '내가', 1843: '역시', 1844: '▁도저히', 1845: '십', 1846: '▁뻔', 1847: '▁점점', 1848: '▁없어서', 1849: '적이고', 1850: '▁볼수', 1851: '▁못하는', 1852: '▁재밌네', 1853: '좋아요', 1854: '답', 1855: '▁그런지', 1856: '렌', 1857: '▁제가', 1858: '▁잘못', 1859: '▁슬', 1860: '▁떨', 1861: '▁재밌었는데', 1862: '였는데', 1863: '▁소설', 1864: '▁잼있게', 1865: '▁신기', 1866: '▁개그', 1867: 'E', 1868: '▁긴', 1869: '▁마무리', 1870: '................', 1871: '마지막', 1872: '풀', 1873: '▁상황', 1874: '▁웃긴', 1875: '말이', 1876: '다운', 1877: '▁귀', 1878: '▁필요없다', 1879: '축', 1880: 'ᅡ', 1881: '▁필요없는', 1882: '도록', 1883: '기가', 1884: '그리고', 1885: '▁ᄃᄃ', 1886: '묘', 1887: '랐', 1888: '없네', 1889: '압', 1890: '▁영화라', 1891: '▁좀비', 1892: '▁빈', 1893: '▁액션이', 1894: '▁범죄', 1895: '인거', 1896: '▁별로다', 1897: '보다가', 1898: '▁동화', 1899: '▁먹먹', 1900: '전개', 1901: '▁맥', 1902: '▁자기', 1903: 'j', 1904: '▁저런', 1905: '써', 1906: '▁흐', 1907: '▁지루하지', 1908: 'w', 1909: '패', 1910: '▁낭비', 1911: '골', 1912: '▁결', 1913: '▁이리', 1914: '▁재밋다', 1915: 'x', 1916: '▁황당', 1917: '▁알았', 1918: '▁재밌었', 1919: '▁게임', 1920: '▁대한민국', 1921: '▁ᅮ', 1922: '보세요', 1923: '▁사람은', 1924: '최', 1925: '▁가치', 1926: '▁주인공이', 1927: '재밌음', 1928: '▁이유', 1929: '▁겁나', 1930: '완', 1931: '▁볼만함', 1932: '변', 1933: '▁지금도', 1934: '▁흥미', 1935: '▁완벽', 1936: '유치', 1937: '년도', 1938: '▁사람들이', 1939: '닥', 1940: '▁역대', 1941: '▁시절', 1942: '▁감상', 1943: '▁교', 1944: '암', 1945: '▁순간', 1946: '▁극장', 1947: '▁허무', 1948: '▁아쉽', 1949: '드는', 1950: '연출', 1951: '▁싫다', 1952: '▁없네요', 1953: '킬', 1954: '것을', 1955: '만화', 1956: '▁무서운', 1957: '▁한계', 1958: '▁있어서', 1959: '▁설', 1960: '동안', 1961: '▁소재는', 1962: '▁뭔지', 1963: '아닌', 1964: '킨', 1965: '▁젤', 1966: '▁볼만하다', 1967: '넣', 1968: '됬', 1969: '▁니', 1970: '▁처음으로', 1971: '▁그럭저럭', 1972: '황', 1973: '▁자꾸', 1974: '는영화', 1975: '▁지루하', 1976: '▁느낄', 1977: '링', 1978: '없어', 1979: '함을', 1980: '탕', 1981: '춘', 1982: '&', 1983: '▁완성도', 1984: '▁몰', 1985: '으니', 1986: '▁보지마세요', 1987: '든다', 1988: '▁허접한', 1989: '겠지만', 1990: '깨', 1991: '딩', 1992: '▁배우가', 1993: '▁재미있었다', 1994: '▁특', 1995: '▁그것', 1996: '▁느끼', 1997: '▁저도', 1998: '푸', 1999: '만들어', 2000: '왔', 2001: '▁재미있네요', 2002: '▁독특한', 2003: 'n', 2004: '▁알바들', 2005: '▁온', 2006: '=', 2007: '▁이쁘', 2008: '▁않을', 2009: '하세요', 2010: '▁독', 2011: '득', 2012: '`', 2013: '▁ost', 2014: '▁그다지', 2015: '▁있지만', 2016: '였어요', 2017: '▁어릴적', 2018: '.......', 2019: '▁정도로', 2020: '하라', 2021: '롭', 2022: '▁완', 2023: '▁가는', 2024: '▁보여주', 2025: '▁화려한', 2026: '▁C', 2027: '▁중에', 2028: '▁선택', 2029: '▁그랬', 2030: '▁죽음', 2031: '▁기대하고', 2032: '하긴', 2033: '▁나에게', 2034: '▁집', 2035: '▁그녀', 2036: '엿', 2037: '........', 2038: '▁영화였습니다', 2039: '▁쵝오', 2040: '▁연출이', 2041: '▁신선', 2042: '리지', 2043: 'ᄏᄏᄏᄏᄏ', 2044: '▁괴', 2045: '하는거', 2046: '거나', 2047: '▁아름답고', 2048: '▁자유', 2049: '▁평점은', 2050: '만으로', 2051: '▁황', 2052: '▁갖', 2053: '갔', 2054: '▁나를', 2055: '▁해준', 2056: '떨', 2057: '▁영화냐', 2058: '속에', 2059: '나서', 2060: '내요', 2061: '해주는', 2062: '시키', 2063: '▁처', 2064: '봉', 2065: '▁어이없는', 2066: '먹는', 2067: '급영화', 2068: '▁good', 2069: '좌', 2070: '▁쓴', 2071: '▁입니다', 2072: '▁느껴', 2073: 'ᄍᄍ', 2074: '▁이정도면', 2075: '▁비추', 2076: '▁것도', 2077: '▁영웅', 2078: '▁미치', 2079: '시절', 2080: '▁짱짱', 2081: '▁봐야할', 2082: '▁해도', 2083: '▁우울', 2084: '억', 2085: '▁광', 2086: '벨', 2087: '▁전기세', 2088: '▁몸매', 2089: '▁성공', 2090: '▁전개가', 2091: '▁설명', 2092: '▁바라', 2093: '쩌', 2094: '▁19', 2095: '▁음악이', 2096: '▁답', 2097: '주인공', 2098: '지마라', 2099: '▁섹시', 2100: '▁리얼', 2101: '▁미화', 2102: '거임', 2103: '▁고전', 2104: '볼만', 2105: '▁재밋게', 2106: '▁모르고', 2107: '▁생각나', 2108: '▁알게', 2109: '▁어린', 2110: '▁페', 2111: '▁여성', 2112: '쇼', 2113: '▁쳐', 2114: '@', 2115: '▁떠', 2116: '싱', 2117: '힌', 2118: 'T', 2119: '▁분명', 2120: '▁바람', 2121: '▁없나', 2122: '▁까', 2123: '함이', 2124: '웃음', 2125: '♥♥', 2126: '봐야', 2127: '봤음', 2128: '하니', 2129: '였던', 2130: '▁그림', 2131: '▁댓글', 2132: '▁수준이', 2133: '지않은', 2134: '▁킬링타임', 2135: '령', 2136: '찌', 2137: '▁결혼', 2138: '▁아깝', 2139: '밀', 2140: '▁여전히', 2141: '▁아무것도', 2142: '쿠', 2143: '누나', 2144: '▁보여준', 2145: '알바', 2146: '▁눈이', 2147: '년에', 2148: '▁신선한', 2149: '결말', 2150: '니깐', 2151: '마음', 2152: '▁알아', 2153: '떡', 2154: '▁깊은', 2155: '쥬', 2156: '롱', 2157: '▁티', 2158: '마저', 2159: '▁애들이', 2160: '▁말도', 2161: '팬', 2162: '▁숨', 2163: '픈', 2164: '▁무섭', 2165: '▁A', 2166: ';;;;', 2167: '▁좋았는데', 2168: '들아', 2169: '홍', 2170: '▁인간의', 2171: '스타', 2172: '▁너무나도', 2173: '▁싫어', 2174: '인간', 2175: '▁노력', 2176: '오는', 2177: '▁귀신', 2178: '▁귀엽고', 2179: '▁누', 2180: '▁안나오', 2181: '▁가지고', 2182: '쯤', 2183: '▁만나', 2184: '풋', 2185: '▁이러', 2186: '성을', 2187: '팔', 2188: '▁각', 2189: '▁않음', 2190: '▁진부한', 2191: '▁이영화가', 2192: '▁의도', 2193: '로운', 2194: '▁인정', 2195: '▁그때', 2196: '나와', 2197: '▁이번', 2198: '▁않았다', 2199: '아이', 2200: '▁남는다', 2201: '▁처음이다', 2202: '랜', 2203: '일뿐', 2204: '껄', 2205: '▁예쁜', 2206: '짜리', 2207: '봤어요', 2208: '버리', 2209: '어도', 2210: '▁만들었다', 2211: '딱', 2212: '▁캐', 2213: '▁없었', 2214: '▁보고나서', 2215: '▁낫', 2216: '▁홍콩', 2217: '▁느껴지는', 2218: '▁지루해서', 2219: '했어', 2220: '▁감사합니다', 2221: '감이', 2222: '▁듯한', 2223: '▁참고', 2224: '▁어렸을', 2225: '▁무지', 2226: 'O', 2227: '웃기', 2228: '▁비슷', 2229: '점주는', 2230: '▁읽', 2231: '▁안보', 2232: '▁보고싶', 2233: '▁보시길', 2234: '▁이젠', 2235: '▁취향', 2236: '▁할말이', 2237: '▁순수한', 2238: '▁유치하다', 2239: '모습', 2240: '있게', 2241: '잃', 2242: '이면', 2243: '지마', 2244: '▁시트콤', 2245: '▁스케일', 2246: '▁전체적으로', 2247: '▁표절', 2248: '▁출', 2249: '▁빵', 2250: '▁사랑스러운', 2251: '▁잔잔하고', 2252: '▁추천합니다', 2253: '▁의리', 2254: '견', 2255: '괜찮', 2256: '▁벗', 2257: '▁싶어', 2258: '영화의', 2259: '▁이것', 2260: '▁있음', 2261: '▁무서워', 2262: '▁상영', 2263: '▁프로', 2264: '짜증', 2265: '▁이후', 2266: '빨', 2267: '▁아닌가', 2268: '▁사랑이', 2269: '▁좋았습니다', 2270: '멋', 2271: '▁자신', 2272: '▁높다', 2273: '돼', 2274: '▁했', 2275: '▁전달', 2276: 'S', 2277: '▁단순', 2278: '무섭', 2279: '▁느끼게', 2280: '편보다', 2281: '▁성인', 2282: '됐', 2283: '짧', 2284: '▁받', 2285: '하는게', 2286: '버렸다', 2287: '끔', 2288: 'ᄇ', 2289: '▁영화중에', 2290: '땅', 2291: '▁갑자기', 2292: '▁이하', 2293: '▁가볍게', 2294: '▁뒷', 2295: '이제', 2296: '▁권', 2297: '▁아저씨', 2298: '▁옛날에', 2299: '▁마라', 2300: '클', 2301: '▁벌', 2302: '▁수가', 2303: '▁눈을', 2304: '▁마음을', 2305: '▁되어', 2306: '▁분들', 2307: '▁오글', 2308: '자가', 2309: '했을', 2310: '겟다', 2311: '릭', 2312: '량', 2313: '폰', 2314: '▁흥미롭', 2315: '모르', 2316: '그래도', 2317: '▁자극', 2318: '▁아빠', 2319: '▁좋습니다', 2320: '▁액션은', 2321: '▁평생', 2322: '옥', 2323: '▁엉성', 2324: '것이다', 2325: '▁않아', 2326: '▁몇번을', 2327: '▁멀', 2328: '들과', 2329: '내는', 2330: '인이', 2331: '▁재미를', 2332: '욱', 2333: '▁평론가', 2334: '▁15', 2335: '▁밑에', 2336: '▁계', 2337: '▁보는게', 2338: '개도', 2339: '▁스토리에', 2340: '▁쓰래기', 2341: '▁볼거리', 2342: '전에', 2343: '율', 2344: '▁멋있', 2345: 'ᅵ', 2346: '좋았', 2347: '▁우연히', 2348: '▁꼬', 2349: '▁우와', 2350: '▁재미있었어요', 2351: '▁생애', 2352: '▁역시나', 2353: '▁것이다', 2354: '▁어이없', 2355: 'ᄏᄏᄏᄏᄏᄏᄏᄏᄏᄏᄏᄏᄏᄏᄏᄏ', 2356: '족', 2357: '▁세상에', 2358: '▁해주는', 2359: '것같다', 2360: '▁둘', 2361: '▁아닌듯', 2362: '▁쩐다', 2363: '그렇', 2364: '언니', 2365: '▁소름', 2366: '▁팔', 2367: '▁호러', 2368: '년전에', 2369: '▁굿굿', 2370: '자들', 2371: '▁섹스', 2372: '되어', 2373: '▁충', 2374: '▁조폭', 2375: '▁s', 2376: '▁언', 2377: '▁이미', 2378: '높', 2379: '▁알았는데', 2380: '▁사극', 2381: '놓은', 2382: '▁불편', 2383: '▁있나', 2384: '있어', 2385: '무슨', 2386: '▁와우', 2387: '▁+', 2388: '려서', 2389: '거같다', 2390: '는걸', 2391: '▁아나', 2392: '▁노출', 2393: '가서', 2394: '했네', 2395: '형님', 2396: '▁감사', 2397: '따라', 2398: '송', 2399: '▁브', 2400: '▁뮤지컬', 2401: '지고', 2402: '찰', 2403: '▁살인', 2404: '했고', 2405: '▁다르', 2406: '▁모르는', 2407: '▁어찌', 2408: '는것', 2409: '에겐', 2410: '▁억지로', 2411: '수록', 2412: '하던', 2413: '▁매력적', 2414: '나온', 2415: '▁미드', 2416: '▁것은', 2417: '▁본다', 2418: '▁복수', 2419: '▁슬프고', 2420: '▁사람들은', 2421: '▁미안', 2422: '케이', 2423: '듣', 2424: '평점이', 2425: 'an', 2426: '▁후반부', 2427: '하시', 2428: '▁드럽게', 2429: '▁꺼', 2430: '▁소름돋', 2431: '점준', 2432: '시다', 2433: '▁어색한', 2434: '▁짜증나는', 2435: '▁그런가', 2436: '▁기대를', 2437: '주고', 2438: '▁할말', 2439: '▁보는데', 2440: '흔', 2441: '▁어이가', 2442: '▁귀여워', 2443: '▁매력이', 2444: '되고', 2445: '▁일상', 2446: '▁무서웠', 2447: '소재', 2448: '▁인상', 2449: 'L', 2450: '▁깊이', 2451: '▁기대안하고', 2452: '▁기분이', 2453: '▁무섭다', 2454: '▁티비에서', 2455: '온다', 2456: '시켜', 2457: '▁좋아하', 2458: '보는데', 2459: '▁빠지', 2460: '▁어색', 2461: '인의', 2462: '이뻐', 2463: '엄', 2464: '힘', 2465: '▁S', 2466: '▁트', 2467: '스릴러', 2468: '▁나가', 2469: '▁이건뭐', 2470: 'ᅩ', 2471: '뿌', 2472: '▁디즈니', 2473: '스러움', 2474: '▁시사회', 2475: '▁가끔', 2476: '▁보고싶은', 2477: '▁극치', 2478: '▁용서', 2479: '▁됐', 2480: '▁평범한', 2481: '▁한편', 2482: '▁한심', 2483: '중의', 2484: '▁재미없어요', 2485: '더만', 2486: 'V', 2487: '▁에로', 2488: '▁귀엽', 2489: '세계', 2490: 'ᅲᅲᅲᅲ', 2491: '▁명작이', 2492: '▁있는데', 2493: '▁미소', 2494: '널', 2495: '▁메세지', 2496: '▁이거보고', 2497: '▁루', 2498: '▁느와르', 2499: '번째', 2500: '▁볼수록', 2501: '▁봤었는데', 2502: '갔다', 2503: '쁘', 2504: '▁핵', 2505: '▁몰랐', 2506: '▁;;', 2507: '기분', 2508: '있음', 2509: '▁독립영화', 2510: '▁더이상', 2511: '가슴', 2512: '▁키', 2513: '가족', 2514: '뜻', 2515: '새끼', 2516: '웅', 2517: '렉', 2518: '덤', 2519: '넹', 2520: '▁국', 2521: '▁코난', 2522: '▁목', 2523: '▁갑', 2524: '▁맞는', 2525: '▁감동적', 2526: '▁틀', 2527: '▁지나', 2528: '아님', 2529: '나옴', 2530: '마다', 2531: '려는', 2532: '꿀잼', 2533: '충', 2534: '릿', 2535: '▁말고', 2536: '었지만', 2537: '뒤', 2538: '영상', 2539: 'ᄌ', 2540: '▁작품이', 2541: '죄', 2542: '분이', 2543: '▁아니지만', 2544: '면서도', 2545: '▁싸구려', 2546: '▁잊혀지지', 2547: '▁참신', 2548: '▁편집', 2549: '▁ᄋ', 2550: '나와서', 2551: '▁보았', 2552: '▁원래', 2553: '▁이쁘다', 2554: '▁되게', 2555: '▁식상', 2556: 'er', 2557: '▁빨', 2558: '본영화', 2559: '▁재밌던데', 2560: '▁진리', 2561: '웨', 2562: '흐', 2563: '▁빌려', 2564: '가지', 2565: '공포', 2566: '아요', 2567: '▁짝퉁', 2568: 'ᄏᄏᄏᄏᄏᄏᄏᄏᄏ', 2569: '▁떠나', 2570: '▁높아', 2571: 'C', 2572: '총', 2573: '엘', 2574: '나올', 2575: '왔다', 2576: '▁싫', 2577: '▁먼', 2578: '므', 2579: '▁웃김', 2580: '▁생각나는', 2581: '▁볼때마다', 2582: '▁얼', 2583: '▁후반', 2584: '친구', 2585: '▁지루했다', 2586: '▁보지마', 2587: '▁있었던', 2588: '버리고', 2589: '▁제목이', 2590: '▁다소', 2591: '▁영화지만', 2592: '▁유치함', 2593: '있었', 2594: '것은', 2595: '사람이', 2596: '▁같음', 2597: 'B', 2598: 'ᄃᄃ', 2599: '꼽', 2600: 'P', 2601: '▁우정', 2602: '놓', 2603: '▁그들의', 2604: '▁진행', 2605: '▁찡', 2606: '▁아깝지', 2607: '▁올해', 2608: '▁죄', 2609: '시간이', 2610: '감동적', 2611: '▁OST', 2612: '버렸', 2613: '▁하게', 2614: '을텐데', 2615: '책', 2616: '것같', 2617: '놀', 2618: '▁믿을', 2619: '끈', 2620: '▁질질', 2621: '▁영화에요', 2622: '쓴', 2623: '▁볼게', 2624: '▁특유의', 2625: '▁에휴', 2626: '▁난다', 2627: '▁관심', 2628: '▁좋았던', 2629: '▁부분', 2630: '줄이야', 2631: '▁말로', 2632: '드리', 2633: '하다니', 2634: '▁현대', 2635: '▁그게', 2636: '따위', 2637: '▁왜케', 2638: '▁w', 2639: '혼', 2640: '▁ᅲᅲᅲ', 2641: '▁합니다', 2642: '코드', 2643: '▁필', 2644: '▁스타', 2645: '렬', 2646: '▁확실히', 2647: '▁압권', 2648: '▁주성치', 2649: '아주', 2650: '▁긴장', 2651: '북', 2652: '▁안됨', 2653: '▁연애', 2654: '▁질리지', 2655: '때마다', 2656: '▁취', 2657: '끼리', 2658: '나라', 2659: '예요', 2660: '하여', 2661: '▁등', 2662: '▁보기엔', 2663: '▁동물', 2664: '▁똑같', 2665: '▁정서', 2666: '그래', 2667: '보자', 2668: '▁임', 2669: '▁I', 2670: '무비', 2671: 'ᄏᄏᄏᄏᄏᄏᄏᄏᄏᄏᄏᄏᄏ', 2672: '냥', 2673: 'st', 2674: '▁슬프', 2675: '스가', 2676: '봣', 2677: '▁슬픔', 2678: '폭', 2679: '생겼', 2680: '▁청', 2681: '굴', 2682: '취', 2683: '▁아름다움', 2684: '▁따뜻해지는', 2685: '▁살짝', 2686: '▁종교', 2687: '애들', 2688: '▁찍은', 2689: '▁연기력이', 2690: '▁회', 2691: '▁이쁜', 2692: '▁썩', 2693: '▁괴물', 2694: '▁반개도', 2695: '▁재미잇', 2696: '▁끝난', 2697: '▁그린', 2698: '▁여자들', 2699: '람', 2700: '▁무비', 2701: '한다면', 2702: '▁덜', 2703: '▁자연', 2704: '▁해야', 2705: '▁잼나', 2706: '▁하면', 2707: '까진', 2708: '안되', 2709: '이렇게', 2710: '▁로그인', 2711: '▁감탄', 2712: 'M', 2713: '봤던', 2714: '▁단연', 2715: '▁이야기가', 2716: '▁유쾌하고', 2717: '▁잼있다', 2718: '▁이유가', 2719: '▁그의', 2720: '▁미래', 2721: '▁몰입감', 2722: '세기', 2723: '▁돋', 2724: '좋음', 2725: '▁그렇고', 2726: '▁저예산', 2727: '▁느낄수', 2728: '일이', 2729: '▁정치', 2730: '▁떨어지는', 2731: '▁노답', 2732: '식이', 2733: '싶', 2734: '영환', 2735: '받은', 2736: '머리', 2737: '틱', 2738: '▁청소년', 2739: '례', 2740: '헤', 2741: '봅니다', 2742: '▁형편없', 2743: '던가', 2744: '▁베스트', 2745: '▁했지만', 2746: '▁여자가', 2747: '스런', 2748: '신고', 2749: '드라', 2750: '▁월', 2751: '▁급', 2752: '보면서', 2753: '▁해서', 2754: '▁다큐멘터리', 2755: '▁시선', 2756: '▁그런데', 2757: '▁희망', 2758: '▁대충', 2759: '계의', 2760: '▁비슷한', 2761: 'ᅲᅮ', 2762: '▁예전', 2763: '▁아닌데', 2764: '▁늘', 2765: '봣는데', 2766: '▁안하고', 2767: '▁멋있다', 2768: '되지', 2769: '험', 2770: '▁딴', 2771: '▁잔인하', 2772: '옹', 2773: '▁잼없', 2774: 'R', 2775: '▁메시지', 2776: '▁삶을', 2777: '▁뛰어난', 2778: '▁드는', 2779: '봤지만', 2780: '즐', 2781: '이해', 2782: '▁독특', 2783: '▁킬링타임용으로', 2784: '웠다', 2785: '▁여기서', 2786: '수도', 2787: '▁빛', 2788: '▁12', 2789: '00', 2790: '▁어제', 2791: '▁영화보고', 2792: '▁민', 2793: '르는', 2794: '!!!!!', 2795: '었어', 2796: '▁홍', 2797: '센', 2798: '//', 2799: '친다', 2800: '겹', 2801: '▁엉성한', 2802: '홀', 2803: '▁씁쓸', 2804: '▁즐거운', 2805: '댄', 2806: '▁빌', 2807: '▁죽는', 2808: '▁창', 2809: '▁거기', 2810: '▁샤', 2811: '▁즐겁게', 2812: '▁금', 2813: '센스', 2814: '표현', 2815: '로서', 2816: '기엔', 2817: '▁음악도', 2818: '꾸', 2819: '▁정말로', 2820: '시는', 2821: '▁만들어진', 2822: '▁울었다', 2823: '▁있다면', 2824: '▁모르', 2825: '▁한데', 2826: '연기가', 2827: '▁찍어', 2828: '흑', 2829: '쏘', 2830: '▁마이너스', 2831: '▁촬영', 2832: '▁엘', 2833: '끄', 2834: '▁힘들다', 2835: '스터', 2836: '▁쫌', 2837: '▁캐릭터들', 2838: '11', 2839: '.........', 2840: '점수', 2841: '▁그렇다', 2842: '▁남을', 2843: '지않는', 2844: '▁울었', 2845: '▁열정', 2846: '▁왜이래', 2847: '▁모르겠', 2848: '장난', 2849: '몰', 2850: '▁포르노', 2851: '▁사랑과', 2852: '▁진심으로', 2853: '할듯', 2854: '▁폭', 2855: '▁나왔으면', 2856: '▁돌려', 2857: '콜', 2858: '▁쓰레기다', 2859: '인생', 2860: '▁젊은', 2861: '▁어린이', 2862: '▁필름', 2863: '▁범인', 2864: '▁현재', 2865: '▁방금', 2866: '▁캬', 2867: '접', 2868: '▁생각없이', 2869: '▁과거', 2870: 'A', 2871: '▁놓', 2872: '젤', 2873: '▁ᄏᄏᄏᄏᄏᄏ', 2874: '캐', 2875: '▁웃기고', 2876: '▁오버', 2877: '내용이', 2878: '▁이때', 2879: '▁내려', 2880: '▁죽어', 2881: '틴', 2882: '▁망한', 2883: '▁어쩔', 2884: '▁시원', 2885: '는건지', 2886: '▁죽여', 2887: '▁함', 2888: '었으면', 2889: '정신', 2890: '▁소녀', 2891: '▁혼', 2892: '▁cg', 2893: '신이', 2894: '흡', 2895: '영화라고', 2896: '닝', 2897: '렷', 2898: '▁힐링', 2899: '▁재미있어', 2900: '진심', 2901: '있네', 2902: '▁생생', 2903: '▁꼴', 2904: '들만', 2905: '▁확', 2906: '더군요', 2907: '▁웃기다', 2908: '믿', 2909: '싸움', 2910: '▁지난', 2911: '▁이어', 2912: '▁시대를', 2913: '좋고', 2914: '보이', 2915: '▁감동과', 2916: '▁핵노잼', 2917: '한듯', 2918: '▁언제나', 2919: '..........', 2920: '공감', 2921: '멘', 2922: '떄', 2923: '▁007', 2924: '▁영화관', 2925: '▁최고입니다', 2926: '▁반전도', 2927: '찾', 2928: '▁심심', 2929: '▁부족하다', 2930: '▁나왔다', 2931: '▁말할', 2932: '중에서', 2933: '쪽', 2934: 'I', 2935: '▁넘어', 2936: '다른', 2937: '주기', 2938: '순간', 2939: '▁봤으면', 2940: '▁맘', 2941: '▁접', 2942: '▁운', 2943: '끝나', 2944: '하구', 2945: '▁콩', 2946: '▁꽝', 2947: '▁발로', 2948: '뮤', 2949: '▁헐리웃', 2950: '▁위대한', 2951: '▁지루할', 2952: '▁괜찮았', 2953: '아니다', 2954: '▁등장', 2955: '▁쇼', 2956: '으론', 2957: '▁포장', 2958: '▁ᄋᄋ', 2959: '프로', 2960: '기억', 2961: '▁중반', 2962: '해주', 2963: '▁무엇', 2964: '▁잼잇', 2965: '개봉', 2966: '▁풀어', 2967: '▁탄탄한', 2968: '빼고', 2969: '같음', 2970: '▁퍼', 2971: '짱짱', 2972: '매력', 2973: '티비', 2974: '▁철', 2975: '눈물', 2976: '제목', 2977: '명이', 2978: '솔', 2979: '왓', 2980: '▁의외로', 2981: '봐요', 2982: '▁끝나고', 2983: '▁필요없', 2984: '▁맨', 2985: '▁나쁘지', 2986: '앞', 2987: '▁괜찮은데', 2988: '▁광고', 2989: '▁인기', 2990: '▁진정', 2991: '나게', 2992: '▁있어요', 2993: '부족', 2994: '▁이제야', 2995: '어지는', 2996: '되네요', 2997: '긴한데', 2998: '▁보이는', 2999: '▁인물', 3000: '소재를', 3001: '극장', 3002: '▁뜨', 3003: '힐', 3004: '▁견자단', 3005: '셀', 3006: '▁헐리우드', 3007: '텔', 3008: 'ᅥ', 3009: '오히려', 3010: '▁눈빛', 3011: '▁명품', 3012: '▁레알', 3013: '▁변태', 3014: '▁최강', 3015: '▁고생', 3016: '했으나', 3017: '▁군대', 3018: '...........', 3019: '▁용', 3020: '?!', 3021: '▁풍', 3022: '첨', 3023: '스러', 3024: '▁홍콩영화', 3025: '♥♥♥♥', 3026: '▁남주', 3027: '▁웃음이', 3028: '슈', 3029: '하하', 3030: '▁안타깝다', 3031: '흘', 3032: '▁같네요', 3033: '▁삶의', 3034: '▁이런영화가', 3035: '념', 3036: '재미없음', 3037: '▁시리즈중', 3038: '♥♥♥', 3039: '해준', 3040: '팅', 3041: '닿', 3042: '깎', 3043: '▁해피엔딩', 3044: '조아', 3045: '▁흔한', 3046: '뻔한', 3047: '▁학교에서', 3048: '시간에', 3049: '▁본영화', 3050: '▁어른', 3051: '▁게이', 3052: '▁모습이', 3053: '스럽', 3054: '▁사이', 3055: '▁없지', 3056: '▁그럼', 3057: '었습니다', 3058: '▁웃기지도', 3059: '아까움', 3060: '▁오랜만', 3061: '걸로', 3062: '손', 3063: 'X', 3064: '▁인생을', 3065: '▁죄다', 3066: '▁나라', 3067: 'or', 3068: '▁영화이다', 3069: 're', 3070: '야한다', 3071: '스의', 3072: '~!!!', 3073: '하면서도', 3074: '룡', 3075: '▁야한', 3076: '▁헤', 3077: '탁', 3078: '▁경찰', 3079: '▁벌써', 3080: '▁해주', 3081: '말고', 3082: '▁과연', 3083: '▁폭력', 3084: '▁쩝', 3085: '▁밀', 3086: '나온다', 3087: '▁쥐', 3088: '▁관계', 3089: '▁올리', 3090: '▁초반에', 3091: '▁방송', 3092: '▁무협', 3093: '▁<', 3094: '▁몰입이', 3095: '▁무엇을', 3096: '▁무섭지도', 3097: '잠', 3098: '폐', 3099: '것만', 3100: '둘', 3101: '방송', 3102: '▁폴', 3103: '▁이해하기', 3104: '▁사기', 3105: '▁보러', 3106: '면에서', 3107: '▁이것이', 3108: '▁표정', 3109: '값', 3110: '털', 3111: '★', 3112: '▁뭉클', 3113: '▁어려운', 3114: '▁레전드', 3115: '▁싸이코', 3116: '▁드라마를', 3117: '▁불쾌', 3118: '있는데', 3119: '▁먼저', 3120: '▁마세요', 3121: '▁어휴', 3122: '▁40', 3123: '▁끝이', 3124: '▁모든게', 3125: '▁설레', 3126: '▁끝나는', 3127: '▁환상', 3128: '▁나옴', 3129: '▁남아', 3130: '▁만큼', 3131: '던지', 3132: '텐데', 3133: '20', 3134: '▁볼만하', 3135: '▁봤다가', 3136: '▁밥', 3137: '▁점수가', 3138: '▁보길', 3139: '씀', 3140: '느라', 3141: '몽', 3142: '▁웬', 3143: '▁행', 3144: '▁전설의', 3145: '슬프', 3146: '▁좋을', 3147: '▁잊', 3148: '▁채', 3149: 'in', 3150: '▁아니면', 3151: 'OOO', 3152: '했나', 3153: '뛰', 3154: '항', 3155: ']', 3156: '▁흥미로운', 3157: 'v', 3158: '▁훈훈', 3159: '▁외국', 3160: '▁역대급', 3161: '▁지나치', 3162: '▁연속', 3163: '▁소재가', 3164: '▁빵점', 3165: '▁재미있습니다', 3166: '▁요소', 3167: '력이', 3168: '재밌어', 3169: '▁출연진', 3170: '만의', 3171: '이런영화', 3172: '생활', 3173: '모르겠', 3174: '▁평이', 3175: '▁푹', 3176: '인가요', 3177: '▁d', 3178: '님이', 3179: '쥐', 3180: '▁합', 3181: '▁시청률', 3182: '▁있네요', 3183: '▁주인공들', 3184: '▁보자', 3185: 'N', 3186: '▁가족영화', 3187: '멸', 3188: '▁마이클', 3189: '▁낳', 3190: '자나', 3191: '000', 3192: '짜증나', 3193: '았습니다', 3194: '▁나오지', 3195: '▁워', 3196: '▁풀', 3197: '▁안돼', 3198: '▁감동적이다', 3199: '시키는', 3200: '▁최고임', 3201: '▁죽이', 3202: '▁명작입니다', 3203: '▁전에', 3204: '고싶은', 3205: '끌', 3206: '▁동생', 3207: '▁친', 3208: '▁비디오로', 3209: '함과', 3210: '연기도', 3211: '끝까지', 3212: '▁재미없게', 3213: '▁나서', 3214: '리아', 3215: '▁점수를', 3216: '칸', 3217: '컷', 3218: '▁카메라', 3219: '▁잊을수', 3220: '▁낮아서', 3221: '▁야동', 3222: '▁빠져들', 3223: '▁찍었', 3224: '▁좋았', 3225: '▁춤', 3226: '▁이래', 3227: '▁사는', 3228: '.............', 3229: '없는영화', 3230: '▁무시', 3231: '▁장면은', 3232: '▁신선하고', 3233: '한국', 3234: '▁연기에', 3235: '▁끝내', 3236: '▁있지', 3237: '▁빼고는', 3238: '▁주기', 3239: '▁퀄리티', 3240: '▁만든다', 3241: '흠', 3242: '▁없지만', 3243: '▁이쁘고', 3244: '마리', 3245: '▁이기', 3246: '혁', 3247: '▁당시에', 3248: '▁젠장', 3249: '▁한국인', 3250: '하지마라', 3251: '▁낚였다', 3252: '▁사랑이야기', 3253: '장면이', 3254: '▁보인다', 3255: '얘기', 3256: '용으로', 3257: '▁색', 3258: '▁덕분에', 3259: '▁처음엔', 3260: '치곤', 3261: '▁현실적인', 3262: '시킨', 3263: '많은', 3264: '영화임', 3265: '엇다', 3266: '▁송', 3267: '▁실제', 3268: '▁표', 3269: '▁훈훈한', 3270: '더라면', 3271: '▁포기', 3272: '▁병', 3273: '▁적당', 3274: '▁여러', 3275: '▁지루하게', 3276: '▁살아있', 3277: '쓰레기영화', 3278: '▁둘다', 3279: '쾌', 3280: '▁심리', 3281: '▁전설', 3282: '▁있다는', 3283: '▁십', 3284: '▁펑펑', 3285: '▁형님', 3286: '▁섬', 3287: '▁잔', 3288: '붕', 3289: '(?)', 3290: '▁어린시절', 3291: '▁시간가는줄', 3292: '▁멋', 3293: '▁앤', 3294: 'on', 3295: '▁70', 3296: '▁남기', 3297: '으려', 3298: '▁자막', 3299: '내용도', 3300: '생긴', 3301: 'bb', 3302: '▁되었다', 3303: '계속', 3304: '점이다', 3305: '었지', 3306: '▁미모', 3307: '▁잔잔', 3308: '▁낮네', 3309: '▁재밌을', 3310: '▁짓', 3311: '을수', 3312: '였지만', 3313: '▁퇴', 3314: '▁낮지', 3315: '해진다', 3316: '쩔', 3317: '▁중간', 3318: '▁단순한', 3319: '똥', 3320: '했는지', 3321: '▁없어요', 3322: '▁꾸', 3323: '▁f', 3324: '샤', 3325: '▁활', 3326: '▁비극', 3327: '▁능력', 3328: '▁보이', 3329: '협', 3330: 'it', 3331: '▁했던', 3332: '헌', 3333: '▁크리스마스', 3334: '▁색다른', 3335: '▁느낀', 3336: '▁어머니', 3337: '▁한번쯤', 3338: '▁더러운', 3339: '턴', 3340: '배우가', 3341: '▁뇌', 3342: '▁조합', 3343: '▁고민', 3344: '지루함', 3345: '▁시간을', 3346: '▁좋아할', 3347: '자의', 3348: '▁국내', 3349: '▁든다', 3350: '같네', 3351: '▁즐기', 3352: '▁재미없었다', 3353: '▁최고였다', 3354: '상을', 3355: '▁장르가', 3356: '▁괜찮다', 3357: '▁냉', 3358: '▁잊지', 3359: '▁보았다', 3360: '▁말을', 3361: '▁실패', 3362: '답답', 3363: '째', 3364: '▁올려', 3365: '▁사람을', 3366: '편도', 3367: '벽', 3368: '롤', 3369: '포인트', 3370: 'ing', 3371: '▁개뿔', 3372: '▁ᄏᄏᄏᄏᄏᄏᄏ', 3373: '▁에로영화', 3374: '▁건지', 3375: '으며', 3376: '했었', 3377: '▁눈물을', 3378: '▁ᄀ', 3379: '식으로', 3380: '▁^', 3381: '▁부분이', 3382: '같아', 3383: '▁사랑의', 3384: '줄알았', 3385: '▁화가', 3386: '으면서', 3387: '▁사랑은', 3388: '▁쓰레기같은', 3389: '만큼은', 3390: '적이다', 3391: 'ᄏᄏᄏᄏᄏᄏᄏᄏᄏᄏᄏᄏ', 3392: '▁좋았고', 3393: '▁멍청한', 3394: '한건', 3395: '▁예쁘', 3396: '▁마치', 3397: '정이', 3398: '과는', 3399: '▁한마디', 3400: '▁소재로', 3401: '해주세요', 3402: '쓸', 3403: '▁원작의', 3404: '그러', 3405: '▁봣는데', 3406: '텐', 3407: '▁흘러', 3408: '▁붙', 3409: '이유', 3410: '▁보고나면', 3411: '▁프로그램', 3412: '▁발견', 3413: '▁민망', 3414: '▁그저그런', 3415: '졸작', 3416: '▁방법', 3417: '남는', 3418: '아쉽', 3419: '▁다시한번', 3420: '▁봐도봐도', 3421: '▁뜻', 3422: '이었음', 3423: '▁지구', 3424: '▁기대했는데', 3425: '▁c', 3426: '▁티비', 3427: '▁다행', 3428: '▁재밋어요', 3429: '곳', 3430: '▁논', 3431: '구성', 3432: '안에', 3433: '새롭', 3434: '▁있습니다', 3435: '▁그렇', 3436: '자는', 3437: '▁빼', 3438: '▁개판', 3439: '▁아들', 3440: '▁줌', 3441: '학생', 3442: '어라', 3443: '닌', 3444: '늘', 3445: '▁못하다', 3446: '되서', 3447: '▁죽는줄', 3448: '▁짐', 3449: '워서', 3450: '▁좀더', 3451: '떠', 3452: '▁T', 3453: '▁있게', 3454: '▁슈퍼', 3455: '▁아줌마', 3456: '▁무언가', 3457: '후회', 3458: '먹고', 3459: '▁울고', 3460: '▁빼면', 3461: '▁분노', 3462: '굳굳', 3463: '▁박수를', 3464: '▁봣', 3465: '▁잼있어요', 3466: '▁:', 3467: '▁스토리와', 3468: '편의', 3469: '▁기본', 3470: '▁안습', 3471: '-_-;', 3472: '▁늘어', 3473: '▁[', 3474: '▁어렵', 3475: '▁뻔하고', 3476: '▁아마', 3477: '▁좋지만', 3478: '와서', 3479: '▁영화였어요', 3480: '▁순수', 3481: '해진', 3482: '▁발전', 3483: '대사', 3484: '▁아는', 3485: '하지않', 3486: '특', 3487: '▁달리', 3488: '▁환', 3489: '긋', 3490: '▁아까울', 3491: '줍니다', 3492: '나고', 3493: '▁음악과', 3494: '▁악역', 3495: '▁일품', 3496: '▁홍보', 3497: '▁반담', 3498: '▁못한다', 3499: '▁없었던', 3500: '▁기대이상', 3501: '▁몇번', 3502: '▁되었', 3503: '▁아픈', 3504: '▁배우의', 3505: '▁안타깝', 3506: '▁졸리', 3507: '한것', 3508: '▁서로', 3509: '▁싶네요', 3510: '▁낮다', 3511: '▁끝났', 3512: '▁하루', 3513: '▁제작비', 3514: '▁불쌍', 3515: '▁팬이', 3516: '▁이런건', 3517: '줘서', 3518: '버림', 3519: 'ᄋᄋ', 3520: '▁아닐까', 3521: '▁올라', 3522: '쟁이', 3523: '가지고', 3524: '▁아쉬움', 3525: '▁뛰어', 3526: '▁즐겁', 3527: '왔습니다', 3528: '▁착', 3529: '택', 3530: '앤', 3531: '▁귀엽다', 3532: 'ᄎ', 3533: 'z', 3534: '낼', 3535: '닷', 3536: '▁편견', 3537: '웃김', 3538: '▁모습을', 3539: '좋아하는', 3540: '▁달라', 3541: '에대한', 3542: '▁멋지', 3543: '▁이런영화를', 3544: '▁씨', 3545: '것들', 3546: '야할', 3547: '만이', 3548: '▁전쟁영화', 3549: '▁나중에', 3550: '님의', 3551: '셈', 3552: '▁잘만들었', 3553: '▁잭', 3554: '▁이유를', 3555: '▁내가본', 3556: '보셈', 3557: '▁아이가', 3558: '어진', 3559: '▁근', 3560: '▁진수', 3561: '▁싶은데', 3562: '▁결과', 3563: '수없는', 3564: '▁보니까', 3565: '▁크게', 3566: '▁사라', 3567: '로는', 3568: '대단', 3569: '▁히', 3570: '브라', 3571: '감독이', 3572: '점주', 3573: '▁어릴', 3574: '▁간다', 3575: '▁답이', 3576: '▁추억이', 3577: '시길', 3578: '겠음', 3579: '콩', 3580: '버려', 3581: '▁스토리를', 3582: '▁돌아가', 3583: '껴', 3584: '▁전문가', 3585: '▁쉽게', 3586: '빛', 3587: '▁놀라', 3588: '▁이유는', 3589: '글자', 3590: '도아니고', 3591: '▁최근', 3592: '▁공감이', 3593: '씨가', 3594: '작가', 3595: '▁좋아서', 3596: '▁꽃', 3597: '▁차이', 3598: '▁산으로', 3599: '▁손발이', 3600: '▁문화', 3601: '▁되지', 3602: '▁끊', 3603: '▁뒤로', 3604: '▁거지', 3605: '▁가서', 3606: '▁많다', 3607: 'ar', 3608: '막장', 3609: '였어', 3610: '!!!!!!!!!!!', 3611: '▁보기에', 3612: '▁보고싶어', 3613: '려면', 3614: '하군', 3615: '▁못했다', 3616: '▁잔인한', 3617: '▁굳이', 3618: '감을', 3619: '▁조잡', 3620: '놔', 3621: '▁받을', 3622: '▁좀비영화', 3623: '▁미스', 3624: '육', 3625: '낀', 3626: '섹', 3627: '헬', 3628: '▁카리스마', 3629: '무서움', 3630: '▁바꿔', 3631: '▁좋았으나', 3632: '▁아까웠다', 3633: '▁조연', 3634: '▁최초', 3635: '▁무엇보다', 3636: '▁악당', 3637: '만드는', 3638: '▁11', 3639: '시작', 3640: '▁ᄌ', 3641: '▁a', 3642: '▁전투', 3643: '▁넘치는', 3644: '▁보지마라', 3645: '하지도', 3646: '▁잼나게', 3647: '평가', 3648: '▁투자', 3649: '버릴', 3650: '▁결말은', 3651: '새끼들', 3652: '▁불쌍하다', 3653: '았던', 3654: 'me', 3655: '하는지', 3656: '▁드라마가', 3657: '▁깔끔', 3658: '사이', 3659: '▁의미를', 3660: '는구나', 3661: '▁공포물', 3662: '▁하네요', 3663: '▁사랑에', 3664: '▁지나도', 3665: '▁케이블', 3666: '▁아니야', 3667: '▁현실적이', 3668: '▁재미있었', 3669: '▁가슴에', 3670: '▁보여준다', 3671: '틈', 3672: '균', 3673: '▁특수효과', 3674: '▁열심히', 3675: '▁연예인', 3676: '▁모험', 3677: '▁찌질', 3678: '▁나오면', 3679: '할수있', 3680: '▁영국', 3681: '었네', 3682: '▁역할', 3683: '▁이래서', 3684: '캐릭터', 3685: '▁낚시', 3686: '▁허세', 3687: '사는', 3688: '▁북한', 3689: '란다', 3690: '영화로', 3691: '..;;', 3692: '라인', 3693: '지말자', 3694: '▁가면', 3695: '노래', 3696: '▁잤다', 3697: '같은영화', 3698: '▁한심한', 3699: '활', 3700: '▁못해', 3701: '▁잊을', 3702: '▁우주', 3703: '▁인상적이', 3704: '▁최고의영화', 3705: '스럽고', 3706: '로우', 3707: '▁봤네', 3708: '사람은', 3709: '▁가능', 3710: '로써', 3711: '▁친구들', 3712: '하던데', 3713: '아까운', 3714: '봣다', 3715: '▁관한', 3716: '하더라', 3717: '굳', 3718: '하는것', 3719: '하지마', 3720: '▁쿠', 3721: '▁긴장감도', 3722: '▁이후로', 3723: '이였다', 3724: '현실', 3725: '▁충격적이', 3726: '받고', 3727: '▁많아', 3728: '▁넌', 3729: '컬', 3730: '삭', 3731: '렁', 3732: '혈', 3733: '▁4.44', 3734: '떼', 3735: '랫', 3736: '옷', 3737: '▁리뷰', 3738: '▁망치', 3739: '▁안나', 3740: '▁않게', 3741: '▁같습니다', 3742: '기위해', 3743: '져요', 3744: '▁재미도없고', 3745: '▁행복한', 3746: '▁떠나서', 3747: '▁명화', 3748: '▁작은', 3749: '딸', 3750: '▁같아', 3751: '았음', 3752: '▁제로', 3753: '웃겨', 3754: '했지', 3755: '▁심하게', 3756: '스러워', 3757: '가능한', 3758: '▁시도', 3759: '▁신비', 3760: '▁재밌게봤', 3761: '왔는데', 3762: '▁헛', 3763: '없어서', 3764: '▁가진', 3765: '▁진지', 3766: '좋앗', 3767: '▁보긴', 3768: '▁끄', 3769: '▁빠진', 3770: '얻', 3771: '▁블랙', 3772: '들고', 3773: '▁로봇', 3774: '▁힘이', 3775: '▁다룬', 3776: '▁중간중간', 3777: '▁여름', 3778: '▁양심', 3779: '▁봤을까', 3780: '▁있으', 3781: '▁좋았을', 3782: '▁연기와', 3783: '▁이럴', 3784: '▁감히', 3785: '▁잘봤어요', 3786: '특히', 3787: '▁이따위', 3788: '지를', 3789: '와는', 3790: '좋은영화', 3791: '▁떨어진다', 3792: '▁식', 3793: '던영화', 3794: '하기만', 3795: '▁멍청', 3796: '하는영화', 3797: '점부터', 3798: '님들', 3799: '▁괜찮았다', 3800: '▁남자가', 3801: '▁탈', 3802: '▁사랑하는', 3803: '▁갔', 3804: '▁13', 3805: '▁오락', 3806: '했네요', 3807: '▁낮아', 3808: '했을까', 3809: '100', 3810: '렇', 3811: '▁코미디영화', 3812: '하려는', 3813: '있냐', 3814: '..^^', 3815: '▁교과서', 3816: '▁이제서야', 3817: '▁필요한', 3818: '▁감흥', 3819: '▁니콜', 3820: '▁러브', 3821: '▁맨날', 3822: '▁중요한', 3823: '편에', 3824: '▁아픔', 3825: '▁에이', 3826: '▁기다리', 3827: '▁나름대로', 3828: '▁받았', 3829: '▁용기', 3830: '▁내용을', 3831: '돋', 3832: '▁어쩌', 3833: '▁만남', 3834: '▁무척', 3835: '▁가지', 3836: '▁있구나', 3837: '▁기억나는', 3838: '▁현실성', 3839: '▁그녀의', 3840: '▁아쉽네요', 3841: '▁맹', 3842: '허접', 3843: '▁재밌었던', 3844: '착', 3845: '▁영화라는', 3846: '설정', 3847: 'G', 3848: '관람', 3849: '▁결말도', 3850: '▁잼있음', 3851: '▁야구', 3852: '▁조작', 3853: '속에서', 3854: '한게', 3855: '수있는', 3856: '재미있어요', 3857: '▁받아', 3858: '이후', 3859: '공포영화', 3860: '▁노래가', 3861: 'ᅮᅮᅮ', 3862: '재미없어', 3863: '▁O', 3864: '▁곳', 3865: '이자', 3866: '▁남자의', 3867: '~~!!', 3868: '▁찬', 3869: '▁찌', 3870: '▁여행', 3871: '섭', 3872: '읍', 3873: '▁초등학생', 3874: '땡', 3875: '윈', 3876: '찐', 3877: '▁아류작', 3878: '▁그립다', 3879: '▁희생', 3880: '▁묘사', 3881: '▁표현한', 3882: '▁연결', 3883: '▁물론', 3884: '옴', 3885: '▁크리스', 3886: '▁나에겐', 3887: '▁감동의', 3888: '르고', 3889: '^^*', 3890: '주고싶다', 3891: '▁그렇지', 3892: '▁느껴지', 3893: '▁내용인지', 3894: '에서는', 3895: '▁느끼는', 3896: '▁자살', 3897: '▁과정', 3898: '몇', 3899: '흥', 3900: '영화입니다', 3901: '아까워', 3902: '▁이런영화는', 3903: '▁삼류영화', 3904: '▁싶지', 3905: '▁으리', 3906: '▁학교', 3907: '안됨', 3908: '▁예쁘다', 3909: '▁노래도', 3910: '▁솔직', 3911: '▁식상한', 3912: '아깝', 3913: '▁오바', 3914: '▁그려', 3915: '엔딩', 3916: '▁안보고', 3917: '▁잤', 3918: '있었다', 3919: '본영화중', 3920: '속의', 3921: '밑', 3922: '버전', 3923: '억지', 3924: '델', 3925: '▁패러디', 3926: '▁후속작', 3927: '▁소소한', 3928: '▁제이슨', 3929: '▁놀라운', 3930: '~~~~~~~', 3931: '▁보다니', 3932: '▁많았', 3933: '▁상업', 3934: '이즈', 3935: '고싶어', 3936: '▁동심', 3937: '▁전체', 3938: '▁죽을', 3939: '▁씹', 3940: '▁괜찮음', 3941: '▁엉망', 3942: '▁눈물나', 3943: '▁=', 3944: '▁비하면', 3945: '▁연출도', 3946: '▁마이', 3947: '▁의심', 3948: '있나', 3949: '점줌', 3950: '이라서', 3951: '▁구성이', 3952: '아직도', 3953: '시즌', 3954: '▁영화인가', 3955: '잼씀', 3956: '쩐다', 3957: '엄마', 3958: '▁먹고', 3959: '▁빼고', 3960: '▁아직까지', 3961: '멋있', 3962: '▁재미있는데', 3963: '▁웃겼', 3964: '▁칼', 3965: '▁그자체', 3966: '▁50', 3967: '▁망했', 3968: '▁개인', 3969: '▁심장', 3970: '▁못할', 3971: '▁나오고', 3972: '어여', 3973: '▁척', 3974: '보여', 3975: '▁졸았', 3976: '이여', 3977: '칙', 3978: '깜', 3979: '몬', 3980: '▁가벼운', 3981: '럭', 3982: 'K', 3983: '▁박중훈', 3984: '팀', 3985: '▁저렇게', 3986: '▁김기덕', 3987: '▁먼가', 3988: '즘', 3989: '져서', 3990: '▁자신의', 3991: '▁봤더니', 3992: '▁내생에', 3993: '▁오래된', 3994: '▁울리는', 3995: '▁남녀', 3996: '▁이딴걸', 3997: '으로서', 3998: '▁재미있었음', 3999: '▁조절', 4000: '보소', 4001: '▁만들다니', 4002: '▁신파', 4003: 'al', 4004: '▁프', 4005: '▁색감', 4006: '▁신경', 4007: '▁훌륭하다', 4008: '▁이상의', 4009: '▁안되고', 4010: '씨의', 4011: '▁생각합니다', 4012: '▁뭘까', 4013: '▁나은', 4014: '갖', 4015: '▁ᄍᄍᄍ', 4016: '적은', 4017: '▁또한', 4018: 'F', 4019: '검', 4020: '덜', 4021: '살아', 4022: '▁흥', 4023: '▁볼수있는', 4024: '노답', 4025: '▁볼만했다', 4026: '▁아침', 4027: '▁아쉬', 4028: '▁못하고', 4029: '씬은', 4030: '할까', 4031: '▁재밋음', 4032: '점정도', 4033: '오글', 4034: '버리는', 4035: '겠습니다', 4036: '만듬', 4037: '▁나타', 4038: '▁드립니다', 4039: '▁멍', 4040: '▁다르다', 4041: '연기력', 4042: '▁주인공의', 4043: '▁말하고', 4044: '빙', 4045: '▁엔딩이', 4046: '하시는', 4047: '봤습니다', 4048: '쩜', 4049: '뭔가', 4050: '▁없는데', 4051: '▁그당시', 4052: '륜', 4053: '찮', 4054: '괜', 4055: '톱', 4056: '▁에피소드', 4057: '▁심형래', 4058: '욤', 4059: '쿨', 4060: '▁고양이', 4061: '▁특별한', 4062: '▁믿고보는', 4063: '▁언제봐도', 4064: '보고싶다', 4065: '점대는', 4066: '▁지금은', 4067: '주면', 4068: '▁부르', 4069: '나왔', 4070: '▁영화인듯', 4071: '▁새벽에', 4072: '▁재미와', 4073: '▁포스', 4074: '▁진부하고', 4075: '▁최소', 4076: '▁클레멘타인', 4077: '에서도', 4078: '▁사랑해요', 4079: '▁가슴을', 4080: '▁아까운영화', 4081: '빌', 4082: '까지는', 4083: '▁체', 4084: '헐', 4085: '▁사건', 4086: '▁조화', 4087: '▁귀여움', 4088: '▁누구나', 4089: 'ᄏᄏᄏᄏᄏᄏᄏ', 4090: '▁단편', 4091: '▁동안', 4092: '▁아름답', 4093: '멜로', 4094: '것인가', 4095: '▁힘들었', 4096: '▁만든영화', 4097: '▁주말', 4098: '감독님', 4099: '▁뿐이다', 4100: '꾼', 4101: '▁왤케', 4102: '닉', 4103: '▁로버트', 4104: '▁왠만하면', 4105: '쿵', 4106: '▁인내심', 4107: '키드', 4108: '▁볼만합니다', 4109: '▁쓸', 4110: '▁설마', 4111: '▁상처', 4112: '아까웠', 4113: '하려고', 4114: '▁만든거', 4115: '▁개노잼', 4116: '▁할까', 4117: '▁살려', 4118: '▁악마', 4119: '▁괜찮네요', 4120: '▁만들면', 4121: '최고다', 4122: '▁답답한', 4123: '▁만들기', 4124: '▁별로임', 4125: '▁우리의', 4126: '▁원작에', 4127: '▁다운', 4128: '▁않지만', 4129: '▁한참', 4130: '<', 4131: '쉽', 4132: '하하하하', 4133: '▁가득', 4134: '▁ᄏᄏᄏᄏᄏᄏᄏᄏ', 4135: '▁알수', 4136: '줘야', 4137: '▁정말이지', 4138: 'en', 4139: '▁말하는', 4140: '▁타임', 4141: '럼', 4142: '▁시청', 4143: '▁하는지', 4144: '류영화', 4145: '타임', 4146: '닮', 4147: 'th', 4148: '뭔', 4149: '뷰', 4150: 'ᅢ', 4151: '^-^', 4152: '핑', 4153: '▁주윤발', 4154: '▁끔찍', 4155: '▁잔혹', 4156: '▁극장가서', 4157: 've', 4158: '▁세상을', 4159: '▁영원히', 4160: '▁바꾸', 4161: '▁짜증난다', 4162: '▁만들었을까', 4163: '▁따뜻하고', 4164: '스키', 4165: '▁중에서', 4166: '▁좋았지만', 4167: 'ad', 4168: '▁생각한다', 4169: '는거야', 4170: '▁운명', 4171: '▁가치가', 4172: '▁만한', 4173: '▁조카', 4174: 'as', 4175: '▁많은걸', 4176: '오래', 4177: '▁사랑합니다', 4178: '▁공부', 4179: '▁쩔어', 4180: '▁집에서', 4181: '하려', 4182: '봤네요', 4183: '▁분위기가', 4184: '▁도전', 4185: '▁직', 4186: '▁슈', 4187: '큰', 4188: '▁이해할', 4189: '▁어렵다', 4190: '▁뉴', 4191: '▁검', 4192: '▁인간이', 4193: '▁반성', 4194: '▁우리는', 4195: '낚', 4196: '명의', 4197: '▁인간들', 4198: '▁G', 4199: '젠', 4200: '▁재밌다고', 4201: '이더', 4202: '되면', 4203: '▁애기', 4204: '았는데', 4205: '▁탑', 4206: '제발', 4207: '▁영상이', 4208: '략', 4209: '맡', 4210: '▁숨겨진', 4211: '▁느껴진다', 4212: '▁풍경', 4213: '어이없', 4214: '었나', 4215: '▁말았', 4216: '▁선생님', 4217: '▁포스터가', 4218: '▁사랑해', 4219: '▁시각', 4220: '▁하는데', 4221: '트리', 4222: '▁안맞는', 4223: '▁끌어', 4224: '▁어색하', 4225: '▁왠', 4226: '▁남자들', 4227: '절대', 4228: '이름', 4229: '▁엄', 4230: '▁감동적이네요', 4231: '▁시간아깝다', 4232: '▁즐', 4233: '냈', 4234: '▁딱히', 4235: '▁싶어요', 4236: '▁몰라도', 4237: '른다', 4238: '▁뭐라', 4239: '▁자랑', 4240: '그만', 4241: '▁최고로', 4242: '촌', 4243: 'ᄏᄏᄏᄏᄏᄏᄏᄏ', 4244: '밥', 4245: '몰입', 4246: '감독의', 4247: '화이팅', 4248: '귀엽', 4249: '갓', 4250: '▁사람의', 4251: '치고는', 4252: '▁난해하', 4253: '보는내내', 4254: '▁당신', 4255: '냈다', 4256: '▁삶에', 4257: '▁좋아하는데', 4258: '소름', 4259: '▁주기도', 4260: '때매', 4261: '하기엔', 4262: '▁유명', 4263: '▁가져', 4264: '되나', 4265: '번은', 4266: '아까', 4267: '▁본듯', 4268: '▁술', 4269: '▁착한', 4270: '▁단어', 4271: '▁영어', 4272: '▁떨어지', 4273: 'H', 4274: '핀', 4275: '▁DVD', 4276: '▁기독교', 4277: '▁안타까운', 4278: '뚱', 4279: '▁거짓말', 4280: '▁즐거웠', 4281: '▁닥치고', 4282: '▁불구하고', 4283: '▁달콤', 4284: '▁더불어', 4285: '그리', 4286: '▁어설프고', 4287: '▁말아먹', 4288: '▁뭐하자는', 4289: '▁무엇인지', 4290: '▁유치해', 4291: '▁감동적이에요', 4292: '쓰는', 4293: '▁한편의', 4294: '▁이미지', 4295: '▁디워', 4296: '▁시리즈는', 4297: '▁있으면', 4298: '낫', 4299: '▁하품', 4300: '▁슬퍼', 4301: '▁작품이다', 4302: '했다는', 4303: '▁기대이하', 4304: '▁드라마는', 4305: '▁재미로', 4306: '▁돋보이는', 4307: '▁관객을', 4308: '다큐', 4309: '지않고', 4310: '▁풍자', 4311: '▁무섭지', 4312: '더라구요', 4313: '특별', 4314: '일본', 4315: '▁속에', 4316: '좋았다', 4317: '받아', 4318: '▁X', 4319: '▁재밌어서', 4320: '▁ᄃᄃᄃ', 4321: '▁달달', 4322: '얘', 4323: '▁감정이', 4324: '▁맞지', 4325: '▁아니었', 4326: '코믹', 4327: '버스', 4328: '더빙', 4329: '포스터', 4330: '▁열라', 4331: '지루해', 4332: '갈수록', 4333: '▁잔인', 4334: '년작', 4335: '▁소장', 4336: '원작', 4337: '▁소름이', 4338: '▁장면에서', 4339: '▁봐야하는', 4340: '그래서', 4341: '▁우리가', 4342: '▁보시', 4343: '저리', 4344: '낭', 4345: '말이필요없', 4346: '엑', 4347: '둔', 4348: '▁탄생', 4349: '▁흑인', 4350: '▁sf', 4351: '▁할머니', 4352: '겁니다', 4353: '됐다', 4354: '▁감각', 4355: '잇는', 4356: '▁담배', 4357: '▁볼수있', 4358: '▁고통', 4359: '▁본거', 4360: '싫어', 4361: '로드', 4362: '▁초딩때', 4363: '▁막장드라마', 4364: '▁부실', 4365: '▁제작진', 4366: '▁D', 4367: '▁알수있', 4368: '▁보통', 4369: '본사람', 4370: '▁없나요', 4371: '▁라는', 4372: '놨', 4373: '▁잔잔하면서', 4374: '▁웃고', 4375: '▁지겹다', 4376: '▁망친', 4377: '간의', 4378: '재미있게', 4379: '▁이상하게', 4380: '▁들어가', 4381: '▁유명한', 4382: '편을', 4383: 'ᄏᄏᄏᄏᄏᄏ', 4384: '▁것들', 4385: '▁전편보다', 4386: '밤', 4387: '벤', 4388: '꽃', 4389: '안맞', 4390: '비디오', 4391: '▁멋있는', 4392: '하고싶은', 4393: '갑니다', 4394: '▁남네요', 4395: '▁판', 4396: '▁하아', 4397: '자체', 4398: '만드네', 4399: '▁있다니', 4400: '켜', 4401: '▁들었', 4402: '▁법', 4403: '리게', 4404: '▁쩔', 4405: '지도않고', 4406: '▁맞추', 4407: '만하다', 4408: '▁어른들', 4409: '긴하지만', 4410: '▁재미없을', 4411: '빨리', 4412: '뽕', 4413: '앉', 4414: '▁스포츠', 4415: '▁조니뎁', 4416: '컨', 4417: '▁뜬금없', 4418: '▁비주얼', 4419: '▁빨갱이', 4420: '랭', 4421: '▁내생애', 4422: '▁the', 4423: '히어로', 4424: '▁흐름', 4425: '▁은근히', 4426: '▁톰', 4427: '▁결코', 4428: '사회', 4429: '▁만들었는지', 4430: '▁전율', 4431: '▁기술', 4432: '나가는', 4433: '▁액션씬', 4434: '▁무술', 4435: '▁케이블에서', 4436: '▁방영', 4437: '▁아쉽지만', 4438: '▁쉬', 4439: '▁궁금하다', 4440: '▁봤어', 4441: '▁완전히', 4442: '▁고마', 4443: '▁인생에', 4444: '▁잼있는', 4445: '않다', 4446: '▁감동적이었', 4447: '▁예쁘고', 4448: '▁주연배우', 4449: '인것', 4450: '하신', 4451: '하기도', 4452: '▁허술하', 4453: '▁이런류', 4454: '▁제목만', 4455: '개그', 4456: '▁니들', 4457: '▁여러분', 4458: '~~^^', 4459: '▁맞아', 4460: '존나', 4461: '▁견', 4462: '아무', 4463: '장이', 4464: '▁쪽', 4465: '빡', 4466: '논', 4467: '보니까', 4468: '씬이', 4469: '▁배우들도', 4470: 'at', 4471: '공주', 4472: 'ᄍ', 4473: '하겠다', 4474: '▁가볍', 4475: '배경', 4476: '받는', 4477: '싫', 4478: '▁헤어', 4479: '▁탐', 4480: '▁최근에', 4481: '까요', 4482: '엽', 4483: '▁명불허전', 4484: '탱', 4485: '젖', 4486: '▁장국영', 4487: '부끄럽', 4488: '▁유일하게', 4489: '문화', 4490: '▁유일한', 4491: '▁돼', 4492: '▁기다려', 4493: '▁파이', 4494: '▁허술한', 4495: '▁비현실적', 4496: '▁ᅲᅲᅲᅲ', 4497: '보는게', 4498: '▁대표', 4499: '▁꼬마', 4500: '▁열연', 4501: '▁21', 4502: '너무너무', 4503: '▁모르겠음', 4504: '▁한개도', 4505: '스럽게', 4506: '▁최고봉', 4507: '▁영원한', 4508: '▁내면', 4509: '세상', 4510: '▁모든걸', 4511: '터짐', 4512: '놈이', 4513: '▁다시는', 4514: '비가', 4515: '랄까', 4516: '▁발상', 4517: '재밋다', 4518: '▁촌스럽', 4519: '우리', 4520: '▁평론가들', 4521: '▁단지', 4522: '▁재미없어서', 4523: '재미있다', 4524: '▁필요한가', 4525: '읽', 4526: '▁따로', 4527: '바닥', 4528: '▁순수함', 4529: '▁재밌지', 4530: '▁되고', 4531: '쩝', 4532: '아저씨', 4533: '걍', 4534: '▁응', 4535: '▁한국영화의', 4536: '몸', 4537: '▁철학', 4538: 'ᅮᅲ', 4539: '못해', 4540: '스타일', 4541: '▁잇', 4542: '빠지', 4543: '객', 4544: '냄새', 4545: '관계', 4546: '묵', 4547: '팍', 4548: '▁점수준것들', 4549: '▁짜임새', 4550: '룩', 4551: '쪼', 4552: '▁제니퍼', 4553: '▁뭥미', 4554: '▁잔뜩', 4555: '▁이뻐서', 4556: '▁ᄒᄒᄒᄒ', 4557: '▁못보겠다', 4558: '▁어째', 4559: '년도에', 4560: '▁두번째', 4561: '▁로코', 4562: '▁속았다', 4563: '▁명작을', 4564: '▁화려하', 4565: '주연', 4566: '▁외모', 4567: '▁내돈', 4568: '▁욕망', 4569: '▁꿈을', 4570: '▁수준의', 4571: '무시', 4572: '▁편안', 4573: '겠어', 4574: '▁참신한', 4575: '▁18', 4576: '▁한국판', 4577: '▁놀랍다', 4578: '▁보내', 4579: '▁본다면', 4580: '▁죽이는', 4581: '맘', 4582: '이래', 4583: '▁아깝네', 4584: '▁우뢰매', 4585: '웨이', 4586: '▁평점보고', 4587: '었을', 4588: '▁W', 4589: '년만에', 4590: '▁안봐도', 4591: '같네요', 4592: '▁최고최고', 4593: '잖', 4594: '▁궁', 4595: '▁북', 4596: '▁나오네', 4597: '▁긴장감이', 4598: '▁예수', 4599: '▁진부', 4600: '잤', 4601: '춤', 4602: '엄청', 4603: '▁강한', 4604: '▁멋졌', 4605: '▁프랑스영화', 4606: '▁그지같', 4607: '신분', 4608: '▁어디에', 4609: '햇다', 4610: '전쟁', 4611: '▁눈에', 4612: '숭', 4613: '딘', 4614: '▁오랫만에', 4615: '쟈', 4616: '▁제임스', 4617: '▁케빈', 4618: '로움', 4619: '▁잠깐', 4620: '▁나랑', 4621: '▁축구', 4622: '▁장난치', 4623: '▁개막장', 4624: '집니다', 4625: '▁통해', 4626: '▁장면들', 4627: '었을까', 4628: '▁없습니다', 4629: '▁싶었', 4630: '자리', 4631: '▁못함', 4632: '▁여전', 4633: '▁국민', 4634: '▁모르게', 4635: '▁벤', 4636: '▁해라', 4637: '멋잇', 4638: '▁못보', 4639: '▁:)', 4640: '▁없냐', 4641: '▁잠이', 4642: '▁영화인지', 4643: '재밌는', 4644: '▁아이들과', 4645: '▁수작이다', 4646: '기에는', 4647: '▁캐릭터가', 4648: '머니', 4649: '▁인상적', 4650: '려나', 4651: '▁채널', 4652: '맥', 4653: '았지만', 4654: '▁형사', 4655: '재미도', 4656: '!!!!!!!!!!!!!!!!', 4657: '▁여운을', 4658: '▁하나의', 4659: '▁줘야', 4660: '▁어이', 4661: '겠어요', 4662: '▁좋게', 4663: '▁잘한다', 4664: 'es', 4665: '폼', 4666: '롯', 4667: '뜬', 4668: 'ᄁ', 4669: '▁2.22', 4670: '똘', 4671: '삐', 4672: '▁동성애', 4673: '▁아이디어', 4674: '▁집착', 4675: '▁1,2', 4676: '▁오래전에', 4677: '외엔', 4678: '▁밤', 4679: '▁지켜', 4680: '▁만들고', 4681: '▁말자', 4682: '▁조낸', 4683: '▁중독', 4684: '▁보라', 4685: '▁생각함', 4686: '▁울면서', 4687: '▁볼만했', 4688: '▁몰입해서', 4689: '▁충격적인', 4690: '▁엿', 4691: '▁괜찮았음', 4692: '싫다', 4693: '▁알겠다', 4694: '▁원조', 4695: '▁뛰어나', 4696: '▁아니지', 4697: '▁보다는', 4698: '▁유치해서', 4699: '알고', 4700: '30', 4701: '할것', 4702: '장면은', 4703: '더라도', 4704: '▁버리', 4705: '▁멋지고', 4706: '▁생각하고', 4707: '없나', 4708: '▁뭐니', 4709: '▁있네', 4710: '것만으로도', 4711: '것같은', 4712: '▁그럴', 4713: '▁쌍', 4714: '▁알았네', 4715: '삶', 4716: '있습니다', 4717: '▁아역', 4718: '▁영상과', 4719: '바라', 4720: '깝', 4721: '▁테러', 4722: '구먼', 4723: '놀이', 4724: '▁거장', 4725: '휘', 4726: '불쌍', 4727: '긴장감', 4728: '▁같아서', 4729: '관객', 4730: '▁알려', 4731: '▁맛이', 4732: '▁촌', 4733: '▁작품을', 4734: '늦', 4735: '윌', 4736: '▁살다살다', 4737: '▁스티븐', 4738: '▁강렬한', 4739: '▁희대의', 4740: '▁직접', 4741: '▁보지마셈', 4742: '▁여러가지', 4743: '▁웃으면서', 4744: '▁말이필요없다', 4745: '▁즐겨', 4746: '▁재개봉', 4747: '▁장난하냐', 4748: '▁근래', 4749: '▁있어야', 4750: '▁에효', 4751: 'ut', 4752: '라곤', 4753: '▁이름이', 4754: '선생', 4755: '소설', 4756: '지루하다', 4757: '기전에', 4758: '▁밀려', 4759: '▁개성', 4760: '▁애매', 4761: '▁미안하다', 4762: '▁남겨', 4763: '지말고', 4764: '▁의문', 4765: '▁줄수', 4766: '모두', 4767: '▁안본', 4768: '큐', 4769: '▁아프다', 4770: '▁적당한', 4771: '짱짱맨', 4772: '▁당신은', 4773: '할뿐', 4774: '▁영혼', 4775: '▁주제가', 4776: '▁탄탄', 4777: '▁조선', 4778: '할수가', 4779: '겼', 4780: '▁오락영화', 4781: '▁뽑', 4782: '▁장진', 4783: '거리는', 4784: '▁다시보고', 4785: '▁내게', 4786: '물을', 4787: '어색', 4788: ';;;;;;', 4789: '스톤', 4790: '보인다', 4791: '▁만들수', 4792: '이었습니다', 4793: '▁집에', 4794: '▁한국에서', 4795: '▁사진', 4796: '▁치밀', 4797: '▁포스터만', 4798: '보여주', 4799: '잊', 4800: '뇌', 4801: '꼴', 4802: '찡', 4803: '벗', 4804: '도좋고', 4805: '나올때', 4806: '세여', 4807: '▁됨', 4808: '▁교육', 4809: '▁멋져', 4810: '쯔', 4811: '▁블록버스터', 4812: '땀', 4813: '쭉', 4814: '▁홍상수', 4815: '▁외계인', 4816: '▁울컥', 4817: '▁Good', 4818: '보느니', 4819: '거같은데', 4820: '▁폭풍', 4821: '▁평균', 4822: '출연', 4823: '▁실험', 4824: '▁돈아까워', 4825: '둥이', 4826: '▁꼭보세요', 4827: '조금', 4828: '▁개꿀잼', 4829: '생각이', 4830: '▁허무한', 4831: '▁엉성하고', 4832: '재밋음', 4833: '▁프리', 4834: '▁끼', 4835: '▁절정', 4836: '있어서', 4837: '▁아냐', 4838: '▁레이', 4839: '▁봐야지', 4840: '▁불러', 4841: '▁모를', 4842: '없구', 4843: '하는건', 4844: '▁갓', 4845: '뭐야', 4846: '▁틀어', 4847: '▁영화라니', 4848: '▁밝', 4849: '99', 4850: '▁남은', 4851: '▁영화보는', 4852: '▁이해할수', 4853: '▁한명', 4854: '했었는데', 4855: '▁라이', 4856: '▁지겹', 4857: '▁인물들', 4858: '▁죽이고', 4859: '▁잠들', 4860: '장애', 4861: '으니까', 4862: '보게되', 4863: '▁잘하고', 4864: '▁웃었', 4865: '부러', 4866: '▁하나로', 4867: '▁평범', 4868: '있던', 4869: '커플', 4870: '▁점수는', 4871: '멈', 4872: '펑', 4873: 'U', 4874: '▁러닝타임', 4875: '벼', 4876: '껀', 4877: '삽', 4878: '싹', 4879: '헉', 4880: '▁반드시', 4881: '개념', 4882: '▁블랙코미디', 4883: '▁경험', 4884: '▁남자주인공', 4885: '▁끈', 4886: '▁또다른', 4887: '구리', 4888: '보지', 4889: '▁커플', 4890: '▁느낌을', 4891: 'ᄀᄀ', 4892: '▁손에', 4893: '▁하지원', 4894: '▁휘', 4895: '▁재밋엇', 4896: '▁오브', 4897: '▁본건데', 4898: '▁좋네', 4899: '▁몇년', 4900: '▁영화예요', 4901: '▁넘넘', 4902: '.,.,', 4903: '▁영구', 4904: '▁시간만', 4905: '허술', 4906: '▁다신', 4907: '역사', 4908: '려다가', 4909: '▁수입', 4910: '빠진', 4911: '▁때문', 4912: '▁소재도', 4913: '광구', 4914: '▁생각하는', 4915: '▁어디가', 4916: '▁대사가', 4917: '어린', 4918: '▁슬픈영화', 4919: '▁대화', 4920: '▁않네요', 4921: '▁옥', 4922: '통쾌', 4923: '▁충분', 4924: '▁높게', 4925: '▁정신없', 4926: '▁보기에는', 4927: '▁길게', 4928: '▁자주', 4929: '▁인생영화', 4930: '▁불편한', 4931: '▁반전을', 4932: '다시보고싶', 4933: '▁괜찮아', 4934: '닐', 4935: '▁어른이', 4936: '▁않나', 4937: '▁잼없다', 4938: '했더니', 4939: '차라리', 4940: '넬', 4941: '딜', 4942: 'ᄊ', 4943: '▁아무생각없이', 4944: '▁짐캐리', 4945: '렴', 4946: '츄', 4947: '켄', 4948: '핫', 4949: '▁유덕화', 4950: '본방사수', 4951: '▁도데체', 4952: '▁우려먹', 4953: '▁사상', 4954: '▁역겨운', 4955: '납니다', 4956: '것같아요', 4957: '▁말도안되는', 4958: '▁응원', 4959: '▁행동', 4960: '▁존경', 4961: '▁거품', 4962: '▁암울', 4963: '▁억지감동', 4964: '▁연극', 4965: '▁간지', 4966: '▁다행이다', 4967: '▁유럽', 4968: '▁멋져요', 4969: '▁명배우', 4970: '▁황당한', 4971: '▁해석', 4972: '▁아름답게', 4973: '▁생각난다', 4974: '하길', 4975: '점만점에', 4976: '제로', 4977: '▁않을까', 4978: '해야지', 4979: '당시엔', 4980: '점에서', 4981: '잡고', 4982: '▁정의', 4983: '▁빡', 4984: '▁최악의영화', 4985: '볼수있', 4986: '뭐냐', 4987: '할만한', 4988: '▁보겠다', 4989: '점이상', 4990: '있을', 4991: '▁부부', 4992: '▁생각으로', 4993: '기억이', 4994: '오오', 4995: '▁좋아해서', 4996: '오브', 4997: '▁재미없었', 4998: '겠네요', 4999: '▁남아있', 5000: '▁따뜻해', 5001: '▁반전은', 5002: '높은', 5003: '▁김치', 5004: '내내', 5005: '레기', 5006: '▁아들이', 5007: '▁감동입니다', 5008: '문제', 5009: '겐', 5010: '멜', 5011: '▁몰랐다', 5012: '▁몰라', 5013: '▁요리', 5014: '▁신선함', 5015: '안되는', 5016: '늙', 5017: '▁포스터에', 5018: '▁꿀', 5019: '볼려고', 5020: '▁소년', 5021: '▁공감할', 5022: '물로', 5023: '때부터', 5024: '▁교훈을', 5025: '▁스릴도', 5026: '▁재밋어', 5027: '확', 5028: '액', 5029: '퀴', 5030: '섞', 5031: '엠', 5032: '깃', 5033: '▁원주율', 5034: '퓨', 5035: '▁러시아', 5036: '▁이소룡', 5037: '▁사운드', 5038: '▁동시에', 5039: '▁피해자', 5040: '▁ᄌᄂ', 5041: '12', 5042: '▁어설프다', 5043: '거같음', 5044: '▁겨우', 5045: '붙', 5046: '섬', 5047: '▁안볼', 5048: '있네요', 5049: '추억', 5050: '▁m', 5051: '▁여자주인공', 5052: '▁재미있었습니다', 5053: '지마세요', 5054: '▁코믹영화', 5055: '▁아련하', 5056: '행복', 5057: '재밋어요', 5058: '▁잘생겼', 5059: '▁쉽지', 5060: '▁부모', 5061: '좋은데', 5062: '▁만들어라', 5063: '▁보려고', 5064: '▁버려', 5065: 'ᄒᄒᄒᄒ', 5066: '▁링', 5067: '▁난잡', 5068: '지루하고', 5069: '▁이딴영화', 5070: '▁몽', 5071: '능력', 5072: '▁갑니다', 5073: '만큼이나', 5074: '▁자식', 5075: '▁어처구니', 5076: '▁끝내주', 5077: '▁따뜻', 5078: '▁형제', 5079: '엇는데', 5080: '▁불쌍한', 5081: '▁머야', 5082: '번을', 5083: '▁기자', 5084: 'ᅲᅲᅲᅲᅲ', 5085: '▁전설이', 5086: '▁F', 5087: '있어요', 5088: '볼까', 5089: '장르', 5090: '럴', 5091: '영화인데', 5092: '▁농', 5093: '못한', 5094: '되요', 5095: '▁적절', 5096: '▁속에서', 5097: '▁죽은', 5098: '쳐서', 5099: '▁재난영화', 5100: '▁들었다', 5101: '되었다', 5102: '렵', 5103: '측', 5104: '▁웃기는', 5105: '싼', 5106: '층', 5107: 'ᄐ', 5108: '▁웰메이드', 5109: '탓', 5110: '▁브루스', 5111: '쯧쯧', 5112: '▁익숙', 5113: '▁태어나서', 5114: '▁향연', 5115: '▁군', 5116: '갠적으로', 5117: '▁좋겠어요', 5118: '▁만화책', 5119: '▁로빈', 5120: '▁영환데', 5121: '▁여러번', 5122: '▁사이코', 5123: '빠져', 5124: '▁비밀', 5125: 'ᄃᄃᄃ', 5126: '▁또보고싶', 5127: '▁잔잔하게', 5128: '▁우왕', 5129: '▁보았습니다', 5130: '여운이', 5131: '부분이', 5132: '▁폐', 5133: '허무', 5134: '▁필요없음', 5135: '▁끝날', 5136: '▁키스', 5137: '▁액션과', 5138: '▁최고에요', 5139: '▁있었지만', 5140: '왔어요', 5141: '보이는', 5142: '▁유발', 5143: '▁살린', 5144: '▁반전에', 5145: '▁재미있을', 5146: '▁잼있네요', 5147: '▁대단하', 5148: '딴', 5149: '▁매미', 5150: '스럽지', 5151: '▁두고', 5152: '▁개봉한', 5153: '▁별하나', 5154: '맘에', 5155: '차원', 5156: '만족', 5157: '▁선물', 5158: '▁이상해', 5159: '낫다', 5160: '▁어디로', 5161: '▁똑같은', 5162: '편까지', 5163: '▁시도는', 5164: '▁웃었다', 5165: '▁잘만들었다', 5166: '▁웃을', 5167: '▁넘게', 5168: '생에', 5169: '▁뽀', 5170: '▁느꼈', 5171: '▁놀랍', 5172: '같지만', 5173: 'ᅲᅲᅲᅲᅲᅲᅲᅲ', 5174: '덕에', 5175: '스토', 5176: '▁마지막장면', 5177: '▁괜찮고', 5178: '후반', 5179: '▁싶을', 5180: '▁하하하', 5181: '▁소설을', 5182: '점대가', 5183: '▁어이없다', 5184: '▁불쌍해', 5185: '▁웃긴다', 5186: '콘', 5187: '▁샘', 5188: '밍', 5189: '▁뱀파이어', 5190: '▁알파치노', 5191: '닭', 5192: '랴', 5193: '쉐', 5194: '앜', 5195: '앵', 5196: '▁짜집기', 5197: '▁깜짝', 5198: '▁아놀드', 5199: '▁상큼', 5200: '▁검색', 5201: '▁만점에', 5202: '올리', 5203: '꺼야', 5204: '▁멋짐', 5205: '▁효과', 5206: '▁짧은', 5207: '답니다', 5208: '▁은근', 5209: '낮은', 5210: '▁저평가', 5211: '▁지루하기', 5212: '줄알았는데', 5213: '▁연기력도', 5214: '거같아요', 5215: '▁반복', 5216: '▁장난하나', 5217: '탑', 5218: '코메디', 5219: '▁정신병자', 5220: '▁순수하고', 5221: '였으면', 5222: '썼', 5223: '▁안보는게', 5224: '이었던', 5225: '▁기회', 5226: '▁답답하다', 5227: '▁없었음', 5228: '극장에서', 5229: '▁연출과', 5230: '▁영화보면서', 5231: '▁책으로', 5232: '▁비판', 5233: '▁답답하고', 5234: '▁안간다', 5235: '여주', 5236: '사건', 5237: '▁인생은', 5238: '▁작가가', 5239: '좋네요', 5240: '▁여주인공이', 5241: '▁시시하', 5242: '▁배우를', 5243: '▁정도면', 5244: '▁그럴듯', 5245: '하진', 5246: '갔는데', 5247: '▁읽어', 5248: '▁낙', 5249: '▁받는', 5250: '▁재미없네요', 5251: '현실을', 5252: '▁안본다', 5253: '▁돈을', 5254: '▁예술영화', 5255: '봣어요', 5256: '▁마니', 5257: '받아서', 5258: '▁책을', 5259: '▁누군가', 5260: '스턴', 5261: '▁하나하나', 5262: '섯', 5263: 'ᄡ', 5264: '▁스타워즈', 5265: '▁컴퓨터', 5266: '뚜', 5267: '븐', 5268: '▁나레이션', 5269: '▁소중함을', 5270: '▁깡패', 5271: '덩어리', 5272: '▁정우성', 5273: '▁수면제', 5274: '▁다양한', 5275: '▁스스로', 5276: '▁늦게', 5277: '▁명대사', 5278: '▁일어나', 5279: '▁라스트', 5280: '뭐지', 5281: '이따구', 5282: '▁그야말로', 5283: '▁재능', 5284: '▁아니잖아', 5285: '느껴', 5286: '꿀', 5287: '▁무엇인가', 5288: '▁다운받', 5289: '▁보고싶은데', 5290: '분은', 5291: '분위기', 5292: '▁시청률이', 5293: '▁위트', 5294: '▁우연', 5295: '▁막판에', 5296: '▁생각나서', 5297: '▁별로였다', 5298: '못보겠', 5299: '봤으면', 5300: '스크', 5301: '▁돋보인', 5302: '▁감동이다', 5303: '▁낮네요', 5304: '해야할', 5305: '여행', 5306: '▁짜증이', 5307: '▁열자', 5308: '▁199', 5309: '▁심하다', 5310: '▁낮게', 5311: '▁소름끼치는', 5312: '▁남는게', 5313: '▁머리가', 5314: '좋겠', 5315: '~~~~~', 5316: '▁싶었다', 5317: '▁돼지', 5318: '▁출연한', 5319: '주고싶', 5320: '야겠다', 5321: '요즘', 5322: '하하하', 5323: '▁빼곤', 5324: '이딴', 5325: '▁실망이다', 5326: '▁추리', 5327: '▁빅', 5328: '였나', 5329: '쟁', 5330: '▁대해서', 5331: '▁썼', 5332: '부작', 5333: '▁없으면', 5334: '일듯', 5335: '줘야지', 5336: '▁어우', 5337: '!!!!!!', 5338: '녕', 5339: '▁의지', 5340: '거든', 5341: '춰', 5342: '▁킬링', 5343: '덩', 5344: '랙', 5345: '빗', 5346: '▁겉멋', 5347: '퉤', 5348: '▁이병헌', 5349: '밧', 5350: '▁화장실', 5351: '▁괜찬', 5352: '▁드디어', 5353: '▁잊혀', 5354: '▁드니로', 5355: '▁완젼', 5356: '▁쓸쓸', 5357: '▁감명깊게', 5358: '손가락', 5359: '▁남편', 5360: '▁좋겠네요', 5361: '▁로맨틱코미디', 5362: '▁담백', 5363: '▁모른다', 5364: '▁멋진영화', 5365: '▁상영관', 5366: '▁폭발', 5367: '▁억지스러운', 5368: '▁로망', 5369: '▁하늘', 5370: '▁봤을때', 5371: '지않는다', 5372: '▁아우', 5373: '여배우', 5374: '▁아만다', 5375: '▁말하고자', 5376: '▁치유', 5377: '눈물이', 5378: '▁재밌게봤어요', 5379: '▁전쟁의', 5380: '▁좋지', 5381: '무서워', 5382: '꿈', 5383: '뭘', 5384: '초딩', 5385: '▁귀여워요', 5386: '▁높아서', 5387: '목소리', 5388: '맞추', 5389: '나왔으면', 5390: '병맛', 5391: '다시봐도', 5392: '->', 5393: '▁뭐임', 5394: '상태', 5395: '▁사랑스럽다', 5396: '▁훌륭', 5397: '▁폐지', 5398: '▁첨이다', 5399: '▁한번더', 5400: '▁밋밋하', 5401: '수밖에', 5402: 'ch', 5403: '▁매력에', 5404: '▁괜찮게', 5405: '▁애들은', 5406: '▁사랑한다', 5407: '▁겨울', 5408: '▁주제를', 5409: '지도않', 5410: '재미있음', 5411: '스릴', 5412: '▁아프', 5413: '봐야지', 5414: '▁작품입니다', 5415: '옆', 5416: '▁나머지', 5417: '▁아깝고', 5418: '▁제작비가', 5419: '스티', 5420: '▁아니었다', 5421: '이랄까', 5422: '보고있어요', 5423: '하기에', 5424: '▁재밋는', 5425: '▁기적', 5426: '▁곰', 5427: '▁매니아', 5428: '누님', 5429: '▁이만한', 5430: '▁감동받', 5431: '▁표현할', 5432: '멍', 5433: '▁얼마', 5434: '둥', 5435: '갱', 5436: '▁짬뽕', 5437: '▁타란티노', 5438: '▁터미네이터', 5439: '깁', 5440: '앨', 5441: '▁2014', 5442: '▁어울리는', 5443: '▁말그대로', 5444: '▁니콜라스', 5445: '▁기발한', 5446: '▁완죤', 5447: '▁늑대', 5448: '▁스타뎀', 5449: '흑흑', 5450: '▁낭만', 5451: '▁만화영화', 5452: '▁기가', 5453: '▁아무런', 5454: '▁그림체', 5455: '▁다운받아', 5456: '하고싶다', 5457: '▁모든것이', 5458: '분동안', 5459: '▁배역', 5460: '굿굿', 5461: '▁갖고', 5462: '▁재밌었습니다', 5463: '▁죽었', 5464: '▁감동적임', 5465: '▁독일', 5466: '감정', 5467: '▁당신이', 5468: '▁변화', 5469: '~~~~~~', 5470: '▁본인', 5471: '▁멋있었', 5472: '!!!!!!!!', 5473: '당시', 5474: '▁꼭봐야', 5475: '▁생각하면', 5476: '같았', 5477: '▁망할', 5478: '▁약하다', 5479: '▁깔끔한', 5480: '드립니다', 5481: '데스', 5482: '▁대본', 5483: '▁만들었나', 5484: '▁넘치', 5485: '▁웃겼다', 5486: '▁가득한', 5487: '▁만들다', 5488: '였지', 5489: '보지마라', 5490: '테러', 5491: '▁본격', 5492: '▁박수', 5493: '곳에', 5494: '▁가고', 5495: '▁그렇다고', 5496: '▁60', 5497: '▁희망을', 5498: '▁J', 5499: '었네요', 5500: '▁무섭고', 5501: '▁쩌는', 5502: '▁기대하지', 5503: '간만에', 5504: '아까운영화', 5505: '▁의미가', 5506: '않음', 5507: '▁아무도', 5508: '▁볼때', 5509: '▁평범하', 5510: '▁막판', 5511: '▁실망스럽', 5512: '▁진한', 5513: '더스', 5514: '상영', 5515: '▁아진짜', 5516: '스케', 5517: '뻔했다', 5518: '되네', 5519: '닫', 5520: '꼈', 5521: '곧', 5522: '▁그냥저냥', 5523: '▁스트레스', 5524: '▁아닙니다', 5525: '▁아름다워', 5526: '뱀', 5527: '▁이토록', 5528: '▁탁월', 5529: '▁플롯', 5530: '소녀', 5531: '▁컬트', 5532: '▁돈내고', 5533: '▁혁명', 5534: '▁스파이', 5535: '▁스텝', 5536: '▁택시', 5537: 'le', 5538: '▁흐르는', 5539: '><', 5540: '▁레옹', 5541: '▁알겠는데', 5542: '분만에', 5543: '▁당황', 5544: '▁적어도', 5545: 'ck', 5546: '▁아이돌', 5547: '▁태국', 5548: '▁마시길', 5549: '▁영원', 5550: '▁중학생', 5551: '▁적당히', 5552: '▁서울', 5553: '▁ᄏᄏᄏᄏᄏᄏᄏᄏᄏᄏᄏ', 5554: '예뻐', 5555: '▁부모님', 5556: '▁역작', 5557: '나름', 5558: '지않아', 5559: '▁모욕', 5560: '▁살면서', 5561: '▁결정', 5562: '▁관점', 5563: '▁이거보다', 5564: '▁인형', 5565: '▁높지', 5566: '▁뭐여', 5567: '인권', 5568: '김정', 5569: '▁아래', 5570: '▁산만하고', 5571: '▁실감', 5572: '▁말밖에', 5573: '▁짱이다', 5574: '시나리오', 5575: '▁재난', 5576: '▁이루', 5577: '기도하고', 5578: '▁조잡한', 5579: '▁볼만한데', 5580: '▁왜곡', 5581: '▁실제로', 5582: '▁좋아하지만', 5583: '▁엄마가', 5584: '더군', 5585: '마지막에', 5586: '▁뻔하', 5587: '▁파리', 5588: '찾아', 5589: '전혀', 5590: '▁성룡의', 5591: '같고', 5592: '스틴', 5593: '먹은', 5594: '▁자세', 5595: '▁위해서', 5596: '발연기', 5597: '라는걸', 5598: '하러', 5599: '▁보이지', 5600: '▁이상은', 5601: '▁소재와', 5602: '▁관객들', 5603: '▁인상적인', 5604: '▁장난아니', 5605: '▁시대의', 5606: '▁대중', 5607: '▁위로', 5608: '작이라', 5609: '챙겨', 5610: '때까지', 5611: '갠', 5612: '뭉', 5613: '퀄', 5614: '▁dvd', 5615: '▁네티즌', 5616: '▁유치찬란', 5617: '▁할리우드', 5618: '▁해리포터', 5619: '밨', 5620: '찔', 5621: '▁임창정', 5622: '▁흑백', 5623: '▁미스캐스팅', 5624: '▁잊지못할', 5625: '▁첩보', 5626: '▁킬러', 5627: '▁오글오글', 5628: '▁엽기', 5629: '명성에', 5630: '▁어쩜', 5631: '▁좋으나', 5632: '▁거북', 5633: '▁재앙', 5634: '▁추격', 5635: '▁최고라고', 5636: '▁연인', 5637: '▁베리', 5638: '▁내용전개', 5639: '▁재밌기만', 5640: '▁대놓고', 5641: '▁믿기지', 5642: '▁당연', 5643: '▁답답함', 5644: '▁기억난다', 5645: '같아서', 5646: '▁좋더라', 5647: '▁아이고', 5648: '▁친구랑', 5649: '▁때려', 5650: '▁무리', 5651: '▁어이없음', 5652: '받을', 5653: '▁알았음', 5654: '수작', 5655: '▁컸', 5656: '짜릿', 5657: '광고', 5658: '으로써', 5659: '▁명장면', 5660: '아버지', 5661: '빼곤', 5662: '얼굴', 5663: '레이드', 5664: '상실', 5665: '폴', 5666: '▁좋아하네요', 5667: '▁잠시', 5668: '▁보던', 5669: '▁만세', 5670: '학년', 5671: '초반', 5672: '티가', 5673: '▁마음으로', 5674: '별루', 5675: '애들이', 5676: '나쁜', 5677: '언제', 5678: '▁재밋네요', 5679: '▁캐리', 5680: '▁이해를', 5681: '혼자', 5682: '▁실화를', 5683: '▁이딴게', 5684: '▁재미있네', 5685: '▁고어', 5686: '▁잠을', 5687: '이예요', 5688: '90', 5689: '▁안보면', 5690: '뿐이다', 5691: '한다고', 5692: '▁의도는', 5693: '▁꽤나', 5694: '는뎅', 5695: '▁봤다면', 5696: '놈들은', 5697: '히히', 5698: '▁옛날영화', 5699: '▁영화인것', 5700: '▁이름을', 5701: '뎀', 5702: 'Y', 5703: '^_^', 5704: '▁시간때우기', 5705: '▁어정쩡', 5706: '뻑', 5707: '컴', 5708: '▁신하균', 5709: '뜸', 5710: '▁디테일', 5711: '▁자동차', 5712: '▁명복을', 5713: '▁양아치', 5714: '▁박진감', 5715: '▁스크린', 5716: '▁하정우', 5717: '▁도무지', 5718: '▁소중한', 5719: '▁죄송', 5720: '▁에라이', 5721: '19', 5722: '▁당연히', 5723: '▁배꼽', 5724: '▁흔들', 5725: '▁내취향', 5726: '▁여자친구', 5727: '▁개콘', 5728: '▁추천하고', 5729: '▁감동적입니다', 5730: '▁충분하다', 5731: '▁동양', 5732: '▁둘이', 5733: '▁짜증남', 5734: '▁마약', 5735: '▁없게', 5736: '▁애국', 5737: '햇는데', 5738: '▁나음', 5739: '▁안나오는', 5740: '▁욕심', 5741: '에대해', 5742: '▁보며', 5743: '긴했지만', 5744: '숨', 5745: '▁아쉬움이', 5746: '▁나머지는', 5747: '궁', 5748: '뽀', 5749: '칼', 5750: '외에는', 5751: '낙', 5752: '▁않은데', 5753: '▁없군', 5754: '!!!!!!!', 5755: '▁맛있', 5756: '안나오', 5757: '될듯', 5758: '▁여인', 5759: '♡♡♡', 5760: '그저', 5761: '순수', 5762: '아빠', 5763: '▁아예', 5764: '건가요', 5765: '재밌고', 5766: '!!!!!!!!!', 5767: '▁안될', 5768: '표정', 5769: 'av', 5770: '었는지', 5771: '었구나', 5772: '▁대박이다', 5773: 'll', 5774: '던데요', 5775: '▁굿굿굿', 5776: '획', 5777: '▁허허', 5778: '칭', 5779: '▁you', 5780: '맴', 5781: '▁배트맨', 5782: '젝', 5783: '▁데이빗', 5784: '▁강동원', 5785: '▁공짜로', 5786: '▁비호감', 5787: '▁호기심', 5788: '▁이해불가', 5789: '▁목숨', 5790: '내놔', 5791: '▁극혐', 5792: '▁착각', 5793: '▁탈출', 5794: '▁할아버지', 5795: '▁높네', 5796: '▁절망', 5797: '▁귀여웠', 5798: '▁뻔해', 5799: '▁집중해서', 5800: '▁대결', 5801: '▁모르겠지만', 5802: '▁이은주', 5803: '▁도망', 5804: '▁괜찮았던', 5805: '▁길다', 5806: '지루하지않', 5807: '▁어쩔수', 5808: '▁안나온다', 5809: '▁과장', 5810: '▁모르겠네', 5811: '▁강추합니다', 5812: '▁다시보고싶은', 5813: '▁역사상', 5814: '▁또봐도', 5815: '▁적절한', 5816: '▁미학', 5817: '▁남긴', 5818: '▁좋을듯', 5819: '▁재밌당', 5820: '▁잼나요', 5821: '▁티비로', 5822: '▁ᄒᄃᄃ', 5823: '▁느꼈다', 5824: '▁명연기', 5825: '돌리', 5826: '80', 5827: '비슷', 5828: '어떻게', 5829: '뉴', 5830: '예술', 5831: '보지마', 5832: '때문', 5833: '할수있는', 5834: '러운', 5835: '▁짜증나게', 5836: '에비해', 5837: '▁보게된', 5838: '▁목적', 5839: '미화', 5840: '▁후하게', 5841: '▁이것보다', 5842: '▁당신의', 5843: '답다', 5844: '자식', 5845: '선수', 5846: '▁뒤에', 5847: '녀석', 5848: '쁜', 5849: '보셔', 5850: '^^;', 5851: '▁찍는', 5852: '▁남았', 5853: '▁-_-;;', 5854: '▁광기', 5855: '▁여배우들', 5856: '▁말고는', 5857: '▁보라고', 5858: '순위', 5859: '▁뭐라고', 5860: '쨌', 5861: '▁시종일관', 5862: '곽', 5863: '렛', 5864: '인상깊었', 5865: '튜', 5866: '훗', 5867: '▁설득력', 5868: '▁애니매이션', 5869: '▁엉망진창', 5870: '▁영웅본색', 5871: '▁왕조현', 5872: '▁박보영', 5873: '▁최민수', 5874: '▁밋밋한', 5875: '▁말았어야', 5876: '▁난해한', 5877: '▁암튼', 5878: '▁엄청나게', 5879: '겟네', 5880: '▁파괴', 5881: '▁향수', 5882: '▁아닐', 5883: '▁첫사랑', 5884: '▁짱임', 5885: '미친', 5886: '▁깨닫게', 5887: '▁살리지', 5888: '▁파격', 5889: '▁혹시나', 5890: '▁흥분', 5891: '▁하나같이', 5892: '게만드는', 5893: '▁성격', 5894: '▁재미있었는데', 5895: '▁울었어요', 5896: '▁재미없었음', 5897: '///', 5898: '▁나을듯', 5899: '▁보았던', 5900: '▁미녀', 5901: '▁go', 5902: '▁미국식', 5903: '▁연기자들', 5904: '▁해피', 5905: '빼', 5906: '있으면', 5907: '▁환상적인', 5908: '▁매일', 5909: '▁실수', 5910: '▁토니', 5911: '드립', 5912: '점주기도', 5913: '귀여워', 5914: '께요', 5915: '아름다운', 5916: '퇴', 5917: '잘봤습니다', 5918: '▁빠졌', 5919: '▁빛을', 5920: '놨네', 5921: '알아', 5922: '유쾌하게', 5923: '동생', 5924: '▁가정', 5925: '▁가수', 5926: '▁되야', 5927: '받았다', 5928: '주제', 5929: '로서는', 5930: '▁개잼', 5931: '거죠', 5932: '이후로', 5933: '▁아름다웠', 5934: '▁중국영화', 5935: '▁야하지도', 5936: '▁처음이네', 5937: '시간동안', 5938: '스탈', 5939: '▁담은', 5940: '▁맞나', 5941: 'ᄃᄃᄃᄃ', 5942: '▁찾을', 5943: '500', 5944: '호러', 5945: '답게', 5946: '동화', 5947: '▁이루어', 5948: '▁다시보니', 5949: '▁대통령', 5950: '▁데뷔작', 5951: '▁둘째치고', 5952: '▁임팩트', 5953: '▁케릭터', 5954: '눌', 5955: '뚝', 5956: '뻥', 5957: '캠', 5958: '▁오프닝', 5959: '▁즐거움', 5960: '▁차승원', 5961: '포켓몬', 5962: '▁떨어짐', 5963: '▁박평식', 5964: '▁결론은', 5965: '▁섬세한', 5966: '▁하이틴', 5967: '▁몽환적', 5968: '▁격투', 5969: '땜시', 5970: '▁더러워', 5971: '▁바랍니다', 5972: '▁앞뒤', 5973: '밖엔', 5974: '▁몇몇', 5975: '▁이것보단', 5976: '▁부활', 5977: '▁생각해보게', 5978: '▁국산', 5979: '▁말이필요없는', 5980: '▁데리고', 5981: '극히', 5982: '몰라', 5983: '임에도', 5984: '파이팅', 5985: '▁아파', 5986: '▁말아야', 5987: '▁여친', 5988: '점도아깝다', 5989: '▁저급', 5990: '했다면', 5991: '분짜리', 5992: '▁괜찮았는데', 5993: '▁재미나게', 5994: '▁채우', 5995: '▁부담', 5996: '▁드림', 5997: '▁기대했', 5998: '▁아내', 5999: '▁보았는데', 6000: '▁독특하고', 6001: '▁살아가는', 6002: '▁찾는', 6003: '▁그리워', 6004: '볼수', 6005: '▁기대없이', 6006: '▁인디', 6007: '▁듣고', 6008: '지루한', 6009: '봐야겠다', 6010: '▁배신', 6011: '▁지루하네', 6012: '겼다', 6013: '▁세번', 6014: '▁이거보단', 6015: '▁충분한', 6016: '▁이딴거', 6017: '왠', 6018: '도대체', 6019: '느끼', 6020: '▁싫어하는', 6021: '▁뻔하다', 6022: '▁무협영화', 6023: '▁이런것도', 6024: '▁멋있고', 6025: '시리즈중', 6026: '오늘', 6027: '싶다', 6028: '▁한방', 6029: '겨울', 6030: '▁숨은', 6031: '보긴', 6032: '▁존스', 6033: '모든', 6034: '그러나', 6035: '▁보여주고', 6036: '밖', 6037: '▁십점', 6038: '▁말인가', 6039: '▁감정을', 6040: '법한', 6041: '어설프', 6042: '립니다', 6043: '▁EBS', 6044: '됫', 6045: '띠', 6046: '윽', 6047: '▁됩니다', 6048: '왈', 6049: '캡', 6050: '▁키아누', 6051: '짙', 6052: '▁나루토', 6053: '▁김희선', 6054: '▁평점조절', 6055: '▁리얼리티', 6056: '▁다세포소녀', 6057: '▁of', 6058: '▁록키', 6059: '▁전성기', 6060: '▁예측', 6061: '▁맞춰', 6062: '▁꿈꾸', 6063: '▁람보', 6064: '주셔서', 6065: '▁빛나는', 6066: '▁역쉬', 6067: '▁배경음악', 6068: '▁즐길', 6069: '▁고딩', 6070: '▁훈훈하', 6071: '-.-', 6072: '걸작', 6073: '▁갈등', 6074: '엇음', 6075: '▁마시', 6076: '▁살인마', 6077: '▁무겁', 6078: '▁마법', 6079: '▁보는동안', 6080: '▁뻔한스토리', 6081: '▁무료', 6082: '부분은', 6083: '▁2000', 6084: '랜드', 6085: '▁거지같은', 6086: '▁언제까지', 6087: '▁많아서', 6088: '▁기대된다', 6089: '삼류', 6090: '▁잼없음', 6091: '▁모방', 6092: '▁철학적', 6093: '▁시작해서', 6094: '▁천사', 6095: '▁to', 6096: '▁사라지', 6097: '▁재밋는데', 6098: '▁벗어', 6099: '▁생명', 6100: '▁밤에', 6101: '돈아깝', 6102: '당신', 6103: '아아아', 6104: '알겠', 6105: '▁잔인함', 6106: '▁머냐', 6107: '되는영화', 6108: '곳이', 6109: '거에요', 6110: '▁세월이', 6111: '▁믿어', 6112: '▁불가능', 6113: '▁모르겠고', 6114: '멀', 6115: '▁알리', 6116: '▁내시간', 6117: '▁도시', 6118: '▁산만하', 6119: '▁보여줘', 6120: '멋진', 6121: '제대로', 6122: '재미잇', 6123: '창피', 6124: '▁의미없', 6125: '▁볼것', 6126: '거같아', 6127: '▁흉내', 6128: '좋겠다', 6129: '점만점', 6130: '감명깊', 6131: '숀', 6132: '▁소피마르소', 6133: '↓', 6134: '▁movie', 6135: '▁빕니다', 6136: '▁풋풋한', 6137: '긔', 6138: '뚫', 6139: '띄', 6140: '몫', 6141: '짤', 6142: '퀸', 6143: '▁어설퍼', 6144: '▁화끈한', 6145: '점준것중', 6146: '▁민폐', 6147: '▁싸우는', 6148: '▁장애인', 6149: '▁묘한', 6150: '▁꺼져', 6151: '▁낫겠다', 6152: '▁따름', 6153: '▁천국', 6154: '습니까', 6155: '▁볼만해요', 6156: '▁담긴', 6157: '▁사람이라면', 6158: '▁다운받아서', 6159: '▁해결', 6160: '▁최후', 6161: '▁있었으면', 6162: '▁마블', 6163: '셨어요', 6164: '▁불쌍해서', 6165: '해주고', 6166: '▁시청자', 6167: '▁에로물', 6168: '▁않았지만', 6169: '▁공유', 6170: '▁못하네', 6171: '였구나', 6172: '▁않았던', 6173: '▁않아요', 6174: '▁않아서', 6175: '▁안봐서', 6176: '▁짜증나서', 6177: '▁호구', 6178: '▁상어', 6179: '▁명작이네요', 6180: '▁기대했던', 6181: '▁가히', 6182: '▁무섭게', 6183: '하나하나가', 6184: '▁심한', 6185: '▁많은데', 6186: '시시', 6187: '지말라', 6188: '▁동감', 6189: '낭비', 6190: '범죄', 6191: 'TV', 6192: '왜이래', 6193: '예쁘', 6194: '▁읽는', 6195: '▁훌륭하', 6196: 'am', 6197: '웃긴', 6198: '상황', 6199: '▁소장하고', 6200: '▁마지막까지', 6201: '졌음', 6202: '▁남성', 6203: '▁스릴러물', 6204: '망작', 6205: '▁조정', 6206: '▁엉망이', 6207: '▁않으', 6208: '▁어쩌다', 6209: '못함', 6210: '▁낚인', 6211: '▁액션물', 6212: '▁쩌네', 6213: '끝내', 6214: '--;', 6215: '▁웃기네', 6216: '픽', 6217: '▁망쳐', 6218: '쩡', 6219: '▁뒤죽박죽', 6220: '▁언젠가', 6221: '▁엑스맨', 6222: '☆', 6223: '뢰', 6224: '썬', 6225: '▁한석규', 6226: '▁전반적으로', 6227: '핳', 6228: '▁여러모로', 6229: '▁두고두고', 6230: '▁놀랐다', 6231: '▁피아노', 6232: '▁베드신', 6233: '▁무거운', 6234: '▁이끌어', 6235: '▁섬뜩', 6236: '옵니다', 6237: '▁라이언', 6238: '▁위험', 6239: '▁밑도', 6240: '▁100%', 6241: '▁판단', 6242: '▁부탁', 6243: '▁노튼', 6244: '헤헤', 6245: '▁마지막엔', 6246: '▁보시면', 6247: '▁개똥', 6248: '▁무슨말이', 6249: '질질끌', 6250: '▁흉내내', 6251: '▁첨부터', 6252: '닼ᄏᄏ', 6253: '▁수많은', 6254: '▁식상하다', 6255: '비추', 6256: '▁만났', 6257: '▁슬프네요', 6258: '돌려', 6259: '▁완벽하다', 6260: '▁정석', 6261: '▁평화', 6262: '좀비', 6263: '▁안나옴', 6264: '▁확인', 6265: '▁선동영화', 6266: '특집', 6267: '▁아이유', 6268: '▁아깝네요', 6269: '▁잃었', 6270: '▁훈훈하고', 6271: '톤', 6272: '▁특이하', 6273: '▁필요하다', 6274: '▁신화', 6275: '줘요', 6276: '▁재밌게봤는데', 6277: '▁여신', 6278: '재미가없', 6279: '아이들', 6280: '하시길', 6281: '▁대부분', 6282: '▁절로', 6283: '캐스팅', 6284: '평론가', 6285: '▁정상', 6286: '보지마세요', 6287: 'ho', 6288: 'very', 6289: '미국', 6290: '▁음식', 6291: '▁기억남', 6292: '하지말고', 6293: '잼나', 6294: '▁정체', 6295: '▁한숨', 6296: '▁짜증났', 6297: '아아아아', 6298: '못할', 6299: '중국', 6300: '떤', 6301: '콤', 6302: '낄', 6303: '렀', 6304: '▁디카프리오', 6305: '▁오그라드는', 6306: '줫', 6307: '템', 6308: '▁손예진', 6309: '▁쓸데없이', 6310: '랏', 6311: '잣', 6312: '▁차태현', 6313: '▁설경구', 6314: '▁뛰어넘는', 6315: '▁드래곤볼', 6316: '▁한쿡영화', 6317: '▁원숭이', 6318: '▁징그러', 6319: '▁왕가위', 6320: '▁와닿는', 6321: '▁삭제', 6322: '▁안성기', 6323: '▁Th', 6324: '창있네', 6325: '▁러브스토리', 6326: '▁알려주는', 6327: '▁잔잔하지만', 6328: '▁공룡', 6329: '▁서극', 6330: '▁환경', 6331: '▁피곤', 6332: '▁씨발', 6333: '▁잘못된', 6334: '▁예능', 6335: '▁존잼', 6336: '▁진지하게', 6337: '▁첨엔', 6338: '▁의미있는', 6339: '▁계기', 6340: '▁처음에는', 6341: '▁궁금해서', 6342: '▁게다가', 6343: '▁슬프지만', 6344: '▁찾아볼', 6345: '▁파워', 6346: '▁부산', 6347: '▁반개', 6348: '▁no', 6349: '하는건지', 6350: '▁한시간', 6351: '였네요', 6352: '▁역겹다', 6353: '보일', 6354: '▁멋지게', 6355: '▁진부하다', 6356: '것보다', 6357: '▁허접하다', 6358: '▁지루하기만', 6359: '▁떨어지고', 6360: '흥미를', 6361: '▁그렇지만', 6362: '구역', 6363: '▁끝나서', 6364: '▁진부함', 6365: '▁상대', 6366: '▁우울한', 6367: '▁때리', 6368: '▁잔잔함', 6369: '▁걸리', 6370: '제작', 6371: '▁대부', 6372: '있지만', 6373: '▁생기', 6374: '▁말하려는', 6375: '▁환상적', 6376: '-_', 6377: '▁진지한', 6378: '▁나오네요', 6379: '솔직히', 6380: '힘든', 6381: '맞아', 6382: ':)', 6383: 'ri', 6384: '▁OOOO', 6385: '였다면', 6386: '▁멋있어', 6387: 'ne', 6388: '▁부족함', 6389: '▁힘들어', 6390: '▁미스터', 6391: '뗄', 6392: '▁신선하', 6393: '랍', 6394: '▁제시카', 6395: '쿡', 6396: '덴', 6397: '렐', 6398: 'zzz', 6399: '▁송강호', 6400: '▁송승헌', 6401: '▁오랫동안', 6402: '셋', 6403: '썻', 6404: '웩', 6405: '킴', 6406: '팽', 6407: '늬', 6408: '스파이더맨', 6409: '▁가까운', 6410: '▁김태희', 6411: '▁흑역사', 6412: '습니당', 6413: '▁원피스', 6414: '▁비행기', 6415: '▁한효주', 6416: '▁사투리', 6417: '▁혐오', 6418: '▁후속편', 6419: '▁아련한', 6420: '▁is', 6421: '▁쏘우', 6422: '▁크리스찬', 6423: '▁농담', 6424: '싶어서', 6425: '▁찬양', 6426: '▁통쾌한', 6427: 'vs', 6428: '▁보아도', 6429: '▁동영상', 6430: '▁정확', 6431: '▁잃은', 6432: '▁닮았', 6433: '겠죠', 6434: '▁마틴', 6435: '▁재탕', 6436: '▁등장인물들', 6437: '형제', 6438: '▁만들어낸', 6439: '재밌네요', 6440: '▁환장', 6441: '▁승리', 6442: '▁모독', 6443: '▁싶었던', 6444: '▁지옥', 6445: '합시다', 6446: '겨운', 6447: '▁주온', 6448: '▁어거지', 6449: '▁보고싶네요', 6450: '▁지금보면', 6451: '▁괜찮던데', 6452: '▁오직', 6453: '▁봤었다', 6454: '▁인류', 6455: '▁모르겠네요', 6456: '▁일본판', 6457: '▁확실하', 6458: '▁안가는', 6459: '▁아까워서', 6460: '꼭보시길', 6461: '오르는', 6462: '▁대사들', 6463: '▁후회함', 6464: '▁뭐하나', 6465: '▁신선하다', 6466: '이었어요', 6467: 'ma', 6468: '▁의상', 6469: '밋밋', 6470: '보냐', 6471: '무서운', 6472: 'ᄉᄇ', 6473: '▁돋보이', 6474: '엇어요', 6475: '주려고', 6476: '▁잼있어', 6477: '▁여자애', 6478: '안된다', 6479: '▁이도저도', 6480: '밌', 6481: '첩', 6482: '납', 6483: '▁가야', 6484: '흉', 6485: '쵝', 6486: '▁뒤늦게', 6487: '곱', 6488: '꽉', 6489: '및', 6490: '좆', 6491: 'ᅦ', 6492: '▁best', 6493: '▁기대됩니다', 6494: '▁슬펐다', 6495: '▁아기자기', 6496: '▁인터넷', 6497: '▁재발견', 6498: '▁테이큰', 6499: '밉', 6500: '뿜', 6501: '썸', 6502: '▁구혜선', 6503: '▁아마추어', 6504: '▁팝콘', 6505: '▁클래식', 6506: '▁소지섭', 6507: '배속으로', 6508: '▁김수현', 6509: '▁멈추', 6510: '▁아까웠던', 6511: '▁아쉬워요', 6512: '돈주고', 6513: 'bbbb', 6514: '▁간첩', 6515: '귀요미', 6516: '▁그럴싸', 6517: '나머진', 6518: '▁좋았을텐데', 6519: '▁지나친', 6520: '▁기획', 6521: '▁호흡', 6522: '써요', 6523: '▁대표작', 6524: '▁복수극', 6525: '▁고독', 6526: '겠는데', 6527: '▁요새', 6528: '▁원표', 6529: '드릴', 6530: '자마자', 6531: '▁소통', 6532: '▁볼만했음', 6533: '▁감명', 6534: '▁향기', 6535: '▁귀여', 6536: '▁스토리전개', 6537: '잼잇', 6538: '▁울림', 6539: '▁미스터리', 6540: '▁사랑스럽고', 6541: '▁존내', 6542: '▁레오', 6543: '▁매력적이다', 6544: '▁생각했는데', 6545: '▁좋아해요', 6546: '▁볼만하네요', 6547: '▁못하겠다', 6548: '▁어린이용', 6549: '영활', 6550: '▁소유', 6551: '▁아름다웠다', 6552: '▁공간', 6553: '▁비극적', 6554: 'us', 6555: '▁준비', 6556: '충격', 6557: '123', 6558: '▁있었음', 6559: '▁실패한', 6560: '등등', 6561: '▁달려', 6562: '봣음', 6563: '▁베일', 6564: '▁먹어', 6565: '지못한', 6566: '▁떠오르는', 6567: '죽을뻔', 6568: '같애', 6569: '핵', 6570: '애니메이션', 6571: '슬퍼', 6572: '이쁘다', 6573: '그럼', 6574: '겠는가', 6575: '45', 6576: '넘치는', 6577: '영웅', 6578: '졌던', 6579: '아쉬워', 6580: '▁새벽', 6581: '각본', 6582: '▁다시보기', 6583: '닼', 6584: '겠군', 6585: '룬', 6586: '▁흘리', 6587: '귀신', 6588: '혐', 6589: '▁다세포', 6590: '룰', 6591: '▁새록새록', 6592: '▁신데렐라', 6593: '▁에드워드', 6594: '램', 6595: '쏴', 6596: '툭', 6597: '헷', 6598: '혔', 6599: '홈', 6600: '▁양동근', 6601: '쇄', 6602: '턱', 6603: '▁김민종', 6604: '▁다이하드', 6605: '▁스페인', 6606: '▁빈약한', 6607: '▁큐브', 6608: '▁묵직', 6609: '▁아바타', 6610: '▁성유리', 6611: '▁일주일', 6612: '▁전지현', 6613: '▁총체적', 6614: '▁그들만의', 6615: '▁상관없', 6616: '▁그려낸', 6617: '▁강아지', 6618: '▁늙은', 6619: '▁극단적', 6620: '▁픽사', 6621: '▁개그맨', 6622: '▁서양', 6623: '점드림', 6624: '▁대략', 6625: '▁전체적인', 6626: '▁실패작', 6627: '▁같았다', 6628: '▁시간아까움', 6629: '것같은데', 6630: '▁남자라면', 6631: '▁또라이', 6632: '▁실망스러운', 6633: '가는줄', 6634: '▁내스타일', 6635: '▁아깝습니다', 6636: '▁주변', 6637: '▁동화같은', 6638: '▁돈아깝다', 6639: '봣던', 6640: '▁보여줄', 6641: '▁히트', 6642: '뎅', 6643: '▁늙었', 6644: '▁실화라는', 6645: '▁한숨만', 6646: '▁현실감', 6647: '▁알바생', 6648: '▁없구나', 6649: '입니까', 6650: '▁시작부터', 6651: '▁전라도', 6652: '▁피식', 6653: '▁놀란', 6654: '느냐', 6655: '▁나올까', 6656: '자꾸', 6657: '구멍', 6658: 'oo', 6659: '국민', 6660: '▁기준', 6661: '▁웃겨서', 6662: '낚였', 6663: '▁실사', 6664: '부른', 6665: '▁좋았어', 6666: '▁밀라', 6667: '높아', 6668: '싶은데', 6669: '▁가능성', 6670: '평점이낮', 6671: '▁마음속', 6672: '▁세월', 6673: '▁브레', 6674: '▁두시간', 6675: '취향', 6676: '40', 6677: '맹', 6678: '덕분에', 6679: '쫌', 6680: '얼마나', 6681: '▁스릴감', 6682: '그자체', 6683: '선택', 6684: '평생', 6685: '앞에서', 6686: '▁정신병', 6687: '좋았음', 6688: '▁선동', 6689: '솜', 6690: '덮', 6691: '숲', 6692: '썰', 6693: '켓', 6694: '펠', 6695: '▁과대평가', 6696: '▁군더더기', 6697: '▁박찬욱', 6698: '▁팀버튼', 6699: '겪', 6700: '꺄', 6701: '▁불면증', 6702: '▁2015', 6703: '▁윌리스', 6704: '▁찬사를', 6705: '▁상당한', 6706: '▁의외의', 6707: '▁흥미로웠', 6708: '▁엠마', 6709: '▁봐줄만', 6710: '잘생김', 6711: '▁무간도', 6712: '▁예뻐서', 6713: '스러웠다', 6714: '▁증말', 6715: '드려요', 6716: '▁별한개도', 6717: '▁2012', 6718: '▁첫번째', 6719: '▁모자라', 6720: '▁돌려줘', 6721: 'ᄂᄂ', 6722: '보신분들', 6723: 'un', 6724: '▁내인생최고의', 6725: '▁실화라니', 6726: '시켰', 6727: '▁억지스런', 6728: '▁이나영', 6729: '▁반지의', 6730: '▁과학', 6731: '▁극복', 6732: '렸던', 6733: '▁시험', 6734: '태어나', 6735: '▁영광', 6736: 'ᄋᄋᄋᄋ', 6737: '재밌는데', 6738: '억울', 6739: '▁백배', 6740: '▁가짜', 6741: '▁탄탄하고', 6742: '▁유치하지만', 6743: '▁유행', 6744: '▁시체', 6745: '▁만든건지', 6746: '▁사람들에게', 6747: '▁강간', 6748: '할수없는', 6749: '▁군인', 6750: '▁가슴아프', 6751: 'ᄋᄋᄋ', 6752: '▁따뜻함', 6753: '맥스', 6754: '▁어쩔수없', 6755: '▁다음편', 6756: '▁받아야', 6757: '▁놓치', 6758: '현실적', 6759: 'ᄍᄍᄍ', 6760: '♡♡', 6761: '하겠습니다', 6762: '▁불쌍하', 6763: '▁만난', 6764: '나오는거', 6765: '썩', 6766: '오랜만에', 6767: '시간낭비', 6768: '▁잼났', 6769: '실패', 6770: '성룡', 6771: '결국', 6772: '좋아하는데', 6773: '재밌었다', 6774: '▁훌륭했', 6775: '여주인공', 6776: '랍니다', 6777: '킥', 6778: 'ᅭ', 6779: '▁숨막히', 6780: '▁스필버그', 6781: '▁일깨워주는', 6782: '쉴', 6783: '·', 6784: '人', 6785: '뎁', 6786: '삘', 6787: '얀', 6788: '엌', 6789: '욬', 6790: '헨', 6791: '▁양조위', 6792: '▁바탕으로', 6793: '▁움직이', 6794: '▁권상우', 6795: '▁오우삼', 6796: '▁어두운', 6797: '-0-', 6798: '▁관람불가', 6799: '▁깜놀', 6800: '▁오유에서', 6801: '▁지겨워', 6802: '▁심오한', 6803: '▁더럽다', 6804: '▁훈남', 6805: '▁에로틱', 6806: '▁도둑', 6807: '▁고뇌', 6808: '빅뱅', 6809: '▁경쾌', 6810: '▁직업', 6811: '▁듣기', 6812: '▁패션', 6813: '▁지겨운', 6814: '▁관련', 6815: '▁고인의', 6816: '▁아쉬울', 6817: '▁미안하지만', 6818: '▁욕먹', 6819: '▁시간아까워', 6820: '페이스', 6821: '▁기념', 6822: '▁지루했어요', 6823: '▁얘들', 6824: '▁심각하게', 6825: '▁어쩌면', 6826: '▁적당하다', 6827: '▁나오다니', 6828: '▁마초', 6829: '▁슬퍼요', 6830: '▁신나는', 6831: '▁기존', 6832: '▁무리수', 6833: '▁미국판', 6834: '▁감동도없고', 6835: '▁한동안', 6836: '▁허무하다', 6837: '▁제대로된', 6838: '▁가족애', 6839: '▁네이버평점', 6840: '▁재밌게봤음', 6841: 'ter', 6842: '했어야', 6843: '▁있었는데', 6844: '▁벗어나', 6845: '큼', 6846: '보고나서', 6847: '▁높은거', 6848: '깐', 6849: '자신을', 6850: '▁어색함', 6851: '▁재미있었던', 6852: '건강', 6853: '▁봐야한다', 6854: '기억에남', 6855: '봣습니다', 6856: '심각', 6857: '▁so', 6858: '▁손발', 6859: '보시길', 6860: '▁찍으', 6861: '않았다', 6862: '어디서', 6863: '왜이리', 6864: '졌으면', 6865: '쩔어', 6866: '점드립니다', 6867: '아닌데', 6868: '벅', 6869: '겻', 6870: '팩', 6871: '훌', 6872: '#', 6873: '▁고맙습니다', 6874: '▁인상깊게', 6875: '▁펭귄', 6876: '궈', 6877: '셧', 6878: '쌈', 6879: '졋', 6880: '횽', 6881: '▁세련된', 6882: '▁용두사미', 6883: '렘', 6884: '룸', 6885: '믄', 6886: '쉣', 6887: '잎', 6888: 'q', 6889: '▁프레디', 6890: '▁깨달음', 6891: '▁홍금보', 6892: '▁되돌아', 6893: '아쉬웠지만', 6894: '▁임청하', 6895: '▁지났지만', 6896: '▁페이크', 6897: '▁다니엘', 6898: '▁리즈시절', 6899: 'ᅮᅮᅮᅮᅮᅮᅮ', 6900: '▁예뻐요', 6901: '▁퀴어', 6902: '▁특이한', 6903: '▁왠만한', 6904: '@@', 6905: '▁미치도록', 6906: '▁색채', 6907: '▁찢어', 6908: '▁언제쯤', 6909: '▁존경합니다', 6910: '▁알려준', 6911: '▁따분하', 6912: '▁케이지', 6913: '▁어떠', 6914: '▁담겨', 6915: '▁흘러가는', 6916: '▁감안하', 6917: '▁넘어선', 6918: '▁ᄅᄋ', 6919: '콩콩', 6920: '▁지루했음', 6921: '▁유령', 6922: '▁자극적인', 6923: '▁대실망', 6924: '▁안녕', 6925: '▁웃다가', 6926: '흐흐', 6927: '▁리즈', 6928: '▁뻔하지만', 6929: '말도안되', 6930: '▁아이들에게', 6931: '▁모르지만', 6932: '▁어디까지', 6933: '▁학생들', 6934: '▁일베', 6935: '▁멋있어요', 6936: '▁로마', 6937: '▁조악', 6938: '▁사나이', 6939: '▁망쳐놓', 6940: '▁먹먹하다', 6941: '▁제목부터', 6942: '▁별로였음', 6943: 'sh', 6944: '▁보고나니', 6945: '▁짧아', 6946: '▁독립', 6947: '눈물흘', 6948: '왔던', 6949: '보기엔', 6950: '재밋게봣', 6951: '하려면', 6952: '▁짝이', 6953: '▁엉성함', 6954: 'ᅳᅮ', 6955: '▁재미있던데', 6956: '▁통쾌하', 6957: '▁걸렸', 6958: '자연스럽게', 6959: '▁역겹', 6960: '▁울린', 6961: '마무리', 6962: '캬', 6963: '킬링타임용', 6964: '그래픽', 6965: '판타지', 6966: '로맨스', 6967: '이쁘고', 6968: 'tv', 6969: '많은것을', 6970: '젼', 6971: '바람', 6972: '황당', 6973: '밋', 6974: '둑', 6975: '뷔', 6976: '뜯', 6977: '젬', 6978: '▁엉터리', 6979: '▁트랜스포머', 6980: '▁파라노말', 6981: '찜', 6982: '훔', 6983: '▁잃어버린', 6984: '▁장근석', 6985: '▁흐지부지', 6986: '웰', 6987: '켈', 6988: 'ᆞ', 6989: '▁송지효', 6990: '▁김혜수', 6991: '▁레이첼', 6992: '▁엉엉', 6993: '▁구역질', 6994: '▁지브리', 6995: '▁이순신', 6996: '▁모자란', 6997: '^.^', 6998: '▁슈렉', 6999: '▁어설프게', 7000: '최민식', 7001: '▁블루', 7002: '▁뉴욕', 7003: '▁풀어낸', 7004: '▁슈퍼맨', 7005: '▁죽기전에', 7006: '▁역량', 7007: '▁산드라', 7008: '▁때우기', 7009: '▁돈낭비', 7010: '▁위하여', 7011: '▁느껴졌다', 7012: '하우스', 7013: '▁욕나온다', 7014: '▁몰락', 7015: '밴드', 7016: '▁일부러', 7017: 'ᄉᄉ', 7018: '되길', 7019: '피어스', 7020: '▁추락', 7021: '▁마냥', 7022: '▁어쩌라는', 7023: '▁얻어', 7024: '▁이게뭐야', 7025: '▁커피', 7026: '▁2003', 7027: '▁졸면서', 7028: '영화제에서', 7029: '▁웃기긴', 7030: '학년때', 7031: '▁보게되는', 7032: '클럽', 7033: '▁조용하', 7034: '나보네', 7035: '할정도로', 7036: 'dd', 7037: '뻐', 7038: '만들엇', 7039: '50', 7040: '보지말고', 7041: '중간에', 7042: '▁혹시', 7043: '농', 7044: '느와르', 7045: '것일까', 7046: '영환줄', 7047: '야말로', 7048: '▁밑에분', 7049: '폭력', 7050: '▁빠른', 7051: '낌', 7052: '해지네요', 7053: '봇', 7054: '쯧', 7055: '▁두근두근', 7056: '▁드림웍스', 7057: '▁호불호가', 7058: '됴', 7059: '셉', 7060: '힛', 7061: '▁도라에몽', 7062: '▁쓸데없는', 7063: '넼', 7064: '댐', 7065: '펄', 7066: '▁서세원', 7067: '▁황정민', 7068: '▁힘내세요', 7069: '▁으리으리', 7070: '▁감성팔이', 7071: '▁흠잡을', 7072: '▁와닿지', 7073: '▁엽문', 7074: '▁불후의', 7075: '▁유오성', 7076: '▁서부영화', 7077: '이것저것', 7078: '▁닥터', 7079: '▁사기꾼', 7080: '▁7.5', 7081: '▁오글거리는', 7082: '▁베리굿', 7083: '▁복잡하', 7084: '▁상쾌', 7085: '▁새삼', 7086: '▁시시한', 7087: '▁장혁', 7088: '▁휴먼', 7089: '▁재방송', 7090: '▁놀라울', 7091: '▁허탈', 7092: '▁뭐랄까', 7093: '▁신나게', 7094: '▁웃어야', 7095: '▁토끼', 7096: '▁대책', 7097: '▁늙어', 7098: '▁물씬', 7099: '▁고증', 7100: '▁법정', 7101: '▁반갑', 7102: '▁소품', 7103: '▁8.5', 7104: '▁나은듯', 7105: '▁처음본다', 7106: '▁인간적으로', 7107: '▁없었으면', 7108: '▁사라져', 7109: '되었습니다', 7110: '선생님', 7111: '멋대로', 7112: '확실', 7113: '올린', 7114: '같으니', 7115: '잘하시', 7116: '▁바라보는', 7117: '▁없을까', 7118: '▁없으니', 7119: '▁진정성', 7120: '▁소름끼치', 7121: '니즘', 7122: '▁알게된', 7123: '팬인데', 7124: '▁주고싶은', 7125: '▁재수없', 7126: '취급', 7127: '팬이라', 7128: '▁광팬', 7129: 'ill', 7130: '▁들어간', 7131: '픔', 7132: '▁등장인물', 7133: '톰', 7134: '프로그램', 7135: '낳', 7136: '특유의', 7137: '꽤', 7138: '따뜻한', 7139: 'CG', 7140: '우리나라', 7141: '쏠', 7142: 'ᄑ', 7143: '▁엉덩이', 7144: '▁엔딩크레딧', 7145: '▁원맨쇼', 7146: '▁유치뽕짝', 7147: '▁인종차별', 7148: '▁징그럽', 7149: '▁초등학교때', 7150: '▁클리셰', 7151: '▁파워레인저', 7152: '꽁', 7153: '닦', 7154: '듦', 7155: '옮', 7156: '텅', 7157: '팝', 7158: '펜', 7159: '헝', 7160: 'Z', 7161: '▁끝판왕', 7162: '▁이탈리아', 7163: '▁졸업작품', 7164: '▁후덜덜', 7165: '걷', 7166: '겄', 7167: '릅', 7168: '얌', 7169: '췄', 7170: '펀', 7171: '▁로렌스', 7172: '엮', 7173: '▁어차피', 7174: '▁여태까지', 7175: '▁웬만하면', 7176: '▁처절한', 7177: '▁최진실', 7178: '떄문에', 7179: '▁별볼일', 7180: '▁스티브', 7181: '위원회', 7182: '▁캐릭', 7183: '▁무서울', 7184: '▁콤비', 7185: '▁옹박', 7186: '▁일베충', 7187: '▁섞어', 7188: '▁귀찮', 7189: '▁잔잔하니', 7190: '▁외로움', 7191: '▁꺼버렸다', 7192: '▁똥폼', 7193: '▁승부', 7194: '▁눈요기', 7195: '▁빠져드는', 7196: '▁필요할까', 7197: '▁잔인하기만', 7198: '▁심심할때', 7199: '▁냄새가', 7200: '▁적나라', 7201: '십니다', 7202: '▁잼있었음', 7203: '▁어쩌라고', 7204: '▁권력', 7205: '▁장나라', 7206: '▁총알', 7207: '▁표본', 7208: '더라고요', 7209: '▁사랑스런', 7210: '덕후', 7211: '제작비', 7212: 'gt', 7213: '영환데', 7214: '▁울었습니다', 7215: '▁슴가', 7216: '▁훌륭함', 7217: '죽는줄', 7218: '▁No', 7219: '삶은', 7220: '완벽하게', 7221: '▁유치하기', 7222: '▁개봉당시', 7223: '▁농구', 7224: '▁데려다', 7225: '▁실망시키지', 7226: '▁정체성', 7227: '투성이', 7228: '▁낚였네', 7229: '않았음', 7230: '▁진부하', 7231: '▁빼놓', 7232: '실화라', 7233: '낮아서', 7234: '▁만들지마', 7235: '~~~~~~~~~~~', 7236: '▁비교하면', 7237: '할말없', 7238: '▁시간아깝', 7239: '▁전형적', 7240: '쎄', 7241: '촬', 7242: '▁오그라든다', 7243: '드래곤', 7244: '▁ocn', 7245: '▁맥라이언', 7246: '▁안타까움', 7247: '▁어설픔', 7248: '▁웨슬리', 7249: '▁학창시절', 7250: '멕', 7251: '옳', 7252: '▁KBS', 7253: '▁곱씹', 7254: '▁멜깁슨', 7255: '▁아프리카', 7256: '꿨', 7257: '듀', 7258: '빤', 7259: '뼈', 7260: '쏙', 7261: '흰', 7262: '+_+', 7263: '▁국어책', 7264: '▁맙시다', 7265: '▁스타일리쉬', 7266: '▁썰렁', 7267: '▁주상욱', 7268: '▁가슴아픈', 7269: '▁엄정화', 7270: '▁납득', 7271: '★★★', 7272: '▁장동건', 7273: '▁탕웨이', 7274: '▁복잡한', 7275: '▁침묵', 7276: '▁조용히', 7277: '▁타이틀', 7278: '▁중학교때', 7279: '꼬맹이', 7280: '▁따분한', 7281: '생겨서', 7282: '▁보낸다', 7283: '▁이정재', 7284: '▁어려웠', 7285: '▁압박', 7286: '허니잼', 7287: '▁거부감', 7288: '▁색다르', 7289: '▁히어로물', 7290: '▁이범수', 7291: '기대안했는데', 7292: '▁말이필요없음', 7293: '▁내생의', 7294: '▁죽인다', 7295: '▁0.5', 7296: '▁밝혀', 7297: '▁촌스러운', 7298: '▁모르겟다', 7299: '▁황홀', 7300: '▁강렬하', 7301: '▁악몽', 7302: '▁과장된', 7303: '샘', 7304: '꽝', 7305: '▁구리다', 7306: '▁끼워', 7307: '▁스릴있고', 7308: '더럽게', 7309: 'good', 7310: '넌', 7311: '완벽', 7312: '점대라니', 7313: '교육', 7314: '▁성찰', 7315: '▁태양', 7316: '▁좋아할만한', 7317: '▁철저', 7318: '▁행복해지는', 7319: 'ay', 7320: '>_', 7321: '별한개', 7322: '▁차별', 7323: '▁2004', 7324: '▁원빈', 7325: '▁기분좋은', 7326: '경찰', 7327: '볼수없', 7328: '▁있어보이', 7329: '추억돋', 7330: '▁볼거없', 7331: '▁어린이들', 7332: '▁볼만하던데', 7333: '시끄러', 7334: '여운이남는', 7335: '오로지', 7336: '본것중', 7337: '왜그러', 7338: '죽이기', 7339: '▁알게되', 7340: '▁머리속', 7341: '졸립', 7342: '사람마다', 7343: '▁말하려', 7344: '▁심심하', 7345: '▁자연스럽', 7346: '뿔', 7347: '냄', 7348: '甲', 7349: '톨', 7350: '▁내러티브', 7351: '▁런닝타임', 7352: '▁로버츠', 7353: '▁묻어나는', 7354: '▁샤론스톤', 7355: '▁채플린', 7356: '▁판타스틱', 7357: '▁황비홍', 7358: '엣', 7359: '흙', 7360: '▁강력추천', 7361: '▁마찬가지', 7362: '▁헛웃음만', 7363: '빚', 7364: 'ᄋᄉᄋ', 7365: '▁어둡고', 7366: '▁찜찜', 7367: '▁컨셉', 7368: '▁정주행', 7369: '▁능가하는', 7370: '▁베트남', 7371: '▁괜춘', 7372: '▁강지환', 7373: '▁손색이', 7374: '▁ᄇᄉ', 7375: '▁흐뭇', 7376: '▁미친듯이', 7377: '▁위대함', 7378: '▁증명', 7379: '▁심지어', 7380: '▁어려워', 7381: '▁온몸', 7382: '▁조용한', 7383: '탐', 7384: '첫', 7385: '즌', 7386: '뱅', 7387: '꿔', 7388: '챙', 7389: '뉘', 7390: '샹', 7391: '。', 7392: '끓', 7393: '륙', 7394: '밟', 7395: '밸', 7396: '욜', 7397: '욧', 7398: '덧', 7399: '뻘', 7400: '쿄', 7401: '쪄', 7402: '믹', 7403: '뜩', 7404: '퉁', 7405: '껍', 7406: '댕', 7407: '乃', 7408: '뎌', 7409: '륭', 7410: '륵', 7411: '썅', 7412: '쑤', 7413: '곰', 7414: '죤', 7415: '끗', 7416: 'ᅣ', 7417: '깡', 7418: '뇨', 7419: '탠', 7420: '햄', 7421: '됌', 7422: '띵', 7423: '묶', 7424: '샷', 7425: '쇠', 7426: '쨩', 7427: '핡', 7428: '떳', 7429: '벙', 7430: '쉰', 7431: '캅', 7432: '톡', 7433: '댓', 7434: '긍', 7435: '녁', 7436: '뷁', 7437: '쌤', 7438: '칩', 7439: '툰', 7440: '無', 7441: '갇', 7442: '넷', 7443: '쌓', 7444: '쑈', 7445: '쪙', 7446: '럿', 7447: '킵', 7448: '률', 7449: '훼', 7450: '쵸', 7451: '괘', 7452: '꺅', 7453: '꾀', 7454: '둬', 7455: '뒀', 7456: '샌', 7457: '셜', 7458: '쌀', 7459: '엥', 7460: '쟝', 7461: '힝', 7462: '릉', 7463: '앳', 7464: '빅', 7465: '뭥', 7466: '둡', 7467: '겜', 7468: '윙', 7469: '펴', 7470: '겸', 7471: '댈', 7472: '숫', 7473: '쌔', 7474: '쌩', 7475: '췌', 7476: '횡', 7477: '갤', 7478: '젓', 7479: '귓', 7480: '칫', 7481: 'ᅧ', 7482: '밴', 7483: '줍', 7484: '맙', 7485: '닙', 7486: 'Q', 7487: '\\\\', 7488: '솟', 7489: '♬', 7490: '굵', 7491: '깽', 7492: '넋', 7493: '딕', 7494: '룹', 7495: '뺏', 7496: '웁', 7497: '윗', 7498: '짖', 7499: '짚', 7500: '탔', 7501: '팡', 7502: '핏', 7503: '웬', 7504: '냉', 7505: '찢', 7506: '볍', 7507: '옵', 7508: '킁', 7509: '$', 7510: '꾹', 7511: '팜', 7512: '됀', 7513: '붐', 7514: '얍', 7515: '엎', 7516: '웡', 7517: '읎', 7518: '쩍', 7519: '쫙', 7520: '쳣', 7521: '콕', 7522: '햐', 7523: '겅', 7524: '셸', 7525: '냅', 7526: 'J', 7527: '캔', 7528: '갸', 7529: '돠', 7530: '썽', 7531: '킷', 7532: '굼', 7533: '뎈', 7534: '뿅', 7535: '쨔', 7536: '큭', 7537: '퍽', 7538: '꼼', 7539: '싯', 7540: '얕', 7541: '욯', 7542: '짭', 7543: '쳇', 7544: '쿼', 7545: '롬', 7546: '쌍', 7547: '텝', 7548: '늑', 7549: '댜', 7550: '돕', 7551: '벡', 7552: '샴', 7553: '씽', 7554: '퉷', 7555: '곁', 7556: '꺾', 7557: '넴', 7558: '뺀', 7559: '뺐', 7560: '헿', 7561: '눠', 7562: '얔', 7563: '밝', 7564: 'W', 7565: '잭', 7566: '푹', 7567: '씻', 7568: '좁', 7569: '퀘', 7570: '겔', 7571: '쒸', 7572: '욘', 7573: '쿤', 7574: '퐁', 7575: '핍', 7576: '몹', 7577: '뽑', 7578: '헛', 7579: '끊', 7580: '쩐', 7581: '붉', 7582: '걱', 7583: '첼', 7584: '낱', 7585: '딥', 7586: '○', 7587: '뜰', 7588: '빔', 7589: '쒯', 7590: '융', 7591: '잴', 7592: '즉', 7593: '”', 7594: '눅', 7595: '늠', 7596: '떴', 7597: '뛴', 7598: '룻', 7599: '뿡', 7600: '섰', 7601: '숴', 7602: '슥', 7603: '쫑', 7604: '칵', 7605: '퀼', 7606: '“', 7607: '곀', 7608: '잌', 7609: '[', 7610: '힙', 7611: '쬐', 7612: '꼐', 7613: '멧', 7614: '밭', 7615: '붓', 7616: '빽', 7617: '잰', 7618: '짬', 7619: '팰', 7620: 'ᆪ', 7621: '死', 7622: '냠', 7623: '덥', 7624: '좃', 7625: '콱', 7626: '핥', 7627: '괸', 7628: '뀨', 7629: '꽈', 7630: '뱃', 7631: '뭇', 7632: '빰', 7633: '앰', 7634: '女', 7635: '쏜', 7636: '졷', 7637: '죵', 7638: '쨰', 7639: '텀', 7640: '♪', 7641: '긁', 7642: '꺽', 7643: '넥', 7644: '밓', 7645: '캣', 7646: '→', 7647: '넝', 7648: '웹', 7649: '챔', 7650: '먀', 7651: '앍', 7652: '뇬', 7653: '뻗', 7654: '씌', 7655: '챦', 7656: '촤', 7657: '作', 7658: '盧', 7659: '꿍', 7660: '뒈', 7661: '뤼', 7662: '뿍', 7663: '왁', 7664: '욥', 7665: '웽', 7666: '쾅', 7667: '텨', 7668: '폄', 7669: '벳', 7670: '닛', 7671: '흫', 7672: '됏', 7673: '뤠', 7674: '멌', 7675: '찼', 7676: '햏', 7677: '걔', 7678: '굽', 7679: '돔', 7680: '졉', 7681: '캉', 7682: '흣', 7683: '|', 7684: 'ᄈ', 7685: '넛', 7686: '뮈', 7687: '믓', 7688: '뵈', 7689: '숑', 7690: '읭', 7691: '콥', 7692: '쿰', 7693: '펭', 7694: '홉', 7695: '휙', 7696: '넉', 7697: '떵', 7698: '휼', 7699: '렜', 7700: '촐', 7701: '땜', 7702: '켰', 7703: '}', 7704: '쭝', 7705: '챘', 7706: '혓', 7707: '뎃', 7708: '롸', 7709: '뫼', 7710: '앟', 7711: 'ᄄ', 7712: '⌒', 7713: '☞', 7714: '귯', 7715: '꺠', 7716: '넨', 7717: '떙', 7718: '륨', 7719: '벵', 7720: '뽐', 7721: '샛', 7722: '쎈', 7723: '옼', 7724: '읏', 7725: '텍', 7726: '귄', 7727: '놧', 7728: '댔', 7729: '맬', 7730: '쎼', 7731: '찹', 7732: '갚', 7733: '컸', 7734: '봅', 7735: 'ン', 7736: '낍', 7737: '첸', 7738: '有', 7739: '샨', 7740: '{', 7741: '─', 7742: '됄', 7743: '렙', 7744: '븅', 7745: '셍', 7746: '읔', 7747: '챈', 7748: '퀀', 7749: '팟', 7750: '핰', 7751: '’', 7752: '냔', 7753: '뇽', 7754: '멱', 7755: '샵', 7756: '셰', 7757: '숱', 7758: '쌉', 7759: '쌌', 7760: '옌', 7761: '윅', 7762: '잏', 7763: '졍', 7764: '쥰', 7765: '쥴', 7766: '쩖', 7767: '쫘', 7768: '챠', 7769: '캄', 7770: '켁', 7771: '갬', 7772: '굶', 7773: '팥', 7774: '댁', 7775: 'し', 7776: '씹', 7777: '뒷', 7778: '헣', 7779: 'ら', 7780: '最', 7781: '뭄', 7782: '컵', 7783: '갉', 7784: '궤', 7785: '끅', 7786: '돗', 7787: '땃', 7788: '띨', 7789: '쑥', 7790: '쯩', 7791: '츰', 7792: '헥', 7793: '훙', 7794: '▽', 7795: '갯', 7796: '낑', 7797: '늪', 7798: '뒹', 7799: '믈', 7800: '뺑', 7801: '뽜', 7802: '쉼', 7803: '쒜', 7804: '콸', 7805: '헹', 7806: '홬', 7807: 'ᅠ', 7808: '끙', 7809: '룽', 7810: '멩', 7811: '웜', 7812: '깟', 7813: '녜', 7814: '딛', 7815: '넙', 7816: '옄', 7817: '찟', 7818: '뽈', 7819: '둣', 7820: 'よ', 7821: '컥', 7822: '밈', 7823: '÷', 7824: '웍', 7825: '▼', 7826: 'ᅪ', 7827: 'ᅯ', 7828: '↗', 7829: '☜', 7830: '슷', 7831: '훠', 7832: '햅', 7833: '퐝', 7834: '퀵', 7835: '켬', 7836: '촛', 7837: '짰', 7838: '좇', 7839: '옅', 7840: '씸', 7841: '벚', 7842: '땟', 7843: '덟', 7844: '껌', 7845: '괄', 7846: '힣', 7847: '훓', 7848: '홥', 7849: '킼', 7850: '킈', 7851: '욀', 7852: '숟', 7853: '딪', 7854: '덱', 7855: '뀜', 7856: '꿰', 7857: '괭', 7858: '故', 7859: '횟', 7860: '짴', 7861: '짘', 7862: '왘', 7863: '썪', 7864: '쁩', 7865: '빴', 7866: '뤘', 7867: '냨', 7868: '훑', 7869: '훅', 7870: '햌', 7871: '툴', 7872: '줏', 7873: '죨', 7874: '쟤', 7875: '썹', 7876: '랖', 7877: '끽', 7878: '깼', 7879: '휩', 7880: '휠', 7881: '큽', 7882: '촘', 7883: '뭍', 7884: '뀔', 7885: '훤', 7886: '큘', 7887: '컹', 7888: '츤', 7889: '쮸', 7890: '좔', 7891: '쁠', 7892: '땔', 7893: '닠', 7894: '낰', 7895: '̄', 7896: '춥', 7897: '얹', 7898: '뮬', 7899: '껑', 7900: '헠', 7901: '풉', 7902: '쥑', 7903: '샐', 7904: '뚤', 7905: '놉', 7906: '낡', 7907: '꿉', 7908: '꽥', 7909: '곸', 7910: '픕', 7911: '촉', 7912: '쥔', 7913: '얽', 7914: '멎', 7915: '릎', 7916: '뤽', 7917: '옜', 7918: '뱉', 7919: '닳', 7920: '뀐', 7921: '꿋', 7922: '괞', 7923: '켠', 7924: '헴', 7925: '펏', 7926: '쫒', 7927: '쉘', 7928: '꽂', 7929: '탭', 7930: '쨋', 7931: '슌', 7932: '녔', 7933: '깬', 7934: '샬', 7935: '왼', 7936: '뺴', 7937: '뺨', 7938: '꼇', 7939: '넓', 7940: '슐', 7941: '땠', 7942: '탤', 7943: '쫓', 7944: '뭡', 7945: '딨', 7946: '멤', 7947: '샀', 7948: '뤄', 7949: '핸', 7950: '앓', 7951: '릇', 7952: '홧', 7953: '쭈', 7954: '맷', 7955: '뻣', 7956: '맺', 7957: '둠', 7958: '푼', 7959: '뭣', 7960: '틋', 7961: '빕', 7962: '맑', 7963: '펼', 7964: '랩', 7965: '쫄', 7966: '팠', 7967: '웟', 7968: '딧', 7969: '낯', 7970: '콧', 7971: '쏟', 7972: '얄', 7973: '깍', 7974: '듭', 7975: '틸', 7976: '뀌', 7977: '펙', 7978: '껐', 7979: '튀', 7980: '왤', 7981: '뻤', 7982: '녹', 7983: '펐', 7984: '겉', 7985: '됩', 7986: '짠', 7987: '쁨', 7988: '씁', 7989: '젊', 7990: '묻', 7991: '찝', 7992: '쳤', 7993: '굉', 7994: '똑', 7995: '줬', 7996: '훨', 7997: '떻', 7998: '옛', 7999: '깊'}\n",
      "{'<unk>': 0, '<s>': 1, '</s>': 2, '▁': 3, '.': 4, '..': 5, '▁영화': 6, '...': 7, '이': 8, '의': 9, '가': 10, '도': 11, '는': 12, '다': 13, ',': 14, '을': 15, '에': 16, '은': 17, '고': 18, '?': 19, '지': 20, '!': 21, '▁너무': 22, '한': 23, '▁정말': 24, '만': 25, '~': 26, '를': 27, '▁진짜': 28, '영화': 29, '▁이': 30, '로': 31, '나': 32, '게': 33, '어': 34, '라': 35, '네': 36, '점': 37, '리': 38, '아': 39, '!!': 40, '기': 41, '과': 42, '....': 43, '인': 44, '▁1': 45, '요': 46, '▁아': 47, '▁왜': 48, '서': 49, '▁잘': 50, '▁안': 51, '으로': 52, '▁이런': 53, '하고': 54, '자': 55, '해': 56, '들': 57, '▁그': 58, '와': 59, '▁더': 60, '▁그냥': 61, '에서': 62, '거': 63, '▁10': 64, '네요': 65, '▁수': 66, '▁다': 67, '스': 68, '▁본': 69, '▁드라마': 70, '음': 71, '하는': 72, '▁최고': 73, '야': 74, '▁최고의': 75, '▁평점': 76, '▁ᄏᄏ': 77, '대': 78, '하': 79, '▁이거': 80, '니': 81, '함': 82, '면': 83, '▁완전': 84, '시': 85, '▁쓰레기': 86, '이다': 87, '▁보고': 88, '하다': 89, '수': 90, '▁내': 91, '사': 92, '▁연기': 93, '지만': 94, '!!!': 95, '▁좀': 96, '▁없다': 97, '미': 98, 'ᄏᄏ': 99, '임': 100, '▁이건': 101, '▁봤는데': 102, '냐': 103, '▁참': 104, '▁이게': 105, '▁없는': 106, '보다': 107, '^^': 108, '여': 109, '진': 110, '▁한': 111, '드': 112, '보': 113, '데': 114, '우': 115, '▁난': 116, '▁영화를': 117, '▁개': 118, '일': 119, '▁내가': 120, '하게': 121, '구': 122, '~~': 123, '▁못': 124, '▁2': 125, 'ᄏ': 126, '주': 127, '할': 128, '안': 129, '▁좋은': 130, '▁영화는': 131, '▁역시': 132, '▁스토리': 133, '▁나': 134, '▁평점이': 135, '성': 136, '▁재미': 137, '듯': 138, '▁영화가': 139, '▁이렇게': 140, '▁보는': 141, '정': 142, '상': 143, '▁다시': 144, '중': 145, '마': 146, '▁3': 147, '적': 148, '트': 149, '▁재밌게': 150, '던': 151, '는데': 152, ';;': 153, '▁별로': 154, '▁감동': 155, '려': 156, '▁넘': 157, '▁작품': 158, '장': 159, '신': 160, '1': 161, '▁있는': 162, '치': 163, '건': 164, '용': 165, '들이': 166, '▁뭐': 167, '전': 168, '▁오': 169, '▁말': 170, '??': 171, '오': 172, '부': 173, '보고': 174, '개': 175, '▁아깝다': 176, '러': 177, '질': 178, '▁ᄏᄏᄏ': 179, '까지': 180, '화': 181, '▁하': 182, '▁보': 183, '때': 184, '해서': 185, '물': 186, '내': 187, '▁명작': 188, '원': 189, '▁별': 190, '▁이야기': 191, 'ᅲᅲ': 192, '▁꼭': 193, '분': 194, '히': 195, '세': 196, '▁많이': 197, '랑': 198, '2': 199, '▁볼': 200, '했다': 201, '어요': 202, '▁전': 203, '소': 204, '그': 205, '▁ᄏ': 206, '▁마지막': 207, '▁감독': 208, ';': 209, '▁액션': 210, '▁중': 211, '▁지': 212, '▁짱': 213, '진짜': 214, '▁것': 215, 'ᄏᄏᄏ': 216, '▁또': 217, '년': 218, '▁ᅲᅲ': 219, '습니다': 220, '▁저': 221, '비': 222, '▁무': 223, '군': 224, '적인': 225, '무': 226, '급': 227, '▁기대': 228, '▁ᅳᅳ': 229, '▁말이': 230, '감': 231, '너무': 232, '▁좋다': 233, '영': 234, '식': 235, '▁재밌다': 236, '▁시간': 237, '것': 238, '인데': 239, '입니다': 240, '▁가장': 241, '선': 242, '▁하나': 243, '말': 244, '편': 245, '디': 246, 'ᅲ': 247, '같은': 248, '줄': 249, '▁무슨': 250, '▁김': 251, '란': 252, '걸': 253, '▁만든': 254, '제': 255, '본': 256, '조': 257, '좀': 258, '▁생각': 259, '하지': 260, '더': 261, '▁보면': 262, '▁주': 263, '▁한국': 264, '▁사랑': 265, '▁와': 266, '작': 267, '호': 268, '▁미': 269, \"'\": 270, '없는': 271, '남': 272, '▁하는': 273, '▁정': 274, '동': 275, '드라마': 276, '▁ᄒᄒ': 277, '▁재미없다': 278, '당': 279, '라고': 280, '▁지금': 281, '르': 282, '▁어': 283, '바': 284, '긴': 285, '심': 286, '▁코미디': 287, '모': 288, ',,': 289, '▁비': 290, '▁유': 291, 'ᅳᅳ': 292, '레': 293, '▁할': 294, '울': 295, '정말': 296, '▁굿': 297, '유': 298, '부터': 299, '▁일본': 300, '▁재미있게': 301, '▁없고': 302, '▁최악': 303, '▁사': 304, '두': 305, '연': 306, '▁일': 307, '▁조': 308, '▁내용': 309, '▁느낌': 310, '▁제': 311, '한다': 312, '크': 313, '▁대박': 314, '▁봤다': 315, '3': 316, '노': 317, '된': 318, ')': 319, '▁영화다': 320, '▁대': 321, '▁배우': 322, '씨': 323, '▁좋아': 324, '▁아니': 325, '류': 326, '으면': 327, '죠': 328, '▁봐도': 329, '있는': 330, '▁자': 331, '었다': 332, '▁처음': 333, '▁최악의': 334, '린': 335, '▁솔직히': 336, '잘': 337, '명': 338, '▁아주': 339, '▁다른': 340, '간': 341, '▁돈': 342, '난': 343, '▁이걸': 344, '에게': 345, '발': 346, '이나': 347, '위': 348, '으': 349, '▁마': 350, '▁모': 351, '들의': 352, '▁인생': 353, '길': 354, '연기': 355, '준': 356, '살': 357, '없다': 358, '운': 359, '때문에': 360, '타': 361, '▁그리고': 362, '▁이영화': 363, '루': 364, '워': 365, '점도': 366, '▁끝까지': 367, '▁있다': 368, '▁구': 369, '▁알': 370, '짱': 371, '합니다': 372, '▁두': 373, '구나': 374, '-': 375, '▁뭔가': 376, '▁기': 377, '~~~': 378, '!!!!': 379, '하나': 380, '▁우': 381, '날': 382, '▁거': 383, 'ᄒᄒ': 384, '경': 385, '래': 386, '♥': 387, '▁재밌어요': 388, '▁신': 389, '▁같은': 390, '▁여자': 391, '▁시': 392, '10': 393, '희': 394, '저': 395, '라는': 396, '▁0': 397, '번': 398, '님': 399, 'ᄒ': 400, '▁아니다': 401, '프': 402, '했던': 403, '▁연출': 404, '하네': 405, '판': 406, '▁아름다운': 407, '봤는데': 408, '방': 409, '▁해': 410, '림': 411, '단': 412, '따': 413, '▁보기': 414, '▁반': 415, '인가': 416, '▁공포': 417, '▁4': 418, '▁후': 419, '▁한번': 420, '▁모두': 421, '▁추천': 422, '▁실망': 423, '▁스릴러': 424, '▁때': 425, '박': 426, '▁그래도': 427, '엔': 428, '▁부': 429, 'ᅳ': 430, '▁딱': 431, '터': 432, 'e': 433, '까': 434, '피': 435, '▁내용이': 436, '실': 437, '▁바': 438, '▁최고다': 439, '▁줄': 440, '▁소': 441, '반': 442, \"▁'\": 443, '파': 444, '재': 445, '애': 446, '▁제일': 447, '▁애': 448, '▁재밌': 449, '▁ᄏᄏᄏᄏ': 450, '▁끝': 451, '▁전혀': 452, '점이': 453, '▁대한': 454, '형': 455, '카': 456, '4': 457, 'o': 458, '▁아까운': 459, '지는': 460, '관': 461, '민': 462, '▁강': 463, '▁스': 464, '▁싶다': 465, '▁만드는': 466, '되는': 467, '▁사람': 468, '든': 469, '▁9': 470, '▁보다': 471, '▁7': 472, '▁5': 473, '▁OO': 474, '▁재미도': 475, '▁나는': 476, '▁보다가': 477, '▁이제': 478, '▁배우들': 479, '▁^^': 480, '하지만': 481, '하면': 482, '▁만들어': 483, '▁계속': 484, '▁하지만': 485, '(': 486, '▁같다': 487, '▁연기가': 488, '▁봤': 489, '인지': 490, '▁우리': 491, '▁남는': 492, '~!': 493, '▁않는': 494, '코': 495, '▁많은': 496, '달': 497, '▁반전': 498, '겠다': 499, '▁조금': 500, '▁8': 501, '▁오랜만에': 502, '▁이상': 503, '키': 504, 'ᅮᅮ': 505, '처럼': 506, '▁박': 507, '▁아직도': 508, '티': 509, '▁전개': 510, '▁나름': 511, '없': 512, '???': 513, '▁엄청': 514, '시간': 515, '▁시간이': 516, '▁않은': 517, '▁재': 518, '다니': 519, '즈': 520, '▁내내': 521, '최고': 522, '5': 523, '▁영화라고': 524, '버': 525, ';;;': 526, '▁남': 527, '▁공포영화': 528, 'ᄏᄏᄏᄏ': 529, '▁ᅲ': 530, '▁OOO': 531, '들은': 532, '없이': 533, '겨': 534, '년대': 535, '▁수준': 536, '이랑': 537, '문': 538, '▁않고': 539, '▁배': 540, '▁아닌': 541, '져': 542, '왜': 543, '망': 544, '▁음악': 545, '▁장': 546, '못': 547, '니까': 548, '되': 549, '▁나오는': 550, '이라': 551, '구만': 552, '국': 553, '▁결말': 554, '▁기억': 555, '▁어떻게': 556, '▁졸작': 557, '하네요': 558, '공': 559, '▁여운이': 560, '▁걍': 561, '▁내용도': 562, '▁불': 563, '▁공': 564, '차': 565, '잼': 566, '▁아니라': 567, '▁지루하고': 568, '볼': 569, '▁절대': 570, '▁나도': 571, '후': 572, '▁재밌음': 573, '▁되': 574, '생각': 575, '▁원작': 576, '▁애니': 577, '▁노': 578, '▁감독이': 579, '▁개봉': 580, '▁멋진': 581, '▁봤습니다': 582, '스토리': 583, '지도': 584, '▁매력': 585, '▁강추': 586, '▁듯': 587, '넘': 588, '▁영화입니다': 589, '점은': 590, '▁지루한': 591, '▁지루하다': 592, '▁재밌는': 593, '▁눈': 594, '감동': 595, '봤': 596, '▁진심': 597, '극': 598, '▁현실': 599, '▁보세요': 600, '해요': 601, '▁좋아요': 602, '▁쓰': 603, '면서': 604, '▁시리즈': 605, '쳐': 606, '▁주인공': 607, '▁속': 608, '력': 609, '현': 610, '▁모든': 611, '▁재미가': 612, '▁지루함': 613, '▁욕': 614, '▁좋았다': 615, '▁뻔한': 616, '▁성': 617, '토': 618, '배': 619, '▁남자': 620, '▁수작': 621, '▁날': 622, '▁요즘': 623, '▁연기력': 624, '▁건': 625, '며': 626, '이란': 627, '▁가슴': 628, ',,,': 629, '▁한국영화': 630, '포': 631, '▁가족': 632, '인듯': 633, '▁때문에': 634, '▁괜찮은': 635, '참': 636, '뿐': 637, '평점': 638, '▁있': 639, '▁발': 640, '▁초': 641, '▁이해': 642, '봄': 643, '▁장면': 644, '▁도대체': 645, '등': 646, '않': 647, '▁B': 648, '▁없음': 649, 'i': 650, '▁봤던': 651, '금': 652, '산': 653, '▁차라리': 654, '▁제대로': 655, '였다': 656, '정도': 657, '\"': 658, '▁주는': 659, '스트': 660, '▁피': 661, '태': 662, '▁진': 663, '속': 664, '▁울': 665, '배우': 666, '▁근데': 667, '예': 668, '승': 669, '▁싶은': 670, '봤다': 671, '▁제목': 672, '▁좋고': 673, '재미': 674, '▁없': 675, '▁정도': 676, '학': 677, '▁스토리가': 678, '▁막장': 679, '▁뭘': 680, '보면': 681, '생': 682, '보는': 683, '▁잼': 684, '▁연기도': 685, 'd': 686, '▁ᄒ': 687, '▁눈물': 688, '▁머': 689, '던데': 690, '▁인': 691, '더라': 692, '▁봤어요': 693, '이야': 694, '▁미국': 695, '는게': 696, '8': 697, '난다': 698, '꺼': 699, '이라는': 700, '▁시작': 701, '녀': 702, '▁억지': 703, '죽': 704, '▁살': 705, '▁기분': 706, '론': 707, '▁그저': 708, '▁만들': 709, '▁최': 710, '▁감독의': 711, '매': 712, '봐': 713, '/': 714, '회': 715, '▁여': 716, '▁20': 717, '▁기억에': 718, '▁원': 719, '▁우리나라': 720, '▁긴장감': 721, '▁소재': 722, '한테': 723, '▁되는': 724, '▁알바': 725, '▁그런': 726, '6': 727, '다가': 728, '것도': 729, '▁존나': 730, '▁않': 731, '▁6': 732, '쓰레기': 733, '그냥': 734, '하기': 735, '▁뭔': 736, 't': 737, '7': 738, '역': 739, '이네': 740, '▁좋아하는': 741, '사랑': 742, '▁영': 743, '밖에': 744, '업': 745, '테': 746, '▁만화': 747, '▁맞': 748, '▁인간': 749, '▁음': 750, '▁나온': 751, '있다': 752, '석': 753, '감독': 754, '▁허': 755, '체': 756, '▁연': 757, '어서': 758, '▁망': 759, '먹': 760, '▁필요': 761, '▁심': 762, '▁공감': 763, '탄': 764, '리는': 765, '▁코믹': 766, '▁재미있다': 767, '케': 768, '중에': 769, '격': 770, '갈': 771, '악': 772, '▁화': 773, '▁매': 774, '천': 775, '▁후회': 776, '▁ᅮᅮ': 777, '▁영화의': 778, '▁보는내내': 779, '절': 780, '종': 781, '▁재미없음': 782, '작품': 783, '너': 784, '슨': 785, '▁걸작': 786, '▁시나리오': 787, '적으로': 788, '움': 789, '▁노잼': 790, '▁영상': 791, 's': 792, '▁동': 793, '었는데': 794, '▁세': 795, '▁스토리도': 796, '돈': 797, '만들': 798, '좋아': 799, '▁죽': 800, '▁애니메이션': 801, '집': 802, '불': 803, '설': 804, '▁아니고': 805, '▁좋': 806, '았': 807, '▁모르겠다': 808, '머': 809, '▁극장에서': 810, '했는데': 811, '▁나오': 812, '씬': 813, '니다': 814, '양': 815, '였': 816, '뭐': 817, '▁걸': 818, '잡': 819, '▁보지': 820, '▁제발': 821, '▁졸': 822, '보단': 823, '▁지루': 824, 'ᅮ': 825, '만큼': 826, '▁감동적인': 827, '었': 828, '강': 829, '이지': 830, '▁예': 831, '▁마지막에': 832, '액션': 833, '▁않다': 834, '봐도': 835, '▁보면서': 836, '▁뭐야': 837, '릴': 838, '▁함께': 839, '능': 840, '약': 841, '▁재미있어요': 842, '통': 843, '메': 844, '▁쓰레기영화': 845, '이상': 846, '순': 847, '▁호': 848, '▁몇': 849, '▁재밋': 850, '▁못한': 851, '했': 852, '사람': 853, '▁큰': 854, '라도': 855, '군요': 856, '근': 857, '▁예술': 858, '▁파': 859, '▁잔잔한': 860, '블': 861, '담': 862, '▁그만': 863, '▁-': 864, '▁행복': 865, '▁꽤': 866, '▁캐스팅': 867, '해도': 868, '투': 869, '대로': 870, '알': 871, '려고': 872, 'g': 873, '▁이해가': 874, '▁간만에': 875, '계': 876, '내용': 877, '아니': 878, '▁영화중': 879, '▁될': 880, '었던': 881, '▁별점': 882, '▁베': 883, '창': 884, '버린': 885, '▁매우': 886, 'l': 887, '▁영화에': 888, '▁재밌네요': 889, '완전': 890, 'a': 891, '▁막': 892, '▁잠': 893, '▁재미없': 894, '쓰': 895, '▁웃음': 896, '는거': 897, '▁웃': 898, '▁\"': 899, '▁표현': 900, '+': 901, '▁재미있는': 902, '▁영화네요': 903, 'ᄋ': 904, '▁더빙': 905, '▁꿀잼': 906, '이런': 907, '이라고': 908, '거야': 909, '▁똥': 910, '교': 911, '▁기억이': 912, '짐': 913, '▁감동이': 914, '베': 915, '▁봐야': 916, '영화는': 917, '색': 918, '▁볼만한': 919, '▁유치': 920, '▁재밌고': 921, '외': 922, '▁가슴이': 923, '▁노래': 924, '▁약간': 925, '을까': 926, '름': 927, '▁개인적으로': 928, '된다': 929, '-_-': 930, '▁캐릭터': 931, '건지': 932, '장면': 933, '▁오늘': 934, '▁생각보다': 935, '▁위한': 936, '▁어설픈': 937, '글': 938, '있': 939, '입': 940, '▁사실': 941, '점을': 942, '▁타': 943, '재밌': 944, '김': 945, '빠': 946, '했음': 947, '기는': 948, '▁영화로': 949, '적이': 950, '▁재미없는': 951, '▁마음이': 952, '▁대사': 953, '▁야': 954, '▁결국': 955, '점대': 956, '▁안되는': 957, '▁선': 958, '직': 959, '열': 960, '▁너무나': 961, '주는': 962, '▁토': 963, '▁배우들의': 964, '▁된': 965, '▁미친': 966, '▁누가': 967, '▁없었다': 968, '▁너': 969, '▁성룡': 970, '▁결말이': 971, '▁하고': 972, '▁없어': 973, '▁단': 974, '▁실': 975, '▁스릴': 976, '행': 977, '▁몰입도': 978, '▁점수': 979, '>': 980, '록': 981, '존': 982, '▁자체': 983, '끼': 984, '▁분위기': 985, '온': 986, '났': 987, '인줄': 988, '▁않는다': 989, '나는': 990, '평': 991, '▁내용은': 992, '이고': 993, '브': 994, '♡': 995, '락': 996, '▁드': 997, '나오': 998, '왕': 999, 'h': 1000, '▁한다': 1001, '재미있': 1002, '▁대체': 1003, '잖아': 1004, '▁만들었': 1005, '초': 1006, '▁갈수록': 1007, '플': 1008, '향': 1009, '▁잡': 1010, '▁어떤': 1011, '▁평': 1012, '▁따라': 1013, '잔': 1014, '▁경': 1015, '증': 1016, '▁명': 1017, '▁재미는': 1018, '나요': 1019, '이었다': 1020, '칠': 1021, '놈': 1022, '~!!': 1023, '이네요': 1024, '는지': 1025, '이거': 1026, '▁눈물이': 1027, '기도': 1028, '범': 1029, '▁극': 1030, '▁이런영화': 1031, '▁다큐': 1032, '별로': 1033, '뻔': 1034, '▁열': 1035, '▁상': 1036, '▁차': 1037, '▁엔딩': 1038, '법': 1039, '▁없이': 1040, '▁준': 1041, '▁아무리': 1042, '▁아쉽다': 1043, '▁영화관에서': 1044, '▁아이': 1045, '▁사람들': 1046, '이건': 1047, '건가': 1048, '에도': 1049, '▁ᅳ': 1050, '징': 1051, '▁로맨스': 1052, '▁진정한': 1053, '맞': 1054, '할수': 1055, '이지만': 1056, '짜': 1057, '언': 1058, '▁장난': 1059, '▁찾아': 1060, '▁연기는': 1061, '땜에': 1062, '▁싶': 1063, '▁나왔': 1064, '▁당': 1065, '거지': 1066, '병': 1067, '될': 1068, '좋': 1069, '또': 1070, '▁정신': 1071, '▁많': 1072, '▁좋은영화': 1073, '수가': 1074, '▁출연': 1075, '▁문제': 1076, '▁웃기': 1077, '▁시즌': 1078, '▁방': 1079, '진다': 1080, '출': 1081, '▁카': 1082, '들을': 1083, '▁좋은데': 1084, '짓': 1085, '▁약': 1086, '0': 1087, '▁중국': 1088, '▁재밌는데': 1089, '별': 1090, '최악': 1091, '▁먹': 1092, '막': 1093, '백': 1094, '결': 1095, '▁치': 1096, '▁뭐지': 1097, '▁밖에': 1098, '▁허접': 1099, '잇': 1100, '▁백': 1101, '느': 1102, '▁훨씬': 1103, '▁다시봐도': 1104, '▁총': 1105, '▁적': 1106, '▁감': 1107, '침': 1108, '▁그래서': 1109, '▁아무': 1110, '▁봐': 1111, '▁들': 1112, 'p': 1113, '하면서': 1114, '▁간': 1115, '▁맘에': 1116, '▁있고': 1117, '▁올': 1118, '올': 1119, '▁구성': 1120, '느낌': 1121, '▁전쟁': 1122, '▁설정': 1123, '권': 1124, '▁당시': 1125, '줘': 1126, '재밋': 1127, '훈': 1128, '▁하나도': 1129, '친': 1130, '_': 1131, '께': 1132, '욕': 1133, '▁비디오': 1134, '▁초딩': 1135, '▁감동도': 1136, '▁역사': 1137, '렸': 1138, '맨': 1139, '었음': 1140, '▁포스터': 1141, '새': 1142, '~~~~': 1143, '▁영화였다': 1144, '▁애들': 1145, '먼': 1146, '대박': 1147, '▁뭐냐': 1148, '해라': 1149, '▁존': 1150, '▁생각이': 1151, '▁볼만': 1152, '▁주연': 1153, '됨': 1154, '편이': 1155, '▁생': 1156, '▁상당히': 1157, '▁이것도': 1158, '슬': 1159, '웃': 1160, '습': 1161, '▁좋네요': 1162, '련': 1163, '▁영상미': 1164, '▁준다': 1165, '▁힘': 1166, '기를': 1167, '9': 1168, '길래': 1169, '▁마음': 1170, '▁특히': 1171, '여자': 1172, '슴': 1173, '았다': 1174, '였음': 1175, '▁재미없어': 1176, '했지만': 1177, '▁뿐': 1178, '명작': 1179, '▁오래': 1180, '굿': 1181, '합': 1182, '▁어릴때': 1183, '▁따뜻한': 1184, '표': 1185, '라면': 1186, '▁있었': 1187, '▁얼굴': 1188, '커': 1189, '▁발연기': 1190, '▁첨': 1191, '기에': 1192, '▁관객': 1193, '▁보게': 1194, '▁헐': 1195, '린다': 1196, '없음': 1197, '환': 1198, '▁잼있': 1199, '▁물': 1200, '▁그렇게': 1201, '수준': 1202, '^': 1203, '돌': 1204, '▁한마디로': 1205, '기대': 1206, '▁종': 1207, '른': 1208, '▁멜로': 1209, '▁봤음': 1210, '소리': 1211, '▁외': 1212, '▁그나마': 1213, '▁이딴': 1214, '▁감동을': 1215, '보기': 1216, '▁너무너무': 1217, '▁없네': 1218, '년이': 1219, '????': 1220, '▁지루해': 1221, '▁같이': 1222, '▁네이버': 1223, 'k': 1224, 'OO': 1225, '▁으': 1226, '▁짜증': 1227, '▁재미있': 1228, '▁더럽게': 1229, '▁메': 1230, 'c': 1231, '▁낫다': 1232, '추': 1233, '▁돌아': 1234, '▁추': 1235, '▁생각하게': 1236, '해야': 1237, '퍼': 1238, '럽': 1239, '▁재밌었다': 1240, '▁있을까': 1241, '복': 1242, '사람들': 1243, '▁길': 1244, '▁옛날': 1245, '엇': 1246, '각': 1247, '▁봐라': 1248, '▁위': 1249, '효': 1250, '치는': 1251, '보니': 1252, '어야': 1253, '▁얼마나': 1254, '허': 1255, '이야기': 1256, '▁충격': 1257, '▁흠': 1258, '한영화': 1259, 'u': 1260, '▁언제': 1261, '했어요': 1262, '▁느낌이': 1263, '▁감성': 1264, '▁보여주는': 1265, '▁어디서': 1266, '▁아까움': 1267, '시리즈': 1268, '▁버': 1269, '거리': 1270, '▁나와': 1271, 'D': 1272, '찍': 1273, '▁변': 1274, '빈': 1275, '▁어느': 1276, '▁크': 1277, '▁안되': 1278, '▁바로': 1279, '영화가': 1280, '▁것이': 1281, '▁들어': 1282, '셨': 1283, 'y': 1284, '덕': 1285, '▁영화임': 1286, '▁여주인공': 1287, '스럽다': 1288, '▁위해': 1289, 'b': 1290, '치고': 1291, '▁중간에': 1292, '▁여기': 1293, '료': 1294, '술': 1295, '▁아님': 1296, '웠': 1297, '▁데': 1298, '만한': 1299, '▁재밌어': 1300, '주의': 1301, '햇': 1302, 'ᄉ': 1303, '편은': 1304, '채': 1305, '▁찍': 1306, '배우들': 1307, '▁배경': 1308, '졌': 1309, '듯한': 1310, '▁입': 1311, '▁별루': 1312, '▁뭐가': 1313, '▁좋음': 1314, '▁30': 1315, '▁90': 1316, '▁따': 1317, '▁ᄍᄍ': 1318, '▁스토리는': 1319, '▁초반': 1320, '하며': 1321, '*': 1322, '익': 1323, '▁레': 1324, '▁판타지': 1325, '▁전부': 1326, '▁사람이': 1327, '삼': 1328, '▁갈': 1329, '더니': 1330, '▁TV': 1331, '▁-_-': 1332, '처': 1333, '▁의미': 1334, '▁알고': 1335, '리고': 1336, '▁코': 1337, '▁살아': 1338, '었어요': 1339, '척': 1340, '▁존재': 1341, '으나': 1342, '앗': 1343, 'r': 1344, '거냐': 1345, '▁높': 1346, '▁분': 1347, '▁꿈': 1348, '라서': 1349, '▁CG': 1350, '▁평가': 1351, '겠': 1352, '▁봤지만': 1353, '▁나와서': 1354, '▁대단한': 1355, '▁산': 1356, '▁개연성': 1357, '▁tv': 1358, '▁친구': 1359, '▁된다': 1360, '▁코메디': 1361, '▁같아요': 1362, '▁일본영화': 1363, '▁어렸을때': 1364, '▁손': 1365, '▁다들': 1366, '▁주고': 1367, '▁제작': 1368, '레이': 1369, '을때': 1370, 'f': 1371, '▁줄거리': 1372, '년전': 1373, '▁있을': 1374, '▁같': 1375, '▁M': 1376, '▁아직': 1377, '기만': 1378, '자체가': 1379, '▁부족': 1380, '해지는': 1381, '▁봐서': 1382, '▁삼류': 1383, '▁몸': 1384, '▁비해': 1385, '졌다': 1386, '튼': 1387, '▁평점을': 1388, '재미없': 1389, '▁재밌었어요': 1390, '▁그닥': 1391, '▁아이들': 1392, '▁원작을': 1393, '엉': 1394, '▁작': 1395, '▁돌': 1396, '▁추억': 1397, '▁슬픈': 1398, '▁대단': 1399, '혜': 1400, '▁굉장히': 1401, '이에요': 1402, '▁엄마': 1403, '좋다': 1404, '네여': 1405, '▁속편': 1406, '▁킬링타임용': 1407, '▁ᄒᄒᄒ': 1408, '▁영화도': 1409, '▁그리': 1410, '렸다': 1411, '▁저질': 1412, '고싶': 1413, '▁포': 1414, '숙': 1415, '▁새로운': 1416, '눈': 1417, '▁암': 1418, '▁두번': 1419, '▁배우들이': 1420, '▁100': 1421, '▁봄': 1422, '▁마음에': 1423, '하는데': 1424, '스러운': 1425, '▁이영화를': 1426, '▁대작': 1427, '광': 1428, '▁빠': 1429, '쉬': 1430, '▁모습': 1431, '▁그대로': 1432, '▁흥미진진': 1433, '▁글': 1434, '얼': 1435, '만든': 1436, '▁삶': 1437, '▁낮은': 1438, '랄': 1439, '▁편': 1440, '▁훌륭한': 1441, '▁유쾌한': 1442, '하자': 1443, '▁각본': 1444, ':': 1445, '월': 1446, '▁악': 1447, '션': 1448, '▁유치한': 1449, '▁천': 1450, '▁팬': 1451, '▁깨': 1452, '▁끝나': 1453, '▁새': 1454, '▁연기를': 1455, '야지': 1456, '%': 1457, '▁영화인데': 1458, '▁패': 1459, '봐라': 1460, '낸': 1461, '나오는': 1462, '듬': 1463, '▁재미있고': 1464, '▁시대': 1465, '귀': 1466, '▁병맛': 1467, '이라도': 1468, '▁했다': 1469, '▁그러': 1470, '▁장르': 1471, '만으로도': 1472, '좋은': 1473, '▁생각을': 1474, '▁이정도': 1475, '▁평점에': 1476, '오빠': 1477, '▁하다': 1478, '▁어디': 1479, '▁진실': 1480, '점준다': 1481, '▁예상': 1482, '▁만점': 1483, '혀': 1484, '▁찾': 1485, '▁딸': 1486, '츠': 1487, '재밌게': 1488, '겠지': 1489, '다고': 1490, '▁ᄏᄏᄏᄏᄏ': 1491, '▁나온다': 1492, '▁세상': 1493, '▁왕': 1494, '받': 1495, '▁첫': 1496, '▁대해': 1497, '끝': 1498, '이게': 1499, '▁윤': 1500, '찬': 1501, '▁b': 1502, '▁비교': 1503, '▁세계': 1504, '▁여배우': 1505, '이라니': 1506, '립': 1507, '▁흥행': 1508, '껏': 1509, '염': 1510, '▁좋았어요': 1511, '▁감독님': 1512, '▁몰입': 1513, '라니': 1514, '▁바보': 1515, '간다': 1516, '없고': 1517, '▁혼자': 1518, '▁절': 1519, '▁요': 1520, '▁나의': 1521, '▁것을': 1522, '철': 1523, '▁(': 1524, '▁돈주고': 1525, '에요': 1526, '▁번': 1527, '혹': 1528, '조차': 1529, '줌': 1530, '▁맛': 1531, '▁나만': 1532, '탈': 1533, '▁누구': 1534, '씩': 1535, '▁불륜': 1536, '▁나올': 1537, '▁극장판': 1538, '▁그러나': 1539, '▁액션영화': 1540, '▁다음': 1541, '같': 1542, '▁아까워': 1543, '▁휴': 1544, '▁관': 1545, '영화를': 1546, '▁망작': 1547, '▁나이': 1548, '분들': 1549, '▁프랑스': 1550, '틀': 1551, '페': 1552, '같다': 1553, '거다': 1554, '▁빨리': 1555, '▁졸라': 1556, '▁매력적인': 1557, '▁완벽한': 1558, '▁만족': 1559, 'ᄂ': 1560, '아깝다': 1561, '▁무조건': 1562, '▁집중': 1563, '▁얘기': 1564, '최고의': 1565, '할때': 1566, '리가': 1567, '학교': 1568, '▁연출력': 1569, '하냐': 1570, '시대': 1571, '▁높은': 1572, '▁삼': 1573, '▁게': 1574, '추천': 1575, '강추': 1576, '지루': 1577, '반전': 1578, '목': 1579, '다시': 1580, '▁디': 1581, 'ᄅ': 1582, '▁귀여운': 1583, '세요': 1584, '▁현': 1585, '들어': 1586, '▁처음부터': 1587, '맛': 1588, '▁여주': 1589, '것이': 1590, '▁양': 1591, '런': 1592, '▁안된다': 1593, '남자': 1594, '졸': 1595, '▁질': 1596, '곡': 1597, '▁소리': 1598, '▁머리': 1599, '영화중': 1600, '▁항상': 1601, '▁왜이리': 1602, '한번': 1603, '▁80': 1604, '품': 1605, '▁이런게': 1606, '누': 1607, '▁전형적인': 1608, '▁내인생': 1609, '▁짜': 1610, '풍': 1611, '▁아름답다': 1612, '영화다': 1613, '싸': 1614, '▁웃겨': 1615, '▁아버지': 1616, '▁재미없고': 1617, '▁대단하다': 1618, '▁돈이': 1619, '▁낚': 1620, '땐': 1621, '▁청춘': 1622, '▁명작이다': 1623, '▁통': 1624, '아서': 1625, '▁엄청난': 1626, '▁투': 1627, '▁화이팅': 1628, '▁답답': 1629, '▁역': 1630, '▁이름': 1631, '~^^': 1632, '▁달': 1633, '▁커': 1634, '점짜리': 1635, '▁지금봐도': 1636, '재미없다': 1637, '준다': 1638, '▁좋겠다': 1639, '노잼': 1640, '▁느': 1641, '▁예고편': 1642, '▁예전에': 1643, '▁목소리': 1644, '▁짜증나': 1645, '처음': 1646, '▁순': 1647, '잉': 1648, '놓고': 1649, '이라면': 1650, 'm': 1651, '다는': 1652, '휴': 1653, '갑': 1654, '▁빠져': 1655, '괴': 1656, '▁로맨틱': 1657, '▁장면이': 1658, '있고': 1659, '일까': 1660, '▁보여': 1661, '▁생각해': 1662, '셔': 1663, '▁거의': 1664, '--': 1665, '▁없을': 1666, '▁앞': 1667, '이냐': 1668, '벌': 1669, '했습니다': 1670, '여서': 1671, '▁추억의': 1672, '▁감동적이': 1673, '▁했는데': 1674, '▁여운': 1675, '▁굳': 1676, '▁영화보다': 1677, '주세요': 1678, '▁작가': 1679, 'ᅲᅲᅲ': 1680, '▁클': 1681, '▁리메이크': 1682, '실망': 1683, '▁전편': 1684, '▁아이들이': 1685, 'ᄆ': 1686, '▁낮': 1687, '음악': 1688, '▁만들지': 1689, '애니': 1690, '▁힘든': 1691, '놈들': 1692, '▁터': 1693, '났다': 1694, '했으면': 1695, '부분': 1696, '▁스타일': 1697, '한거': 1698, '같이': 1699, '▁부족한': 1700, '독': 1701, '킹': 1702, '▁충분히': 1703, '고싶다': 1704, '▁교훈': 1705, '재밌어요': 1706, '였습니다': 1707, '는건': 1708, '많이': 1709, '▁골': 1710, '▁재미없네': 1711, '▁같은데': 1712, '▁이영화는': 1713, '▁잘봤습니다': 1714, '짝': 1715, '▁싸': 1716, '▁형': 1717, '▁아오': 1718, '▁문': 1719, '▁있어': 1720, '▁일단': 1721, '건데': 1722, 'ᄃ': 1723, '▁화면': 1724, '빵': 1725, '코미디': 1726, '▁감정': 1727, '▁천재': 1728, '보게': 1729, '필요': 1730, '▁재미있음': 1731, '을듯': 1732, '▁봤네요': 1733, '본다': 1734, '▁않았': 1735, '▁복': 1736, '꼬': 1737, '정도로': 1738, '▁200': 1739, '▁믿고': 1740, '▁유쾌': 1741, '▁앞으로': 1742, '잼있': 1743, '▁알았다': 1744, '▁감동적이고': 1745, '▁만드': 1746, '봐서': 1747, ',,,,': 1748, '▁있었다': 1749, '▁주제': 1750, '청': 1751, '▁최악이다': 1752, '▁책': 1753, '겠네': 1754, 'ᄒᄒᄒ': 1755, '▁잘만든': 1756, '▁전작': 1757, '▁유치하고': 1758, '에는': 1759, '▁궁금': 1760, '낮': 1761, '▁관람': 1762, '랬': 1763, '▁놀': 1764, '윤': 1765, '깔': 1766, '▁SF': 1767, '꼭': 1768, '▁뒤': 1769, '▁하지': 1770, '▁상상력': 1771, '▁더욱': 1772, '지금': 1773, '▁보고싶다': 1774, '▁재밌었음': 1775, '걸까': 1776, '보다는': 1777, '▁지금까지': 1778, '▁멋지다': 1779, '▁작품성': 1780, '곤': 1781, '▁힘들': 1782, '한데': 1783, '들도': 1784, '▁글쎄': 1785, '뜨': 1786, '▁이상한': 1787, '▁재밌습니다': 1788, '▁ᄉᄇ': 1789, '▁시걸': 1790, '▁태': 1791, '▁사회': 1792, '▁리': 1793, '도없고': 1794, '겁': 1795, '▁괜히': 1796, '▁아쉬운': 1797, '▁믿': 1798, '▁아놔': 1799, '▁끌': 1800, '▁왠지': 1801, '재밌다': 1802, '▁좋았음': 1803, '들에게': 1804, '다면': 1805, '겟': 1806, '▁반전이': 1807, '그런': 1808, '▁액션도': 1809, '근데': 1810, '▁그래': 1811, 'ᄀ': 1812, '▁나쁜': 1813, '필': 1814, '▁담': 1815, '▁저는': 1816, '에선': 1817, '앙': 1818, '▁보니': 1819, '▁유머': 1820, '▁시간낭비': 1821, '응': 1822, '구요': 1823, '▁이런걸': 1824, '▁성장': 1825, '▁써': 1826, '많': 1827, '▁이런거': 1828, '▁슬프다': 1829, '▁실화': 1830, '규': 1831, '▁이연걸': 1832, '▁그래픽': 1833, '성이': 1834, '▁왜이렇게': 1835, '▁감독은': 1836, '▁괜찮': 1837, '리스': 1838, '▁성우': 1839, '▁상상': 1840, '▁사랑을': 1841, '내가': 1842, '역시': 1843, '▁도저히': 1844, '십': 1845, '▁뻔': 1846, '▁점점': 1847, '▁없어서': 1848, '적이고': 1849, '▁볼수': 1850, '▁못하는': 1851, '▁재밌네': 1852, '좋아요': 1853, '답': 1854, '▁그런지': 1855, '렌': 1856, '▁제가': 1857, '▁잘못': 1858, '▁슬': 1859, '▁떨': 1860, '▁재밌었는데': 1861, '였는데': 1862, '▁소설': 1863, '▁잼있게': 1864, '▁신기': 1865, '▁개그': 1866, 'E': 1867, '▁긴': 1868, '▁마무리': 1869, '................': 1870, '마지막': 1871, '풀': 1872, '▁상황': 1873, '▁웃긴': 1874, '말이': 1875, '다운': 1876, '▁귀': 1877, '▁필요없다': 1878, '축': 1879, 'ᅡ': 1880, '▁필요없는': 1881, '도록': 1882, '기가': 1883, '그리고': 1884, '▁ᄃᄃ': 1885, '묘': 1886, '랐': 1887, '없네': 1888, '압': 1889, '▁영화라': 1890, '▁좀비': 1891, '▁빈': 1892, '▁액션이': 1893, '▁범죄': 1894, '인거': 1895, '▁별로다': 1896, '보다가': 1897, '▁동화': 1898, '▁먹먹': 1899, '전개': 1900, '▁맥': 1901, '▁자기': 1902, 'j': 1903, '▁저런': 1904, '써': 1905, '▁흐': 1906, '▁지루하지': 1907, 'w': 1908, '패': 1909, '▁낭비': 1910, '골': 1911, '▁결': 1912, '▁이리': 1913, '▁재밋다': 1914, 'x': 1915, '▁황당': 1916, '▁알았': 1917, '▁재밌었': 1918, '▁게임': 1919, '▁대한민국': 1920, '▁ᅮ': 1921, '보세요': 1922, '▁사람은': 1923, '최': 1924, '▁가치': 1925, '▁주인공이': 1926, '재밌음': 1927, '▁이유': 1928, '▁겁나': 1929, '완': 1930, '▁볼만함': 1931, '변': 1932, '▁지금도': 1933, '▁흥미': 1934, '▁완벽': 1935, '유치': 1936, '년도': 1937, '▁사람들이': 1938, '닥': 1939, '▁역대': 1940, '▁시절': 1941, '▁감상': 1942, '▁교': 1943, '암': 1944, '▁순간': 1945, '▁극장': 1946, '▁허무': 1947, '▁아쉽': 1948, '드는': 1949, '연출': 1950, '▁싫다': 1951, '▁없네요': 1952, '킬': 1953, '것을': 1954, '만화': 1955, '▁무서운': 1956, '▁한계': 1957, '▁있어서': 1958, '▁설': 1959, '동안': 1960, '▁소재는': 1961, '▁뭔지': 1962, '아닌': 1963, '킨': 1964, '▁젤': 1965, '▁볼만하다': 1966, '넣': 1967, '됬': 1968, '▁니': 1969, '▁처음으로': 1970, '▁그럭저럭': 1971, '황': 1972, '▁자꾸': 1973, '는영화': 1974, '▁지루하': 1975, '▁느낄': 1976, '링': 1977, '없어': 1978, '함을': 1979, '탕': 1980, '춘': 1981, '&': 1982, '▁완성도': 1983, '▁몰': 1984, '으니': 1985, '▁보지마세요': 1986, '든다': 1987, '▁허접한': 1988, '겠지만': 1989, '깨': 1990, '딩': 1991, '▁배우가': 1992, '▁재미있었다': 1993, '▁특': 1994, '▁그것': 1995, '▁느끼': 1996, '▁저도': 1997, '푸': 1998, '만들어': 1999, '왔': 2000, '▁재미있네요': 2001, '▁독특한': 2002, 'n': 2003, '▁알바들': 2004, '▁온': 2005, '=': 2006, '▁이쁘': 2007, '▁않을': 2008, '하세요': 2009, '▁독': 2010, '득': 2011, '`': 2012, '▁ost': 2013, '▁그다지': 2014, '▁있지만': 2015, '였어요': 2016, '▁어릴적': 2017, '.......': 2018, '▁정도로': 2019, '하라': 2020, '롭': 2021, '▁완': 2022, '▁가는': 2023, '▁보여주': 2024, '▁화려한': 2025, '▁C': 2026, '▁중에': 2027, '▁선택': 2028, '▁그랬': 2029, '▁죽음': 2030, '▁기대하고': 2031, '하긴': 2032, '▁나에게': 2033, '▁집': 2034, '▁그녀': 2035, '엿': 2036, '........': 2037, '▁영화였습니다': 2038, '▁쵝오': 2039, '▁연출이': 2040, '▁신선': 2041, '리지': 2042, 'ᄏᄏᄏᄏᄏ': 2043, '▁괴': 2044, '하는거': 2045, '거나': 2046, '▁아름답고': 2047, '▁자유': 2048, '▁평점은': 2049, '만으로': 2050, '▁황': 2051, '▁갖': 2052, '갔': 2053, '▁나를': 2054, '▁해준': 2055, '떨': 2056, '▁영화냐': 2057, '속에': 2058, '나서': 2059, '내요': 2060, '해주는': 2061, '시키': 2062, '▁처': 2063, '봉': 2064, '▁어이없는': 2065, '먹는': 2066, '급영화': 2067, '▁good': 2068, '좌': 2069, '▁쓴': 2070, '▁입니다': 2071, '▁느껴': 2072, 'ᄍᄍ': 2073, '▁이정도면': 2074, '▁비추': 2075, '▁것도': 2076, '▁영웅': 2077, '▁미치': 2078, '시절': 2079, '▁짱짱': 2080, '▁봐야할': 2081, '▁해도': 2082, '▁우울': 2083, '억': 2084, '▁광': 2085, '벨': 2086, '▁전기세': 2087, '▁몸매': 2088, '▁성공': 2089, '▁전개가': 2090, '▁설명': 2091, '▁바라': 2092, '쩌': 2093, '▁19': 2094, '▁음악이': 2095, '▁답': 2096, '주인공': 2097, '지마라': 2098, '▁섹시': 2099, '▁리얼': 2100, '▁미화': 2101, '거임': 2102, '▁고전': 2103, '볼만': 2104, '▁재밋게': 2105, '▁모르고': 2106, '▁생각나': 2107, '▁알게': 2108, '▁어린': 2109, '▁페': 2110, '▁여성': 2111, '쇼': 2112, '▁쳐': 2113, '@': 2114, '▁떠': 2115, '싱': 2116, '힌': 2117, 'T': 2118, '▁분명': 2119, '▁바람': 2120, '▁없나': 2121, '▁까': 2122, '함이': 2123, '웃음': 2124, '♥♥': 2125, '봐야': 2126, '봤음': 2127, '하니': 2128, '였던': 2129, '▁그림': 2130, '▁댓글': 2131, '▁수준이': 2132, '지않은': 2133, '▁킬링타임': 2134, '령': 2135, '찌': 2136, '▁결혼': 2137, '▁아깝': 2138, '밀': 2139, '▁여전히': 2140, '▁아무것도': 2141, '쿠': 2142, '누나': 2143, '▁보여준': 2144, '알바': 2145, '▁눈이': 2146, '년에': 2147, '▁신선한': 2148, '결말': 2149, '니깐': 2150, '마음': 2151, '▁알아': 2152, '떡': 2153, '▁깊은': 2154, '쥬': 2155, '롱': 2156, '▁티': 2157, '마저': 2158, '▁애들이': 2159, '▁말도': 2160, '팬': 2161, '▁숨': 2162, '픈': 2163, '▁무섭': 2164, '▁A': 2165, ';;;;': 2166, '▁좋았는데': 2167, '들아': 2168, '홍': 2169, '▁인간의': 2170, '스타': 2171, '▁너무나도': 2172, '▁싫어': 2173, '인간': 2174, '▁노력': 2175, '오는': 2176, '▁귀신': 2177, '▁귀엽고': 2178, '▁누': 2179, '▁안나오': 2180, '▁가지고': 2181, '쯤': 2182, '▁만나': 2183, '풋': 2184, '▁이러': 2185, '성을': 2186, '팔': 2187, '▁각': 2188, '▁않음': 2189, '▁진부한': 2190, '▁이영화가': 2191, '▁의도': 2192, '로운': 2193, '▁인정': 2194, '▁그때': 2195, '나와': 2196, '▁이번': 2197, '▁않았다': 2198, '아이': 2199, '▁남는다': 2200, '▁처음이다': 2201, '랜': 2202, '일뿐': 2203, '껄': 2204, '▁예쁜': 2205, '짜리': 2206, '봤어요': 2207, '버리': 2208, '어도': 2209, '▁만들었다': 2210, '딱': 2211, '▁캐': 2212, '▁없었': 2213, '▁보고나서': 2214, '▁낫': 2215, '▁홍콩': 2216, '▁느껴지는': 2217, '▁지루해서': 2218, '했어': 2219, '▁감사합니다': 2220, '감이': 2221, '▁듯한': 2222, '▁참고': 2223, '▁어렸을': 2224, '▁무지': 2225, 'O': 2226, '웃기': 2227, '▁비슷': 2228, '점주는': 2229, '▁읽': 2230, '▁안보': 2231, '▁보고싶': 2232, '▁보시길': 2233, '▁이젠': 2234, '▁취향': 2235, '▁할말이': 2236, '▁순수한': 2237, '▁유치하다': 2238, '모습': 2239, '있게': 2240, '잃': 2241, '이면': 2242, '지마': 2243, '▁시트콤': 2244, '▁스케일': 2245, '▁전체적으로': 2246, '▁표절': 2247, '▁출': 2248, '▁빵': 2249, '▁사랑스러운': 2250, '▁잔잔하고': 2251, '▁추천합니다': 2252, '▁의리': 2253, '견': 2254, '괜찮': 2255, '▁벗': 2256, '▁싶어': 2257, '영화의': 2258, '▁이것': 2259, '▁있음': 2260, '▁무서워': 2261, '▁상영': 2262, '▁프로': 2263, '짜증': 2264, '▁이후': 2265, '빨': 2266, '▁아닌가': 2267, '▁사랑이': 2268, '▁좋았습니다': 2269, '멋': 2270, '▁자신': 2271, '▁높다': 2272, '돼': 2273, '▁했': 2274, '▁전달': 2275, 'S': 2276, '▁단순': 2277, '무섭': 2278, '▁느끼게': 2279, '편보다': 2280, '▁성인': 2281, '됐': 2282, '짧': 2283, '▁받': 2284, '하는게': 2285, '버렸다': 2286, '끔': 2287, 'ᄇ': 2288, '▁영화중에': 2289, '땅': 2290, '▁갑자기': 2291, '▁이하': 2292, '▁가볍게': 2293, '▁뒷': 2294, '이제': 2295, '▁권': 2296, '▁아저씨': 2297, '▁옛날에': 2298, '▁마라': 2299, '클': 2300, '▁벌': 2301, '▁수가': 2302, '▁눈을': 2303, '▁마음을': 2304, '▁되어': 2305, '▁분들': 2306, '▁오글': 2307, '자가': 2308, '했을': 2309, '겟다': 2310, '릭': 2311, '량': 2312, '폰': 2313, '▁흥미롭': 2314, '모르': 2315, '그래도': 2316, '▁자극': 2317, '▁아빠': 2318, '▁좋습니다': 2319, '▁액션은': 2320, '▁평생': 2321, '옥': 2322, '▁엉성': 2323, '것이다': 2324, '▁않아': 2325, '▁몇번을': 2326, '▁멀': 2327, '들과': 2328, '내는': 2329, '인이': 2330, '▁재미를': 2331, '욱': 2332, '▁평론가': 2333, '▁15': 2334, '▁밑에': 2335, '▁계': 2336, '▁보는게': 2337, '개도': 2338, '▁스토리에': 2339, '▁쓰래기': 2340, '▁볼거리': 2341, '전에': 2342, '율': 2343, '▁멋있': 2344, 'ᅵ': 2345, '좋았': 2346, '▁우연히': 2347, '▁꼬': 2348, '▁우와': 2349, '▁재미있었어요': 2350, '▁생애': 2351, '▁역시나': 2352, '▁것이다': 2353, '▁어이없': 2354, 'ᄏᄏᄏᄏᄏᄏᄏᄏᄏᄏᄏᄏᄏᄏᄏᄏ': 2355, '족': 2356, '▁세상에': 2357, '▁해주는': 2358, '것같다': 2359, '▁둘': 2360, '▁아닌듯': 2361, '▁쩐다': 2362, '그렇': 2363, '언니': 2364, '▁소름': 2365, '▁팔': 2366, '▁호러': 2367, '년전에': 2368, '▁굿굿': 2369, '자들': 2370, '▁섹스': 2371, '되어': 2372, '▁충': 2373, '▁조폭': 2374, '▁s': 2375, '▁언': 2376, '▁이미': 2377, '높': 2378, '▁알았는데': 2379, '▁사극': 2380, '놓은': 2381, '▁불편': 2382, '▁있나': 2383, '있어': 2384, '무슨': 2385, '▁와우': 2386, '▁+': 2387, '려서': 2388, '거같다': 2389, '는걸': 2390, '▁아나': 2391, '▁노출': 2392, '가서': 2393, '했네': 2394, '형님': 2395, '▁감사': 2396, '따라': 2397, '송': 2398, '▁브': 2399, '▁뮤지컬': 2400, '지고': 2401, '찰': 2402, '▁살인': 2403, '했고': 2404, '▁다르': 2405, '▁모르는': 2406, '▁어찌': 2407, '는것': 2408, '에겐': 2409, '▁억지로': 2410, '수록': 2411, '하던': 2412, '▁매력적': 2413, '나온': 2414, '▁미드': 2415, '▁것은': 2416, '▁본다': 2417, '▁복수': 2418, '▁슬프고': 2419, '▁사람들은': 2420, '▁미안': 2421, '케이': 2422, '듣': 2423, '평점이': 2424, 'an': 2425, '▁후반부': 2426, '하시': 2427, '▁드럽게': 2428, '▁꺼': 2429, '▁소름돋': 2430, '점준': 2431, '시다': 2432, '▁어색한': 2433, '▁짜증나는': 2434, '▁그런가': 2435, '▁기대를': 2436, '주고': 2437, '▁할말': 2438, '▁보는데': 2439, '흔': 2440, '▁어이가': 2441, '▁귀여워': 2442, '▁매력이': 2443, '되고': 2444, '▁일상': 2445, '▁무서웠': 2446, '소재': 2447, '▁인상': 2448, 'L': 2449, '▁깊이': 2450, '▁기대안하고': 2451, '▁기분이': 2452, '▁무섭다': 2453, '▁티비에서': 2454, '온다': 2455, '시켜': 2456, '▁좋아하': 2457, '보는데': 2458, '▁빠지': 2459, '▁어색': 2460, '인의': 2461, '이뻐': 2462, '엄': 2463, '힘': 2464, '▁S': 2465, '▁트': 2466, '스릴러': 2467, '▁나가': 2468, '▁이건뭐': 2469, 'ᅩ': 2470, '뿌': 2471, '▁디즈니': 2472, '스러움': 2473, '▁시사회': 2474, '▁가끔': 2475, '▁보고싶은': 2476, '▁극치': 2477, '▁용서': 2478, '▁됐': 2479, '▁평범한': 2480, '▁한편': 2481, '▁한심': 2482, '중의': 2483, '▁재미없어요': 2484, '더만': 2485, 'V': 2486, '▁에로': 2487, '▁귀엽': 2488, '세계': 2489, 'ᅲᅲᅲᅲ': 2490, '▁명작이': 2491, '▁있는데': 2492, '▁미소': 2493, '널': 2494, '▁메세지': 2495, '▁이거보고': 2496, '▁루': 2497, '▁느와르': 2498, '번째': 2499, '▁볼수록': 2500, '▁봤었는데': 2501, '갔다': 2502, '쁘': 2503, '▁핵': 2504, '▁몰랐': 2505, '▁;;': 2506, '기분': 2507, '있음': 2508, '▁독립영화': 2509, '▁더이상': 2510, '가슴': 2511, '▁키': 2512, '가족': 2513, '뜻': 2514, '새끼': 2515, '웅': 2516, '렉': 2517, '덤': 2518, '넹': 2519, '▁국': 2520, '▁코난': 2521, '▁목': 2522, '▁갑': 2523, '▁맞는': 2524, '▁감동적': 2525, '▁틀': 2526, '▁지나': 2527, '아님': 2528, '나옴': 2529, '마다': 2530, '려는': 2531, '꿀잼': 2532, '충': 2533, '릿': 2534, '▁말고': 2535, '었지만': 2536, '뒤': 2537, '영상': 2538, 'ᄌ': 2539, '▁작품이': 2540, '죄': 2541, '분이': 2542, '▁아니지만': 2543, '면서도': 2544, '▁싸구려': 2545, '▁잊혀지지': 2546, '▁참신': 2547, '▁편집': 2548, '▁ᄋ': 2549, '나와서': 2550, '▁보았': 2551, '▁원래': 2552, '▁이쁘다': 2553, '▁되게': 2554, '▁식상': 2555, 'er': 2556, '▁빨': 2557, '본영화': 2558, '▁재밌던데': 2559, '▁진리': 2560, '웨': 2561, '흐': 2562, '▁빌려': 2563, '가지': 2564, '공포': 2565, '아요': 2566, '▁짝퉁': 2567, 'ᄏᄏᄏᄏᄏᄏᄏᄏᄏ': 2568, '▁떠나': 2569, '▁높아': 2570, 'C': 2571, '총': 2572, '엘': 2573, '나올': 2574, '왔다': 2575, '▁싫': 2576, '▁먼': 2577, '므': 2578, '▁웃김': 2579, '▁생각나는': 2580, '▁볼때마다': 2581, '▁얼': 2582, '▁후반': 2583, '친구': 2584, '▁지루했다': 2585, '▁보지마': 2586, '▁있었던': 2587, '버리고': 2588, '▁제목이': 2589, '▁다소': 2590, '▁영화지만': 2591, '▁유치함': 2592, '있었': 2593, '것은': 2594, '사람이': 2595, '▁같음': 2596, 'B': 2597, 'ᄃᄃ': 2598, '꼽': 2599, 'P': 2600, '▁우정': 2601, '놓': 2602, '▁그들의': 2603, '▁진행': 2604, '▁찡': 2605, '▁아깝지': 2606, '▁올해': 2607, '▁죄': 2608, '시간이': 2609, '감동적': 2610, '▁OST': 2611, '버렸': 2612, '▁하게': 2613, '을텐데': 2614, '책': 2615, '것같': 2616, '놀': 2617, '▁믿을': 2618, '끈': 2619, '▁질질': 2620, '▁영화에요': 2621, '쓴': 2622, '▁볼게': 2623, '▁특유의': 2624, '▁에휴': 2625, '▁난다': 2626, '▁관심': 2627, '▁좋았던': 2628, '▁부분': 2629, '줄이야': 2630, '▁말로': 2631, '드리': 2632, '하다니': 2633, '▁현대': 2634, '▁그게': 2635, '따위': 2636, '▁왜케': 2637, '▁w': 2638, '혼': 2639, '▁ᅲᅲᅲ': 2640, '▁합니다': 2641, '코드': 2642, '▁필': 2643, '▁스타': 2644, '렬': 2645, '▁확실히': 2646, '▁압권': 2647, '▁주성치': 2648, '아주': 2649, '▁긴장': 2650, '북': 2651, '▁안됨': 2652, '▁연애': 2653, '▁질리지': 2654, '때마다': 2655, '▁취': 2656, '끼리': 2657, '나라': 2658, '예요': 2659, '하여': 2660, '▁등': 2661, '▁보기엔': 2662, '▁동물': 2663, '▁똑같': 2664, '▁정서': 2665, '그래': 2666, '보자': 2667, '▁임': 2668, '▁I': 2669, '무비': 2670, 'ᄏᄏᄏᄏᄏᄏᄏᄏᄏᄏᄏᄏᄏ': 2671, '냥': 2672, 'st': 2673, '▁슬프': 2674, '스가': 2675, '봣': 2676, '▁슬픔': 2677, '폭': 2678, '생겼': 2679, '▁청': 2680, '굴': 2681, '취': 2682, '▁아름다움': 2683, '▁따뜻해지는': 2684, '▁살짝': 2685, '▁종교': 2686, '애들': 2687, '▁찍은': 2688, '▁연기력이': 2689, '▁회': 2690, '▁이쁜': 2691, '▁썩': 2692, '▁괴물': 2693, '▁반개도': 2694, '▁재미잇': 2695, '▁끝난': 2696, '▁그린': 2697, '▁여자들': 2698, '람': 2699, '▁무비': 2700, '한다면': 2701, '▁덜': 2702, '▁자연': 2703, '▁해야': 2704, '▁잼나': 2705, '▁하면': 2706, '까진': 2707, '안되': 2708, '이렇게': 2709, '▁로그인': 2710, '▁감탄': 2711, 'M': 2712, '봤던': 2713, '▁단연': 2714, '▁이야기가': 2715, '▁유쾌하고': 2716, '▁잼있다': 2717, '▁이유가': 2718, '▁그의': 2719, '▁미래': 2720, '▁몰입감': 2721, '세기': 2722, '▁돋': 2723, '좋음': 2724, '▁그렇고': 2725, '▁저예산': 2726, '▁느낄수': 2727, '일이': 2728, '▁정치': 2729, '▁떨어지는': 2730, '▁노답': 2731, '식이': 2732, '싶': 2733, '영환': 2734, '받은': 2735, '머리': 2736, '틱': 2737, '▁청소년': 2738, '례': 2739, '헤': 2740, '봅니다': 2741, '▁형편없': 2742, '던가': 2743, '▁베스트': 2744, '▁했지만': 2745, '▁여자가': 2746, '스런': 2747, '신고': 2748, '드라': 2749, '▁월': 2750, '▁급': 2751, '보면서': 2752, '▁해서': 2753, '▁다큐멘터리': 2754, '▁시선': 2755, '▁그런데': 2756, '▁희망': 2757, '▁대충': 2758, '계의': 2759, '▁비슷한': 2760, 'ᅲᅮ': 2761, '▁예전': 2762, '▁아닌데': 2763, '▁늘': 2764, '봣는데': 2765, '▁안하고': 2766, '▁멋있다': 2767, '되지': 2768, '험': 2769, '▁딴': 2770, '▁잔인하': 2771, '옹': 2772, '▁잼없': 2773, 'R': 2774, '▁메시지': 2775, '▁삶을': 2776, '▁뛰어난': 2777, '▁드는': 2778, '봤지만': 2779, '즐': 2780, '이해': 2781, '▁독특': 2782, '▁킬링타임용으로': 2783, '웠다': 2784, '▁여기서': 2785, '수도': 2786, '▁빛': 2787, '▁12': 2788, '00': 2789, '▁어제': 2790, '▁영화보고': 2791, '▁민': 2792, '르는': 2793, '!!!!!': 2794, '었어': 2795, '▁홍': 2796, '센': 2797, '//': 2798, '친다': 2799, '겹': 2800, '▁엉성한': 2801, '홀': 2802, '▁씁쓸': 2803, '▁즐거운': 2804, '댄': 2805, '▁빌': 2806, '▁죽는': 2807, '▁창': 2808, '▁거기': 2809, '▁샤': 2810, '▁즐겁게': 2811, '▁금': 2812, '센스': 2813, '표현': 2814, '로서': 2815, '기엔': 2816, '▁음악도': 2817, '꾸': 2818, '▁정말로': 2819, '시는': 2820, '▁만들어진': 2821, '▁울었다': 2822, '▁있다면': 2823, '▁모르': 2824, '▁한데': 2825, '연기가': 2826, '▁찍어': 2827, '흑': 2828, '쏘': 2829, '▁마이너스': 2830, '▁촬영': 2831, '▁엘': 2832, '끄': 2833, '▁힘들다': 2834, '스터': 2835, '▁쫌': 2836, '▁캐릭터들': 2837, '11': 2838, '.........': 2839, '점수': 2840, '▁그렇다': 2841, '▁남을': 2842, '지않는': 2843, '▁울었': 2844, '▁열정': 2845, '▁왜이래': 2846, '▁모르겠': 2847, '장난': 2848, '몰': 2849, '▁포르노': 2850, '▁사랑과': 2851, '▁진심으로': 2852, '할듯': 2853, '▁폭': 2854, '▁나왔으면': 2855, '▁돌려': 2856, '콜': 2857, '▁쓰레기다': 2858, '인생': 2859, '▁젊은': 2860, '▁어린이': 2861, '▁필름': 2862, '▁범인': 2863, '▁현재': 2864, '▁방금': 2865, '▁캬': 2866, '접': 2867, '▁생각없이': 2868, '▁과거': 2869, 'A': 2870, '▁놓': 2871, '젤': 2872, '▁ᄏᄏᄏᄏᄏᄏ': 2873, '캐': 2874, '▁웃기고': 2875, '▁오버': 2876, '내용이': 2877, '▁이때': 2878, '▁내려': 2879, '▁죽어': 2880, '틴': 2881, '▁망한': 2882, '▁어쩔': 2883, '▁시원': 2884, '는건지': 2885, '▁죽여': 2886, '▁함': 2887, '었으면': 2888, '정신': 2889, '▁소녀': 2890, '▁혼': 2891, '▁cg': 2892, '신이': 2893, '흡': 2894, '영화라고': 2895, '닝': 2896, '렷': 2897, '▁힐링': 2898, '▁재미있어': 2899, '진심': 2900, '있네': 2901, '▁생생': 2902, '▁꼴': 2903, '들만': 2904, '▁확': 2905, '더군요': 2906, '▁웃기다': 2907, '믿': 2908, '싸움': 2909, '▁지난': 2910, '▁이어': 2911, '▁시대를': 2912, '좋고': 2913, '보이': 2914, '▁감동과': 2915, '▁핵노잼': 2916, '한듯': 2917, '▁언제나': 2918, '..........': 2919, '공감': 2920, '멘': 2921, '떄': 2922, '▁007': 2923, '▁영화관': 2924, '▁최고입니다': 2925, '▁반전도': 2926, '찾': 2927, '▁심심': 2928, '▁부족하다': 2929, '▁나왔다': 2930, '▁말할': 2931, '중에서': 2932, '쪽': 2933, 'I': 2934, '▁넘어': 2935, '다른': 2936, '주기': 2937, '순간': 2938, '▁봤으면': 2939, '▁맘': 2940, '▁접': 2941, '▁운': 2942, '끝나': 2943, '하구': 2944, '▁콩': 2945, '▁꽝': 2946, '▁발로': 2947, '뮤': 2948, '▁헐리웃': 2949, '▁위대한': 2950, '▁지루할': 2951, '▁괜찮았': 2952, '아니다': 2953, '▁등장': 2954, '▁쇼': 2955, '으론': 2956, '▁포장': 2957, '▁ᄋᄋ': 2958, '프로': 2959, '기억': 2960, '▁중반': 2961, '해주': 2962, '▁무엇': 2963, '▁잼잇': 2964, '개봉': 2965, '▁풀어': 2966, '▁탄탄한': 2967, '빼고': 2968, '같음': 2969, '▁퍼': 2970, '짱짱': 2971, '매력': 2972, '티비': 2973, '▁철': 2974, '눈물': 2975, '제목': 2976, '명이': 2977, '솔': 2978, '왓': 2979, '▁의외로': 2980, '봐요': 2981, '▁끝나고': 2982, '▁필요없': 2983, '▁맨': 2984, '▁나쁘지': 2985, '앞': 2986, '▁괜찮은데': 2987, '▁광고': 2988, '▁인기': 2989, '▁진정': 2990, '나게': 2991, '▁있어요': 2992, '부족': 2993, '▁이제야': 2994, '어지는': 2995, '되네요': 2996, '긴한데': 2997, '▁보이는': 2998, '▁인물': 2999, '소재를': 3000, '극장': 3001, '▁뜨': 3002, '힐': 3003, '▁견자단': 3004, '셀': 3005, '▁헐리우드': 3006, '텔': 3007, 'ᅥ': 3008, '오히려': 3009, '▁눈빛': 3010, '▁명품': 3011, '▁레알': 3012, '▁변태': 3013, '▁최강': 3014, '▁고생': 3015, '했으나': 3016, '▁군대': 3017, '...........': 3018, '▁용': 3019, '?!': 3020, '▁풍': 3021, '첨': 3022, '스러': 3023, '▁홍콩영화': 3024, '♥♥♥♥': 3025, '▁남주': 3026, '▁웃음이': 3027, '슈': 3028, '하하': 3029, '▁안타깝다': 3030, '흘': 3031, '▁같네요': 3032, '▁삶의': 3033, '▁이런영화가': 3034, '념': 3035, '재미없음': 3036, '▁시리즈중': 3037, '♥♥♥': 3038, '해준': 3039, '팅': 3040, '닿': 3041, '깎': 3042, '▁해피엔딩': 3043, '조아': 3044, '▁흔한': 3045, '뻔한': 3046, '▁학교에서': 3047, '시간에': 3048, '▁본영화': 3049, '▁어른': 3050, '▁게이': 3051, '▁모습이': 3052, '스럽': 3053, '▁사이': 3054, '▁없지': 3055, '▁그럼': 3056, '었습니다': 3057, '▁웃기지도': 3058, '아까움': 3059, '▁오랜만': 3060, '걸로': 3061, '손': 3062, 'X': 3063, '▁인생을': 3064, '▁죄다': 3065, '▁나라': 3066, 'or': 3067, '▁영화이다': 3068, 're': 3069, '야한다': 3070, '스의': 3071, '~!!!': 3072, '하면서도': 3073, '룡': 3074, '▁야한': 3075, '▁헤': 3076, '탁': 3077, '▁경찰': 3078, '▁벌써': 3079, '▁해주': 3080, '말고': 3081, '▁과연': 3082, '▁폭력': 3083, '▁쩝': 3084, '▁밀': 3085, '나온다': 3086, '▁쥐': 3087, '▁관계': 3088, '▁올리': 3089, '▁초반에': 3090, '▁방송': 3091, '▁무협': 3092, '▁<': 3093, '▁몰입이': 3094, '▁무엇을': 3095, '▁무섭지도': 3096, '잠': 3097, '폐': 3098, '것만': 3099, '둘': 3100, '방송': 3101, '▁폴': 3102, '▁이해하기': 3103, '▁사기': 3104, '▁보러': 3105, '면에서': 3106, '▁이것이': 3107, '▁표정': 3108, '값': 3109, '털': 3110, '★': 3111, '▁뭉클': 3112, '▁어려운': 3113, '▁레전드': 3114, '▁싸이코': 3115, '▁드라마를': 3116, '▁불쾌': 3117, '있는데': 3118, '▁먼저': 3119, '▁마세요': 3120, '▁어휴': 3121, '▁40': 3122, '▁끝이': 3123, '▁모든게': 3124, '▁설레': 3125, '▁끝나는': 3126, '▁환상': 3127, '▁나옴': 3128, '▁남아': 3129, '▁만큼': 3130, '던지': 3131, '텐데': 3132, '20': 3133, '▁볼만하': 3134, '▁봤다가': 3135, '▁밥': 3136, '▁점수가': 3137, '▁보길': 3138, '씀': 3139, '느라': 3140, '몽': 3141, '▁웬': 3142, '▁행': 3143, '▁전설의': 3144, '슬프': 3145, '▁좋을': 3146, '▁잊': 3147, '▁채': 3148, 'in': 3149, '▁아니면': 3150, 'OOO': 3151, '했나': 3152, '뛰': 3153, '항': 3154, ']': 3155, '▁흥미로운': 3156, 'v': 3157, '▁훈훈': 3158, '▁외국': 3159, '▁역대급': 3160, '▁지나치': 3161, '▁연속': 3162, '▁소재가': 3163, '▁빵점': 3164, '▁재미있습니다': 3165, '▁요소': 3166, '력이': 3167, '재밌어': 3168, '▁출연진': 3169, '만의': 3170, '이런영화': 3171, '생활': 3172, '모르겠': 3173, '▁평이': 3174, '▁푹': 3175, '인가요': 3176, '▁d': 3177, '님이': 3178, '쥐': 3179, '▁합': 3180, '▁시청률': 3181, '▁있네요': 3182, '▁주인공들': 3183, '▁보자': 3184, 'N': 3185, '▁가족영화': 3186, '멸': 3187, '▁마이클': 3188, '▁낳': 3189, '자나': 3190, '000': 3191, '짜증나': 3192, '았습니다': 3193, '▁나오지': 3194, '▁워': 3195, '▁풀': 3196, '▁안돼': 3197, '▁감동적이다': 3198, '시키는': 3199, '▁최고임': 3200, '▁죽이': 3201, '▁명작입니다': 3202, '▁전에': 3203, '고싶은': 3204, '끌': 3205, '▁동생': 3206, '▁친': 3207, '▁비디오로': 3208, '함과': 3209, '연기도': 3210, '끝까지': 3211, '▁재미없게': 3212, '▁나서': 3213, '리아': 3214, '▁점수를': 3215, '칸': 3216, '컷': 3217, '▁카메라': 3218, '▁잊을수': 3219, '▁낮아서': 3220, '▁야동': 3221, '▁빠져들': 3222, '▁찍었': 3223, '▁좋았': 3224, '▁춤': 3225, '▁이래': 3226, '▁사는': 3227, '.............': 3228, '없는영화': 3229, '▁무시': 3230, '▁장면은': 3231, '▁신선하고': 3232, '한국': 3233, '▁연기에': 3234, '▁끝내': 3235, '▁있지': 3236, '▁빼고는': 3237, '▁주기': 3238, '▁퀄리티': 3239, '▁만든다': 3240, '흠': 3241, '▁없지만': 3242, '▁이쁘고': 3243, '마리': 3244, '▁이기': 3245, '혁': 3246, '▁당시에': 3247, '▁젠장': 3248, '▁한국인': 3249, '하지마라': 3250, '▁낚였다': 3251, '▁사랑이야기': 3252, '장면이': 3253, '▁보인다': 3254, '얘기': 3255, '용으로': 3256, '▁색': 3257, '▁덕분에': 3258, '▁처음엔': 3259, '치곤': 3260, '▁현실적인': 3261, '시킨': 3262, '많은': 3263, '영화임': 3264, '엇다': 3265, '▁송': 3266, '▁실제': 3267, '▁표': 3268, '▁훈훈한': 3269, '더라면': 3270, '▁포기': 3271, '▁병': 3272, '▁적당': 3273, '▁여러': 3274, '▁지루하게': 3275, '▁살아있': 3276, '쓰레기영화': 3277, '▁둘다': 3278, '쾌': 3279, '▁심리': 3280, '▁전설': 3281, '▁있다는': 3282, '▁십': 3283, '▁펑펑': 3284, '▁형님': 3285, '▁섬': 3286, '▁잔': 3287, '붕': 3288, '(?)': 3289, '▁어린시절': 3290, '▁시간가는줄': 3291, '▁멋': 3292, '▁앤': 3293, 'on': 3294, '▁70': 3295, '▁남기': 3296, '으려': 3297, '▁자막': 3298, '내용도': 3299, '생긴': 3300, 'bb': 3301, '▁되었다': 3302, '계속': 3303, '점이다': 3304, '었지': 3305, '▁미모': 3306, '▁잔잔': 3307, '▁낮네': 3308, '▁재밌을': 3309, '▁짓': 3310, '을수': 3311, '였지만': 3312, '▁퇴': 3313, '▁낮지': 3314, '해진다': 3315, '쩔': 3316, '▁중간': 3317, '▁단순한': 3318, '똥': 3319, '했는지': 3320, '▁없어요': 3321, '▁꾸': 3322, '▁f': 3323, '샤': 3324, '▁활': 3325, '▁비극': 3326, '▁능력': 3327, '▁보이': 3328, '협': 3329, 'it': 3330, '▁했던': 3331, '헌': 3332, '▁크리스마스': 3333, '▁색다른': 3334, '▁느낀': 3335, '▁어머니': 3336, '▁한번쯤': 3337, '▁더러운': 3338, '턴': 3339, '배우가': 3340, '▁뇌': 3341, '▁조합': 3342, '▁고민': 3343, '지루함': 3344, '▁시간을': 3345, '▁좋아할': 3346, '자의': 3347, '▁국내': 3348, '▁든다': 3349, '같네': 3350, '▁즐기': 3351, '▁재미없었다': 3352, '▁최고였다': 3353, '상을': 3354, '▁장르가': 3355, '▁괜찮다': 3356, '▁냉': 3357, '▁잊지': 3358, '▁보았다': 3359, '▁말을': 3360, '▁실패': 3361, '답답': 3362, '째': 3363, '▁올려': 3364, '▁사람을': 3365, '편도': 3366, '벽': 3367, '롤': 3368, '포인트': 3369, 'ing': 3370, '▁개뿔': 3371, '▁ᄏᄏᄏᄏᄏᄏᄏ': 3372, '▁에로영화': 3373, '▁건지': 3374, '으며': 3375, '했었': 3376, '▁눈물을': 3377, '▁ᄀ': 3378, '식으로': 3379, '▁^': 3380, '▁부분이': 3381, '같아': 3382, '▁사랑의': 3383, '줄알았': 3384, '▁화가': 3385, '으면서': 3386, '▁사랑은': 3387, '▁쓰레기같은': 3388, '만큼은': 3389, '적이다': 3390, 'ᄏᄏᄏᄏᄏᄏᄏᄏᄏᄏᄏᄏ': 3391, '▁좋았고': 3392, '▁멍청한': 3393, '한건': 3394, '▁예쁘': 3395, '▁마치': 3396, '정이': 3397, '과는': 3398, '▁한마디': 3399, '▁소재로': 3400, '해주세요': 3401, '쓸': 3402, '▁원작의': 3403, '그러': 3404, '▁봣는데': 3405, '텐': 3406, '▁흘러': 3407, '▁붙': 3408, '이유': 3409, '▁보고나면': 3410, '▁프로그램': 3411, '▁발견': 3412, '▁민망': 3413, '▁그저그런': 3414, '졸작': 3415, '▁방법': 3416, '남는': 3417, '아쉽': 3418, '▁다시한번': 3419, '▁봐도봐도': 3420, '▁뜻': 3421, '이었음': 3422, '▁지구': 3423, '▁기대했는데': 3424, '▁c': 3425, '▁티비': 3426, '▁다행': 3427, '▁재밋어요': 3428, '곳': 3429, '▁논': 3430, '구성': 3431, '안에': 3432, '새롭': 3433, '▁있습니다': 3434, '▁그렇': 3435, '자는': 3436, '▁빼': 3437, '▁개판': 3438, '▁아들': 3439, '▁줌': 3440, '학생': 3441, '어라': 3442, '닌': 3443, '늘': 3444, '▁못하다': 3445, '되서': 3446, '▁죽는줄': 3447, '▁짐': 3448, '워서': 3449, '▁좀더': 3450, '떠': 3451, '▁T': 3452, '▁있게': 3453, '▁슈퍼': 3454, '▁아줌마': 3455, '▁무언가': 3456, '후회': 3457, '먹고': 3458, '▁울고': 3459, '▁빼면': 3460, '▁분노': 3461, '굳굳': 3462, '▁박수를': 3463, '▁봣': 3464, '▁잼있어요': 3465, '▁:': 3466, '▁스토리와': 3467, '편의': 3468, '▁기본': 3469, '▁안습': 3470, '-_-;': 3471, '▁늘어': 3472, '▁[': 3473, '▁어렵': 3474, '▁뻔하고': 3475, '▁아마': 3476, '▁좋지만': 3477, '와서': 3478, '▁영화였어요': 3479, '▁순수': 3480, '해진': 3481, '▁발전': 3482, '대사': 3483, '▁아는': 3484, '하지않': 3485, '특': 3486, '▁달리': 3487, '▁환': 3488, '긋': 3489, '▁아까울': 3490, '줍니다': 3491, '나고': 3492, '▁음악과': 3493, '▁악역': 3494, '▁일품': 3495, '▁홍보': 3496, '▁반담': 3497, '▁못한다': 3498, '▁없었던': 3499, '▁기대이상': 3500, '▁몇번': 3501, '▁되었': 3502, '▁아픈': 3503, '▁배우의': 3504, '▁안타깝': 3505, '▁졸리': 3506, '한것': 3507, '▁서로': 3508, '▁싶네요': 3509, '▁낮다': 3510, '▁끝났': 3511, '▁하루': 3512, '▁제작비': 3513, '▁불쌍': 3514, '▁팬이': 3515, '▁이런건': 3516, '줘서': 3517, '버림': 3518, 'ᄋᄋ': 3519, '▁아닐까': 3520, '▁올라': 3521, '쟁이': 3522, '가지고': 3523, '▁아쉬움': 3524, '▁뛰어': 3525, '▁즐겁': 3526, '왔습니다': 3527, '▁착': 3528, '택': 3529, '앤': 3530, '▁귀엽다': 3531, 'ᄎ': 3532, 'z': 3533, '낼': 3534, '닷': 3535, '▁편견': 3536, '웃김': 3537, '▁모습을': 3538, '좋아하는': 3539, '▁달라': 3540, '에대한': 3541, '▁멋지': 3542, '▁이런영화를': 3543, '▁씨': 3544, '것들': 3545, '야할': 3546, '만이': 3547, '▁전쟁영화': 3548, '▁나중에': 3549, '님의': 3550, '셈': 3551, '▁잘만들었': 3552, '▁잭': 3553, '▁이유를': 3554, '▁내가본': 3555, '보셈': 3556, '▁아이가': 3557, '어진': 3558, '▁근': 3559, '▁진수': 3560, '▁싶은데': 3561, '▁결과': 3562, '수없는': 3563, '▁보니까': 3564, '▁크게': 3565, '▁사라': 3566, '로는': 3567, '대단': 3568, '▁히': 3569, '브라': 3570, '감독이': 3571, '점주': 3572, '▁어릴': 3573, '▁간다': 3574, '▁답이': 3575, '▁추억이': 3576, '시길': 3577, '겠음': 3578, '콩': 3579, '버려': 3580, '▁스토리를': 3581, '▁돌아가': 3582, '껴': 3583, '▁전문가': 3584, '▁쉽게': 3585, '빛': 3586, '▁놀라': 3587, '▁이유는': 3588, '글자': 3589, '도아니고': 3590, '▁최근': 3591, '▁공감이': 3592, '씨가': 3593, '작가': 3594, '▁좋아서': 3595, '▁꽃': 3596, '▁차이': 3597, '▁산으로': 3598, '▁손발이': 3599, '▁문화': 3600, '▁되지': 3601, '▁끊': 3602, '▁뒤로': 3603, '▁거지': 3604, '▁가서': 3605, '▁많다': 3606, 'ar': 3607, '막장': 3608, '였어': 3609, '!!!!!!!!!!!': 3610, '▁보기에': 3611, '▁보고싶어': 3612, '려면': 3613, '하군': 3614, '▁못했다': 3615, '▁잔인한': 3616, '▁굳이': 3617, '감을': 3618, '▁조잡': 3619, '놔': 3620, '▁받을': 3621, '▁좀비영화': 3622, '▁미스': 3623, '육': 3624, '낀': 3625, '섹': 3626, '헬': 3627, '▁카리스마': 3628, '무서움': 3629, '▁바꿔': 3630, '▁좋았으나': 3631, '▁아까웠다': 3632, '▁조연': 3633, '▁최초': 3634, '▁무엇보다': 3635, '▁악당': 3636, '만드는': 3637, '▁11': 3638, '시작': 3639, '▁ᄌ': 3640, '▁a': 3641, '▁전투': 3642, '▁넘치는': 3643, '▁보지마라': 3644, '하지도': 3645, '▁잼나게': 3646, '평가': 3647, '▁투자': 3648, '버릴': 3649, '▁결말은': 3650, '새끼들': 3651, '▁불쌍하다': 3652, '았던': 3653, 'me': 3654, '하는지': 3655, '▁드라마가': 3656, '▁깔끔': 3657, '사이': 3658, '▁의미를': 3659, '는구나': 3660, '▁공포물': 3661, '▁하네요': 3662, '▁사랑에': 3663, '▁지나도': 3664, '▁케이블': 3665, '▁아니야': 3666, '▁현실적이': 3667, '▁재미있었': 3668, '▁가슴에': 3669, '▁보여준다': 3670, '틈': 3671, '균': 3672, '▁특수효과': 3673, '▁열심히': 3674, '▁연예인': 3675, '▁모험': 3676, '▁찌질': 3677, '▁나오면': 3678, '할수있': 3679, '▁영국': 3680, '었네': 3681, '▁역할': 3682, '▁이래서': 3683, '캐릭터': 3684, '▁낚시': 3685, '▁허세': 3686, '사는': 3687, '▁북한': 3688, '란다': 3689, '영화로': 3690, '..;;': 3691, '라인': 3692, '지말자': 3693, '▁가면': 3694, '노래': 3695, '▁잤다': 3696, '같은영화': 3697, '▁한심한': 3698, '활': 3699, '▁못해': 3700, '▁잊을': 3701, '▁우주': 3702, '▁인상적이': 3703, '▁최고의영화': 3704, '스럽고': 3705, '로우': 3706, '▁봤네': 3707, '사람은': 3708, '▁가능': 3709, '로써': 3710, '▁친구들': 3711, '하던데': 3712, '아까운': 3713, '봣다': 3714, '▁관한': 3715, '하더라': 3716, '굳': 3717, '하는것': 3718, '하지마': 3719, '▁쿠': 3720, '▁긴장감도': 3721, '▁이후로': 3722, '이였다': 3723, '현실': 3724, '▁충격적이': 3725, '받고': 3726, '▁많아': 3727, '▁넌': 3728, '컬': 3729, '삭': 3730, '렁': 3731, '혈': 3732, '▁4.44': 3733, '떼': 3734, '랫': 3735, '옷': 3736, '▁리뷰': 3737, '▁망치': 3738, '▁안나': 3739, '▁않게': 3740, '▁같습니다': 3741, '기위해': 3742, '져요': 3743, '▁재미도없고': 3744, '▁행복한': 3745, '▁떠나서': 3746, '▁명화': 3747, '▁작은': 3748, '딸': 3749, '▁같아': 3750, '았음': 3751, '▁제로': 3752, '웃겨': 3753, '했지': 3754, '▁심하게': 3755, '스러워': 3756, '가능한': 3757, '▁시도': 3758, '▁신비': 3759, '▁재밌게봤': 3760, '왔는데': 3761, '▁헛': 3762, '없어서': 3763, '▁가진': 3764, '▁진지': 3765, '좋앗': 3766, '▁보긴': 3767, '▁끄': 3768, '▁빠진': 3769, '얻': 3770, '▁블랙': 3771, '들고': 3772, '▁로봇': 3773, '▁힘이': 3774, '▁다룬': 3775, '▁중간중간': 3776, '▁여름': 3777, '▁양심': 3778, '▁봤을까': 3779, '▁있으': 3780, '▁좋았을': 3781, '▁연기와': 3782, '▁이럴': 3783, '▁감히': 3784, '▁잘봤어요': 3785, '특히': 3786, '▁이따위': 3787, '지를': 3788, '와는': 3789, '좋은영화': 3790, '▁떨어진다': 3791, '▁식': 3792, '던영화': 3793, '하기만': 3794, '▁멍청': 3795, '하는영화': 3796, '점부터': 3797, '님들': 3798, '▁괜찮았다': 3799, '▁남자가': 3800, '▁탈': 3801, '▁사랑하는': 3802, '▁갔': 3803, '▁13': 3804, '▁오락': 3805, '했네요': 3806, '▁낮아': 3807, '했을까': 3808, '100': 3809, '렇': 3810, '▁코미디영화': 3811, '하려는': 3812, '있냐': 3813, '..^^': 3814, '▁교과서': 3815, '▁이제서야': 3816, '▁필요한': 3817, '▁감흥': 3818, '▁니콜': 3819, '▁러브': 3820, '▁맨날': 3821, '▁중요한': 3822, '편에': 3823, '▁아픔': 3824, '▁에이': 3825, '▁기다리': 3826, '▁나름대로': 3827, '▁받았': 3828, '▁용기': 3829, '▁내용을': 3830, '돋': 3831, '▁어쩌': 3832, '▁만남': 3833, '▁무척': 3834, '▁가지': 3835, '▁있구나': 3836, '▁기억나는': 3837, '▁현실성': 3838, '▁그녀의': 3839, '▁아쉽네요': 3840, '▁맹': 3841, '허접': 3842, '▁재밌었던': 3843, '착': 3844, '▁영화라는': 3845, '설정': 3846, 'G': 3847, '관람': 3848, '▁결말도': 3849, '▁잼있음': 3850, '▁야구': 3851, '▁조작': 3852, '속에서': 3853, '한게': 3854, '수있는': 3855, '재미있어요': 3856, '▁받아': 3857, '이후': 3858, '공포영화': 3859, '▁노래가': 3860, 'ᅮᅮᅮ': 3861, '재미없어': 3862, '▁O': 3863, '▁곳': 3864, '이자': 3865, '▁남자의': 3866, '~~!!': 3867, '▁찬': 3868, '▁찌': 3869, '▁여행': 3870, '섭': 3871, '읍': 3872, '▁초등학생': 3873, '땡': 3874, '윈': 3875, '찐': 3876, '▁아류작': 3877, '▁그립다': 3878, '▁희생': 3879, '▁묘사': 3880, '▁표현한': 3881, '▁연결': 3882, '▁물론': 3883, '옴': 3884, '▁크리스': 3885, '▁나에겐': 3886, '▁감동의': 3887, '르고': 3888, '^^*': 3889, '주고싶다': 3890, '▁그렇지': 3891, '▁느껴지': 3892, '▁내용인지': 3893, '에서는': 3894, '▁느끼는': 3895, '▁자살': 3896, '▁과정': 3897, '몇': 3898, '흥': 3899, '영화입니다': 3900, '아까워': 3901, '▁이런영화는': 3902, '▁삼류영화': 3903, '▁싶지': 3904, '▁으리': 3905, '▁학교': 3906, '안됨': 3907, '▁예쁘다': 3908, '▁노래도': 3909, '▁솔직': 3910, '▁식상한': 3911, '아깝': 3912, '▁오바': 3913, '▁그려': 3914, '엔딩': 3915, '▁안보고': 3916, '▁잤': 3917, '있었다': 3918, '본영화중': 3919, '속의': 3920, '밑': 3921, '버전': 3922, '억지': 3923, '델': 3924, '▁패러디': 3925, '▁후속작': 3926, '▁소소한': 3927, '▁제이슨': 3928, '▁놀라운': 3929, '~~~~~~~': 3930, '▁보다니': 3931, '▁많았': 3932, '▁상업': 3933, '이즈': 3934, '고싶어': 3935, '▁동심': 3936, '▁전체': 3937, '▁죽을': 3938, '▁씹': 3939, '▁괜찮음': 3940, '▁엉망': 3941, '▁눈물나': 3942, '▁=': 3943, '▁비하면': 3944, '▁연출도': 3945, '▁마이': 3946, '▁의심': 3947, '있나': 3948, '점줌': 3949, '이라서': 3950, '▁구성이': 3951, '아직도': 3952, '시즌': 3953, '▁영화인가': 3954, '잼씀': 3955, '쩐다': 3956, '엄마': 3957, '▁먹고': 3958, '▁빼고': 3959, '▁아직까지': 3960, '멋있': 3961, '▁재미있는데': 3962, '▁웃겼': 3963, '▁칼': 3964, '▁그자체': 3965, '▁50': 3966, '▁망했': 3967, '▁개인': 3968, '▁심장': 3969, '▁못할': 3970, '▁나오고': 3971, '어여': 3972, '▁척': 3973, '보여': 3974, '▁졸았': 3975, '이여': 3976, '칙': 3977, '깜': 3978, '몬': 3979, '▁가벼운': 3980, '럭': 3981, 'K': 3982, '▁박중훈': 3983, '팀': 3984, '▁저렇게': 3985, '▁김기덕': 3986, '▁먼가': 3987, '즘': 3988, '져서': 3989, '▁자신의': 3990, '▁봤더니': 3991, '▁내생에': 3992, '▁오래된': 3993, '▁울리는': 3994, '▁남녀': 3995, '▁이딴걸': 3996, '으로서': 3997, '▁재미있었음': 3998, '▁조절': 3999, '보소': 4000, '▁만들다니': 4001, '▁신파': 4002, 'al': 4003, '▁프': 4004, '▁색감': 4005, '▁신경': 4006, '▁훌륭하다': 4007, '▁이상의': 4008, '▁안되고': 4009, '씨의': 4010, '▁생각합니다': 4011, '▁뭘까': 4012, '▁나은': 4013, '갖': 4014, '▁ᄍᄍᄍ': 4015, '적은': 4016, '▁또한': 4017, 'F': 4018, '검': 4019, '덜': 4020, '살아': 4021, '▁흥': 4022, '▁볼수있는': 4023, '노답': 4024, '▁볼만했다': 4025, '▁아침': 4026, '▁아쉬': 4027, '▁못하고': 4028, '씬은': 4029, '할까': 4030, '▁재밋음': 4031, '점정도': 4032, '오글': 4033, '버리는': 4034, '겠습니다': 4035, '만듬': 4036, '▁나타': 4037, '▁드립니다': 4038, '▁멍': 4039, '▁다르다': 4040, '연기력': 4041, '▁주인공의': 4042, '▁말하고': 4043, '빙': 4044, '▁엔딩이': 4045, '하시는': 4046, '봤습니다': 4047, '쩜': 4048, '뭔가': 4049, '▁없는데': 4050, '▁그당시': 4051, '륜': 4052, '찮': 4053, '괜': 4054, '톱': 4055, '▁에피소드': 4056, '▁심형래': 4057, '욤': 4058, '쿨': 4059, '▁고양이': 4060, '▁특별한': 4061, '▁믿고보는': 4062, '▁언제봐도': 4063, '보고싶다': 4064, '점대는': 4065, '▁지금은': 4066, '주면': 4067, '▁부르': 4068, '나왔': 4069, '▁영화인듯': 4070, '▁새벽에': 4071, '▁재미와': 4072, '▁포스': 4073, '▁진부하고': 4074, '▁최소': 4075, '▁클레멘타인': 4076, '에서도': 4077, '▁사랑해요': 4078, '▁가슴을': 4079, '▁아까운영화': 4080, '빌': 4081, '까지는': 4082, '▁체': 4083, '헐': 4084, '▁사건': 4085, '▁조화': 4086, '▁귀여움': 4087, '▁누구나': 4088, 'ᄏᄏᄏᄏᄏᄏᄏ': 4089, '▁단편': 4090, '▁동안': 4091, '▁아름답': 4092, '멜로': 4093, '것인가': 4094, '▁힘들었': 4095, '▁만든영화': 4096, '▁주말': 4097, '감독님': 4098, '▁뿐이다': 4099, '꾼': 4100, '▁왤케': 4101, '닉': 4102, '▁로버트': 4103, '▁왠만하면': 4104, '쿵': 4105, '▁인내심': 4106, '키드': 4107, '▁볼만합니다': 4108, '▁쓸': 4109, '▁설마': 4110, '▁상처': 4111, '아까웠': 4112, '하려고': 4113, '▁만든거': 4114, '▁개노잼': 4115, '▁할까': 4116, '▁살려': 4117, '▁악마': 4118, '▁괜찮네요': 4119, '▁만들면': 4120, '최고다': 4121, '▁답답한': 4122, '▁만들기': 4123, '▁별로임': 4124, '▁우리의': 4125, '▁원작에': 4126, '▁다운': 4127, '▁않지만': 4128, '▁한참': 4129, '<': 4130, '쉽': 4131, '하하하하': 4132, '▁가득': 4133, '▁ᄏᄏᄏᄏᄏᄏᄏᄏ': 4134, '▁알수': 4135, '줘야': 4136, '▁정말이지': 4137, 'en': 4138, '▁말하는': 4139, '▁타임': 4140, '럼': 4141, '▁시청': 4142, '▁하는지': 4143, '류영화': 4144, '타임': 4145, '닮': 4146, 'th': 4147, '뭔': 4148, '뷰': 4149, 'ᅢ': 4150, '^-^': 4151, '핑': 4152, '▁주윤발': 4153, '▁끔찍': 4154, '▁잔혹': 4155, '▁극장가서': 4156, 've': 4157, '▁세상을': 4158, '▁영원히': 4159, '▁바꾸': 4160, '▁짜증난다': 4161, '▁만들었을까': 4162, '▁따뜻하고': 4163, '스키': 4164, '▁중에서': 4165, '▁좋았지만': 4166, 'ad': 4167, '▁생각한다': 4168, '는거야': 4169, '▁운명': 4170, '▁가치가': 4171, '▁만한': 4172, '▁조카': 4173, 'as': 4174, '▁많은걸': 4175, '오래': 4176, '▁사랑합니다': 4177, '▁공부': 4178, '▁쩔어': 4179, '▁집에서': 4180, '하려': 4181, '봤네요': 4182, '▁분위기가': 4183, '▁도전': 4184, '▁직': 4185, '▁슈': 4186, '큰': 4187, '▁이해할': 4188, '▁어렵다': 4189, '▁뉴': 4190, '▁검': 4191, '▁인간이': 4192, '▁반성': 4193, '▁우리는': 4194, '낚': 4195, '명의': 4196, '▁인간들': 4197, '▁G': 4198, '젠': 4199, '▁재밌다고': 4200, '이더': 4201, '되면': 4202, '▁애기': 4203, '았는데': 4204, '▁탑': 4205, '제발': 4206, '▁영상이': 4207, '략': 4208, '맡': 4209, '▁숨겨진': 4210, '▁느껴진다': 4211, '▁풍경': 4212, '어이없': 4213, '었나': 4214, '▁말았': 4215, '▁선생님': 4216, '▁포스터가': 4217, '▁사랑해': 4218, '▁시각': 4219, '▁하는데': 4220, '트리': 4221, '▁안맞는': 4222, '▁끌어': 4223, '▁어색하': 4224, '▁왠': 4225, '▁남자들': 4226, '절대': 4227, '이름': 4228, '▁엄': 4229, '▁감동적이네요': 4230, '▁시간아깝다': 4231, '▁즐': 4232, '냈': 4233, '▁딱히': 4234, '▁싶어요': 4235, '▁몰라도': 4236, '른다': 4237, '▁뭐라': 4238, '▁자랑': 4239, '그만': 4240, '▁최고로': 4241, '촌': 4242, 'ᄏᄏᄏᄏᄏᄏᄏᄏ': 4243, '밥': 4244, '몰입': 4245, '감독의': 4246, '화이팅': 4247, '귀엽': 4248, '갓': 4249, '▁사람의': 4250, '치고는': 4251, '▁난해하': 4252, '보는내내': 4253, '▁당신': 4254, '냈다': 4255, '▁삶에': 4256, '▁좋아하는데': 4257, '소름': 4258, '▁주기도': 4259, '때매': 4260, '하기엔': 4261, '▁유명': 4262, '▁가져': 4263, '되나': 4264, '번은': 4265, '아까': 4266, '▁본듯': 4267, '▁술': 4268, '▁착한': 4269, '▁단어': 4270, '▁영어': 4271, '▁떨어지': 4272, 'H': 4273, '핀': 4274, '▁DVD': 4275, '▁기독교': 4276, '▁안타까운': 4277, '뚱': 4278, '▁거짓말': 4279, '▁즐거웠': 4280, '▁닥치고': 4281, '▁불구하고': 4282, '▁달콤': 4283, '▁더불어': 4284, '그리': 4285, '▁어설프고': 4286, '▁말아먹': 4287, '▁뭐하자는': 4288, '▁무엇인지': 4289, '▁유치해': 4290, '▁감동적이에요': 4291, '쓰는': 4292, '▁한편의': 4293, '▁이미지': 4294, '▁디워': 4295, '▁시리즈는': 4296, '▁있으면': 4297, '낫': 4298, '▁하품': 4299, '▁슬퍼': 4300, '▁작품이다': 4301, '했다는': 4302, '▁기대이하': 4303, '▁드라마는': 4304, '▁재미로': 4305, '▁돋보이는': 4306, '▁관객을': 4307, '다큐': 4308, '지않고': 4309, '▁풍자': 4310, '▁무섭지': 4311, '더라구요': 4312, '특별': 4313, '일본': 4314, '▁속에': 4315, '좋았다': 4316, '받아': 4317, '▁X': 4318, '▁재밌어서': 4319, '▁ᄃᄃᄃ': 4320, '▁달달': 4321, '얘': 4322, '▁감정이': 4323, '▁맞지': 4324, '▁아니었': 4325, '코믹': 4326, '버스': 4327, '더빙': 4328, '포스터': 4329, '▁열라': 4330, '지루해': 4331, '갈수록': 4332, '▁잔인': 4333, '년작': 4334, '▁소장': 4335, '원작': 4336, '▁소름이': 4337, '▁장면에서': 4338, '▁봐야하는': 4339, '그래서': 4340, '▁우리가': 4341, '▁보시': 4342, '저리': 4343, '낭': 4344, '말이필요없': 4345, '엑': 4346, '둔': 4347, '▁탄생': 4348, '▁흑인': 4349, '▁sf': 4350, '▁할머니': 4351, '겁니다': 4352, '됐다': 4353, '▁감각': 4354, '잇는': 4355, '▁담배': 4356, '▁볼수있': 4357, '▁고통': 4358, '▁본거': 4359, '싫어': 4360, '로드': 4361, '▁초딩때': 4362, '▁막장드라마': 4363, '▁부실': 4364, '▁제작진': 4365, '▁D': 4366, '▁알수있': 4367, '▁보통': 4368, '본사람': 4369, '▁없나요': 4370, '▁라는': 4371, '놨': 4372, '▁잔잔하면서': 4373, '▁웃고': 4374, '▁지겹다': 4375, '▁망친': 4376, '간의': 4377, '재미있게': 4378, '▁이상하게': 4379, '▁들어가': 4380, '▁유명한': 4381, '편을': 4382, 'ᄏᄏᄏᄏᄏᄏ': 4383, '▁것들': 4384, '▁전편보다': 4385, '밤': 4386, '벤': 4387, '꽃': 4388, '안맞': 4389, '비디오': 4390, '▁멋있는': 4391, '하고싶은': 4392, '갑니다': 4393, '▁남네요': 4394, '▁판': 4395, '▁하아': 4396, '자체': 4397, '만드네': 4398, '▁있다니': 4399, '켜': 4400, '▁들었': 4401, '▁법': 4402, '리게': 4403, '▁쩔': 4404, '지도않고': 4405, '▁맞추': 4406, '만하다': 4407, '▁어른들': 4408, '긴하지만': 4409, '▁재미없을': 4410, '빨리': 4411, '뽕': 4412, '앉': 4413, '▁스포츠': 4414, '▁조니뎁': 4415, '컨': 4416, '▁뜬금없': 4417, '▁비주얼': 4418, '▁빨갱이': 4419, '랭': 4420, '▁내생애': 4421, '▁the': 4422, '히어로': 4423, '▁흐름': 4424, '▁은근히': 4425, '▁톰': 4426, '▁결코': 4427, '사회': 4428, '▁만들었는지': 4429, '▁전율': 4430, '▁기술': 4431, '나가는': 4432, '▁액션씬': 4433, '▁무술': 4434, '▁케이블에서': 4435, '▁방영': 4436, '▁아쉽지만': 4437, '▁쉬': 4438, '▁궁금하다': 4439, '▁봤어': 4440, '▁완전히': 4441, '▁고마': 4442, '▁인생에': 4443, '▁잼있는': 4444, '않다': 4445, '▁감동적이었': 4446, '▁예쁘고': 4447, '▁주연배우': 4448, '인것': 4449, '하신': 4450, '하기도': 4451, '▁허술하': 4452, '▁이런류': 4453, '▁제목만': 4454, '개그': 4455, '▁니들': 4456, '▁여러분': 4457, '~~^^': 4458, '▁맞아': 4459, '존나': 4460, '▁견': 4461, '아무': 4462, '장이': 4463, '▁쪽': 4464, '빡': 4465, '논': 4466, '보니까': 4467, '씬이': 4468, '▁배우들도': 4469, 'at': 4470, '공주': 4471, 'ᄍ': 4472, '하겠다': 4473, '▁가볍': 4474, '배경': 4475, '받는': 4476, '싫': 4477, '▁헤어': 4478, '▁탐': 4479, '▁최근에': 4480, '까요': 4481, '엽': 4482, '▁명불허전': 4483, '탱': 4484, '젖': 4485, '▁장국영': 4486, '부끄럽': 4487, '▁유일하게': 4488, '문화': 4489, '▁유일한': 4490, '▁돼': 4491, '▁기다려': 4492, '▁파이': 4493, '▁허술한': 4494, '▁비현실적': 4495, '▁ᅲᅲᅲᅲ': 4496, '보는게': 4497, '▁대표': 4498, '▁꼬마': 4499, '▁열연': 4500, '▁21': 4501, '너무너무': 4502, '▁모르겠음': 4503, '▁한개도': 4504, '스럽게': 4505, '▁최고봉': 4506, '▁영원한': 4507, '▁내면': 4508, '세상': 4509, '▁모든걸': 4510, '터짐': 4511, '놈이': 4512, '▁다시는': 4513, '비가': 4514, '랄까': 4515, '▁발상': 4516, '재밋다': 4517, '▁촌스럽': 4518, '우리': 4519, '▁평론가들': 4520, '▁단지': 4521, '▁재미없어서': 4522, '재미있다': 4523, '▁필요한가': 4524, '읽': 4525, '▁따로': 4526, '바닥': 4527, '▁순수함': 4528, '▁재밌지': 4529, '▁되고': 4530, '쩝': 4531, '아저씨': 4532, '걍': 4533, '▁응': 4534, '▁한국영화의': 4535, '몸': 4536, '▁철학': 4537, 'ᅮᅲ': 4538, '못해': 4539, '스타일': 4540, '▁잇': 4541, '빠지': 4542, '객': 4543, '냄새': 4544, '관계': 4545, '묵': 4546, '팍': 4547, '▁점수준것들': 4548, '▁짜임새': 4549, '룩': 4550, '쪼': 4551, '▁제니퍼': 4552, '▁뭥미': 4553, '▁잔뜩': 4554, '▁이뻐서': 4555, '▁ᄒᄒᄒᄒ': 4556, '▁못보겠다': 4557, '▁어째': 4558, '년도에': 4559, '▁두번째': 4560, '▁로코': 4561, '▁속았다': 4562, '▁명작을': 4563, '▁화려하': 4564, '주연': 4565, '▁외모': 4566, '▁내돈': 4567, '▁욕망': 4568, '▁꿈을': 4569, '▁수준의': 4570, '무시': 4571, '▁편안': 4572, '겠어': 4573, '▁참신한': 4574, '▁18': 4575, '▁한국판': 4576, '▁놀랍다': 4577, '▁보내': 4578, '▁본다면': 4579, '▁죽이는': 4580, '맘': 4581, '이래': 4582, '▁아깝네': 4583, '▁우뢰매': 4584, '웨이': 4585, '▁평점보고': 4586, '었을': 4587, '▁W': 4588, '년만에': 4589, '▁안봐도': 4590, '같네요': 4591, '▁최고최고': 4592, '잖': 4593, '▁궁': 4594, '▁북': 4595, '▁나오네': 4596, '▁긴장감이': 4597, '▁예수': 4598, '▁진부': 4599, '잤': 4600, '춤': 4601, '엄청': 4602, '▁강한': 4603, '▁멋졌': 4604, '▁프랑스영화': 4605, '▁그지같': 4606, '신분': 4607, '▁어디에': 4608, '햇다': 4609, '전쟁': 4610, '▁눈에': 4611, '숭': 4612, '딘': 4613, '▁오랫만에': 4614, '쟈': 4615, '▁제임스': 4616, '▁케빈': 4617, '로움': 4618, '▁잠깐': 4619, '▁나랑': 4620, '▁축구': 4621, '▁장난치': 4622, '▁개막장': 4623, '집니다': 4624, '▁통해': 4625, '▁장면들': 4626, '었을까': 4627, '▁없습니다': 4628, '▁싶었': 4629, '자리': 4630, '▁못함': 4631, '▁여전': 4632, '▁국민': 4633, '▁모르게': 4634, '▁벤': 4635, '▁해라': 4636, '멋잇': 4637, '▁못보': 4638, '▁:)': 4639, '▁없냐': 4640, '▁잠이': 4641, '▁영화인지': 4642, '재밌는': 4643, '▁아이들과': 4644, '▁수작이다': 4645, '기에는': 4646, '▁캐릭터가': 4647, '머니': 4648, '▁인상적': 4649, '려나': 4650, '▁채널': 4651, '맥': 4652, '았지만': 4653, '▁형사': 4654, '재미도': 4655, '!!!!!!!!!!!!!!!!': 4656, '▁여운을': 4657, '▁하나의': 4658, '▁줘야': 4659, '▁어이': 4660, '겠어요': 4661, '▁좋게': 4662, '▁잘한다': 4663, 'es': 4664, '폼': 4665, '롯': 4666, '뜬': 4667, 'ᄁ': 4668, '▁2.22': 4669, '똘': 4670, '삐': 4671, '▁동성애': 4672, '▁아이디어': 4673, '▁집착': 4674, '▁1,2': 4675, '▁오래전에': 4676, '외엔': 4677, '▁밤': 4678, '▁지켜': 4679, '▁만들고': 4680, '▁말자': 4681, '▁조낸': 4682, '▁중독': 4683, '▁보라': 4684, '▁생각함': 4685, '▁울면서': 4686, '▁볼만했': 4687, '▁몰입해서': 4688, '▁충격적인': 4689, '▁엿': 4690, '▁괜찮았음': 4691, '싫다': 4692, '▁알겠다': 4693, '▁원조': 4694, '▁뛰어나': 4695, '▁아니지': 4696, '▁보다는': 4697, '▁유치해서': 4698, '알고': 4699, '30': 4700, '할것': 4701, '장면은': 4702, '더라도': 4703, '▁버리': 4704, '▁멋지고': 4705, '▁생각하고': 4706, '없나': 4707, '▁뭐니': 4708, '▁있네': 4709, '것만으로도': 4710, '것같은': 4711, '▁그럴': 4712, '▁쌍': 4713, '▁알았네': 4714, '삶': 4715, '있습니다': 4716, '▁아역': 4717, '▁영상과': 4718, '바라': 4719, '깝': 4720, '▁테러': 4721, '구먼': 4722, '놀이': 4723, '▁거장': 4724, '휘': 4725, '불쌍': 4726, '긴장감': 4727, '▁같아서': 4728, '관객': 4729, '▁알려': 4730, '▁맛이': 4731, '▁촌': 4732, '▁작품을': 4733, '늦': 4734, '윌': 4735, '▁살다살다': 4736, '▁스티븐': 4737, '▁강렬한': 4738, '▁희대의': 4739, '▁직접': 4740, '▁보지마셈': 4741, '▁여러가지': 4742, '▁웃으면서': 4743, '▁말이필요없다': 4744, '▁즐겨': 4745, '▁재개봉': 4746, '▁장난하냐': 4747, '▁근래': 4748, '▁있어야': 4749, '▁에효': 4750, 'ut': 4751, '라곤': 4752, '▁이름이': 4753, '선생': 4754, '소설': 4755, '지루하다': 4756, '기전에': 4757, '▁밀려': 4758, '▁개성': 4759, '▁애매': 4760, '▁미안하다': 4761, '▁남겨': 4762, '지말고': 4763, '▁의문': 4764, '▁줄수': 4765, '모두': 4766, '▁안본': 4767, '큐': 4768, '▁아프다': 4769, '▁적당한': 4770, '짱짱맨': 4771, '▁당신은': 4772, '할뿐': 4773, '▁영혼': 4774, '▁주제가': 4775, '▁탄탄': 4776, '▁조선': 4777, '할수가': 4778, '겼': 4779, '▁오락영화': 4780, '▁뽑': 4781, '▁장진': 4782, '거리는': 4783, '▁다시보고': 4784, '▁내게': 4785, '물을': 4786, '어색': 4787, ';;;;;;': 4788, '스톤': 4789, '보인다': 4790, '▁만들수': 4791, '이었습니다': 4792, '▁집에': 4793, '▁한국에서': 4794, '▁사진': 4795, '▁치밀': 4796, '▁포스터만': 4797, '보여주': 4798, '잊': 4799, '뇌': 4800, '꼴': 4801, '찡': 4802, '벗': 4803, '도좋고': 4804, '나올때': 4805, '세여': 4806, '▁됨': 4807, '▁교육': 4808, '▁멋져': 4809, '쯔': 4810, '▁블록버스터': 4811, '땀': 4812, '쭉': 4813, '▁홍상수': 4814, '▁외계인': 4815, '▁울컥': 4816, '▁Good': 4817, '보느니': 4818, '거같은데': 4819, '▁폭풍': 4820, '▁평균': 4821, '출연': 4822, '▁실험': 4823, '▁돈아까워': 4824, '둥이': 4825, '▁꼭보세요': 4826, '조금': 4827, '▁개꿀잼': 4828, '생각이': 4829, '▁허무한': 4830, '▁엉성하고': 4831, '재밋음': 4832, '▁프리': 4833, '▁끼': 4834, '▁절정': 4835, '있어서': 4836, '▁아냐': 4837, '▁레이': 4838, '▁봐야지': 4839, '▁불러': 4840, '▁모를': 4841, '없구': 4842, '하는건': 4843, '▁갓': 4844, '뭐야': 4845, '▁틀어': 4846, '▁영화라니': 4847, '▁밝': 4848, '99': 4849, '▁남은': 4850, '▁영화보는': 4851, '▁이해할수': 4852, '▁한명': 4853, '했었는데': 4854, '▁라이': 4855, '▁지겹': 4856, '▁인물들': 4857, '▁죽이고': 4858, '▁잠들': 4859, '장애': 4860, '으니까': 4861, '보게되': 4862, '▁잘하고': 4863, '▁웃었': 4864, '부러': 4865, '▁하나로': 4866, '▁평범': 4867, '있던': 4868, '커플': 4869, '▁점수는': 4870, '멈': 4871, '펑': 4872, 'U': 4873, '▁러닝타임': 4874, '벼': 4875, '껀': 4876, '삽': 4877, '싹': 4878, '헉': 4879, '▁반드시': 4880, '개념': 4881, '▁블랙코미디': 4882, '▁경험': 4883, '▁남자주인공': 4884, '▁끈': 4885, '▁또다른': 4886, '구리': 4887, '보지': 4888, '▁커플': 4889, '▁느낌을': 4890, 'ᄀᄀ': 4891, '▁손에': 4892, '▁하지원': 4893, '▁휘': 4894, '▁재밋엇': 4895, '▁오브': 4896, '▁본건데': 4897, '▁좋네': 4898, '▁몇년': 4899, '▁영화예요': 4900, '▁넘넘': 4901, '.,.,': 4902, '▁영구': 4903, '▁시간만': 4904, '허술': 4905, '▁다신': 4906, '역사': 4907, '려다가': 4908, '▁수입': 4909, '빠진': 4910, '▁때문': 4911, '▁소재도': 4912, '광구': 4913, '▁생각하는': 4914, '▁어디가': 4915, '▁대사가': 4916, '어린': 4917, '▁슬픈영화': 4918, '▁대화': 4919, '▁않네요': 4920, '▁옥': 4921, '통쾌': 4922, '▁충분': 4923, '▁높게': 4924, '▁정신없': 4925, '▁보기에는': 4926, '▁길게': 4927, '▁자주': 4928, '▁인생영화': 4929, '▁불편한': 4930, '▁반전을': 4931, '다시보고싶': 4932, '▁괜찮아': 4933, '닐': 4934, '▁어른이': 4935, '▁않나': 4936, '▁잼없다': 4937, '했더니': 4938, '차라리': 4939, '넬': 4940, '딜': 4941, 'ᄊ': 4942, '▁아무생각없이': 4943, '▁짐캐리': 4944, '렴': 4945, '츄': 4946, '켄': 4947, '핫': 4948, '▁유덕화': 4949, '본방사수': 4950, '▁도데체': 4951, '▁우려먹': 4952, '▁사상': 4953, '▁역겨운': 4954, '납니다': 4955, '것같아요': 4956, '▁말도안되는': 4957, '▁응원': 4958, '▁행동': 4959, '▁존경': 4960, '▁거품': 4961, '▁암울': 4962, '▁억지감동': 4963, '▁연극': 4964, '▁간지': 4965, '▁다행이다': 4966, '▁유럽': 4967, '▁멋져요': 4968, '▁명배우': 4969, '▁황당한': 4970, '▁해석': 4971, '▁아름답게': 4972, '▁생각난다': 4973, '하길': 4974, '점만점에': 4975, '제로': 4976, '▁않을까': 4977, '해야지': 4978, '당시엔': 4979, '점에서': 4980, '잡고': 4981, '▁정의': 4982, '▁빡': 4983, '▁최악의영화': 4984, '볼수있': 4985, '뭐냐': 4986, '할만한': 4987, '▁보겠다': 4988, '점이상': 4989, '있을': 4990, '▁부부': 4991, '▁생각으로': 4992, '기억이': 4993, '오오': 4994, '▁좋아해서': 4995, '오브': 4996, '▁재미없었': 4997, '겠네요': 4998, '▁남아있': 4999, '▁따뜻해': 5000, '▁반전은': 5001, '높은': 5002, '▁김치': 5003, '내내': 5004, '레기': 5005, '▁아들이': 5006, '▁감동입니다': 5007, '문제': 5008, '겐': 5009, '멜': 5010, '▁몰랐다': 5011, '▁몰라': 5012, '▁요리': 5013, '▁신선함': 5014, '안되는': 5015, '늙': 5016, '▁포스터에': 5017, '▁꿀': 5018, '볼려고': 5019, '▁소년': 5020, '▁공감할': 5021, '물로': 5022, '때부터': 5023, '▁교훈을': 5024, '▁스릴도': 5025, '▁재밋어': 5026, '확': 5027, '액': 5028, '퀴': 5029, '섞': 5030, '엠': 5031, '깃': 5032, '▁원주율': 5033, '퓨': 5034, '▁러시아': 5035, '▁이소룡': 5036, '▁사운드': 5037, '▁동시에': 5038, '▁피해자': 5039, '▁ᄌᄂ': 5040, '12': 5041, '▁어설프다': 5042, '거같음': 5043, '▁겨우': 5044, '붙': 5045, '섬': 5046, '▁안볼': 5047, '있네요': 5048, '추억': 5049, '▁m': 5050, '▁여자주인공': 5051, '▁재미있었습니다': 5052, '지마세요': 5053, '▁코믹영화': 5054, '▁아련하': 5055, '행복': 5056, '재밋어요': 5057, '▁잘생겼': 5058, '▁쉽지': 5059, '▁부모': 5060, '좋은데': 5061, '▁만들어라': 5062, '▁보려고': 5063, '▁버려': 5064, 'ᄒᄒᄒᄒ': 5065, '▁링': 5066, '▁난잡': 5067, '지루하고': 5068, '▁이딴영화': 5069, '▁몽': 5070, '능력': 5071, '▁갑니다': 5072, '만큼이나': 5073, '▁자식': 5074, '▁어처구니': 5075, '▁끝내주': 5076, '▁따뜻': 5077, '▁형제': 5078, '엇는데': 5079, '▁불쌍한': 5080, '▁머야': 5081, '번을': 5082, '▁기자': 5083, 'ᅲᅲᅲᅲᅲ': 5084, '▁전설이': 5085, '▁F': 5086, '있어요': 5087, '볼까': 5088, '장르': 5089, '럴': 5090, '영화인데': 5091, '▁농': 5092, '못한': 5093, '되요': 5094, '▁적절': 5095, '▁속에서': 5096, '▁죽은': 5097, '쳐서': 5098, '▁재난영화': 5099, '▁들었다': 5100, '되었다': 5101, '렵': 5102, '측': 5103, '▁웃기는': 5104, '싼': 5105, '층': 5106, 'ᄐ': 5107, '▁웰메이드': 5108, '탓': 5109, '▁브루스': 5110, '쯧쯧': 5111, '▁익숙': 5112, '▁태어나서': 5113, '▁향연': 5114, '▁군': 5115, '갠적으로': 5116, '▁좋겠어요': 5117, '▁만화책': 5118, '▁로빈': 5119, '▁영환데': 5120, '▁여러번': 5121, '▁사이코': 5122, '빠져': 5123, '▁비밀': 5124, 'ᄃᄃᄃ': 5125, '▁또보고싶': 5126, '▁잔잔하게': 5127, '▁우왕': 5128, '▁보았습니다': 5129, '여운이': 5130, '부분이': 5131, '▁폐': 5132, '허무': 5133, '▁필요없음': 5134, '▁끝날': 5135, '▁키스': 5136, '▁액션과': 5137, '▁최고에요': 5138, '▁있었지만': 5139, '왔어요': 5140, '보이는': 5141, '▁유발': 5142, '▁살린': 5143, '▁반전에': 5144, '▁재미있을': 5145, '▁잼있네요': 5146, '▁대단하': 5147, '딴': 5148, '▁매미': 5149, '스럽지': 5150, '▁두고': 5151, '▁개봉한': 5152, '▁별하나': 5153, '맘에': 5154, '차원': 5155, '만족': 5156, '▁선물': 5157, '▁이상해': 5158, '낫다': 5159, '▁어디로': 5160, '▁똑같은': 5161, '편까지': 5162, '▁시도는': 5163, '▁웃었다': 5164, '▁잘만들었다': 5165, '▁웃을': 5166, '▁넘게': 5167, '생에': 5168, '▁뽀': 5169, '▁느꼈': 5170, '▁놀랍': 5171, '같지만': 5172, 'ᅲᅲᅲᅲᅲᅲᅲᅲ': 5173, '덕에': 5174, '스토': 5175, '▁마지막장면': 5176, '▁괜찮고': 5177, '후반': 5178, '▁싶을': 5179, '▁하하하': 5180, '▁소설을': 5181, '점대가': 5182, '▁어이없다': 5183, '▁불쌍해': 5184, '▁웃긴다': 5185, '콘': 5186, '▁샘': 5187, '밍': 5188, '▁뱀파이어': 5189, '▁알파치노': 5190, '닭': 5191, '랴': 5192, '쉐': 5193, '앜': 5194, '앵': 5195, '▁짜집기': 5196, '▁깜짝': 5197, '▁아놀드': 5198, '▁상큼': 5199, '▁검색': 5200, '▁만점에': 5201, '올리': 5202, '꺼야': 5203, '▁멋짐': 5204, '▁효과': 5205, '▁짧은': 5206, '답니다': 5207, '▁은근': 5208, '낮은': 5209, '▁저평가': 5210, '▁지루하기': 5211, '줄알았는데': 5212, '▁연기력도': 5213, '거같아요': 5214, '▁반복': 5215, '▁장난하나': 5216, '탑': 5217, '코메디': 5218, '▁정신병자': 5219, '▁순수하고': 5220, '였으면': 5221, '썼': 5222, '▁안보는게': 5223, '이었던': 5224, '▁기회': 5225, '▁답답하다': 5226, '▁없었음': 5227, '극장에서': 5228, '▁연출과': 5229, '▁영화보면서': 5230, '▁책으로': 5231, '▁비판': 5232, '▁답답하고': 5233, '▁안간다': 5234, '여주': 5235, '사건': 5236, '▁인생은': 5237, '▁작가가': 5238, '좋네요': 5239, '▁여주인공이': 5240, '▁시시하': 5241, '▁배우를': 5242, '▁정도면': 5243, '▁그럴듯': 5244, '하진': 5245, '갔는데': 5246, '▁읽어': 5247, '▁낙': 5248, '▁받는': 5249, '▁재미없네요': 5250, '현실을': 5251, '▁안본다': 5252, '▁돈을': 5253, '▁예술영화': 5254, '봣어요': 5255, '▁마니': 5256, '받아서': 5257, '▁책을': 5258, '▁누군가': 5259, '스턴': 5260, '▁하나하나': 5261, '섯': 5262, 'ᄡ': 5263, '▁스타워즈': 5264, '▁컴퓨터': 5265, '뚜': 5266, '븐': 5267, '▁나레이션': 5268, '▁소중함을': 5269, '▁깡패': 5270, '덩어리': 5271, '▁정우성': 5272, '▁수면제': 5273, '▁다양한': 5274, '▁스스로': 5275, '▁늦게': 5276, '▁명대사': 5277, '▁일어나': 5278, '▁라스트': 5279, '뭐지': 5280, '이따구': 5281, '▁그야말로': 5282, '▁재능': 5283, '▁아니잖아': 5284, '느껴': 5285, '꿀': 5286, '▁무엇인가': 5287, '▁다운받': 5288, '▁보고싶은데': 5289, '분은': 5290, '분위기': 5291, '▁시청률이': 5292, '▁위트': 5293, '▁우연': 5294, '▁막판에': 5295, '▁생각나서': 5296, '▁별로였다': 5297, '못보겠': 5298, '봤으면': 5299, '스크': 5300, '▁돋보인': 5301, '▁감동이다': 5302, '▁낮네요': 5303, '해야할': 5304, '여행': 5305, '▁짜증이': 5306, '▁열자': 5307, '▁199': 5308, '▁심하다': 5309, '▁낮게': 5310, '▁소름끼치는': 5311, '▁남는게': 5312, '▁머리가': 5313, '좋겠': 5314, '~~~~~': 5315, '▁싶었다': 5316, '▁돼지': 5317, '▁출연한': 5318, '주고싶': 5319, '야겠다': 5320, '요즘': 5321, '하하하': 5322, '▁빼곤': 5323, '이딴': 5324, '▁실망이다': 5325, '▁추리': 5326, '▁빅': 5327, '였나': 5328, '쟁': 5329, '▁대해서': 5330, '▁썼': 5331, '부작': 5332, '▁없으면': 5333, '일듯': 5334, '줘야지': 5335, '▁어우': 5336, '!!!!!!': 5337, '녕': 5338, '▁의지': 5339, '거든': 5340, '춰': 5341, '▁킬링': 5342, '덩': 5343, '랙': 5344, '빗': 5345, '▁겉멋': 5346, '퉤': 5347, '▁이병헌': 5348, '밧': 5349, '▁화장실': 5350, '▁괜찬': 5351, '▁드디어': 5352, '▁잊혀': 5353, '▁드니로': 5354, '▁완젼': 5355, '▁쓸쓸': 5356, '▁감명깊게': 5357, '손가락': 5358, '▁남편': 5359, '▁좋겠네요': 5360, '▁로맨틱코미디': 5361, '▁담백': 5362, '▁모른다': 5363, '▁멋진영화': 5364, '▁상영관': 5365, '▁폭발': 5366, '▁억지스러운': 5367, '▁로망': 5368, '▁하늘': 5369, '▁봤을때': 5370, '지않는다': 5371, '▁아우': 5372, '여배우': 5373, '▁아만다': 5374, '▁말하고자': 5375, '▁치유': 5376, '눈물이': 5377, '▁재밌게봤어요': 5378, '▁전쟁의': 5379, '▁좋지': 5380, '무서워': 5381, '꿈': 5382, '뭘': 5383, '초딩': 5384, '▁귀여워요': 5385, '▁높아서': 5386, '목소리': 5387, '맞추': 5388, '나왔으면': 5389, '병맛': 5390, '다시봐도': 5391, '->': 5392, '▁뭐임': 5393, '상태': 5394, '▁사랑스럽다': 5395, '▁훌륭': 5396, '▁폐지': 5397, '▁첨이다': 5398, '▁한번더': 5399, '▁밋밋하': 5400, '수밖에': 5401, 'ch': 5402, '▁매력에': 5403, '▁괜찮게': 5404, '▁애들은': 5405, '▁사랑한다': 5406, '▁겨울': 5407, '▁주제를': 5408, '지도않': 5409, '재미있음': 5410, '스릴': 5411, '▁아프': 5412, '봐야지': 5413, '▁작품입니다': 5414, '옆': 5415, '▁나머지': 5416, '▁아깝고': 5417, '▁제작비가': 5418, '스티': 5419, '▁아니었다': 5420, '이랄까': 5421, '보고있어요': 5422, '하기에': 5423, '▁재밋는': 5424, '▁기적': 5425, '▁곰': 5426, '▁매니아': 5427, '누님': 5428, '▁이만한': 5429, '▁감동받': 5430, '▁표현할': 5431, '멍': 5432, '▁얼마': 5433, '둥': 5434, '갱': 5435, '▁짬뽕': 5436, '▁타란티노': 5437, '▁터미네이터': 5438, '깁': 5439, '앨': 5440, '▁2014': 5441, '▁어울리는': 5442, '▁말그대로': 5443, '▁니콜라스': 5444, '▁기발한': 5445, '▁완죤': 5446, '▁늑대': 5447, '▁스타뎀': 5448, '흑흑': 5449, '▁낭만': 5450, '▁만화영화': 5451, '▁기가': 5452, '▁아무런': 5453, '▁그림체': 5454, '▁다운받아': 5455, '하고싶다': 5456, '▁모든것이': 5457, '분동안': 5458, '▁배역': 5459, '굿굿': 5460, '▁갖고': 5461, '▁재밌었습니다': 5462, '▁죽었': 5463, '▁감동적임': 5464, '▁독일': 5465, '감정': 5466, '▁당신이': 5467, '▁변화': 5468, '~~~~~~': 5469, '▁본인': 5470, '▁멋있었': 5471, '!!!!!!!!': 5472, '당시': 5473, '▁꼭봐야': 5474, '▁생각하면': 5475, '같았': 5476, '▁망할': 5477, '▁약하다': 5478, '▁깔끔한': 5479, '드립니다': 5480, '데스': 5481, '▁대본': 5482, '▁만들었나': 5483, '▁넘치': 5484, '▁웃겼다': 5485, '▁가득한': 5486, '▁만들다': 5487, '였지': 5488, '보지마라': 5489, '테러': 5490, '▁본격': 5491, '▁박수': 5492, '곳에': 5493, '▁가고': 5494, '▁그렇다고': 5495, '▁60': 5496, '▁희망을': 5497, '▁J': 5498, '었네요': 5499, '▁무섭고': 5500, '▁쩌는': 5501, '▁기대하지': 5502, '간만에': 5503, '아까운영화': 5504, '▁의미가': 5505, '않음': 5506, '▁아무도': 5507, '▁볼때': 5508, '▁평범하': 5509, '▁막판': 5510, '▁실망스럽': 5511, '▁진한': 5512, '더스': 5513, '상영': 5514, '▁아진짜': 5515, '스케': 5516, '뻔했다': 5517, '되네': 5518, '닫': 5519, '꼈': 5520, '곧': 5521, '▁그냥저냥': 5522, '▁스트레스': 5523, '▁아닙니다': 5524, '▁아름다워': 5525, '뱀': 5526, '▁이토록': 5527, '▁탁월': 5528, '▁플롯': 5529, '소녀': 5530, '▁컬트': 5531, '▁돈내고': 5532, '▁혁명': 5533, '▁스파이': 5534, '▁스텝': 5535, '▁택시': 5536, 'le': 5537, '▁흐르는': 5538, '><': 5539, '▁레옹': 5540, '▁알겠는데': 5541, '분만에': 5542, '▁당황': 5543, '▁적어도': 5544, 'ck': 5545, '▁아이돌': 5546, '▁태국': 5547, '▁마시길': 5548, '▁영원': 5549, '▁중학생': 5550, '▁적당히': 5551, '▁서울': 5552, '▁ᄏᄏᄏᄏᄏᄏᄏᄏᄏᄏᄏ': 5553, '예뻐': 5554, '▁부모님': 5555, '▁역작': 5556, '나름': 5557, '지않아': 5558, '▁모욕': 5559, '▁살면서': 5560, '▁결정': 5561, '▁관점': 5562, '▁이거보다': 5563, '▁인형': 5564, '▁높지': 5565, '▁뭐여': 5566, '인권': 5567, '김정': 5568, '▁아래': 5569, '▁산만하고': 5570, '▁실감': 5571, '▁말밖에': 5572, '▁짱이다': 5573, '시나리오': 5574, '▁재난': 5575, '▁이루': 5576, '기도하고': 5577, '▁조잡한': 5578, '▁볼만한데': 5579, '▁왜곡': 5580, '▁실제로': 5581, '▁좋아하지만': 5582, '▁엄마가': 5583, '더군': 5584, '마지막에': 5585, '▁뻔하': 5586, '▁파리': 5587, '찾아': 5588, '전혀': 5589, '▁성룡의': 5590, '같고': 5591, '스틴': 5592, '먹은': 5593, '▁자세': 5594, '▁위해서': 5595, '발연기': 5596, '라는걸': 5597, '하러': 5598, '▁보이지': 5599, '▁이상은': 5600, '▁소재와': 5601, '▁관객들': 5602, '▁인상적인': 5603, '▁장난아니': 5604, '▁시대의': 5605, '▁대중': 5606, '▁위로': 5607, '작이라': 5608, '챙겨': 5609, '때까지': 5610, '갠': 5611, '뭉': 5612, '퀄': 5613, '▁dvd': 5614, '▁네티즌': 5615, '▁유치찬란': 5616, '▁할리우드': 5617, '▁해리포터': 5618, '밨': 5619, '찔': 5620, '▁임창정': 5621, '▁흑백': 5622, '▁미스캐스팅': 5623, '▁잊지못할': 5624, '▁첩보': 5625, '▁킬러': 5626, '▁오글오글': 5627, '▁엽기': 5628, '명성에': 5629, '▁어쩜': 5630, '▁좋으나': 5631, '▁거북': 5632, '▁재앙': 5633, '▁추격': 5634, '▁최고라고': 5635, '▁연인': 5636, '▁베리': 5637, '▁내용전개': 5638, '▁재밌기만': 5639, '▁대놓고': 5640, '▁믿기지': 5641, '▁당연': 5642, '▁답답함': 5643, '▁기억난다': 5644, '같아서': 5645, '▁좋더라': 5646, '▁아이고': 5647, '▁친구랑': 5648, '▁때려': 5649, '▁무리': 5650, '▁어이없음': 5651, '받을': 5652, '▁알았음': 5653, '수작': 5654, '▁컸': 5655, '짜릿': 5656, '광고': 5657, '으로써': 5658, '▁명장면': 5659, '아버지': 5660, '빼곤': 5661, '얼굴': 5662, '레이드': 5663, '상실': 5664, '폴': 5665, '▁좋아하네요': 5666, '▁잠시': 5667, '▁보던': 5668, '▁만세': 5669, '학년': 5670, '초반': 5671, '티가': 5672, '▁마음으로': 5673, '별루': 5674, '애들이': 5675, '나쁜': 5676, '언제': 5677, '▁재밋네요': 5678, '▁캐리': 5679, '▁이해를': 5680, '혼자': 5681, '▁실화를': 5682, '▁이딴게': 5683, '▁재미있네': 5684, '▁고어': 5685, '▁잠을': 5686, '이예요': 5687, '90': 5688, '▁안보면': 5689, '뿐이다': 5690, '한다고': 5691, '▁의도는': 5692, '▁꽤나': 5693, '는뎅': 5694, '▁봤다면': 5695, '놈들은': 5696, '히히': 5697, '▁옛날영화': 5698, '▁영화인것': 5699, '▁이름을': 5700, '뎀': 5701, 'Y': 5702, '^_^': 5703, '▁시간때우기': 5704, '▁어정쩡': 5705, '뻑': 5706, '컴': 5707, '▁신하균': 5708, '뜸': 5709, '▁디테일': 5710, '▁자동차': 5711, '▁명복을': 5712, '▁양아치': 5713, '▁박진감': 5714, '▁스크린': 5715, '▁하정우': 5716, '▁도무지': 5717, '▁소중한': 5718, '▁죄송': 5719, '▁에라이': 5720, '19': 5721, '▁당연히': 5722, '▁배꼽': 5723, '▁흔들': 5724, '▁내취향': 5725, '▁여자친구': 5726, '▁개콘': 5727, '▁추천하고': 5728, '▁감동적입니다': 5729, '▁충분하다': 5730, '▁동양': 5731, '▁둘이': 5732, '▁짜증남': 5733, '▁마약': 5734, '▁없게': 5735, '▁애국': 5736, '햇는데': 5737, '▁나음': 5738, '▁안나오는': 5739, '▁욕심': 5740, '에대해': 5741, '▁보며': 5742, '긴했지만': 5743, '숨': 5744, '▁아쉬움이': 5745, '▁나머지는': 5746, '궁': 5747, '뽀': 5748, '칼': 5749, '외에는': 5750, '낙': 5751, '▁않은데': 5752, '▁없군': 5753, '!!!!!!!': 5754, '▁맛있': 5755, '안나오': 5756, '될듯': 5757, '▁여인': 5758, '♡♡♡': 5759, '그저': 5760, '순수': 5761, '아빠': 5762, '▁아예': 5763, '건가요': 5764, '재밌고': 5765, '!!!!!!!!!': 5766, '▁안될': 5767, '표정': 5768, 'av': 5769, '었는지': 5770, '었구나': 5771, '▁대박이다': 5772, 'll': 5773, '던데요': 5774, '▁굿굿굿': 5775, '획': 5776, '▁허허': 5777, '칭': 5778, '▁you': 5779, '맴': 5780, '▁배트맨': 5781, '젝': 5782, '▁데이빗': 5783, '▁강동원': 5784, '▁공짜로': 5785, '▁비호감': 5786, '▁호기심': 5787, '▁이해불가': 5788, '▁목숨': 5789, '내놔': 5790, '▁극혐': 5791, '▁착각': 5792, '▁탈출': 5793, '▁할아버지': 5794, '▁높네': 5795, '▁절망': 5796, '▁귀여웠': 5797, '▁뻔해': 5798, '▁집중해서': 5799, '▁대결': 5800, '▁모르겠지만': 5801, '▁이은주': 5802, '▁도망': 5803, '▁괜찮았던': 5804, '▁길다': 5805, '지루하지않': 5806, '▁어쩔수': 5807, '▁안나온다': 5808, '▁과장': 5809, '▁모르겠네': 5810, '▁강추합니다': 5811, '▁다시보고싶은': 5812, '▁역사상': 5813, '▁또봐도': 5814, '▁적절한': 5815, '▁미학': 5816, '▁남긴': 5817, '▁좋을듯': 5818, '▁재밌당': 5819, '▁잼나요': 5820, '▁티비로': 5821, '▁ᄒᄃᄃ': 5822, '▁느꼈다': 5823, '▁명연기': 5824, '돌리': 5825, '80': 5826, '비슷': 5827, '어떻게': 5828, '뉴': 5829, '예술': 5830, '보지마': 5831, '때문': 5832, '할수있는': 5833, '러운': 5834, '▁짜증나게': 5835, '에비해': 5836, '▁보게된': 5837, '▁목적': 5838, '미화': 5839, '▁후하게': 5840, '▁이것보다': 5841, '▁당신의': 5842, '답다': 5843, '자식': 5844, '선수': 5845, '▁뒤에': 5846, '녀석': 5847, '쁜': 5848, '보셔': 5849, '^^;': 5850, '▁찍는': 5851, '▁남았': 5852, '▁-_-;;': 5853, '▁광기': 5854, '▁여배우들': 5855, '▁말고는': 5856, '▁보라고': 5857, '순위': 5858, '▁뭐라고': 5859, '쨌': 5860, '▁시종일관': 5861, '곽': 5862, '렛': 5863, '인상깊었': 5864, '튜': 5865, '훗': 5866, '▁설득력': 5867, '▁애니매이션': 5868, '▁엉망진창': 5869, '▁영웅본색': 5870, '▁왕조현': 5871, '▁박보영': 5872, '▁최민수': 5873, '▁밋밋한': 5874, '▁말았어야': 5875, '▁난해한': 5876, '▁암튼': 5877, '▁엄청나게': 5878, '겟네': 5879, '▁파괴': 5880, '▁향수': 5881, '▁아닐': 5882, '▁첫사랑': 5883, '▁짱임': 5884, '미친': 5885, '▁깨닫게': 5886, '▁살리지': 5887, '▁파격': 5888, '▁혹시나': 5889, '▁흥분': 5890, '▁하나같이': 5891, '게만드는': 5892, '▁성격': 5893, '▁재미있었는데': 5894, '▁울었어요': 5895, '▁재미없었음': 5896, '///': 5897, '▁나을듯': 5898, '▁보았던': 5899, '▁미녀': 5900, '▁go': 5901, '▁미국식': 5902, '▁연기자들': 5903, '▁해피': 5904, '빼': 5905, '있으면': 5906, '▁환상적인': 5907, '▁매일': 5908, '▁실수': 5909, '▁토니': 5910, '드립': 5911, '점주기도': 5912, '귀여워': 5913, '께요': 5914, '아름다운': 5915, '퇴': 5916, '잘봤습니다': 5917, '▁빠졌': 5918, '▁빛을': 5919, '놨네': 5920, '알아': 5921, '유쾌하게': 5922, '동생': 5923, '▁가정': 5924, '▁가수': 5925, '▁되야': 5926, '받았다': 5927, '주제': 5928, '로서는': 5929, '▁개잼': 5930, '거죠': 5931, '이후로': 5932, '▁아름다웠': 5933, '▁중국영화': 5934, '▁야하지도': 5935, '▁처음이네': 5936, '시간동안': 5937, '스탈': 5938, '▁담은': 5939, '▁맞나': 5940, 'ᄃᄃᄃᄃ': 5941, '▁찾을': 5942, '500': 5943, '호러': 5944, '답게': 5945, '동화': 5946, '▁이루어': 5947, '▁다시보니': 5948, '▁대통령': 5949, '▁데뷔작': 5950, '▁둘째치고': 5951, '▁임팩트': 5952, '▁케릭터': 5953, '눌': 5954, '뚝': 5955, '뻥': 5956, '캠': 5957, '▁오프닝': 5958, '▁즐거움': 5959, '▁차승원': 5960, '포켓몬': 5961, '▁떨어짐': 5962, '▁박평식': 5963, '▁결론은': 5964, '▁섬세한': 5965, '▁하이틴': 5966, '▁몽환적': 5967, '▁격투': 5968, '땜시': 5969, '▁더러워': 5970, '▁바랍니다': 5971, '▁앞뒤': 5972, '밖엔': 5973, '▁몇몇': 5974, '▁이것보단': 5975, '▁부활': 5976, '▁생각해보게': 5977, '▁국산': 5978, '▁말이필요없는': 5979, '▁데리고': 5980, '극히': 5981, '몰라': 5982, '임에도': 5983, '파이팅': 5984, '▁아파': 5985, '▁말아야': 5986, '▁여친': 5987, '점도아깝다': 5988, '▁저급': 5989, '했다면': 5990, '분짜리': 5991, '▁괜찮았는데': 5992, '▁재미나게': 5993, '▁채우': 5994, '▁부담': 5995, '▁드림': 5996, '▁기대했': 5997, '▁아내': 5998, '▁보았는데': 5999, '▁독특하고': 6000, '▁살아가는': 6001, '▁찾는': 6002, '▁그리워': 6003, '볼수': 6004, '▁기대없이': 6005, '▁인디': 6006, '▁듣고': 6007, '지루한': 6008, '봐야겠다': 6009, '▁배신': 6010, '▁지루하네': 6011, '겼다': 6012, '▁세번': 6013, '▁이거보단': 6014, '▁충분한': 6015, '▁이딴거': 6016, '왠': 6017, '도대체': 6018, '느끼': 6019, '▁싫어하는': 6020, '▁뻔하다': 6021, '▁무협영화': 6022, '▁이런것도': 6023, '▁멋있고': 6024, '시리즈중': 6025, '오늘': 6026, '싶다': 6027, '▁한방': 6028, '겨울': 6029, '▁숨은': 6030, '보긴': 6031, '▁존스': 6032, '모든': 6033, '그러나': 6034, '▁보여주고': 6035, '밖': 6036, '▁십점': 6037, '▁말인가': 6038, '▁감정을': 6039, '법한': 6040, '어설프': 6041, '립니다': 6042, '▁EBS': 6043, '됫': 6044, '띠': 6045, '윽': 6046, '▁됩니다': 6047, '왈': 6048, '캡': 6049, '▁키아누': 6050, '짙': 6051, '▁나루토': 6052, '▁김희선': 6053, '▁평점조절': 6054, '▁리얼리티': 6055, '▁다세포소녀': 6056, '▁of': 6057, '▁록키': 6058, '▁전성기': 6059, '▁예측': 6060, '▁맞춰': 6061, '▁꿈꾸': 6062, '▁람보': 6063, '주셔서': 6064, '▁빛나는': 6065, '▁역쉬': 6066, '▁배경음악': 6067, '▁즐길': 6068, '▁고딩': 6069, '▁훈훈하': 6070, '-.-': 6071, '걸작': 6072, '▁갈등': 6073, '엇음': 6074, '▁마시': 6075, '▁살인마': 6076, '▁무겁': 6077, '▁마법': 6078, '▁보는동안': 6079, '▁뻔한스토리': 6080, '▁무료': 6081, '부분은': 6082, '▁2000': 6083, '랜드': 6084, '▁거지같은': 6085, '▁언제까지': 6086, '▁많아서': 6087, '▁기대된다': 6088, '삼류': 6089, '▁잼없음': 6090, '▁모방': 6091, '▁철학적': 6092, '▁시작해서': 6093, '▁천사': 6094, '▁to': 6095, '▁사라지': 6096, '▁재밋는데': 6097, '▁벗어': 6098, '▁생명': 6099, '▁밤에': 6100, '돈아깝': 6101, '당신': 6102, '아아아': 6103, '알겠': 6104, '▁잔인함': 6105, '▁머냐': 6106, '되는영화': 6107, '곳이': 6108, '거에요': 6109, '▁세월이': 6110, '▁믿어': 6111, '▁불가능': 6112, '▁모르겠고': 6113, '멀': 6114, '▁알리': 6115, '▁내시간': 6116, '▁도시': 6117, '▁산만하': 6118, '▁보여줘': 6119, '멋진': 6120, '제대로': 6121, '재미잇': 6122, '창피': 6123, '▁의미없': 6124, '▁볼것': 6125, '거같아': 6126, '▁흉내': 6127, '좋겠다': 6128, '점만점': 6129, '감명깊': 6130, '숀': 6131, '▁소피마르소': 6132, '↓': 6133, '▁movie': 6134, '▁빕니다': 6135, '▁풋풋한': 6136, '긔': 6137, '뚫': 6138, '띄': 6139, '몫': 6140, '짤': 6141, '퀸': 6142, '▁어설퍼': 6143, '▁화끈한': 6144, '점준것중': 6145, '▁민폐': 6146, '▁싸우는': 6147, '▁장애인': 6148, '▁묘한': 6149, '▁꺼져': 6150, '▁낫겠다': 6151, '▁따름': 6152, '▁천국': 6153, '습니까': 6154, '▁볼만해요': 6155, '▁담긴': 6156, '▁사람이라면': 6157, '▁다운받아서': 6158, '▁해결': 6159, '▁최후': 6160, '▁있었으면': 6161, '▁마블': 6162, '셨어요': 6163, '▁불쌍해서': 6164, '해주고': 6165, '▁시청자': 6166, '▁에로물': 6167, '▁않았지만': 6168, '▁공유': 6169, '▁못하네': 6170, '였구나': 6171, '▁않았던': 6172, '▁않아요': 6173, '▁않아서': 6174, '▁안봐서': 6175, '▁짜증나서': 6176, '▁호구': 6177, '▁상어': 6178, '▁명작이네요': 6179, '▁기대했던': 6180, '▁가히': 6181, '▁무섭게': 6182, '하나하나가': 6183, '▁심한': 6184, '▁많은데': 6185, '시시': 6186, '지말라': 6187, '▁동감': 6188, '낭비': 6189, '범죄': 6190, 'TV': 6191, '왜이래': 6192, '예쁘': 6193, '▁읽는': 6194, '▁훌륭하': 6195, 'am': 6196, '웃긴': 6197, '상황': 6198, '▁소장하고': 6199, '▁마지막까지': 6200, '졌음': 6201, '▁남성': 6202, '▁스릴러물': 6203, '망작': 6204, '▁조정': 6205, '▁엉망이': 6206, '▁않으': 6207, '▁어쩌다': 6208, '못함': 6209, '▁낚인': 6210, '▁액션물': 6211, '▁쩌네': 6212, '끝내': 6213, '--;': 6214, '▁웃기네': 6215, '픽': 6216, '▁망쳐': 6217, '쩡': 6218, '▁뒤죽박죽': 6219, '▁언젠가': 6220, '▁엑스맨': 6221, '☆': 6222, '뢰': 6223, '썬': 6224, '▁한석규': 6225, '▁전반적으로': 6226, '핳': 6227, '▁여러모로': 6228, '▁두고두고': 6229, '▁놀랐다': 6230, '▁피아노': 6231, '▁베드신': 6232, '▁무거운': 6233, '▁이끌어': 6234, '▁섬뜩': 6235, '옵니다': 6236, '▁라이언': 6237, '▁위험': 6238, '▁밑도': 6239, '▁100%': 6240, '▁판단': 6241, '▁부탁': 6242, '▁노튼': 6243, '헤헤': 6244, '▁마지막엔': 6245, '▁보시면': 6246, '▁개똥': 6247, '▁무슨말이': 6248, '질질끌': 6249, '▁흉내내': 6250, '▁첨부터': 6251, '닼ᄏᄏ': 6252, '▁수많은': 6253, '▁식상하다': 6254, '비추': 6255, '▁만났': 6256, '▁슬프네요': 6257, '돌려': 6258, '▁완벽하다': 6259, '▁정석': 6260, '▁평화': 6261, '좀비': 6262, '▁안나옴': 6263, '▁확인': 6264, '▁선동영화': 6265, '특집': 6266, '▁아이유': 6267, '▁아깝네요': 6268, '▁잃었': 6269, '▁훈훈하고': 6270, '톤': 6271, '▁특이하': 6272, '▁필요하다': 6273, '▁신화': 6274, '줘요': 6275, '▁재밌게봤는데': 6276, '▁여신': 6277, '재미가없': 6278, '아이들': 6279, '하시길': 6280, '▁대부분': 6281, '▁절로': 6282, '캐스팅': 6283, '평론가': 6284, '▁정상': 6285, '보지마세요': 6286, 'ho': 6287, 'very': 6288, '미국': 6289, '▁음식': 6290, '▁기억남': 6291, '하지말고': 6292, '잼나': 6293, '▁정체': 6294, '▁한숨': 6295, '▁짜증났': 6296, '아아아아': 6297, '못할': 6298, '중국': 6299, '떤': 6300, '콤': 6301, '낄': 6302, '렀': 6303, '▁디카프리오': 6304, '▁오그라드는': 6305, '줫': 6306, '템': 6307, '▁손예진': 6308, '▁쓸데없이': 6309, '랏': 6310, '잣': 6311, '▁차태현': 6312, '▁설경구': 6313, '▁뛰어넘는': 6314, '▁드래곤볼': 6315, '▁한쿡영화': 6316, '▁원숭이': 6317, '▁징그러': 6318, '▁왕가위': 6319, '▁와닿는': 6320, '▁삭제': 6321, '▁안성기': 6322, '▁Th': 6323, '창있네': 6324, '▁러브스토리': 6325, '▁알려주는': 6326, '▁잔잔하지만': 6327, '▁공룡': 6328, '▁서극': 6329, '▁환경': 6330, '▁피곤': 6331, '▁씨발': 6332, '▁잘못된': 6333, '▁예능': 6334, '▁존잼': 6335, '▁진지하게': 6336, '▁첨엔': 6337, '▁의미있는': 6338, '▁계기': 6339, '▁처음에는': 6340, '▁궁금해서': 6341, '▁게다가': 6342, '▁슬프지만': 6343, '▁찾아볼': 6344, '▁파워': 6345, '▁부산': 6346, '▁반개': 6347, '▁no': 6348, '하는건지': 6349, '▁한시간': 6350, '였네요': 6351, '▁역겹다': 6352, '보일': 6353, '▁멋지게': 6354, '▁진부하다': 6355, '것보다': 6356, '▁허접하다': 6357, '▁지루하기만': 6358, '▁떨어지고': 6359, '흥미를': 6360, '▁그렇지만': 6361, '구역': 6362, '▁끝나서': 6363, '▁진부함': 6364, '▁상대': 6365, '▁우울한': 6366, '▁때리': 6367, '▁잔잔함': 6368, '▁걸리': 6369, '제작': 6370, '▁대부': 6371, '있지만': 6372, '▁생기': 6373, '▁말하려는': 6374, '▁환상적': 6375, '-_': 6376, '▁진지한': 6377, '▁나오네요': 6378, '솔직히': 6379, '힘든': 6380, '맞아': 6381, ':)': 6382, 'ri': 6383, '▁OOOO': 6384, '였다면': 6385, '▁멋있어': 6386, 'ne': 6387, '▁부족함': 6388, '▁힘들어': 6389, '▁미스터': 6390, '뗄': 6391, '▁신선하': 6392, '랍': 6393, '▁제시카': 6394, '쿡': 6395, '덴': 6396, '렐': 6397, 'zzz': 6398, '▁송강호': 6399, '▁송승헌': 6400, '▁오랫동안': 6401, '셋': 6402, '썻': 6403, '웩': 6404, '킴': 6405, '팽': 6406, '늬': 6407, '스파이더맨': 6408, '▁가까운': 6409, '▁김태희': 6410, '▁흑역사': 6411, '습니당': 6412, '▁원피스': 6413, '▁비행기': 6414, '▁한효주': 6415, '▁사투리': 6416, '▁혐오': 6417, '▁후속편': 6418, '▁아련한': 6419, '▁is': 6420, '▁쏘우': 6421, '▁크리스찬': 6422, '▁농담': 6423, '싶어서': 6424, '▁찬양': 6425, '▁통쾌한': 6426, 'vs': 6427, '▁보아도': 6428, '▁동영상': 6429, '▁정확': 6430, '▁잃은': 6431, '▁닮았': 6432, '겠죠': 6433, '▁마틴': 6434, '▁재탕': 6435, '▁등장인물들': 6436, '형제': 6437, '▁만들어낸': 6438, '재밌네요': 6439, '▁환장': 6440, '▁승리': 6441, '▁모독': 6442, '▁싶었던': 6443, '▁지옥': 6444, '합시다': 6445, '겨운': 6446, '▁주온': 6447, '▁어거지': 6448, '▁보고싶네요': 6449, '▁지금보면': 6450, '▁괜찮던데': 6451, '▁오직': 6452, '▁봤었다': 6453, '▁인류': 6454, '▁모르겠네요': 6455, '▁일본판': 6456, '▁확실하': 6457, '▁안가는': 6458, '▁아까워서': 6459, '꼭보시길': 6460, '오르는': 6461, '▁대사들': 6462, '▁후회함': 6463, '▁뭐하나': 6464, '▁신선하다': 6465, '이었어요': 6466, 'ma': 6467, '▁의상': 6468, '밋밋': 6469, '보냐': 6470, '무서운': 6471, 'ᄉᄇ': 6472, '▁돋보이': 6473, '엇어요': 6474, '주려고': 6475, '▁잼있어': 6476, '▁여자애': 6477, '안된다': 6478, '▁이도저도': 6479, '밌': 6480, '첩': 6481, '납': 6482, '▁가야': 6483, '흉': 6484, '쵝': 6485, '▁뒤늦게': 6486, '곱': 6487, '꽉': 6488, '및': 6489, '좆': 6490, 'ᅦ': 6491, '▁best': 6492, '▁기대됩니다': 6493, '▁슬펐다': 6494, '▁아기자기': 6495, '▁인터넷': 6496, '▁재발견': 6497, '▁테이큰': 6498, '밉': 6499, '뿜': 6500, '썸': 6501, '▁구혜선': 6502, '▁아마추어': 6503, '▁팝콘': 6504, '▁클래식': 6505, '▁소지섭': 6506, '배속으로': 6507, '▁김수현': 6508, '▁멈추': 6509, '▁아까웠던': 6510, '▁아쉬워요': 6511, '돈주고': 6512, 'bbbb': 6513, '▁간첩': 6514, '귀요미': 6515, '▁그럴싸': 6516, '나머진': 6517, '▁좋았을텐데': 6518, '▁지나친': 6519, '▁기획': 6520, '▁호흡': 6521, '써요': 6522, '▁대표작': 6523, '▁복수극': 6524, '▁고독': 6525, '겠는데': 6526, '▁요새': 6527, '▁원표': 6528, '드릴': 6529, '자마자': 6530, '▁소통': 6531, '▁볼만했음': 6532, '▁감명': 6533, '▁향기': 6534, '▁귀여': 6535, '▁스토리전개': 6536, '잼잇': 6537, '▁울림': 6538, '▁미스터리': 6539, '▁사랑스럽고': 6540, '▁존내': 6541, '▁레오': 6542, '▁매력적이다': 6543, '▁생각했는데': 6544, '▁좋아해요': 6545, '▁볼만하네요': 6546, '▁못하겠다': 6547, '▁어린이용': 6548, '영활': 6549, '▁소유': 6550, '▁아름다웠다': 6551, '▁공간': 6552, '▁비극적': 6553, 'us': 6554, '▁준비': 6555, '충격': 6556, '123': 6557, '▁있었음': 6558, '▁실패한': 6559, '등등': 6560, '▁달려': 6561, '봣음': 6562, '▁베일': 6563, '▁먹어': 6564, '지못한': 6565, '▁떠오르는': 6566, '죽을뻔': 6567, '같애': 6568, '핵': 6569, '애니메이션': 6570, '슬퍼': 6571, '이쁘다': 6572, '그럼': 6573, '겠는가': 6574, '45': 6575, '넘치는': 6576, '영웅': 6577, '졌던': 6578, '아쉬워': 6579, '▁새벽': 6580, '각본': 6581, '▁다시보기': 6582, '닼': 6583, '겠군': 6584, '룬': 6585, '▁흘리': 6586, '귀신': 6587, '혐': 6588, '▁다세포': 6589, '룰': 6590, '▁새록새록': 6591, '▁신데렐라': 6592, '▁에드워드': 6593, '램': 6594, '쏴': 6595, '툭': 6596, '헷': 6597, '혔': 6598, '홈': 6599, '▁양동근': 6600, '쇄': 6601, '턱': 6602, '▁김민종': 6603, '▁다이하드': 6604, '▁스페인': 6605, '▁빈약한': 6606, '▁큐브': 6607, '▁묵직': 6608, '▁아바타': 6609, '▁성유리': 6610, '▁일주일': 6611, '▁전지현': 6612, '▁총체적': 6613, '▁그들만의': 6614, '▁상관없': 6615, '▁그려낸': 6616, '▁강아지': 6617, '▁늙은': 6618, '▁극단적': 6619, '▁픽사': 6620, '▁개그맨': 6621, '▁서양': 6622, '점드림': 6623, '▁대략': 6624, '▁전체적인': 6625, '▁실패작': 6626, '▁같았다': 6627, '▁시간아까움': 6628, '것같은데': 6629, '▁남자라면': 6630, '▁또라이': 6631, '▁실망스러운': 6632, '가는줄': 6633, '▁내스타일': 6634, '▁아깝습니다': 6635, '▁주변': 6636, '▁동화같은': 6637, '▁돈아깝다': 6638, '봣던': 6639, '▁보여줄': 6640, '▁히트': 6641, '뎅': 6642, '▁늙었': 6643, '▁실화라는': 6644, '▁한숨만': 6645, '▁현실감': 6646, '▁알바생': 6647, '▁없구나': 6648, '입니까': 6649, '▁시작부터': 6650, '▁전라도': 6651, '▁피식': 6652, '▁놀란': 6653, '느냐': 6654, '▁나올까': 6655, '자꾸': 6656, '구멍': 6657, 'oo': 6658, '국민': 6659, '▁기준': 6660, '▁웃겨서': 6661, '낚였': 6662, '▁실사': 6663, '부른': 6664, '▁좋았어': 6665, '▁밀라': 6666, '높아': 6667, '싶은데': 6668, '▁가능성': 6669, '평점이낮': 6670, '▁마음속': 6671, '▁세월': 6672, '▁브레': 6673, '▁두시간': 6674, '취향': 6675, '40': 6676, '맹': 6677, '덕분에': 6678, '쫌': 6679, '얼마나': 6680, '▁스릴감': 6681, '그자체': 6682, '선택': 6683, '평생': 6684, '앞에서': 6685, '▁정신병': 6686, '좋았음': 6687, '▁선동': 6688, '솜': 6689, '덮': 6690, '숲': 6691, '썰': 6692, '켓': 6693, '펠': 6694, '▁과대평가': 6695, '▁군더더기': 6696, '▁박찬욱': 6697, '▁팀버튼': 6698, '겪': 6699, '꺄': 6700, '▁불면증': 6701, '▁2015': 6702, '▁윌리스': 6703, '▁찬사를': 6704, '▁상당한': 6705, '▁의외의': 6706, '▁흥미로웠': 6707, '▁엠마': 6708, '▁봐줄만': 6709, '잘생김': 6710, '▁무간도': 6711, '▁예뻐서': 6712, '스러웠다': 6713, '▁증말': 6714, '드려요': 6715, '▁별한개도': 6716, '▁2012': 6717, '▁첫번째': 6718, '▁모자라': 6719, '▁돌려줘': 6720, 'ᄂᄂ': 6721, '보신분들': 6722, 'un': 6723, '▁내인생최고의': 6724, '▁실화라니': 6725, '시켰': 6726, '▁억지스런': 6727, '▁이나영': 6728, '▁반지의': 6729, '▁과학': 6730, '▁극복': 6731, '렸던': 6732, '▁시험': 6733, '태어나': 6734, '▁영광': 6735, 'ᄋᄋᄋᄋ': 6736, '재밌는데': 6737, '억울': 6738, '▁백배': 6739, '▁가짜': 6740, '▁탄탄하고': 6741, '▁유치하지만': 6742, '▁유행': 6743, '▁시체': 6744, '▁만든건지': 6745, '▁사람들에게': 6746, '▁강간': 6747, '할수없는': 6748, '▁군인': 6749, '▁가슴아프': 6750, 'ᄋᄋᄋ': 6751, '▁따뜻함': 6752, '맥스': 6753, '▁어쩔수없': 6754, '▁다음편': 6755, '▁받아야': 6756, '▁놓치': 6757, '현실적': 6758, 'ᄍᄍᄍ': 6759, '♡♡': 6760, '하겠습니다': 6761, '▁불쌍하': 6762, '▁만난': 6763, '나오는거': 6764, '썩': 6765, '오랜만에': 6766, '시간낭비': 6767, '▁잼났': 6768, '실패': 6769, '성룡': 6770, '결국': 6771, '좋아하는데': 6772, '재밌었다': 6773, '▁훌륭했': 6774, '여주인공': 6775, '랍니다': 6776, '킥': 6777, 'ᅭ': 6778, '▁숨막히': 6779, '▁스필버그': 6780, '▁일깨워주는': 6781, '쉴': 6782, '·': 6783, '人': 6784, '뎁': 6785, '삘': 6786, '얀': 6787, '엌': 6788, '욬': 6789, '헨': 6790, '▁양조위': 6791, '▁바탕으로': 6792, '▁움직이': 6793, '▁권상우': 6794, '▁오우삼': 6795, '▁어두운': 6796, '-0-': 6797, '▁관람불가': 6798, '▁깜놀': 6799, '▁오유에서': 6800, '▁지겨워': 6801, '▁심오한': 6802, '▁더럽다': 6803, '▁훈남': 6804, '▁에로틱': 6805, '▁도둑': 6806, '▁고뇌': 6807, '빅뱅': 6808, '▁경쾌': 6809, '▁직업': 6810, '▁듣기': 6811, '▁패션': 6812, '▁지겨운': 6813, '▁관련': 6814, '▁고인의': 6815, '▁아쉬울': 6816, '▁미안하지만': 6817, '▁욕먹': 6818, '▁시간아까워': 6819, '페이스': 6820, '▁기념': 6821, '▁지루했어요': 6822, '▁얘들': 6823, '▁심각하게': 6824, '▁어쩌면': 6825, '▁적당하다': 6826, '▁나오다니': 6827, '▁마초': 6828, '▁슬퍼요': 6829, '▁신나는': 6830, '▁기존': 6831, '▁무리수': 6832, '▁미국판': 6833, '▁감동도없고': 6834, '▁한동안': 6835, '▁허무하다': 6836, '▁제대로된': 6837, '▁가족애': 6838, '▁네이버평점': 6839, '▁재밌게봤음': 6840, 'ter': 6841, '했어야': 6842, '▁있었는데': 6843, '▁벗어나': 6844, '큼': 6845, '보고나서': 6846, '▁높은거': 6847, '깐': 6848, '자신을': 6849, '▁어색함': 6850, '▁재미있었던': 6851, '건강': 6852, '▁봐야한다': 6853, '기억에남': 6854, '봣습니다': 6855, '심각': 6856, '▁so': 6857, '▁손발': 6858, '보시길': 6859, '▁찍으': 6860, '않았다': 6861, '어디서': 6862, '왜이리': 6863, '졌으면': 6864, '쩔어': 6865, '점드립니다': 6866, '아닌데': 6867, '벅': 6868, '겻': 6869, '팩': 6870, '훌': 6871, '#': 6872, '▁고맙습니다': 6873, '▁인상깊게': 6874, '▁펭귄': 6875, '궈': 6876, '셧': 6877, '쌈': 6878, '졋': 6879, '횽': 6880, '▁세련된': 6881, '▁용두사미': 6882, '렘': 6883, '룸': 6884, '믄': 6885, '쉣': 6886, '잎': 6887, 'q': 6888, '▁프레디': 6889, '▁깨달음': 6890, '▁홍금보': 6891, '▁되돌아': 6892, '아쉬웠지만': 6893, '▁임청하': 6894, '▁지났지만': 6895, '▁페이크': 6896, '▁다니엘': 6897, '▁리즈시절': 6898, 'ᅮᅮᅮᅮᅮᅮᅮ': 6899, '▁예뻐요': 6900, '▁퀴어': 6901, '▁특이한': 6902, '▁왠만한': 6903, '@@': 6904, '▁미치도록': 6905, '▁색채': 6906, '▁찢어': 6907, '▁언제쯤': 6908, '▁존경합니다': 6909, '▁알려준': 6910, '▁따분하': 6911, '▁케이지': 6912, '▁어떠': 6913, '▁담겨': 6914, '▁흘러가는': 6915, '▁감안하': 6916, '▁넘어선': 6917, '▁ᄅᄋ': 6918, '콩콩': 6919, '▁지루했음': 6920, '▁유령': 6921, '▁자극적인': 6922, '▁대실망': 6923, '▁안녕': 6924, '▁웃다가': 6925, '흐흐': 6926, '▁리즈': 6927, '▁뻔하지만': 6928, '말도안되': 6929, '▁아이들에게': 6930, '▁모르지만': 6931, '▁어디까지': 6932, '▁학생들': 6933, '▁일베': 6934, '▁멋있어요': 6935, '▁로마': 6936, '▁조악': 6937, '▁사나이': 6938, '▁망쳐놓': 6939, '▁먹먹하다': 6940, '▁제목부터': 6941, '▁별로였음': 6942, 'sh': 6943, '▁보고나니': 6944, '▁짧아': 6945, '▁독립': 6946, '눈물흘': 6947, '왔던': 6948, '보기엔': 6949, '재밋게봣': 6950, '하려면': 6951, '▁짝이': 6952, '▁엉성함': 6953, 'ᅳᅮ': 6954, '▁재미있던데': 6955, '▁통쾌하': 6956, '▁걸렸': 6957, '자연스럽게': 6958, '▁역겹': 6959, '▁울린': 6960, '마무리': 6961, '캬': 6962, '킬링타임용': 6963, '그래픽': 6964, '판타지': 6965, '로맨스': 6966, '이쁘고': 6967, 'tv': 6968, '많은것을': 6969, '젼': 6970, '바람': 6971, '황당': 6972, '밋': 6973, '둑': 6974, '뷔': 6975, '뜯': 6976, '젬': 6977, '▁엉터리': 6978, '▁트랜스포머': 6979, '▁파라노말': 6980, '찜': 6981, '훔': 6982, '▁잃어버린': 6983, '▁장근석': 6984, '▁흐지부지': 6985, '웰': 6986, '켈': 6987, 'ᆞ': 6988, '▁송지효': 6989, '▁김혜수': 6990, '▁레이첼': 6991, '▁엉엉': 6992, '▁구역질': 6993, '▁지브리': 6994, '▁이순신': 6995, '▁모자란': 6996, '^.^': 6997, '▁슈렉': 6998, '▁어설프게': 6999, '최민식': 7000, '▁블루': 7001, '▁뉴욕': 7002, '▁풀어낸': 7003, '▁슈퍼맨': 7004, '▁죽기전에': 7005, '▁역량': 7006, '▁산드라': 7007, '▁때우기': 7008, '▁돈낭비': 7009, '▁위하여': 7010, '▁느껴졌다': 7011, '하우스': 7012, '▁욕나온다': 7013, '▁몰락': 7014, '밴드': 7015, '▁일부러': 7016, 'ᄉᄉ': 7017, '되길': 7018, '피어스': 7019, '▁추락': 7020, '▁마냥': 7021, '▁어쩌라는': 7022, '▁얻어': 7023, '▁이게뭐야': 7024, '▁커피': 7025, '▁2003': 7026, '▁졸면서': 7027, '영화제에서': 7028, '▁웃기긴': 7029, '학년때': 7030, '▁보게되는': 7031, '클럽': 7032, '▁조용하': 7033, '나보네': 7034, '할정도로': 7035, 'dd': 7036, '뻐': 7037, '만들엇': 7038, '50': 7039, '보지말고': 7040, '중간에': 7041, '▁혹시': 7042, '농': 7043, '느와르': 7044, '것일까': 7045, '영환줄': 7046, '야말로': 7047, '▁밑에분': 7048, '폭력': 7049, '▁빠른': 7050, '낌': 7051, '해지네요': 7052, '봇': 7053, '쯧': 7054, '▁두근두근': 7055, '▁드림웍스': 7056, '▁호불호가': 7057, '됴': 7058, '셉': 7059, '힛': 7060, '▁도라에몽': 7061, '▁쓸데없는': 7062, '넼': 7063, '댐': 7064, '펄': 7065, '▁서세원': 7066, '▁황정민': 7067, '▁힘내세요': 7068, '▁으리으리': 7069, '▁감성팔이': 7070, '▁흠잡을': 7071, '▁와닿지': 7072, '▁엽문': 7073, '▁불후의': 7074, '▁유오성': 7075, '▁서부영화': 7076, '이것저것': 7077, '▁닥터': 7078, '▁사기꾼': 7079, '▁7.5': 7080, '▁오글거리는': 7081, '▁베리굿': 7082, '▁복잡하': 7083, '▁상쾌': 7084, '▁새삼': 7085, '▁시시한': 7086, '▁장혁': 7087, '▁휴먼': 7088, '▁재방송': 7089, '▁놀라울': 7090, '▁허탈': 7091, '▁뭐랄까': 7092, '▁신나게': 7093, '▁웃어야': 7094, '▁토끼': 7095, '▁대책': 7096, '▁늙어': 7097, '▁물씬': 7098, '▁고증': 7099, '▁법정': 7100, '▁반갑': 7101, '▁소품': 7102, '▁8.5': 7103, '▁나은듯': 7104, '▁처음본다': 7105, '▁인간적으로': 7106, '▁없었으면': 7107, '▁사라져': 7108, '되었습니다': 7109, '선생님': 7110, '멋대로': 7111, '확실': 7112, '올린': 7113, '같으니': 7114, '잘하시': 7115, '▁바라보는': 7116, '▁없을까': 7117, '▁없으니': 7118, '▁진정성': 7119, '▁소름끼치': 7120, '니즘': 7121, '▁알게된': 7122, '팬인데': 7123, '▁주고싶은': 7124, '▁재수없': 7125, '취급': 7126, '팬이라': 7127, '▁광팬': 7128, 'ill': 7129, '▁들어간': 7130, '픔': 7131, '▁등장인물': 7132, '톰': 7133, '프로그램': 7134, '낳': 7135, '특유의': 7136, '꽤': 7137, '따뜻한': 7138, 'CG': 7139, '우리나라': 7140, '쏠': 7141, 'ᄑ': 7142, '▁엉덩이': 7143, '▁엔딩크레딧': 7144, '▁원맨쇼': 7145, '▁유치뽕짝': 7146, '▁인종차별': 7147, '▁징그럽': 7148, '▁초등학교때': 7149, '▁클리셰': 7150, '▁파워레인저': 7151, '꽁': 7152, '닦': 7153, '듦': 7154, '옮': 7155, '텅': 7156, '팝': 7157, '펜': 7158, '헝': 7159, 'Z': 7160, '▁끝판왕': 7161, '▁이탈리아': 7162, '▁졸업작품': 7163, '▁후덜덜': 7164, '걷': 7165, '겄': 7166, '릅': 7167, '얌': 7168, '췄': 7169, '펀': 7170, '▁로렌스': 7171, '엮': 7172, '▁어차피': 7173, '▁여태까지': 7174, '▁웬만하면': 7175, '▁처절한': 7176, '▁최진실': 7177, '떄문에': 7178, '▁별볼일': 7179, '▁스티브': 7180, '위원회': 7181, '▁캐릭': 7182, '▁무서울': 7183, '▁콤비': 7184, '▁옹박': 7185, '▁일베충': 7186, '▁섞어': 7187, '▁귀찮': 7188, '▁잔잔하니': 7189, '▁외로움': 7190, '▁꺼버렸다': 7191, '▁똥폼': 7192, '▁승부': 7193, '▁눈요기': 7194, '▁빠져드는': 7195, '▁필요할까': 7196, '▁잔인하기만': 7197, '▁심심할때': 7198, '▁냄새가': 7199, '▁적나라': 7200, '십니다': 7201, '▁잼있었음': 7202, '▁어쩌라고': 7203, '▁권력': 7204, '▁장나라': 7205, '▁총알': 7206, '▁표본': 7207, '더라고요': 7208, '▁사랑스런': 7209, '덕후': 7210, '제작비': 7211, 'gt': 7212, '영환데': 7213, '▁울었습니다': 7214, '▁슴가': 7215, '▁훌륭함': 7216, '죽는줄': 7217, '▁No': 7218, '삶은': 7219, '완벽하게': 7220, '▁유치하기': 7221, '▁개봉당시': 7222, '▁농구': 7223, '▁데려다': 7224, '▁실망시키지': 7225, '▁정체성': 7226, '투성이': 7227, '▁낚였네': 7228, '않았음': 7229, '▁진부하': 7230, '▁빼놓': 7231, '실화라': 7232, '낮아서': 7233, '▁만들지마': 7234, '~~~~~~~~~~~': 7235, '▁비교하면': 7236, '할말없': 7237, '▁시간아깝': 7238, '▁전형적': 7239, '쎄': 7240, '촬': 7241, '▁오그라든다': 7242, '드래곤': 7243, '▁ocn': 7244, '▁맥라이언': 7245, '▁안타까움': 7246, '▁어설픔': 7247, '▁웨슬리': 7248, '▁학창시절': 7249, '멕': 7250, '옳': 7251, '▁KBS': 7252, '▁곱씹': 7253, '▁멜깁슨': 7254, '▁아프리카': 7255, '꿨': 7256, '듀': 7257, '빤': 7258, '뼈': 7259, '쏙': 7260, '흰': 7261, '+_+': 7262, '▁국어책': 7263, '▁맙시다': 7264, '▁스타일리쉬': 7265, '▁썰렁': 7266, '▁주상욱': 7267, '▁가슴아픈': 7268, '▁엄정화': 7269, '▁납득': 7270, '★★★': 7271, '▁장동건': 7272, '▁탕웨이': 7273, '▁복잡한': 7274, '▁침묵': 7275, '▁조용히': 7276, '▁타이틀': 7277, '▁중학교때': 7278, '꼬맹이': 7279, '▁따분한': 7280, '생겨서': 7281, '▁보낸다': 7282, '▁이정재': 7283, '▁어려웠': 7284, '▁압박': 7285, '허니잼': 7286, '▁거부감': 7287, '▁색다르': 7288, '▁히어로물': 7289, '▁이범수': 7290, '기대안했는데': 7291, '▁말이필요없음': 7292, '▁내생의': 7293, '▁죽인다': 7294, '▁0.5': 7295, '▁밝혀': 7296, '▁촌스러운': 7297, '▁모르겟다': 7298, '▁황홀': 7299, '▁강렬하': 7300, '▁악몽': 7301, '▁과장된': 7302, '샘': 7303, '꽝': 7304, '▁구리다': 7305, '▁끼워': 7306, '▁스릴있고': 7307, '더럽게': 7308, 'good': 7309, '넌': 7310, '완벽': 7311, '점대라니': 7312, '교육': 7313, '▁성찰': 7314, '▁태양': 7315, '▁좋아할만한': 7316, '▁철저': 7317, '▁행복해지는': 7318, 'ay': 7319, '>_': 7320, '별한개': 7321, '▁차별': 7322, '▁2004': 7323, '▁원빈': 7324, '▁기분좋은': 7325, '경찰': 7326, '볼수없': 7327, '▁있어보이': 7328, '추억돋': 7329, '▁볼거없': 7330, '▁어린이들': 7331, '▁볼만하던데': 7332, '시끄러': 7333, '여운이남는': 7334, '오로지': 7335, '본것중': 7336, '왜그러': 7337, '죽이기': 7338, '▁알게되': 7339, '▁머리속': 7340, '졸립': 7341, '사람마다': 7342, '▁말하려': 7343, '▁심심하': 7344, '▁자연스럽': 7345, '뿔': 7346, '냄': 7347, '甲': 7348, '톨': 7349, '▁내러티브': 7350, '▁런닝타임': 7351, '▁로버츠': 7352, '▁묻어나는': 7353, '▁샤론스톤': 7354, '▁채플린': 7355, '▁판타스틱': 7356, '▁황비홍': 7357, '엣': 7358, '흙': 7359, '▁강력추천': 7360, '▁마찬가지': 7361, '▁헛웃음만': 7362, '빚': 7363, 'ᄋᄉᄋ': 7364, '▁어둡고': 7365, '▁찜찜': 7366, '▁컨셉': 7367, '▁정주행': 7368, '▁능가하는': 7369, '▁베트남': 7370, '▁괜춘': 7371, '▁강지환': 7372, '▁손색이': 7373, '▁ᄇᄉ': 7374, '▁흐뭇': 7375, '▁미친듯이': 7376, '▁위대함': 7377, '▁증명': 7378, '▁심지어': 7379, '▁어려워': 7380, '▁온몸': 7381, '▁조용한': 7382, '탐': 7383, '첫': 7384, '즌': 7385, '뱅': 7386, '꿔': 7387, '챙': 7388, '뉘': 7389, '샹': 7390, '。': 7391, '끓': 7392, '륙': 7393, '밟': 7394, '밸': 7395, '욜': 7396, '욧': 7397, '덧': 7398, '뻘': 7399, '쿄': 7400, '쪄': 7401, '믹': 7402, '뜩': 7403, '퉁': 7404, '껍': 7405, '댕': 7406, '乃': 7407, '뎌': 7408, '륭': 7409, '륵': 7410, '썅': 7411, '쑤': 7412, '곰': 7413, '죤': 7414, '끗': 7415, 'ᅣ': 7416, '깡': 7417, '뇨': 7418, '탠': 7419, '햄': 7420, '됌': 7421, '띵': 7422, '묶': 7423, '샷': 7424, '쇠': 7425, '쨩': 7426, '핡': 7427, '떳': 7428, '벙': 7429, '쉰': 7430, '캅': 7431, '톡': 7432, '댓': 7433, '긍': 7434, '녁': 7435, '뷁': 7436, '쌤': 7437, '칩': 7438, '툰': 7439, '無': 7440, '갇': 7441, '넷': 7442, '쌓': 7443, '쑈': 7444, '쪙': 7445, '럿': 7446, '킵': 7447, '률': 7448, '훼': 7449, '쵸': 7450, '괘': 7451, '꺅': 7452, '꾀': 7453, '둬': 7454, '뒀': 7455, '샌': 7456, '셜': 7457, '쌀': 7458, '엥': 7459, '쟝': 7460, '힝': 7461, '릉': 7462, '앳': 7463, '빅': 7464, '뭥': 7465, '둡': 7466, '겜': 7467, '윙': 7468, '펴': 7469, '겸': 7470, '댈': 7471, '숫': 7472, '쌔': 7473, '쌩': 7474, '췌': 7475, '횡': 7476, '갤': 7477, '젓': 7478, '귓': 7479, '칫': 7480, 'ᅧ': 7481, '밴': 7482, '줍': 7483, '맙': 7484, '닙': 7485, 'Q': 7486, '\\\\': 7487, '솟': 7488, '♬': 7489, '굵': 7490, '깽': 7491, '넋': 7492, '딕': 7493, '룹': 7494, '뺏': 7495, '웁': 7496, '윗': 7497, '짖': 7498, '짚': 7499, '탔': 7500, '팡': 7501, '핏': 7502, '웬': 7503, '냉': 7504, '찢': 7505, '볍': 7506, '옵': 7507, '킁': 7508, '$': 7509, '꾹': 7510, '팜': 7511, '됀': 7512, '붐': 7513, '얍': 7514, '엎': 7515, '웡': 7516, '읎': 7517, '쩍': 7518, '쫙': 7519, '쳣': 7520, '콕': 7521, '햐': 7522, '겅': 7523, '셸': 7524, '냅': 7525, 'J': 7526, '캔': 7527, '갸': 7528, '돠': 7529, '썽': 7530, '킷': 7531, '굼': 7532, '뎈': 7533, '뿅': 7534, '쨔': 7535, '큭': 7536, '퍽': 7537, '꼼': 7538, '싯': 7539, '얕': 7540, '욯': 7541, '짭': 7542, '쳇': 7543, '쿼': 7544, '롬': 7545, '쌍': 7546, '텝': 7547, '늑': 7548, '댜': 7549, '돕': 7550, '벡': 7551, '샴': 7552, '씽': 7553, '퉷': 7554, '곁': 7555, '꺾': 7556, '넴': 7557, '뺀': 7558, '뺐': 7559, '헿': 7560, '눠': 7561, '얔': 7562, '밝': 7563, 'W': 7564, '잭': 7565, '푹': 7566, '씻': 7567, '좁': 7568, '퀘': 7569, '겔': 7570, '쒸': 7571, '욘': 7572, '쿤': 7573, '퐁': 7574, '핍': 7575, '몹': 7576, '뽑': 7577, '헛': 7578, '끊': 7579, '쩐': 7580, '붉': 7581, '걱': 7582, '첼': 7583, '낱': 7584, '딥': 7585, '○': 7586, '뜰': 7587, '빔': 7588, '쒯': 7589, '융': 7590, '잴': 7591, '즉': 7592, '”': 7593, '눅': 7594, '늠': 7595, '떴': 7596, '뛴': 7597, '룻': 7598, '뿡': 7599, '섰': 7600, '숴': 7601, '슥': 7602, '쫑': 7603, '칵': 7604, '퀼': 7605, '“': 7606, '곀': 7607, '잌': 7608, '[': 7609, '힙': 7610, '쬐': 7611, '꼐': 7612, '멧': 7613, '밭': 7614, '붓': 7615, '빽': 7616, '잰': 7617, '짬': 7618, '팰': 7619, 'ᆪ': 7620, '死': 7621, '냠': 7622, '덥': 7623, '좃': 7624, '콱': 7625, '핥': 7626, '괸': 7627, '뀨': 7628, '꽈': 7629, '뱃': 7630, '뭇': 7631, '빰': 7632, '앰': 7633, '女': 7634, '쏜': 7635, '졷': 7636, '죵': 7637, '쨰': 7638, '텀': 7639, '♪': 7640, '긁': 7641, '꺽': 7642, '넥': 7643, '밓': 7644, '캣': 7645, '→': 7646, '넝': 7647, '웹': 7648, '챔': 7649, '먀': 7650, '앍': 7651, '뇬': 7652, '뻗': 7653, '씌': 7654, '챦': 7655, '촤': 7656, '作': 7657, '盧': 7658, '꿍': 7659, '뒈': 7660, '뤼': 7661, '뿍': 7662, '왁': 7663, '욥': 7664, '웽': 7665, '쾅': 7666, '텨': 7667, '폄': 7668, '벳': 7669, '닛': 7670, '흫': 7671, '됏': 7672, '뤠': 7673, '멌': 7674, '찼': 7675, '햏': 7676, '걔': 7677, '굽': 7678, '돔': 7679, '졉': 7680, '캉': 7681, '흣': 7682, '|': 7683, 'ᄈ': 7684, '넛': 7685, '뮈': 7686, '믓': 7687, '뵈': 7688, '숑': 7689, '읭': 7690, '콥': 7691, '쿰': 7692, '펭': 7693, '홉': 7694, '휙': 7695, '넉': 7696, '떵': 7697, '휼': 7698, '렜': 7699, '촐': 7700, '땜': 7701, '켰': 7702, '}': 7703, '쭝': 7704, '챘': 7705, '혓': 7706, '뎃': 7707, '롸': 7708, '뫼': 7709, '앟': 7710, 'ᄄ': 7711, '⌒': 7712, '☞': 7713, '귯': 7714, '꺠': 7715, '넨': 7716, '떙': 7717, '륨': 7718, '벵': 7719, '뽐': 7720, '샛': 7721, '쎈': 7722, '옼': 7723, '읏': 7724, '텍': 7725, '귄': 7726, '놧': 7727, '댔': 7728, '맬': 7729, '쎼': 7730, '찹': 7731, '갚': 7732, '컸': 7733, '봅': 7734, 'ン': 7735, '낍': 7736, '첸': 7737, '有': 7738, '샨': 7739, '{': 7740, '─': 7741, '됄': 7742, '렙': 7743, '븅': 7744, '셍': 7745, '읔': 7746, '챈': 7747, '퀀': 7748, '팟': 7749, '핰': 7750, '’': 7751, '냔': 7752, '뇽': 7753, '멱': 7754, '샵': 7755, '셰': 7756, '숱': 7757, '쌉': 7758, '쌌': 7759, '옌': 7760, '윅': 7761, '잏': 7762, '졍': 7763, '쥰': 7764, '쥴': 7765, '쩖': 7766, '쫘': 7767, '챠': 7768, '캄': 7769, '켁': 7770, '갬': 7771, '굶': 7772, '팥': 7773, '댁': 7774, 'し': 7775, '씹': 7776, '뒷': 7777, '헣': 7778, 'ら': 7779, '最': 7780, '뭄': 7781, '컵': 7782, '갉': 7783, '궤': 7784, '끅': 7785, '돗': 7786, '땃': 7787, '띨': 7788, '쑥': 7789, '쯩': 7790, '츰': 7791, '헥': 7792, '훙': 7793, '▽': 7794, '갯': 7795, '낑': 7796, '늪': 7797, '뒹': 7798, '믈': 7799, '뺑': 7800, '뽜': 7801, '쉼': 7802, '쒜': 7803, '콸': 7804, '헹': 7805, '홬': 7806, 'ᅠ': 7807, '끙': 7808, '룽': 7809, '멩': 7810, '웜': 7811, '깟': 7812, '녜': 7813, '딛': 7814, '넙': 7815, '옄': 7816, '찟': 7817, '뽈': 7818, '둣': 7819, 'よ': 7820, '컥': 7821, '밈': 7822, '÷': 7823, '웍': 7824, '▼': 7825, 'ᅪ': 7826, 'ᅯ': 7827, '↗': 7828, '☜': 7829, '슷': 7830, '훠': 7831, '햅': 7832, '퐝': 7833, '퀵': 7834, '켬': 7835, '촛': 7836, '짰': 7837, '좇': 7838, '옅': 7839, '씸': 7840, '벚': 7841, '땟': 7842, '덟': 7843, '껌': 7844, '괄': 7845, '힣': 7846, '훓': 7847, '홥': 7848, '킼': 7849, '킈': 7850, '욀': 7851, '숟': 7852, '딪': 7853, '덱': 7854, '뀜': 7855, '꿰': 7856, '괭': 7857, '故': 7858, '횟': 7859, '짴': 7860, '짘': 7861, '왘': 7862, '썪': 7863, '쁩': 7864, '빴': 7865, '뤘': 7866, '냨': 7867, '훑': 7868, '훅': 7869, '햌': 7870, '툴': 7871, '줏': 7872, '죨': 7873, '쟤': 7874, '썹': 7875, '랖': 7876, '끽': 7877, '깼': 7878, '휩': 7879, '휠': 7880, '큽': 7881, '촘': 7882, '뭍': 7883, '뀔': 7884, '훤': 7885, '큘': 7886, '컹': 7887, '츤': 7888, '쮸': 7889, '좔': 7890, '쁠': 7891, '땔': 7892, '닠': 7893, '낰': 7894, '̄': 7895, '춥': 7896, '얹': 7897, '뮬': 7898, '껑': 7899, '헠': 7900, '풉': 7901, '쥑': 7902, '샐': 7903, '뚤': 7904, '놉': 7905, '낡': 7906, '꿉': 7907, '꽥': 7908, '곸': 7909, '픕': 7910, '촉': 7911, '쥔': 7912, '얽': 7913, '멎': 7914, '릎': 7915, '뤽': 7916, '옜': 7917, '뱉': 7918, '닳': 7919, '뀐': 7920, '꿋': 7921, '괞': 7922, '켠': 7923, '헴': 7924, '펏': 7925, '쫒': 7926, '쉘': 7927, '꽂': 7928, '탭': 7929, '쨋': 7930, '슌': 7931, '녔': 7932, '깬': 7933, '샬': 7934, '왼': 7935, '뺴': 7936, '뺨': 7937, '꼇': 7938, '넓': 7939, '슐': 7940, '땠': 7941, '탤': 7942, '쫓': 7943, '뭡': 7944, '딨': 7945, '멤': 7946, '샀': 7947, '뤄': 7948, '핸': 7949, '앓': 7950, '릇': 7951, '홧': 7952, '쭈': 7953, '맷': 7954, '뻣': 7955, '맺': 7956, '둠': 7957, '푼': 7958, '뭣': 7959, '틋': 7960, '빕': 7961, '맑': 7962, '펼': 7963, '랩': 7964, '쫄': 7965, '팠': 7966, '웟': 7967, '딧': 7968, '낯': 7969, '콧': 7970, '쏟': 7971, '얄': 7972, '깍': 7973, '듭': 7974, '틸': 7975, '뀌': 7976, '펙': 7977, '껐': 7978, '튀': 7979, '왤': 7980, '뻤': 7981, '녹': 7982, '펐': 7983, '겉': 7984, '됩': 7985, '짠': 7986, '쁨': 7987, '씁': 7988, '젊': 7989, '묻': 7990, '찝': 7991, '쳤': 7992, '굉': 7993, '똑': 7994, '줬': 7995, '훨': 7996, '떻': 7997, '옛': 7998, '깊': 7999}\n"
     ]
    }
   ],
   "source": [
    "#sp_tokenize(s, corpus) 사용예제\n",
    "\n",
    "my_corpus = ['나는 밥을 먹었습니다.', '그러나 여전히 ㅠㅠ 배가 고픕니다...']\n",
    "tensor, word_index, index_word = sp_tokenize(s, my_corpus)\n",
    "print(tensor)\n",
    "print(word_index)\n",
    "print(index_word)"
   ]
  },
  {
   "cell_type": "markdown",
   "id": "0b506a14",
   "metadata": {},
   "source": [
    "## Step 5. 모델 학습"
   ]
  },
  {
   "cell_type": "markdown",
   "id": "91481460",
   "metadata": {},
   "source": [
    "### 5.1 데이터 분리"
   ]
  },
  {
   "cell_type": "code",
   "execution_count": 30,
   "id": "4d4ba65a",
   "metadata": {},
   "outputs": [],
   "source": [
    "tensor, word_index, index_word = sp_tokenize(s, removed_data['document'])"
   ]
  },
  {
   "cell_type": "code",
   "execution_count": 31,
   "id": "c9d92a94",
   "metadata": {},
   "outputs": [
    {
     "data": {
      "text/plain": [
       "array([[1183,  174,  281, ...,    0,    0,    0],\n",
       "       [3102, 1838,  583, ...,    0,    0,    0],\n",
       "       [  51,  175,  331, ...,    0,    0,    0],\n",
       "       ...,\n",
       "       [  84, 5122,   29, ...,    0,    0,    0],\n",
       "       [  48,  343, 4997, ...,    0,    0,    0],\n",
       "       [1414, 1611,  395, ...,    0,    0,    0]], dtype=int32)"
      ]
     },
     "execution_count": 31,
     "metadata": {},
     "output_type": "execute_result"
    }
   ],
   "source": [
    "tensor"
   ]
  },
  {
   "cell_type": "code",
   "execution_count": 32,
   "id": "4fc57d67",
   "metadata": {},
   "outputs": [
    {
     "data": {
      "text/plain": [
       "147136"
      ]
     },
     "execution_count": 32,
     "metadata": {},
     "output_type": "execute_result"
    }
   ],
   "source": [
    "len(tensor)"
   ]
  },
  {
   "cell_type": "code",
   "execution_count": 33,
   "id": "ded526cc",
   "metadata": {},
   "outputs": [],
   "source": [
    "removed_label = np.array(removed_data['label'])"
   ]
  },
  {
   "cell_type": "code",
   "execution_count": 35,
   "id": "b676356a",
   "metadata": {},
   "outputs": [
    {
     "data": {
      "text/plain": [
       "array([1, 1, 1, ..., 0, 0, 0])"
      ]
     },
     "execution_count": 35,
     "metadata": {},
     "output_type": "execute_result"
    }
   ],
   "source": [
    "removed_label"
   ]
  },
  {
   "cell_type": "code",
   "execution_count": 36,
   "id": "6fd0efd4",
   "metadata": {},
   "outputs": [],
   "source": [
    "from sklearn.model_selection import train_test_split\n",
    "\n",
    "x_train, x_val, y_train, y_val = train_test_split(tensor, removed_label, test_size = 0.2)\n",
    "x_train, x_test, y_train, y_test = train_test_split(x_train, y_train, test_size = 0.2)"
   ]
  },
  {
   "cell_type": "code",
   "execution_count": 37,
   "id": "1668d0eb",
   "metadata": {},
   "outputs": [
    {
     "name": "stdout",
     "output_type": "stream",
     "text": [
      "train 데이터 개수 :  94166\n",
      "val 데이터 개수 :  29428\n",
      "test 데이터 개수 :  23542\n",
      "리뷰 데이터 총 개수 :  147136\n",
      "---------------------\n",
      "train label 데이터 개수 :  94166\n",
      "val label 데이터 개수 :  29428\n",
      "test label 데이터 개수 :  23542\n",
      "라벨 데이터 총 개수 :  147136\n"
     ]
    }
   ],
   "source": [
    "print('train 데이터 개수 : ', len(x_train))\n",
    "print('val 데이터 개수 : ', len(x_val))\n",
    "print('test 데이터 개수 : ', len(x_test))\n",
    "print('리뷰 데이터 총 개수 : ', len(x_train)+len(x_val)+len(x_test))\n",
    "\n",
    "print('---------------------')\n",
    "\n",
    "print('train label 데이터 개수 : ', len(y_train))\n",
    "print('val label 데이터 개수 : ', len(y_val))\n",
    "print('test label 데이터 개수 : ', len(y_test))\n",
    "print('라벨 데이터 총 개수 : ', len(y_train)+len(y_val)+len(y_test))"
   ]
  },
  {
   "cell_type": "markdown",
   "id": "935bfe62",
   "metadata": {},
   "source": [
    "### 5.2 모델 구성 및 훈련 (RNN 모델)\n"
   ]
  },
  {
   "cell_type": "code",
   "execution_count": 38,
   "id": "0ce6d9f0",
   "metadata": {},
   "outputs": [
    {
     "name": "stdout",
     "output_type": "stream",
     "text": [
      "Model: \"sequential\"\n",
      "_________________________________________________________________\n",
      "Layer (type)                 Output Shape              Param #   \n",
      "=================================================================\n",
      "embedding (Embedding)        (None, None, 16)          160000    \n",
      "_________________________________________________________________\n",
      "lstm (LSTM)                  (None, 8)                 800       \n",
      "_________________________________________________________________\n",
      "dense (Dense)                (None, 8)                 72        \n",
      "_________________________________________________________________\n",
      "dense_1 (Dense)              (None, 1)                 9         \n",
      "=================================================================\n",
      "Total params: 160,881\n",
      "Trainable params: 160,881\n",
      "Non-trainable params: 0\n",
      "_________________________________________________________________\n"
     ]
    }
   ],
   "source": [
    "vocab_size = 10000   # 단어사진 크기\n",
    "word_vector_dim = 16  # 단어 하나를 표현하는 임베딩 벡터의 차원수 (변경 가능한 하이퍼파라마터)\n",
    "\n",
    "model = tf.keras.Sequential()\n",
    "model.add(tf.keras.layers.Embedding(vocab_size, word_vector_dim, input_shape = (None,)))\n",
    "model.add(tf.keras.layers.LSTM(8))  # LSTM 레이어 사용 & LSTM 벡터의 차원 수 변경 가능\n",
    "model.add(tf.keras.layers.Dense(8, activation = 'relu'))\n",
    "model.add(tf.keras.layers.Dense(1, activation = 'sigmoid')) # 최종 출력은 긍정/부정을 나타내는 1dim\n",
    "\n",
    "model.summary()"
   ]
  },
  {
   "cell_type": "code",
   "execution_count": 39,
   "id": "76be62ec",
   "metadata": {},
   "outputs": [
    {
     "name": "stdout",
     "output_type": "stream",
     "text": [
      "Epoch 1/10\n",
      "184/184 [==============================] - 29s 8ms/step - loss: 0.6931 - accuracy: 0.5056 - val_loss: 0.6924 - val_accuracy: 0.5014\n",
      "Epoch 2/10\n",
      "184/184 [==============================] - 1s 6ms/step - loss: 0.4602 - accuracy: 0.7888 - val_loss: 0.3719 - val_accuracy: 0.8373\n",
      "Epoch 3/10\n",
      "184/184 [==============================] - 1s 6ms/step - loss: 0.3375 - accuracy: 0.8558 - val_loss: 0.3577 - val_accuracy: 0.8415\n",
      "Epoch 4/10\n",
      "184/184 [==============================] - 1s 6ms/step - loss: 0.3189 - accuracy: 0.8641 - val_loss: 0.3587 - val_accuracy: 0.8411\n",
      "Epoch 5/10\n",
      "184/184 [==============================] - 1s 6ms/step - loss: 0.3102 - accuracy: 0.8676 - val_loss: 0.3657 - val_accuracy: 0.8402\n",
      "Epoch 6/10\n",
      "184/184 [==============================] - 1s 6ms/step - loss: 0.3042 - accuracy: 0.8707 - val_loss: 0.3580 - val_accuracy: 0.8429\n",
      "Epoch 7/10\n",
      "184/184 [==============================] - 1s 6ms/step - loss: 0.2996 - accuracy: 0.8729 - val_loss: 0.3589 - val_accuracy: 0.8408\n",
      "Epoch 8/10\n",
      "184/184 [==============================] - 1s 6ms/step - loss: 0.2956 - accuracy: 0.8745 - val_loss: 0.3697 - val_accuracy: 0.8394\n",
      "Epoch 9/10\n",
      "184/184 [==============================] - 1s 6ms/step - loss: 0.2915 - accuracy: 0.8757 - val_loss: 0.3650 - val_accuracy: 0.8399\n",
      "Epoch 10/10\n",
      "184/184 [==============================] - 1s 6ms/step - loss: 0.2866 - accuracy: 0.8769 - val_loss: 0.3715 - val_accuracy: 0.8408\n"
     ]
    }
   ],
   "source": [
    "model.compile(optimizer = 'adam',\n",
    "              loss = 'binary_crossentropy',\n",
    "              metrics = ['accuracy'])\n",
    "\n",
    "epochs = 10\n",
    "\n",
    "history = model.fit(x_train,\n",
    "                    y_train,\n",
    "                    epochs = epochs,\n",
    "                    batch_size = 512,\n",
    "                    validation_data = (x_val, y_val),\n",
    "                    verbose = 1)"
   ]
  },
  {
   "cell_type": "code",
   "execution_count": 40,
   "id": "0dc09074",
   "metadata": {},
   "outputs": [
    {
     "name": "stdout",
     "output_type": "stream",
     "text": [
      "736/736 - 2s - loss: 0.3692 - accuracy: 0.8450\n",
      "[0.3691580891609192, 0.8449579477310181]\n"
     ]
    }
   ],
   "source": [
    "results = model.evaluate(x_test, y_test, verbose = 2)\n",
    "print(results)"
   ]
  },
  {
   "cell_type": "code",
   "execution_count": 41,
   "id": "0acb94a4",
   "metadata": {},
   "outputs": [
    {
     "name": "stdout",
     "output_type": "stream",
     "text": [
      "dict_keys(['loss', 'accuracy', 'val_loss', 'val_accuracy'])\n"
     ]
    }
   ],
   "source": [
    "history_dict = history.history\n",
    "\n",
    "print(history_dict.keys())"
   ]
  },
  {
   "cell_type": "code",
   "execution_count": 42,
   "id": "eee8afa7",
   "metadata": {},
   "outputs": [
    {
     "data": {
      "image/png": "[encoded data removed]",
      "text/plain": [
       "<Figure size 1440x360 with 2 Axes>"
      ]
     },
     "metadata": {
      "needs_background": "light"
     },
     "output_type": "display_data"
    }
   ],
   "source": [
    "acc = history_dict['accuracy']\n",
    "val_acc = history_dict['val_accuracy']\n",
    "\n",
    "loss = history_dict['loss']\n",
    "val_loss = history_dict['val_loss']\n",
    "\n",
    "epochs = range(1, len(acc) + 1)\n",
    "\n",
    "plt.figure(figsize=(20,5))\n",
    "\n",
    "plt.subplot(1, 2, 1)\n",
    "plt.plot(epochs, loss, 'b', label = 'Training loss')\n",
    "plt.plot(epochs, val_loss, 'r', label = 'Validation loss')\n",
    "plt.title('Training and validation loss')\n",
    "plt.xlabel('Epochs')\n",
    "plt.ylabel('Loss')\n",
    "plt.legend()\n",
    "\n",
    "plt.subplot(1, 2, 2)\n",
    "plt.plot(epochs, acc, 'b', label = 'Training acc')\n",
    "plt.plot(epochs, val_acc, 'r', label = 'Validation acc')\n",
    "plt.title('Training and validation accuracy')\n",
    "plt.xlabel('Epochs')\n",
    "plt.ylabel('Accuracy')\n",
    "plt.legend()\n",
    "\n",
    "plt.show()"
   ]
  },
  {
   "cell_type": "markdown",
   "id": "5c2fab37",
   "metadata": {},
   "source": [
    "## Step 6. SentencePiece model 변경 (bpe)"
   ]
  },
  {
   "cell_type": "markdown",
   "id": "4302fff9",
   "metadata": {},
   "source": [
    "### 6.1 SentencePiece 모델 학습"
   ]
  },
  {
   "cell_type": "code",
   "execution_count": 43,
   "id": "d1ec4a6f",
   "metadata": {},
   "outputs": [
    {
     "name": "stderr",
     "output_type": "stream",
     "text": [
      "sentencepiece_trainer.cc(177) LOG(INFO) Running command: --input=/aiffel/aiffel/sp_tokenizer/data/korean-english-park.train.ko.temp --model_prefix=korean_spm_bpe --model_type=bpe --vocab_size=8000\n",
      "sentencepiece_trainer.cc(77) LOG(INFO) Starts training with : \n",
      "trainer_spec {\n",
      "  input: /aiffel/aiffel/sp_tokenizer/data/korean-english-park.train.ko.temp\n",
      "  input_format: \n",
      "  model_prefix: korean_spm_bpe\n",
      "  model_type: BPE\n",
      "  vocab_size: 8000\n",
      "  self_test_sample_size: 0\n",
      "  character_coverage: 0.9995\n",
      "  input_sentence_size: 0\n",
      "  shuffle_input_sentence: 1\n",
      "  seed_sentencepiece_size: 1000000\n",
      "  shrinking_factor: 0.75\n",
      "  max_sentence_length: 4192\n",
      "  num_threads: 16\n",
      "  num_sub_iterations: 2\n",
      "  max_sentencepiece_length: 16\n",
      "  split_by_unicode_script: 1\n",
      "  split_by_number: 1\n",
      "  split_by_whitespace: 1\n",
      "  split_digits: 0\n",
      "  treat_whitespace_as_suffix: 0\n",
      "  allow_whitespace_only_pieces: 0\n",
      "  required_chars: \n",
      "  byte_fallback: 0\n",
      "  vocabulary_output_piece_score: 1\n",
      "  train_extremely_large_corpus: 0\n",
      "  hard_vocab_limit: 1\n",
      "  use_all_vocab: 0\n",
      "  unk_id: 0\n",
      "  bos_id: 1\n",
      "  eos_id: 2\n",
      "  pad_id: -1\n",
      "  unk_piece: <unk>\n",
      "  bos_piece: <s>\n",
      "  eos_piece: </s>\n",
      "  pad_piece: <pad>\n",
      "  unk_surface:  ⁇ \n",
      "}\n",
      "normalizer_spec {\n",
      "  name: nmt_nfkc\n",
      "  add_dummy_prefix: 1\n",
      "  remove_extra_whitespaces: 1\n",
      "  escape_whitespaces: 1\n",
      "  normalization_rule_tsv: \n",
      "}\n",
      "denormalizer_spec {}\n",
      "trainer_interface.cc(329) LOG(INFO) SentenceIterator is not specified. Using MultiFileSentenceIterator.\n",
      "trainer_interface.cc(178) LOG(INFO) Loading corpus: /aiffel/aiffel/sp_tokenizer/data/korean-english-park.train.ko.temp\n",
      "trainer_interface.cc(385) LOG(INFO) Loaded all 147136 sentences\n",
      "trainer_interface.cc(400) LOG(INFO) Adding meta_piece: <unk>\n",
      "trainer_interface.cc(400) LOG(INFO) Adding meta_piece: <s>\n",
      "trainer_interface.cc(400) LOG(INFO) Adding meta_piece: </s>\n",
      "trainer_interface.cc(405) LOG(INFO) Normalizing sentences...\n",
      "trainer_interface.cc(466) LOG(INFO) all chars count=3488286\n",
      "trainer_interface.cc(477) LOG(INFO) Done: 99.95% characters are covered.\n",
      "trainer_interface.cc(487) LOG(INFO) Alphabet size=1765\n",
      "trainer_interface.cc(488) LOG(INFO) Final character coverage=0.9995\n",
      "trainer_interface.cc(520) LOG(INFO) Done! preprocessed 147136 sentences.\n",
      "trainer_interface.cc(526) LOG(INFO) Tokenizing input sentences with whitespace: 147136\n",
      "trainer_interface.cc(537) LOG(INFO) Done! 243347\n",
      "bpe_model_trainer.cc(167) LOG(INFO) Updating active symbols. max_freq=55990 min_freq=69\n",
      "bpe_model_trainer.cc(258) LOG(INFO) Added: freq=7657 size=20 all=91862 active=8566 piece=▁진\n",
      "bpe_model_trainer.cc(258) LOG(INFO) Added: freq=5511 size=40 all=94781 active=11485 piece=▁스\n",
      "bpe_model_trainer.cc(258) LOG(INFO) Added: freq=3925 size=60 all=98834 active=15538 piece=▁연기\n",
      "bpe_model_trainer.cc(258) LOG(INFO) Added: freq=3378 size=80 all=102043 active=18747 piece=▁주\n",
      "bpe_model_trainer.cc(258) LOG(INFO) Added: freq=2709 size=100 all=104419 active=21123 piece=었다\n",
      "bpe_model_trainer.cc(167) LOG(INFO) Updating active symbols. max_freq=2703 min_freq=58\n",
      "bpe_model_trainer.cc(258) LOG(INFO) Added: freq=2354 size=120 all=107203 active=7843 piece=▁일\n",
      "bpe_model_trainer.cc(258) LOG(INFO) Added: freq=2058 size=140 all=108881 active=9521 piece=▁끝\n",
      "bpe_model_trainer.cc(258) LOG(INFO) Added: freq=1859 size=160 all=111391 active=12031 piece=▁저\n",
      "bpe_model_trainer.cc(258) LOG(INFO) Added: freq=1696 size=180 all=113424 active=14064 piece=면서\n",
      "bpe_model_trainer.cc(258) LOG(INFO) Added: freq=1569 size=200 all=115191 active=15831 piece=▁되\n",
      "bpe_model_trainer.cc(167) LOG(INFO) Updating active symbols. max_freq=1566 min_freq=50\n",
      "bpe_model_trainer.cc(258) LOG(INFO) Added: freq=1462 size=220 all=116990 active=7496 piece=▁불\n",
      "bpe_model_trainer.cc(258) LOG(INFO) Added: freq=1309 size=240 all=119133 active=9639 piece=▁지금\n",
      "bpe_model_trainer.cc(258) LOG(INFO) Added: freq=1234 size=260 all=121249 active=11754 piece=▁살\n",
      "bpe_model_trainer.cc(258) LOG(INFO) Added: freq=1148 size=280 all=123223 active=13728 piece=▁초\n",
      "bpe_model_trainer.cc(258) LOG(INFO) Added: freq=1081 size=300 all=124698 active=15203 piece=▁모르\n",
      "bpe_model_trainer.cc(167) LOG(INFO) Updating active symbols. max_freq=1079 min_freq=45\n",
      "bpe_model_trainer.cc(258) LOG(INFO) Added: freq=1015 size=320 all=126065 active=7573 piece=▁ᄏ\n",
      "bpe_model_trainer.cc(258) LOG(INFO) Added: freq=963 size=340 all=128155 active=9663 piece=정도\n",
      "bpe_model_trainer.cc(258) LOG(INFO) Added: freq=903 size=360 all=130263 active=11771 piece=▁차\n",
      "bpe_model_trainer.cc(258) LOG(INFO) Added: freq=864 size=380 all=131869 active=13377 piece=▁결말\n",
      "bpe_model_trainer.cc(258) LOG(INFO) Added: freq=808 size=400 all=133234 active=14742 piece=▁솔\n",
      "bpe_model_trainer.cc(167) LOG(INFO) Updating active symbols. max_freq=807 min_freq=42\n",
      "bpe_model_trainer.cc(258) LOG(INFO) Added: freq=767 size=420 all=134659 active=8078 piece=▁원작\n",
      "bpe_model_trainer.cc(258) LOG(INFO) Added: freq=737 size=440 all=135985 active=9404 piece=▁잼있\n",
      "bpe_model_trainer.cc(258) LOG(INFO) Added: freq=718 size=460 all=136994 active=10413 piece=▁그런\n",
      "bpe_model_trainer.cc(258) LOG(INFO) Added: freq=682 size=480 all=138404 active=11823 piece=던데\n",
      "bpe_model_trainer.cc(258) LOG(INFO) Added: freq=654 size=500 all=139962 active=13381 piece=타임\n",
      "bpe_model_trainer.cc(167) LOG(INFO) Updating active symbols. max_freq=653 min_freq=39\n",
      "bpe_model_trainer.cc(258) LOG(INFO) Added: freq=628 size=520 all=141426 active=8399 piece=▁그리고\n",
      "bpe_model_trainer.cc(258) LOG(INFO) Added: freq=602 size=540 all=142556 active=9529 piece=▁약\n",
      "bpe_model_trainer.cc(258) LOG(INFO) Added: freq=585 size=560 all=144038 active=11011 piece=▁오랜\n",
      "bpe_model_trainer.cc(258) LOG(INFO) Added: freq=561 size=580 all=145197 active=12170 piece=▁왜이\n",
      "bpe_model_trainer.cc(258) LOG(INFO) Added: freq=546 size=600 all=146339 active=13312 piece=있다\n",
      "bpe_model_trainer.cc(167) LOG(INFO) Updating active symbols. max_freq=545 min_freq=36\n",
      "bpe_model_trainer.cc(258) LOG(INFO) Added: freq=525 size=620 all=147653 active=8537 piece=영화가\n",
      "bpe_model_trainer.cc(258) LOG(INFO) Added: freq=508 size=640 all=148944 active=9828 piece=▁받\n",
      "bpe_model_trainer.cc(258) LOG(INFO) Added: freq=496 size=660 all=150439 active=11323 piece=없음\n",
      "bpe_model_trainer.cc(258) LOG(INFO) Added: freq=479 size=680 all=152043 active=12927 piece=▁부족\n",
      "bpe_model_trainer.cc(258) LOG(INFO) Added: freq=469 size=700 all=152905 active=13789 piece=▁로맨\n",
      "bpe_model_trainer.cc(167) LOG(INFO) Updating active symbols. max_freq=468 min_freq=34\n",
      "bpe_model_trainer.cc(258) LOG(INFO) Added: freq=455 size=720 all=154047 active=8782 piece=리오\n",
      "bpe_model_trainer.cc(258) LOG(INFO) Added: freq=445 size=740 all=155045 active=9780 piece=▁재미가\n",
      "bpe_model_trainer.cc(258) LOG(INFO) Added: freq=436 size=760 all=156200 active=10935 piece=훌륭\n",
      "bpe_model_trainer.cc(258) LOG(INFO) Added: freq=427 size=780 all=157472 active=12207 piece=▁제대로\n",
      "bpe_model_trainer.cc(258) LOG(INFO) Added: freq=415 size=800 all=158472 active=13207 piece=▁6\n",
      "bpe_model_trainer.cc(167) LOG(INFO) Updating active symbols. max_freq=415 min_freq=32\n",
      "bpe_model_trainer.cc(258) LOG(INFO) Added: freq=408 size=820 all=159758 active=9197 piece=▁담\n",
      "bpe_model_trainer.cc(258) LOG(INFO) Added: freq=397 size=840 all=160716 active=10155 piece=이라는\n",
      "bpe_model_trainer.cc(258) LOG(INFO) Added: freq=389 size=860 all=162188 active=11627 piece=▁영화로\n",
      "bpe_model_trainer.cc(258) LOG(INFO) Added: freq=378 size=880 all=163246 active=12685 piece=▁봤어요\n",
      "bpe_model_trainer.cc(258) LOG(INFO) Added: freq=369 size=900 all=164183 active=13622 piece=말이\n",
      "bpe_model_trainer.cc(167) LOG(INFO) Updating active symbols. max_freq=369 min_freq=30\n",
      "bpe_model_trainer.cc(258) LOG(INFO) Added: freq=358 size=920 all=165268 active=9194 piece=▁전쟁\n",
      "bpe_model_trainer.cc(258) LOG(INFO) Added: freq=346 size=940 all=166609 active=10535 piece=▁영화중\n",
      "bpe_model_trainer.cc(258) LOG(INFO) Added: freq=339 size=960 all=167586 active=11512 piece=▁재미없음\n",
      "bpe_model_trainer.cc(258) LOG(INFO) Added: freq=331 size=980 all=168476 active=12402 piece=▁시대\n",
      "bpe_model_trainer.cc(258) LOG(INFO) Added: freq=324 size=1000 all=169597 active=13523 piece=▁보게\n",
      "bpe_model_trainer.cc(167) LOG(INFO) Updating active symbols. max_freq=323 min_freq=28\n",
      "bpe_model_trainer.cc(258) LOG(INFO) Added: freq=317 size=1020 all=170281 active=9146 piece=▁T\n",
      "bpe_model_trainer.cc(258) LOG(INFO) Added: freq=310 size=1040 all=171188 active=10053 piece=▁모르겠\n",
      "bpe_model_trainer.cc(258) LOG(INFO) Added: freq=301 size=1060 all=171965 active=10830 piece=한거\n",
      "bpe_model_trainer.cc(258) LOG(INFO) Added: freq=295 size=1080 all=172855 active=11720 piece=▁초딩\n",
      "bpe_model_trainer.cc(258) LOG(INFO) Added: freq=289 size=1100 all=173871 active=12736 piece=▁블\n",
      "bpe_model_trainer.cc(167) LOG(INFO) Updating active symbols. max_freq=289 min_freq=27\n",
      "bpe_model_trainer.cc(258) LOG(INFO) Added: freq=284 size=1120 all=174604 active=9408 piece=▁등\n",
      "bpe_model_trainer.cc(258) LOG(INFO) Added: freq=278 size=1140 all=175691 active=10495 piece=▁볼수\n",
      "bpe_model_trainer.cc(258) LOG(INFO) Added: freq=270 size=1160 all=176462 active=11266 piece=▁없이\n",
      "bpe_model_trainer.cc(258) LOG(INFO) Added: freq=263 size=1180 all=177043 active=11847 piece=영화다\n",
      "bpe_model_trainer.cc(258) LOG(INFO) Added: freq=258 size=1200 all=178103 active=12907 piece=▁투\n",
      "bpe_model_trainer.cc(167) LOG(INFO) Updating active symbols. max_freq=258 min_freq=26\n",
      "bpe_model_trainer.cc(258) LOG(INFO) Added: freq=253 size=1220 all=179069 active=9828 piece=▁여주인공\n",
      "bpe_model_trainer.cc(258) LOG(INFO) Added: freq=247 size=1240 all=180032 active=10791 piece=▁궁금\n",
      "bpe_model_trainer.cc(258) LOG(INFO) Added: freq=242 size=1260 all=180840 active=11598 piece=굉장\n",
      "bpe_model_trainer.cc(258) LOG(INFO) Added: freq=238 size=1280 all=181603 active=12361 piece=▁훨씬\n",
      "bpe_model_trainer.cc(258) LOG(INFO) Added: freq=234 size=1300 all=182528 active=13286 piece=▁엄마\n",
      "bpe_model_trainer.cc(167) LOG(INFO) Updating active symbols. max_freq=234 min_freq=25\n",
      "bpe_model_trainer.cc(258) LOG(INFO) Added: freq=229 size=1320 all=183433 active=9991 piece=▁흔\n",
      "bpe_model_trainer.cc(258) LOG(INFO) Added: freq=225 size=1340 all=184338 active=10896 piece=대한\n",
      "bpe_model_trainer.cc(258) LOG(INFO) Added: freq=221 size=1360 all=185342 active=11900 piece=▁다운\n",
      "bpe_model_trainer.cc(258) LOG(INFO) Added: freq=217 size=1380 all=186094 active=12652 piece=▁!!\n",
      "bpe_model_trainer.cc(258) LOG(INFO) Added: freq=214 size=1400 all=186982 active=13540 piece=▁말도\n",
      "bpe_model_trainer.cc(167) LOG(INFO) Updating active symbols. max_freq=214 min_freq=24\n",
      "bpe_model_trainer.cc(258) LOG(INFO) Added: freq=210 size=1420 all=187680 active=10042 piece=▁트\n",
      "bpe_model_trainer.cc(258) LOG(INFO) Added: freq=208 size=1440 all=188420 active=10782 piece=▁아님\n",
      "bpe_model_trainer.cc(258) LOG(INFO) Added: freq=204 size=1460 all=189297 active=11659 piece=▁부분\n",
      "bpe_model_trainer.cc(258) LOG(INFO) Added: freq=202 size=1480 all=190038 active=12400 piece=▁평점을\n",
      "bpe_model_trainer.cc(258) LOG(INFO) Added: freq=199 size=1500 all=190815 active=13177 piece=▁구성\n",
      "bpe_model_trainer.cc(167) LOG(INFO) Updating active symbols. max_freq=199 min_freq=23\n",
      "bpe_model_trainer.cc(258) LOG(INFO) Added: freq=196 size=1520 all=191701 active=10399 piece=▁tv\n",
      "bpe_model_trainer.cc(258) LOG(INFO) Added: freq=193 size=1540 all=192210 active=10908 piece=시키\n",
      "bpe_model_trainer.cc(258) LOG(INFO) Added: freq=190 size=1560 all=193163 active=11861 piece=▁평점에\n",
      "bpe_model_trainer.cc(258) LOG(INFO) Added: freq=187 size=1580 all=193855 active=12553 piece=할때\n",
      "bpe_model_trainer.cc(258) LOG(INFO) Added: freq=185 size=1600 all=194715 active=13413 piece=▁사람이\n",
      "bpe_model_trainer.cc(167) LOG(INFO) Updating active symbols. max_freq=185 min_freq=22\n",
      "bpe_model_trainer.cc(258) LOG(INFO) Added: freq=182 size=1620 all=195659 active=10665 piece=▁판타지\n",
      "bpe_model_trainer.cc(258) LOG(INFO) Added: freq=178 size=1640 all=196397 active=11403 piece=▁운\n",
      "bpe_model_trainer.cc(258) LOG(INFO) Added: freq=176 size=1660 all=197157 active=12163 piece=▁애들\n",
      "bpe_model_trainer.cc(258) LOG(INFO) Added: freq=173 size=1680 all=197730 active=12736 piece=▁페\n",
      "bpe_model_trainer.cc(258) LOG(INFO) Added: freq=171 size=1700 all=198313 active=13319 piece=▁매력적인\n",
      "bpe_model_trainer.cc(167) LOG(INFO) Updating active symbols. max_freq=170 min_freq=22\n",
      "bpe_model_trainer.cc(258) LOG(INFO) Added: freq=167 size=1720 all=198743 active=10339 piece=▁왔\n",
      "bpe_model_trainer.cc(258) LOG(INFO) Added: freq=166 size=1740 all=199365 active=10961 piece=▁명작이다\n",
      "bpe_model_trainer.cc(258) LOG(INFO) Added: freq=164 size=1760 all=200037 active=11633 piece=정도로\n",
      "bpe_model_trainer.cc(258) LOG(INFO) Added: freq=162 size=1780 all=200663 active=12259 piece=▁유머\n",
      "bpe_model_trainer.cc(258) LOG(INFO) Added: freq=159 size=1800 all=201338 active=12934 piece=▁봤네요\n",
      "bpe_model_trainer.cc(167) LOG(INFO) Updating active symbols. max_freq=159 min_freq=21\n",
      "bpe_model_trainer.cc(258) LOG(INFO) Added: freq=156 size=1820 all=201727 active=10448 piece=스런\n",
      "bpe_model_trainer.cc(258) LOG(INFO) Added: freq=154 size=1840 all=202730 active=11451 piece=▁최악이다\n",
      "bpe_model_trainer.cc(258) LOG(INFO) Added: freq=152 size=1860 all=203212 active=11933 piece=▁알았다\n",
      "bpe_model_trainer.cc(258) LOG(INFO) Added: freq=150 size=1880 all=203691 active=12412 piece=▁것도\n",
      "bpe_model_trainer.cc(258) LOG(INFO) Added: freq=148 size=1900 all=204146 active=12867 piece=▁쩔\n",
      "bpe_model_trainer.cc(167) LOG(INFO) Updating active symbols. max_freq=148 min_freq=21\n",
      "bpe_model_trainer.cc(258) LOG(INFO) Added: freq=146 size=1920 all=204920 active=10954 piece=▁싫어\n",
      "bpe_model_trainer.cc(258) LOG(INFO) Added: freq=144 size=1940 all=205397 active=11431 piece=▁놓\n",
      "bpe_model_trainer.cc(258) LOG(INFO) Added: freq=142 size=1960 all=206136 active=12170 piece=▁샤\n",
      "bpe_model_trainer.cc(258) LOG(INFO) Added: freq=141 size=1980 all=206937 active=12971 piece=▁살인\n",
      "bpe_model_trainer.cc(258) LOG(INFO) Added: freq=140 size=2000 all=207670 active=13704 piece=좋아요\n",
      "bpe_model_trainer.cc(167) LOG(INFO) Updating active symbols. max_freq=140 min_freq=20\n",
      "bpe_model_trainer.cc(258) LOG(INFO) Added: freq=138 size=2020 all=208315 active=10962 piece=▁초등\n",
      "bpe_model_trainer.cc(258) LOG(INFO) Added: freq=136 size=2040 all=208829 active=11476 piece=아아\n",
      "bpe_model_trainer.cc(258) LOG(INFO) Added: freq=134 size=2060 all=209402 active=12049 piece=사가\n",
      "bpe_model_trainer.cc(258) LOG(INFO) Added: freq=133 size=2080 all=210322 active=12969 piece=▁애들이\n",
      "bpe_model_trainer.cc(258) LOG(INFO) Added: freq=132 size=2100 all=210807 active=13454 piece=▁안나오\n",
      "bpe_model_trainer.cc(167) LOG(INFO) Updating active symbols. max_freq=132 min_freq=19\n",
      "bpe_model_trainer.cc(258) LOG(INFO) Added: freq=131 size=2120 all=211431 active=11133 piece=▁아름답고\n",
      "bpe_model_trainer.cc(258) LOG(INFO) Added: freq=129 size=2140 all=212066 active=11768 piece=내는\n",
      "bpe_model_trainer.cc(258) LOG(INFO) Added: freq=128 size=2160 all=212793 active=12495 piece=▁눈이\n",
      "bpe_model_trainer.cc(258) LOG(INFO) Added: freq=127 size=2180 all=213439 active=13141 piece=▁바라\n",
      "bpe_model_trainer.cc(258) LOG(INFO) Added: freq=126 size=2200 all=214140 active=13842 piece=▁음악이\n",
      "bpe_model_trainer.cc(167) LOG(INFO) Updating active symbols. max_freq=126 min_freq=19\n",
      "bpe_model_trainer.cc(258) LOG(INFO) Added: freq=124 size=2220 all=214576 active=11139 piece=▁류\n",
      "bpe_model_trainer.cc(258) LOG(INFO) Added: freq=123 size=2240 all=215253 active=11816 piece=았던\n",
      "bpe_model_trainer.cc(258) LOG(INFO) Added: freq=122 size=2260 all=215686 active=12249 piece=에서는\n",
      "bpe_model_trainer.cc(258) LOG(INFO) Added: freq=121 size=2280 all=216441 active=13004 piece=▁취향\n",
      "bpe_model_trainer.cc(258) LOG(INFO) Added: freq=120 size=2300 all=216846 active=13409 piece=▁것은\n",
      "bpe_model_trainer.cc(167) LOG(INFO) Updating active symbols. max_freq=120 min_freq=19\n",
      "bpe_model_trainer.cc(258) LOG(INFO) Added: freq=119 size=2320 all=217255 active=11252 piece=▁눈을\n",
      "bpe_model_trainer.cc(258) LOG(INFO) Added: freq=118 size=2340 all=217792 active=11789 piece=▁아빠\n",
      "bpe_model_trainer.cc(258) LOG(INFO) Added: freq=117 size=2360 all=218260 active=12257 piece=▁이뻐\n",
      "bpe_model_trainer.cc(258) LOG(INFO) Added: freq=116 size=2380 all=218682 active=12678 piece=▁앞으로\n",
      "bpe_model_trainer.cc(258) LOG(INFO) Added: freq=114 size=2400 all=219319 active=13315 piece=나이\n",
      "bpe_model_trainer.cc(167) LOG(INFO) Updating active symbols. max_freq=114 min_freq=18\n",
      "bpe_model_trainer.cc(258) LOG(INFO) Added: freq=113 size=2420 all=219949 active=11535 piece=▁쩌\n",
      "bpe_model_trainer.cc(258) LOG(INFO) Added: freq=112 size=2440 all=220425 active=12011 piece=른다\n",
      "bpe_model_trainer.cc(258) LOG(INFO) Added: freq=111 size=2460 all=220833 active=12419 piece=프로\n",
      "bpe_model_trainer.cc(258) LOG(INFO) Added: freq=110 size=2480 all=221410 active=12996 piece=방송\n",
      "bpe_model_trainer.cc(258) LOG(INFO) Added: freq=109 size=2500 all=222005 active=13591 piece=▁이야기를\n",
      "bpe_model_trainer.cc(167) LOG(INFO) Updating active symbols. max_freq=109 min_freq=18\n",
      "bpe_model_trainer.cc(258) LOG(INFO) Added: freq=108 size=2520 all=222569 active=11665 piece=▁재미없어요\n",
      "bpe_model_trainer.cc(258) LOG(INFO) Added: freq=107 size=2540 all=223196 active=12292 piece=▁기분이\n",
      "bpe_model_trainer.cc(258) LOG(INFO) Added: freq=106 size=2560 all=223770 active=12866 piece=▁사랑이\n",
      "bpe_model_trainer.cc(258) LOG(INFO) Added: freq=105 size=2580 all=224214 active=13310 piece=▁모자\n",
      "bpe_model_trainer.cc(258) LOG(INFO) Added: freq=104 size=2600 all=224723 active=13819 piece=▁안됨\n",
      "bpe_model_trainer.cc(167) LOG(INFO) Updating active symbols. max_freq=104 min_freq=17\n",
      "bpe_model_trainer.cc(258) LOG(INFO) Added: freq=103 size=2620 all=225267 active=11780 piece=고싶은\n",
      "bpe_model_trainer.cc(258) LOG(INFO) Added: freq=102 size=2640 all=225789 active=12302 piece=▁왜케\n",
      "bpe_model_trainer.cc(258) LOG(INFO) Added: freq=101 size=2660 all=226150 active=12663 piece=▁설명\n",
      "bpe_model_trainer.cc(258) LOG(INFO) Added: freq=100 size=2680 all=226820 active=13333 piece=할까\n",
      "bpe_model_trainer.cc(258) LOG(INFO) Added: freq=99 size=2700 all=227577 active=14090 piece=▁단연\n",
      "bpe_model_trainer.cc(167) LOG(INFO) Updating active symbols. max_freq=99 min_freq=17\n",
      "bpe_model_trainer.cc(258) LOG(INFO) Added: freq=98 size=2720 all=228016 active=11815 piece=성애\n",
      "bpe_model_trainer.cc(258) LOG(INFO) Added: freq=97 size=2740 all=228414 active=12213 piece=인물\n",
      "bpe_model_trainer.cc(258) LOG(INFO) Added: freq=96 size=2760 all=229022 active=12821 piece=되어\n",
      "bpe_model_trainer.cc(258) LOG(INFO) Added: freq=96 size=2780 all=229655 active=13454 piece=▁나왔으면\n",
      "bpe_model_trainer.cc(258) LOG(INFO) Added: freq=95 size=2800 all=230161 active=13960 piece=▁웃기고\n",
      "bpe_model_trainer.cc(167) LOG(INFO) Updating active symbols. max_freq=95 min_freq=16\n",
      "bpe_model_trainer.cc(258) LOG(INFO) Added: freq=94 size=2820 all=230660 active=12003 piece=▁젊은\n",
      "bpe_model_trainer.cc(258) LOG(INFO) Added: freq=93 size=2840 all=231229 active=12572 piece=같음\n",
      "bpe_model_trainer.cc(258) LOG(INFO) Added: freq=93 size=2860 all=231842 active=13185 piece=▁최고입니다\n",
      "bpe_model_trainer.cc(258) LOG(INFO) Added: freq=92 size=2880 all=232411 active=13754 piece=▁아이들\n",
      "bpe_model_trainer.cc(258) LOG(INFO) Added: freq=91 size=2900 all=232861 active=14204 piece=▁엉성한\n",
      "bpe_model_trainer.cc(167) LOG(INFO) Updating active symbols. max_freq=91 min_freq=16\n",
      "bpe_model_trainer.cc(258) LOG(INFO) Added: freq=90 size=2920 all=233220 active=11996 piece=이를\n",
      "bpe_model_trainer.cc(258) LOG(INFO) Added: freq=89 size=2940 all=233628 active=12404 piece=▁늦\n",
      "bpe_model_trainer.cc(258) LOG(INFO) Added: freq=89 size=2960 all=234139 active=12915 piece=▁말할\n",
      "bpe_model_trainer.cc(258) LOG(INFO) Added: freq=88 size=2980 all=234648 active=13424 piece=대가\n",
      "bpe_model_trainer.cc(258) LOG(INFO) Added: freq=88 size=3000 all=235069 active=13845 piece=▁점수가\n",
      "bpe_model_trainer.cc(167) LOG(INFO) Updating active symbols. max_freq=88 min_freq=16\n",
      "bpe_model_trainer.cc(258) LOG(INFO) Added: freq=87 size=3020 all=235605 active=12285 piece=▁보러\n",
      "bpe_model_trainer.cc(258) LOG(INFO) Added: freq=86 size=3040 all=235908 active=12588 piece=제목\n",
      "bpe_model_trainer.cc(258) LOG(INFO) Added: freq=86 size=3060 all=236414 active=13094 piece=▁마세요\n",
      "bpe_model_trainer.cc(258) LOG(INFO) Added: freq=85 size=3080 all=236804 active=13484 piece=하다니\n",
      "bpe_model_trainer.cc(258) LOG(INFO) Added: freq=84 size=3100 all=237360 active=14040 piece=▁40\n",
      "bpe_model_trainer.cc(167) LOG(INFO) Updating active symbols. max_freq=84 min_freq=15\n",
      "bpe_model_trainer.cc(258) LOG(INFO) Added: freq=83 size=3120 all=237643 active=12150 piece=냄새\n",
      "bpe_model_trainer.cc(258) LOG(INFO) Added: freq=83 size=3140 all=238278 active=12785 piece=▁빼고는\n",
      "bpe_model_trainer.cc(258) LOG(INFO) Added: freq=82 size=3160 all=238670 active=13177 piece=한건\n",
      "bpe_model_trainer.cc(258) LOG(INFO) Added: freq=82 size=3180 all=239032 active=13539 piece=▁이해하기\n",
      "bpe_model_trainer.cc(258) LOG(INFO) Added: freq=81 size=3200 all=239360 active=13867 piece=▁없어요\n",
      "bpe_model_trainer.cc(167) LOG(INFO) Updating active symbols. max_freq=81 min_freq=15\n",
      "bpe_model_trainer.cc(258) LOG(INFO) Added: freq=80 size=3220 all=239983 active=12590 piece=▁70\n",
      "bpe_model_trainer.cc(258) LOG(INFO) Added: freq=80 size=3240 all=240368 active=12975 piece=♥♥♥♥\n",
      "bpe_model_trainer.cc(258) LOG(INFO) Added: freq=79 size=3260 all=240701 active=13308 piece=▁이럴\n",
      "bpe_model_trainer.cc(258) LOG(INFO) Added: freq=78 size=3280 all=240916 active=13523 piece=▁센\n",
      "bpe_model_trainer.cc(258) LOG(INFO) Added: freq=78 size=3300 all=241329 active=13936 piece=▁화끈\n",
      "bpe_model_trainer.cc(167) LOG(INFO) Updating active symbols. max_freq=78 min_freq=15\n",
      "bpe_model_trainer.cc(258) LOG(INFO) Added: freq=77 size=3320 all=241603 active=12318 piece=공감\n",
      "bpe_model_trainer.cc(258) LOG(INFO) Added: freq=77 size=3340 all=242060 active=12775 piece=비디오\n",
      "bpe_model_trainer.cc(258) LOG(INFO) Added: freq=76 size=3360 all=242487 active=13202 piece=져서\n",
      "bpe_model_trainer.cc(258) LOG(INFO) Added: freq=76 size=3380 all=242817 active=13532 piece=▁아까울\n",
      "bpe_model_trainer.cc(258) LOG(INFO) Added: freq=75 size=3400 all=243268 active=13983 piece=▁제로\n",
      "bpe_model_trainer.cc(167) LOG(INFO) Updating active symbols. max_freq=75 min_freq=15\n",
      "bpe_model_trainer.cc(258) LOG(INFO) Added: freq=74 size=3420 all=243439 active=12324 piece=▁척\n",
      "bpe_model_trainer.cc(258) LOG(INFO) Added: freq=74 size=3440 all=243954 active=12839 piece=나네요\n",
      "bpe_model_trainer.cc(258) LOG(INFO) Added: freq=73 size=3460 all=244422 active=13307 piece=줘야\n",
      "bpe_model_trainer.cc(258) LOG(INFO) Added: freq=73 size=3480 all=244939 active=13824 piece=▁귀엽다\n",
      "bpe_model_trainer.cc(258) LOG(INFO) Added: freq=72 size=3500 all=245163 active=14048 piece=되지\n",
      "bpe_model_trainer.cc(167) LOG(INFO) Updating active symbols. max_freq=72 min_freq=14\n",
      "bpe_model_trainer.cc(258) LOG(INFO) Added: freq=72 size=3520 all=245634 active=12681 piece=▁찌질\n",
      "bpe_model_trainer.cc(258) LOG(INFO) Added: freq=71 size=3540 all=245968 active=13015 piece=려요\n",
      "bpe_model_trainer.cc(258) LOG(INFO) Added: freq=71 size=3560 all=246435 active=13482 piece=▁신비\n",
      "bpe_model_trainer.cc(258) LOG(INFO) Added: freq=71 size=3580 all=246749 active=13796 piece=▁같습니다\n",
      "bpe_model_trainer.cc(258) LOG(INFO) Added: freq=70 size=3600 all=247095 active=14142 piece=▁아프\n",
      "bpe_model_trainer.cc(167) LOG(INFO) Updating active symbols. max_freq=70 min_freq=14\n",
      "bpe_model_trainer.cc(258) LOG(INFO) Added: freq=70 size=3620 all=247303 active=12548 piece=▁이런영화는\n",
      "bpe_model_trainer.cc(258) LOG(INFO) Added: freq=69 size=3640 all=247730 active=12975 piece=▁맨날\n",
      "bpe_model_trainer.cc(258) LOG(INFO) Added: freq=69 size=3660 all=248156 active=13401 piece=▁느낄수\n",
      "bpe_model_trainer.cc(258) LOG(INFO) Added: freq=68 size=3680 all=248325 active=13570 piece=노래\n",
      "bpe_model_trainer.cc(258) LOG(INFO) Added: freq=68 size=3700 all=248940 active=14185 piece=▁희생\n",
      "bpe_model_trainer.cc(167) LOG(INFO) Updating active symbols. max_freq=68 min_freq=14\n",
      "bpe_model_trainer.cc(258) LOG(INFO) Added: freq=67 size=3720 all=249124 active=12597 piece=▁챙\n",
      "bpe_model_trainer.cc(258) LOG(INFO) Added: freq=67 size=3740 all=249597 active=13070 piece=▁상업\n",
      "bpe_model_trainer.cc(258) LOG(INFO) Added: freq=67 size=3760 all=249819 active=13292 piece=▁소소한\n",
      "bpe_model_trainer.cc(258) LOG(INFO) Added: freq=66 size=3780 all=249973 active=13446 piece=▁팀\n",
      "bpe_model_trainer.cc(258) LOG(INFO) Added: freq=66 size=3800 all=250508 active=13981 piece=▁받을\n",
      "bpe_model_trainer.cc(167) LOG(INFO) Updating active symbols. max_freq=66 min_freq=14\n",
      "bpe_model_trainer.cc(258) LOG(INFO) Added: freq=66 size=3820 all=250823 active=12831 piece=▁김기덕\n",
      "bpe_model_trainer.cc(258) LOG(INFO) Added: freq=66 size=3840 all=251029 active=13037 piece=▁볼만했다\n",
      "bpe_model_trainer.cc(258) LOG(INFO) Added: freq=65 size=3860 all=251540 active=13548 piece=▁조절\n",
      "bpe_model_trainer.cc(258) LOG(INFO) Added: freq=65 size=3880 all=251761 active=13769 piece=▁진부하고\n",
      "bpe_model_trainer.cc(258) LOG(INFO) Added: freq=64 size=3900 all=252271 active=14279 piece=요일\n",
      "bpe_model_trainer.cc(167) LOG(INFO) Updating active symbols. max_freq=64 min_freq=13\n",
      "bpe_model_trainer.cc(258) LOG(INFO) Added: freq=64 size=3920 all=252781 active=13094 piece=▁가치가\n",
      "bpe_model_trainer.cc(258) LOG(INFO) Added: freq=63 size=3940 all=253006 active=13319 piece=던지\n",
      "bpe_model_trainer.cc(258) LOG(INFO) Added: freq=63 size=3960 all=253419 active=13732 piece=▁일깨\n",
      "bpe_model_trainer.cc(258) LOG(INFO) Added: freq=63 size=3980 all=253759 active=14072 piece=▁잔인한\n",
      "bpe_model_trainer.cc(258) LOG(INFO) Added: freq=62 size=4000 all=253972 active=14285 piece=▁컬\n",
      "bpe_model_trainer.cc(167) LOG(INFO) Updating active symbols. max_freq=62 min_freq=13\n",
      "bpe_model_trainer.cc(258) LOG(INFO) Added: freq=62 size=4020 all=254330 active=13049 piece=▁쓸데\n",
      "bpe_model_trainer.cc(258) LOG(INFO) Added: freq=62 size=4040 all=254708 active=13427 piece=▁집에서\n",
      "bpe_model_trainer.cc(258) LOG(INFO) Added: freq=61 size=4060 all=255101 active=13820 piece=ᅮᅮᅮ\n",
      "bpe_model_trainer.cc(258) LOG(INFO) Added: freq=61 size=4080 all=255525 active=14244 piece=▁말아먹\n",
      "bpe_model_trainer.cc(258) LOG(INFO) Added: freq=60 size=4100 all=255704 active=14423 piece=▁헬\n",
      "bpe_model_trainer.cc(167) LOG(INFO) Updating active symbols. max_freq=60 min_freq=13\n",
      "bpe_model_trainer.cc(258) LOG(INFO) Added: freq=60 size=4120 all=256148 active=13208 piece=▁부실\n",
      "bpe_model_trainer.cc(258) LOG(INFO) Added: freq=60 size=4140 all=256464 active=13524 piece=▁할머니\n",
      "bpe_model_trainer.cc(258) LOG(INFO) Added: freq=59 size=4160 all=256909 active=13969 piece=복을\n",
      "bpe_model_trainer.cc(258) LOG(INFO) Added: freq=59 size=4180 all=257346 active=14406 piece=▁생에\n",
      "bpe_model_trainer.cc(258) LOG(INFO) Added: freq=59 size=4200 all=257571 active=14631 piece=▁조니뎁\n",
      "bpe_model_trainer.cc(167) LOG(INFO) Updating active symbols. max_freq=59 min_freq=13\n",
      "bpe_model_trainer.cc(258) LOG(INFO) Added: freq=58 size=4220 all=257905 active=13196 piece=더빙\n",
      "bpe_model_trainer.cc(258) LOG(INFO) Added: freq=58 size=4240 all=258585 active=13875 piece=▁다만\n",
      "bpe_model_trainer.cc(258) LOG(INFO) Added: freq=58 size=4260 all=258827 active=14117 piece=그래서\n",
      "bpe_model_trainer.cc(258) LOG(INFO) Added: freq=58 size=4280 all=259192 active=14482 piece=▁궁금하다\n",
      "bpe_model_trainer.cc(258) LOG(INFO) Added: freq=57 size=4300 all=259461 active=14751 piece=루즈\n",
      "bpe_model_trainer.cc(167) LOG(INFO) Updating active symbols. max_freq=57 min_freq=13\n",
      "bpe_model_trainer.cc(258) LOG(INFO) Added: freq=57 size=4320 all=259777 active=13270 piece=▁반성\n",
      "bpe_model_trainer.cc(258) LOG(INFO) Added: freq=57 size=4340 all=260130 active=13623 piece=적이지\n",
      "bpe_model_trainer.cc(258) LOG(INFO) Added: freq=57 size=4360 all=260286 active=13779 piece=▁잘하고\n",
      "bpe_model_trainer.cc(258) LOG(INFO) Added: freq=56 size=4380 all=260509 active=14002 piece=배경\n",
      "bpe_model_trainer.cc(258) LOG(INFO) Added: freq=56 size=4400 all=261046 active=14539 piece=▁아냐\n",
      "bpe_model_trainer.cc(167) LOG(INFO) Updating active symbols. max_freq=56 min_freq=12\n",
      "bpe_model_trainer.cc(258) LOG(INFO) Added: freq=56 size=4420 all=261261 active=13265 piece=▁잊을수\n",
      "bpe_model_trainer.cc(258) LOG(INFO) Added: freq=55 size=4440 all=261550 active=13554 piece=발견\n",
      "bpe_model_trainer.cc(258) LOG(INFO) Added: freq=55 size=4460 all=262059 active=14063 piece=▁어지\n",
      "bpe_model_trainer.cc(258) LOG(INFO) Added: freq=55 size=4480 all=262399 active=14403 piece=▁동성애\n",
      "bpe_model_trainer.cc(258) LOG(INFO) Added: freq=55 size=4500 all=262524 active=14528 piece=▁오래전에\n",
      "bpe_model_trainer.cc(167) LOG(INFO) Updating active symbols. max_freq=55 min_freq=12\n",
      "bpe_model_trainer.cc(258) LOG(INFO) Added: freq=54 size=4520 all=262903 active=13503 piece=인도\n",
      "bpe_model_trainer.cc(258) LOG(INFO) Added: freq=54 size=4540 all=263203 active=13803 piece=▁직접\n",
      "bpe_model_trainer.cc(258) LOG(INFO) Added: freq=54 size=4560 all=263564 active=14164 piece=▁아니지\n",
      "bpe_model_trainer.cc(258) LOG(INFO) Added: freq=53 size=4580 all=263711 active=14311 piece=▁곽\n",
      "bpe_model_trainer.cc(258) LOG(INFO) Added: freq=53 size=4600 all=264299 active=14899 piece=주연\n",
      "bpe_model_trainer.cc(167) LOG(INFO) Updating active symbols. max_freq=53 min_freq=12\n",
      "bpe_model_trainer.cc(258) LOG(INFO) Added: freq=53 size=4620 all=264571 active=13447 piece=▁평균\n",
      "bpe_model_trainer.cc(258) LOG(INFO) Added: freq=53 size=4640 all=264858 active=13734 piece=▁꼭보세요\n",
      "bpe_model_trainer.cc(258) LOG(INFO) Added: freq=52 size=4660 all=265189 active=14065 piece=슨의\n",
      "bpe_model_trainer.cc(258) LOG(INFO) Added: freq=52 size=4680 all=265677 active=14553 piece=▁둘째\n",
      "bpe_model_trainer.cc(258) LOG(INFO) Added: freq=52 size=4700 all=265913 active=14788 piece=▁아깝네\n",
      "bpe_model_trainer.cc(167) LOG(INFO) Updating active symbols. max_freq=52 min_freq=12\n",
      "bpe_model_trainer.cc(258) LOG(INFO) Added: freq=51 size=4720 all=266044 active=13424 piece=▁쿵\n",
      "bpe_model_trainer.cc(258) LOG(INFO) Added: freq=51 size=4740 all=266628 active=14008 piece=어린\n",
      "bpe_model_trainer.cc(258) LOG(INFO) Added: freq=51 size=4760 all=267018 active=14398 piece=▁사무\n",
      "bpe_model_trainer.cc(258) LOG(INFO) Added: freq=51 size=4780 all=267481 active=14861 piece=점대가\n",
      "bpe_model_trainer.cc(258) LOG(INFO) Added: freq=51 size=4800 all=267648 active=15028 piece=▁억지감동\n",
      "bpe_model_trainer.cc(167) LOG(INFO) Updating active symbols. max_freq=51 min_freq=12\n",
      "bpe_model_trainer.cc(258) LOG(INFO) Added: freq=50 size=4820 all=268101 active=13819 piece=햇다\n",
      "bpe_model_trainer.cc(258) LOG(INFO) Added: freq=50 size=4840 all=268393 active=14111 piece=재밋음\n",
      "bpe_model_trainer.cc(258) LOG(INFO) Added: freq=50 size=4860 all=268587 active=14305 piece=▁생각난다\n",
      "bpe_model_trainer.cc(258) LOG(INFO) Added: freq=49 size=4880 all=269025 active=14743 piece=제로\n",
      "bpe_model_trainer.cc(258) LOG(INFO) Added: freq=49 size=4900 all=269334 active=15052 piece=▁좋네\n",
      "bpe_model_trainer.cc(167) LOG(INFO) Updating active symbols. max_freq=49 min_freq=12\n",
      "bpe_model_trainer.cc(258) LOG(INFO) Added: freq=49 size=4920 all=269609 active=13734 piece=▁어디로\n",
      "bpe_model_trainer.cc(258) LOG(INFO) Added: freq=49 size=4940 all=269715 active=13840 piece=▁보았습니다\n",
      "bpe_model_trainer.cc(258) LOG(INFO) Added: freq=48 size=4960 all=270167 active=14292 piece=아오\n",
      "bpe_model_trainer.cc(258) LOG(INFO) Added: freq=48 size=4980 all=270631 active=14756 piece=▁반복\n",
      "bpe_model_trainer.cc(258) LOG(INFO) Added: freq=48 size=5000 all=270917 active=15041 piece=방사수\n",
      "bpe_model_trainer.cc(167) LOG(INFO) Updating active symbols. max_freq=48 min_freq=11\n",
      "bpe_model_trainer.cc(258) LOG(INFO) Added: freq=48 size=5020 all=271188 active=13803 piece=▁전쟁의\n",
      "bpe_model_trainer.cc(258) LOG(INFO) Added: freq=48 size=5040 all=271401 active=14016 piece=▁한국에서\n",
      "bpe_model_trainer.cc(258) LOG(INFO) Added: freq=47 size=5060 all=271870 active=14485 piece=자고\n",
      "bpe_model_trainer.cc(258) LOG(INFO) Added: freq=47 size=5080 all=272114 active=14729 piece=▁이쁨\n",
      "bpe_model_trainer.cc(258) LOG(INFO) Added: freq=47 size=5100 all=272338 active=14953 piece=▁애들은\n",
      "bpe_model_trainer.cc(167) LOG(INFO) Updating active symbols. max_freq=47 min_freq=11\n",
      "bpe_model_trainer.cc(258) LOG(INFO) Added: freq=47 size=5120 all=272548 active=13826 piece=▁실망이다\n",
      "bpe_model_trainer.cc(258) LOG(INFO) Added: freq=46 size=5140 all=272769 active=14047 piece=뭐지\n",
      "bpe_model_trainer.cc(258) LOG(INFO) Added: freq=46 size=5160 all=273142 active=14420 piece=▁볼때\n",
      "bpe_model_trainer.cc(258) LOG(INFO) Added: freq=46 size=5180 all=273413 active=14691 piece=▁높아서\n",
      "bpe_model_trainer.cc(258) LOG(INFO) Added: freq=46 size=5200 all=273481 active=14759 piece=극장에서\n",
      "bpe_model_trainer.cc(167) LOG(INFO) Updating active symbols. max_freq=46 min_freq=11\n",
      "bpe_model_trainer.cc(258) LOG(INFO) Added: freq=45 size=5220 all=273635 active=13791 piece=▁옷\n",
      "bpe_model_trainer.cc(258) LOG(INFO) Added: freq=45 size=5240 all=274217 active=14373 piece=울뿐\n",
      "bpe_model_trainer.cc(258) LOG(INFO) Added: freq=45 size=5260 all=274663 active=14819 piece=▁보구\n",
      "bpe_model_trainer.cc(258) LOG(INFO) Added: freq=45 size=5280 all=274939 active=15095 piece=지루해\n",
      "bpe_model_trainer.cc(258) LOG(INFO) Added: freq=45 size=5300 all=275067 active=15223 piece=▁웃겼다\n",
      "bpe_model_trainer.cc(167) LOG(INFO) Updating active symbols. max_freq=45 min_freq=11\n",
      "bpe_model_trainer.cc(258) LOG(INFO) Added: freq=45 size=5320 all=275188 active=13872 piece=▁인생영화\n",
      "bpe_model_trainer.cc(258) LOG(INFO) Added: freq=44 size=5340 all=275494 active=14178 piece=본색\n",
      "bpe_model_trainer.cc(258) LOG(INFO) Added: freq=44 size=5360 all=275803 active=14487 piece=▁상관\n",
      "bpe_model_trainer.cc(258) LOG(INFO) Added: freq=44 size=5380 all=276085 active=14769 piece=인영화\n",
      "bpe_model_trainer.cc(258) LOG(INFO) Added: freq=44 size=5400 all=276285 active=14969 piece=▁적어도\n",
      "bpe_model_trainer.cc(167) LOG(INFO) Updating active symbols. max_freq=44 min_freq=11\n",
      "bpe_model_trainer.cc(258) LOG(INFO) Added: freq=44 size=5420 all=276371 active=13901 piece=▁좋아하지만\n",
      "bpe_model_trainer.cc(258) LOG(INFO) Added: freq=43 size=5440 all=276731 active=14261 piece=못해\n",
      "bpe_model_trainer.cc(258) LOG(INFO) Added: freq=43 size=5460 all=277199 active=14729 piece=▁당연\n",
      "bpe_model_trainer.cc(258) LOG(INFO) Added: freq=43 size=5480 all=277436 active=14966 piece=▁했음\n",
      "bpe_model_trainer.cc(258) LOG(INFO) Added: freq=43 size=5500 all=277656 active=15186 piece=▁알았음\n",
      "bpe_model_trainer.cc(167) LOG(INFO) Updating active symbols. max_freq=43 min_freq=11\n",
      "bpe_model_trainer.cc(258) LOG(INFO) Added: freq=43 size=5520 all=277820 active=14045 piece=▁갠적으로\n",
      "bpe_model_trainer.cc(258) LOG(INFO) Added: freq=42 size=5540 all=277956 active=14181 piece=광고\n",
      "bpe_model_trainer.cc(258) LOG(INFO) Added: freq=42 size=5560 all=278547 active=14772 piece=지섭\n",
      "bpe_model_trainer.cc(258) LOG(INFO) Added: freq=42 size=5580 all=278863 active=15088 piece=▁보며\n",
      "bpe_model_trainer.cc(258) LOG(INFO) Added: freq=42 size=5600 all=279106 active=15331 piece=다는걸\n",
      "bpe_model_trainer.cc(167) LOG(INFO) Updating active symbols. max_freq=42 min_freq=11\n",
      "bpe_model_trainer.cc(258) LOG(INFO) Added: freq=42 size=5620 all=279277 active=14095 piece=▁에라이\n",
      "bpe_model_trainer.cc(258) LOG(INFO) Added: freq=42 size=5640 all=279439 active=14257 piece=▁슬픈영화\n",
      "bpe_model_trainer.cc(258) LOG(INFO) Added: freq=41 size=5660 all=279682 active=14500 piece=둥이\n",
      "bpe_model_trainer.cc(258) LOG(INFO) Added: freq=41 size=5680 all=280259 active=15077 piece=혼자\n",
      "bpe_model_trainer.cc(258) LOG(INFO) Added: freq=41 size=5700 all=280520 active=15338 piece=▁절망\n",
      "bpe_model_trainer.cc(167) LOG(INFO) Updating active symbols. max_freq=41 min_freq=10\n",
      "bpe_model_trainer.cc(258) LOG(INFO) Added: freq=41 size=5720 all=280901 active=14389 piece=..,,\n",
      "bpe_model_trainer.cc(258) LOG(INFO) Added: freq=41 size=5740 all=280955 active=14443 piece=▁적절한\n",
      "bpe_model_trainer.cc(258) LOG(INFO) Added: freq=41 size=5760 all=281132 active=14620 piece=.............\n",
      "bpe_model_trainer.cc(258) LOG(INFO) Added: freq=40 size=5780 all=281483 active=14971 piece=미스\n",
      "bpe_model_trainer.cc(258) LOG(INFO) Added: freq=40 size=5800 all=281993 active=15481 piece=치의\n",
      "bpe_model_trainer.cc(167) LOG(INFO) Updating active symbols. max_freq=40 min_freq=10\n",
      "bpe_model_trainer.cc(258) LOG(INFO) Added: freq=40 size=5820 all=282218 active=14303 piece=▁절제\n",
      "bpe_model_trainer.cc(258) LOG(INFO) Added: freq=40 size=5840 all=282422 active=14507 piece=▁생각나\n",
      "bpe_model_trainer.cc(258) LOG(INFO) Added: freq=40 size=5860 all=282600 active=14685 piece=▁최고네요\n",
      "bpe_model_trainer.cc(258) LOG(INFO) Added: freq=39 size=5880 all=282838 active=14923 piece=드먼\n",
      "bpe_model_trainer.cc(258) LOG(INFO) Added: freq=39 size=5900 all=283360 active=15445 piece=줬다\n",
      "bpe_model_trainer.cc(167) LOG(INFO) Updating active symbols. max_freq=39 min_freq=10\n",
      "bpe_model_trainer.cc(258) LOG(INFO) Added: freq=39 size=5920 all=283634 active=14418 piece=▁숨막\n",
      "bpe_model_trainer.cc(258) LOG(INFO) Added: freq=39 size=5940 all=283862 active=14646 piece=졌어요\n",
      "bpe_model_trainer.cc(258) LOG(INFO) Added: freq=39 size=5960 all=283991 active=14775 piece=▁소중한\n",
      "bpe_model_trainer.cc(258) LOG(INFO) Added: freq=39 size=5980 all=284101 active=14885 piece=▁보았는데\n",
      "bpe_model_trainer.cc(258) LOG(INFO) Added: freq=38 size=6000 all=284198 active=14982 piece=.8\n",
      "bpe_model_trainer.cc(167) LOG(INFO) Updating active symbols. max_freq=38 min_freq=10\n",
      "bpe_model_trainer.cc(258) LOG(INFO) Added: freq=38 size=6020 all=284600 active=14593 piece=새록\n",
      "bpe_model_trainer.cc(258) LOG(INFO) Added: freq=38 size=6040 all=285027 active=15020 piece=▁껐다\n",
      "bpe_model_trainer.cc(258) LOG(INFO) Added: freq=38 size=6060 all=285202 active=15195 piece=▁아버\n",
      "bpe_model_trainer.cc(258) LOG(INFO) Added: freq=38 size=6080 all=285381 active=15374 piece=분짜리\n",
      "bpe_model_trainer.cc(258) LOG(INFO) Added: freq=38 size=6100 all=285573 active=15566 piece=▁부모님\n",
      "bpe_model_trainer.cc(167) LOG(INFO) Updating active symbols. max_freq=38 min_freq=10\n",
      "bpe_model_trainer.cc(258) LOG(INFO) Added: freq=38 size=6120 all=285698 active=14395 piece=했었는데\n",
      "bpe_model_trainer.cc(258) LOG(INFO) Added: freq=38 size=6140 all=285785 active=14482 piece=▁캐릭터들\n",
      "bpe_model_trainer.cc(258) LOG(INFO) Added: freq=37 size=6160 all=286043 active=14740 piece=동화\n",
      "bpe_model_trainer.cc(258) LOG(INFO) Added: freq=37 size=6180 all=286581 active=15278 piece=▁고어\n",
      "bpe_model_trainer.cc(258) LOG(INFO) Added: freq=37 size=6200 all=286802 active=15499 piece=▁였다\n",
      "bpe_model_trainer.cc(167) LOG(INFO) Updating active symbols. max_freq=37 min_freq=10\n",
      "bpe_model_trainer.cc(258) LOG(INFO) Added: freq=37 size=6220 all=287098 active=14633 piece=▁더빙이\n",
      "trainer_interface.cc(615) LOG(INFO) Saving model: korean_spm_bpe.model\n",
      "trainer_interface.cc(626) LOG(INFO) Saving vocabs: korean_spm_bpe.vocab\n"
     ]
    },
    {
     "name": "stdout",
     "output_type": "stream",
     "text": [
      "-rw-r--r-- 1 root root 370456 Sep 23 03:10 korean_spm_bpe.model\r\n",
      "-rw-r--r-- 1 root root 115658 Sep 23 03:10 korean_spm_bpe.vocab\r\n"
     ]
    }
   ],
   "source": [
    "import sentencepiece as spm\n",
    "import os\n",
    "temp_file = os.getenv('HOME')+'/aiffel/sp_tokenizer/data/korean-english-park.train.ko.temp'\n",
    "\n",
    "vocab_size = 8000\n",
    "\n",
    "with open(temp_file, 'w') as f:\n",
    "    for row in removed_data['document']:   # 이전 스텝에서 정제했던 corpus를 활용합니다.\n",
    "        f.write(str(row) + '\\n')\n",
    "\n",
    "spm.SentencePieceTrainer.Train(\n",
    "    '--input={} --model_prefix=korean_spm_bpe --model_type=bpe --vocab_size={}'.format(temp_file, vocab_size)    \n",
    ")\n",
    "\n",
    "!ls -l korean_spm_bpe*"
   ]
  },
  {
   "cell_type": "code",
   "execution_count": 44,
   "id": "cf622cc0",
   "metadata": {},
   "outputs": [
    {
     "name": "stdout",
     "output_type": "stream",
     "text": [
      "[6062, 995, 6535, 6252, 1604, 6245, 6357, 6238, 6236]\n",
      "['▁아버', '지가', '방', '에', '들어', '가', '신', '다', '.']\n",
      "아버지가방에들어가신다.\n"
     ]
    }
   ],
   "source": [
    "s = spm.SentencePieceProcessor()\n",
    "s.Load('korean_spm_bpe.model')\n",
    "\n",
    "# SentencePiece를 활용한 sentence -> encoding\n",
    "tokensIDs = s.EncodeAsIds('아버지가방에들어가신다.')\n",
    "print(tokensIDs)\n",
    "\n",
    "# SentencePiece를 활용한 sentence -> encoded pieces\n",
    "print(s.SampleEncodeAsPieces('아버지가방에들어가신다.',1, 0.0))\n",
    "\n",
    "# SentencePiece를 활용한 encoding -> sentence 복원\n",
    "print(s.DecodeIds(tokensIDs))"
   ]
  },
  {
   "cell_type": "markdown",
   "id": "7c7273c2",
   "metadata": {},
   "source": [
    "### 6.2 Tokenizer 함수\n"
   ]
  },
  {
   "cell_type": "code",
   "execution_count": 45,
   "id": "d2eecb31",
   "metadata": {},
   "outputs": [],
   "source": [
    "def sp_tokenize(s, corpus):\n",
    "\n",
    "    tensor = []\n",
    "\n",
    "    for sen in corpus:\n",
    "        tensor.append(s.EncodeAsIds(sen))\n",
    "\n",
    "    with open(\"./korean_spm_bpe.vocab\", 'r') as f:\n",
    "        vocab = f.readlines()\n",
    "\n",
    "    word_index = {}\n",
    "    index_word = {}\n",
    "\n",
    "    for idx, line in enumerate(vocab):\n",
    "        word = line.split(\"\\t\")[0]\n",
    "\n",
    "        word_index.update({idx:word})\n",
    "        index_word.update({word:idx})\n",
    "\n",
    "    tensor = tf.keras.preprocessing.sequence.pad_sequences(tensor, padding='post')\n",
    "\n",
    "    return tensor, word_index, index_word"
   ]
  },
  {
   "cell_type": "code",
   "execution_count": 46,
   "id": "c495bf9e",
   "metadata": {},
   "outputs": [
    {
     "name": "stdout",
     "output_type": "stream",
     "text": [
      "[[ 646 2980 6267  559  844 6236    0    0    0]\n",
      " [1680 2218  272  364 6245  172 7699   17    7]]\n"
     ]
    }
   ],
   "source": [
    "#sp_tokenize(s, corpus) 사용예제\n",
    "\n",
    "my_corpus = ['나는 밥을 먹었습니다.', '그러나 여전히 ㅠㅠ 배가 고픕니다...']\n",
    "tensor, word_index, index_word = sp_tokenize(s, my_corpus)\n",
    "print(tensor)"
   ]
  },
  {
   "cell_type": "markdown",
   "id": "e0fbb527",
   "metadata": {},
   "source": [
    "### 6.3 모델 구성 및 훈련\n"
   ]
  },
  {
   "cell_type": "code",
   "execution_count": 47,
   "id": "5574b151",
   "metadata": {},
   "outputs": [
    {
     "name": "stdout",
     "output_type": "stream",
     "text": [
      "Model: \"sequential_1\"\n",
      "_________________________________________________________________\n",
      "Layer (type)                 Output Shape              Param #   \n",
      "=================================================================\n",
      "embedding_1 (Embedding)      (None, None, 16)          160000    \n",
      "_________________________________________________________________\n",
      "lstm_1 (LSTM)                (None, 8)                 800       \n",
      "_________________________________________________________________\n",
      "dense_2 (Dense)              (None, 8)                 72        \n",
      "_________________________________________________________________\n",
      "dense_3 (Dense)              (None, 1)                 9         \n",
      "=================================================================\n",
      "Total params: 160,881\n",
      "Trainable params: 160,881\n",
      "Non-trainable params: 0\n",
      "_________________________________________________________________\n"
     ]
    }
   ],
   "source": [
    "vocab_size = 10000   # 단어사진 크기\n",
    "word_vector_dim = 16  # 단어 하나를 표현하는 임베딩 벡터의 차원수 (변경 가능한 하이퍼파라마터)\n",
    "\n",
    "model_2 = tf.keras.Sequential()\n",
    "model_2.add(tf.keras.layers.Embedding(vocab_size, word_vector_dim, input_shape = (None,)))\n",
    "model_2.add(tf.keras.layers.LSTM(8))  # LSTM 레이어 사용 & LSTM 벡터의 차원 수 변경 가능\n",
    "model_2.add(tf.keras.layers.Dense(8, activation = 'relu'))\n",
    "model_2.add(tf.keras.layers.Dense(1, activation = 'sigmoid')) # 최종 출력은 긍정/부정을 나타내는 1dim\n",
    "\n",
    "model_2.summary()"
   ]
  },
  {
   "cell_type": "code",
   "execution_count": 48,
   "id": "646fef16",
   "metadata": {},
   "outputs": [
    {
     "name": "stdout",
     "output_type": "stream",
     "text": [
      "Epoch 1/10\n",
      "184/184 [==============================] - 1s 6ms/step - loss: 0.2814 - accuracy: 0.8787 - val_loss: 0.3643 - val_accuracy: 0.8404\n",
      "Epoch 2/10\n",
      "184/184 [==============================] - 1s 6ms/step - loss: 0.2755 - accuracy: 0.8806 - val_loss: 0.3750 - val_accuracy: 0.8408\n",
      "Epoch 3/10\n",
      "184/184 [==============================] - 1s 6ms/step - loss: 0.2676 - accuracy: 0.8819 - val_loss: 0.3692 - val_accuracy: 0.8428\n",
      "Epoch 4/10\n",
      "184/184 [==============================] - 1s 6ms/step - loss: 0.2570 - accuracy: 0.8842 - val_loss: 0.3930 - val_accuracy: 0.8387\n",
      "Epoch 5/10\n",
      "184/184 [==============================] - 1s 6ms/step - loss: 0.2468 - accuracy: 0.8857 - val_loss: 0.3924 - val_accuracy: 0.8404\n",
      "Epoch 6/10\n",
      "184/184 [==============================] - 1s 6ms/step - loss: 0.2365 - accuracy: 0.8889 - val_loss: 0.4111 - val_accuracy: 0.8381\n",
      "Epoch 7/10\n",
      "184/184 [==============================] - 1s 6ms/step - loss: 0.2276 - accuracy: 0.8919 - val_loss: 0.4407 - val_accuracy: 0.8358\n",
      "Epoch 8/10\n",
      "184/184 [==============================] - 1s 6ms/step - loss: 0.2189 - accuracy: 0.8947 - val_loss: 0.4487 - val_accuracy: 0.8343\n",
      "Epoch 9/10\n",
      "184/184 [==============================] - 1s 6ms/step - loss: 0.2121 - accuracy: 0.8974 - val_loss: 0.4418 - val_accuracy: 0.8375\n",
      "Epoch 10/10\n",
      "184/184 [==============================] - 1s 6ms/step - loss: 0.2073 - accuracy: 0.8995 - val_loss: 0.4696 - val_accuracy: 0.8280\n"
     ]
    }
   ],
   "source": [
    "model_2.compile(optimizer = 'adam',\n",
    "                loss = 'binary_crossentropy',\n",
    "                metrics = ['accuracy'])\n",
    "\n",
    "epochs = 10\n",
    "\n",
    "history_2 = model.fit(x_train,\n",
    "                      y_train,\n",
    "                      epochs = epochs,\n",
    "                      batch_size = 512,\n",
    "                      validation_data = (x_val, y_val),\n",
    "                      verbose = 1)"
   ]
  },
  {
   "cell_type": "code",
   "execution_count": 49,
   "id": "5cf8e8c0",
   "metadata": {},
   "outputs": [
    {
     "name": "stdout",
     "output_type": "stream",
     "text": [
      "736/736 - 2s - loss: 0.6932 - accuracy: 0.4992\n",
      "[0.6931526064872742, 0.4992354214191437]\n"
     ]
    }
   ],
   "source": [
    "results_2 = model_2.evaluate(x_test, y_test, verbose = 2)\n",
    "print(results_2)"
   ]
  },
  {
   "cell_type": "code",
   "execution_count": 50,
   "id": "470e51ef",
   "metadata": {},
   "outputs": [
    {
     "name": "stdout",
     "output_type": "stream",
     "text": [
      "dict_keys(['loss', 'accuracy', 'val_loss', 'val_accuracy'])\n"
     ]
    }
   ],
   "source": [
    "history_2_dict = history_2.history\n",
    "\n",
    "print(history_2_dict.keys())"
   ]
  },
  {
   "cell_type": "code",
   "execution_count": 51,
   "id": "d4698fa1",
   "metadata": {},
   "outputs": [
    {
     "data": {
      "image/png": "[encoded data removed]",
      "text/plain": [
       "<Figure size 1440x360 with 2 Axes>"
      ]
     },
     "metadata": {
      "needs_background": "light"
     },
     "output_type": "display_data"
    }
   ],
   "source": [
    "acc = history_2_dict['accuracy']\n",
    "val_acc = history_2_dict['val_accuracy']\n",
    "\n",
    "loss = history_2_dict['loss']\n",
    "val_loss = history_2_dict['val_loss']\n",
    "\n",
    "epochs = range(1, len(acc) + 1)\n",
    "\n",
    "plt.figure(figsize=(20,5))\n",
    "\n",
    "plt.subplot(1, 2, 1)\n",
    "plt.plot(epochs, loss, 'b', label = 'Training loss')\n",
    "plt.plot(epochs, val_loss, 'r', label = 'Validation loss')\n",
    "plt.title('Training and validation loss')\n",
    "plt.xlabel('Epochs')\n",
    "plt.ylabel('Loss')\n",
    "plt.legend()\n",
    "\n",
    "plt.subplot(1, 2, 2)\n",
    "plt.plot(epochs, acc, 'b', label = 'Training acc')\n",
    "plt.plot(epochs, val_acc, 'r', label = 'Validation acc')\n",
    "plt.title('Training and validation accuracy')\n",
    "plt.xlabel('Epochs')\n",
    "plt.ylabel('Accuracy')\n",
    "plt.legend()\n",
    "\n",
    "plt.show()"
   ]
  },
  {
   "cell_type": "markdown",
   "id": "a81dd947",
   "metadata": {},
   "source": [
    "# Step 7. vocab_size 조정\n",
    "## 7.1 SentencePiece(unigram)"
   ]
  },
  {
   "cell_type": "code",
   "execution_count": 52,
   "id": "f87d5e42",
   "metadata": {},
   "outputs": [
    {
     "name": "stderr",
     "output_type": "stream",
     "text": [
      "sentencepiece_trainer.cc(177) LOG(INFO) Running command: --input=/aiffel/aiffel/sp_tokenizer/data/korean-english-park.train.ko.temp --model_prefix=korean_spm_25000 --vocab_size=25000\n",
      "sentencepiece_trainer.cc(77) LOG(INFO) Starts training with : \n",
      "trainer_spec {\n",
      "  input: /aiffel/aiffel/sp_tokenizer/data/korean-english-park.train.ko.temp\n",
      "  input_format: \n",
      "  model_prefix: korean_spm_25000\n",
      "  model_type: UNIGRAM\n",
      "  vocab_size: 25000\n",
      "  self_test_sample_size: 0\n",
      "  character_coverage: 0.9995\n",
      "  input_sentence_size: 0\n",
      "  shuffle_input_sentence: 1\n",
      "  seed_sentencepiece_size: 1000000\n",
      "  shrinking_factor: 0.75\n",
      "  max_sentence_length: 4192\n",
      "  num_threads: 16\n",
      "  num_sub_iterations: 2\n",
      "  max_sentencepiece_length: 16\n",
      "  split_by_unicode_script: 1\n",
      "  split_by_number: 1\n",
      "  split_by_whitespace: 1\n",
      "  split_digits: 0\n",
      "  treat_whitespace_as_suffix: 0\n",
      "  allow_whitespace_only_pieces: 0\n",
      "  required_chars: \n",
      "  byte_fallback: 0\n",
      "  vocabulary_output_piece_score: 1\n",
      "  train_extremely_large_corpus: 0\n",
      "  hard_vocab_limit: 1\n",
      "  use_all_vocab: 0\n",
      "  unk_id: 0\n",
      "  bos_id: 1\n",
      "  eos_id: 2\n",
      "  pad_id: -1\n",
      "  unk_piece: <unk>\n",
      "  bos_piece: <s>\n",
      "  eos_piece: </s>\n",
      "  pad_piece: <pad>\n",
      "  unk_surface:  ⁇ \n",
      "}\n",
      "normalizer_spec {\n",
      "  name: nmt_nfkc\n",
      "  add_dummy_prefix: 1\n",
      "  remove_extra_whitespaces: 1\n",
      "  escape_whitespaces: 1\n",
      "  normalization_rule_tsv: \n",
      "}\n",
      "denormalizer_spec {}\n",
      "trainer_interface.cc(329) LOG(INFO) SentenceIterator is not specified. Using MultiFileSentenceIterator.\n",
      "trainer_interface.cc(178) LOG(INFO) Loading corpus: /aiffel/aiffel/sp_tokenizer/data/korean-english-park.train.ko.temp\n",
      "trainer_interface.cc(385) LOG(INFO) Loaded all 147136 sentences\n",
      "trainer_interface.cc(400) LOG(INFO) Adding meta_piece: <unk>\n",
      "trainer_interface.cc(400) LOG(INFO) Adding meta_piece: <s>\n",
      "trainer_interface.cc(400) LOG(INFO) Adding meta_piece: </s>\n",
      "trainer_interface.cc(405) LOG(INFO) Normalizing sentences...\n",
      "trainer_interface.cc(466) LOG(INFO) all chars count=3488286\n",
      "trainer_interface.cc(477) LOG(INFO) Done: 99.95% characters are covered.\n",
      "trainer_interface.cc(487) LOG(INFO) Alphabet size=1765\n",
      "trainer_interface.cc(488) LOG(INFO) Final character coverage=0.9995\n",
      "trainer_interface.cc(520) LOG(INFO) Done! preprocessed 147136 sentences.\n",
      "unigram_model_trainer.cc(139) LOG(INFO) Making suffix array...\n",
      "unigram_model_trainer.cc(143) LOG(INFO) Extracting frequent sub strings...\n",
      "unigram_model_trainer.cc(194) LOG(INFO) Initialized 213776 seed sentencepieces\n",
      "trainer_interface.cc(526) LOG(INFO) Tokenizing input sentences with whitespace: 147136\n",
      "trainer_interface.cc(537) LOG(INFO) Done! 243347\n",
      "unigram_model_trainer.cc(489) LOG(INFO) Using 243347 sentences for EM training\n",
      "unigram_model_trainer.cc(505) LOG(INFO) EM sub_iter=0 size=111109 obj=15.2798 num_tokens=571024 num_tokens/piece=5.13931\n",
      "unigram_model_trainer.cc(505) LOG(INFO) EM sub_iter=1 size=103270 obj=14.2298 num_tokens=574642 num_tokens/piece=5.56446\n",
      "unigram_model_trainer.cc(505) LOG(INFO) EM sub_iter=0 size=77410 obj=14.3514 num_tokens=600068 num_tokens/piece=7.75182\n",
      "unigram_model_trainer.cc(505) LOG(INFO) EM sub_iter=1 size=77298 obj=14.2909 num_tokens=601067 num_tokens/piece=7.77597\n",
      "unigram_model_trainer.cc(505) LOG(INFO) EM sub_iter=0 size=57967 obj=14.5563 num_tokens=633130 num_tokens/piece=10.9222\n",
      "unigram_model_trainer.cc(505) LOG(INFO) EM sub_iter=1 size=57965 obj=14.4875 num_tokens=633405 num_tokens/piece=10.9274\n",
      "unigram_model_trainer.cc(505) LOG(INFO) EM sub_iter=0 size=43473 obj=14.7776 num_tokens=664262 num_tokens/piece=15.2799\n",
      "unigram_model_trainer.cc(505) LOG(INFO) EM sub_iter=1 size=43473 obj=14.7096 num_tokens=664268 num_tokens/piece=15.28\n",
      "unigram_model_trainer.cc(505) LOG(INFO) EM sub_iter=0 size=32604 obj=15.0347 num_tokens=697358 num_tokens/piece=21.3887\n",
      "unigram_model_trainer.cc(505) LOG(INFO) EM sub_iter=1 size=32604 obj=14.9641 num_tokens=697399 num_tokens/piece=21.39\n",
      "unigram_model_trainer.cc(505) LOG(INFO) EM sub_iter=0 size=27500 obj=15.1685 num_tokens=716788 num_tokens/piece=26.065\n",
      "unigram_model_trainer.cc(505) LOG(INFO) EM sub_iter=1 size=27500 obj=15.1276 num_tokens=716786 num_tokens/piece=26.0649\n",
      "trainer_interface.cc(615) LOG(INFO) Saving model: korean_spm_25000.model\n",
      "trainer_interface.cc(626) LOG(INFO) Saving vocabs: korean_spm_25000.vocab\n"
     ]
    },
    {
     "name": "stdout",
     "output_type": "stream",
     "text": [
      "-rw-r--r-- 1 root root 721295 Sep 23 03:13 korean_spm_25000.model\r\n",
      "-rw-r--r-- 1 root root 505806 Sep 23 03:13 korean_spm_25000.vocab\r\n"
     ]
    }
   ],
   "source": [
    "import sentencepiece as spm\n",
    "import os\n",
    "temp_file = os.getenv('HOME')+'/aiffel/sp_tokenizer/data/korean-english-park.train.ko.temp'\n",
    "\n",
    "vocab_size = 25000\n",
    "\n",
    "with open(temp_file, 'w') as f:\n",
    "    for row in removed_data['document']:   # 이전 스텝에서 정제했던 corpus를 활용합니다.\n",
    "        f.write(str(row) + '\\n')\n",
    "\n",
    "spm.SentencePieceTrainer.Train(\n",
    "    '--input={} --model_prefix=korean_spm_25000 --vocab_size={}'.format(temp_file, vocab_size)    \n",
    ")\n",
    "#위 Train에서  --model_type = 'unigram'이 디폴트 적용되어 있습니다. --model_type = 'bpe' 로 옵션을 주어 변경할 수 있습니다.\n",
    "\n",
    "!ls -l korean_spm_25000*"
   ]
  },
  {
   "cell_type": "code",
   "execution_count": 53,
   "id": "83314b6a",
   "metadata": {},
   "outputs": [
    {
     "name": "stdout",
     "output_type": "stream",
     "text": [
      "[8236, 641, 19, 1639, 11, 277, 21, 3]\n",
      "['▁아버지가', '방', '에', '들어', '가', '신', '다', '.']\n",
      "아버지가방에들어가신다.\n"
     ]
    }
   ],
   "source": [
    "s = spm.SentencePieceProcessor()\n",
    "s.Load('korean_spm_25000.model')\n",
    "\n",
    "# SentencePiece를 활용한 sentence -> encoding\n",
    "tokensIDs = s.EncodeAsIds('아버지가방에들어가신다.')\n",
    "print(tokensIDs)\n",
    "\n",
    "# SentencePiece를 활용한 sentence -> encoded pieces\n",
    "print(s.SampleEncodeAsPieces('아버지가방에들어가신다.',1, 0.0))\n",
    "\n",
    "# SentencePiece를 활용한 encoding -> sentence 복원\n",
    "print(s.DecodeIds(tokensIDs))"
   ]
  },
  {
   "cell_type": "code",
   "execution_count": 54,
   "id": "b01616cd",
   "metadata": {},
   "outputs": [],
   "source": [
    "def sp_tokenize(s, corpus):\n",
    "\n",
    "    tensor = []\n",
    "\n",
    "    for sen in corpus:\n",
    "        tensor.append(s.EncodeAsIds(sen))\n",
    "\n",
    "    with open(\"./korean_spm_25000.vocab\", 'r') as f:\n",
    "        vocab = f.readlines()\n",
    "\n",
    "    word_index = {}\n",
    "    index_word = {}\n",
    "\n",
    "    for idx, line in enumerate(vocab):\n",
    "        word = line.split(\"\\t\")[0]\n",
    "\n",
    "        word_index.update({idx:word})\n",
    "        index_word.update({word:idx})\n",
    "\n",
    "    tensor = tf.keras.preprocessing.sequence.pad_sequences(tensor, padding='post')\n",
    "\n",
    "    return tensor, word_index, index_word"
   ]
  },
  {
   "cell_type": "code",
   "execution_count": 55,
   "id": "2fafdd32",
   "metadata": {},
   "outputs": [
    {
     "name": "stdout",
     "output_type": "stream",
     "text": [
      "Model: \"sequential_2\"\n",
      "_________________________________________________________________\n",
      "Layer (type)                 Output Shape              Param #   \n",
      "=================================================================\n",
      "embedding_2 (Embedding)      (None, None, 16)          160000    \n",
      "_________________________________________________________________\n",
      "lstm_2 (LSTM)                (None, 8)                 800       \n",
      "_________________________________________________________________\n",
      "dense_4 (Dense)              (None, 8)                 72        \n",
      "_________________________________________________________________\n",
      "dense_5 (Dense)              (None, 1)                 9         \n",
      "=================================================================\n",
      "Total params: 160,881\n",
      "Trainable params: 160,881\n",
      "Non-trainable params: 0\n",
      "_________________________________________________________________\n"
     ]
    }
   ],
   "source": [
    "vocab_size = 10000   # 단어사진 크기\n",
    "word_vector_dim = 16  # 단어 하나를 표현하는 임베딩 벡터의 차원수 (변경 가능한 하이퍼파라마터)\n",
    "\n",
    "model_3 = tf.keras.Sequential()\n",
    "model_3.add(tf.keras.layers.Embedding(vocab_size, word_vector_dim, input_shape = (None,)))\n",
    "model_3.add(tf.keras.layers.LSTM(8))  # LSTM 레이어 사용 & LSTM 벡터의 차원 수 변경 가능\n",
    "model_3.add(tf.keras.layers.Dense(8, activation = 'relu'))\n",
    "model_3.add(tf.keras.layers.Dense(1, activation = 'sigmoid')) # 최종 출력은 긍정/부정을 나타내는 1dim\n",
    "\n",
    "model_3.summary()"
   ]
  },
  {
   "cell_type": "code",
   "execution_count": 56,
   "id": "f634d86a",
   "metadata": {},
   "outputs": [
    {
     "name": "stdout",
     "output_type": "stream",
     "text": [
      "Epoch 1/10\n",
      "184/184 [==============================] - 1s 6ms/step - loss: 0.2003 - accuracy: 0.9016 - val_loss: 0.4817 - val_accuracy: 0.8332\n",
      "Epoch 2/10\n",
      "184/184 [==============================] - 1s 6ms/step - loss: 0.1965 - accuracy: 0.9030 - val_loss: 0.4841 - val_accuracy: 0.8325\n",
      "Epoch 3/10\n",
      "184/184 [==============================] - 1s 6ms/step - loss: 0.1915 - accuracy: 0.9056 - val_loss: 0.5085 - val_accuracy: 0.8278\n",
      "Epoch 4/10\n",
      "184/184 [==============================] - 1s 6ms/step - loss: 0.1887 - accuracy: 0.9069 - val_loss: 0.5172 - val_accuracy: 0.8305\n",
      "Epoch 5/10\n",
      "184/184 [==============================] - 1s 6ms/step - loss: 0.1844 - accuracy: 0.9085 - val_loss: 0.5273 - val_accuracy: 0.8238\n",
      "Epoch 6/10\n",
      "184/184 [==============================] - 1s 6ms/step - loss: 0.1818 - accuracy: 0.9099 - val_loss: 0.5095 - val_accuracy: 0.8282\n",
      "Epoch 7/10\n",
      "184/184 [==============================] - 1s 6ms/step - loss: 0.1814 - accuracy: 0.9101 - val_loss: 0.5308 - val_accuracy: 0.8322\n",
      "Epoch 8/10\n",
      "184/184 [==============================] - 1s 6ms/step - loss: 0.1764 - accuracy: 0.9128 - val_loss: 0.5234 - val_accuracy: 0.8263\n",
      "Epoch 9/10\n",
      "184/184 [==============================] - 1s 6ms/step - loss: 0.1707 - accuracy: 0.9154 - val_loss: 0.5340 - val_accuracy: 0.8247\n",
      "Epoch 10/10\n",
      "184/184 [==============================] - 1s 6ms/step - loss: 0.1689 - accuracy: 0.9159 - val_loss: 0.5375 - val_accuracy: 0.8239\n"
     ]
    }
   ],
   "source": [
    "model_3.compile(optimizer = 'adam',\n",
    "                loss = 'binary_crossentropy',\n",
    "                metrics = ['accuracy'])\n",
    "\n",
    "epochs = 10\n",
    "\n",
    "history_3 = model.fit(x_train,\n",
    "                      y_train,\n",
    "                      epochs = epochs,\n",
    "                      batch_size = 512,\n",
    "                      validation_data = (x_val, y_val),\n",
    "                      verbose = 1)"
   ]
  },
  {
   "cell_type": "code",
   "execution_count": 57,
   "id": "f8751d09",
   "metadata": {},
   "outputs": [
    {
     "name": "stdout",
     "output_type": "stream",
     "text": [
      "736/736 - 2s - loss: 0.6932 - accuracy: 0.4992\n",
      "[0.6932483911514282, 0.4992354214191437]\n"
     ]
    }
   ],
   "source": [
    "results_3 = model_3.evaluate(x_test, y_test, verbose = 2)\n",
    "print(results_3)"
   ]
  },
  {
   "cell_type": "markdown",
   "id": "bf6d24b7",
   "metadata": {},
   "source": []
  },
  {
   "cell_type": "code",
   "execution_count": 58,
   "id": "55bd031f",
   "metadata": {},
   "outputs": [
    {
     "name": "stderr",
     "output_type": "stream",
     "text": [
      "sentencepiece_trainer.cc(177) LOG(INFO) Running command: --input=/aiffel/aiffel/sp_tokenizer/data/korean-english-park.train.ko.temp --model_prefix=korean_spm_bpe_25000 --model_type=bpe --vocab_size=25000\n",
      "sentencepiece_trainer.cc(77) LOG(INFO) Starts training with : \n",
      "trainer_spec {\n",
      "  input: /aiffel/aiffel/sp_tokenizer/data/korean-english-park.train.ko.temp\n",
      "  input_format: \n",
      "  model_prefix: korean_spm_bpe_25000\n",
      "  model_type: BPE\n",
      "  vocab_size: 25000\n",
      "  self_test_sample_size: 0\n",
      "  character_coverage: 0.9995\n",
      "  input_sentence_size: 0\n",
      "  shuffle_input_sentence: 1\n",
      "  seed_sentencepiece_size: 1000000\n",
      "  shrinking_factor: 0.75\n",
      "  max_sentence_length: 4192\n",
      "  num_threads: 16\n",
      "  num_sub_iterations: 2\n",
      "  max_sentencepiece_length: 16\n",
      "  split_by_unicode_script: 1\n",
      "  split_by_number: 1\n",
      "  split_by_whitespace: 1\n",
      "  split_digits: 0\n",
      "  treat_whitespace_as_suffix: 0\n",
      "  allow_whitespace_only_pieces: 0\n",
      "  required_chars: \n",
      "  byte_fallback: 0\n",
      "  vocabulary_output_piece_score: 1\n",
      "  train_extremely_large_corpus: 0\n",
      "  hard_vocab_limit: 1\n",
      "  use_all_vocab: 0\n",
      "  unk_id: 0\n",
      "  bos_id: 1\n",
      "  eos_id: 2\n",
      "  pad_id: -1\n",
      "  unk_piece: <unk>\n",
      "  bos_piece: <s>\n",
      "  eos_piece: </s>\n",
      "  pad_piece: <pad>\n",
      "  unk_surface:  ⁇ \n",
      "}\n",
      "normalizer_spec {\n",
      "  name: nmt_nfkc\n",
      "  add_dummy_prefix: 1\n",
      "  remove_extra_whitespaces: 1\n",
      "  escape_whitespaces: 1\n",
      "  normalization_rule_tsv: \n",
      "}\n",
      "denormalizer_spec {}\n",
      "trainer_interface.cc(329) LOG(INFO) SentenceIterator is not specified. Using MultiFileSentenceIterator.\n",
      "trainer_interface.cc(178) LOG(INFO) Loading corpus: /aiffel/aiffel/sp_tokenizer/data/korean-english-park.train.ko.temp\n",
      "trainer_interface.cc(385) LOG(INFO) Loaded all 147136 sentences\n",
      "trainer_interface.cc(400) LOG(INFO) Adding meta_piece: <unk>\n",
      "trainer_interface.cc(400) LOG(INFO) Adding meta_piece: <s>\n",
      "trainer_interface.cc(400) LOG(INFO) Adding meta_piece: </s>\n",
      "trainer_interface.cc(405) LOG(INFO) Normalizing sentences...\n",
      "trainer_interface.cc(466) LOG(INFO) all chars count=3488286\n",
      "trainer_interface.cc(477) LOG(INFO) Done: 99.95% characters are covered.\n",
      "trainer_interface.cc(487) LOG(INFO) Alphabet size=1765\n",
      "trainer_interface.cc(488) LOG(INFO) Final character coverage=0.9995\n",
      "trainer_interface.cc(520) LOG(INFO) Done! preprocessed 147136 sentences.\n",
      "trainer_interface.cc(526) LOG(INFO) Tokenizing input sentences with whitespace: 147136\n",
      "trainer_interface.cc(537) LOG(INFO) Done! 243347\n",
      "bpe_model_trainer.cc(167) LOG(INFO) Updating active symbols. max_freq=55990 min_freq=69\n",
      "bpe_model_trainer.cc(258) LOG(INFO) Added: freq=7657 size=20 all=91862 active=8566 piece=▁진\n",
      "bpe_model_trainer.cc(258) LOG(INFO) Added: freq=5511 size=40 all=94781 active=11485 piece=▁스\n",
      "bpe_model_trainer.cc(258) LOG(INFO) Added: freq=3925 size=60 all=98834 active=15538 piece=▁연기\n",
      "bpe_model_trainer.cc(258) LOG(INFO) Added: freq=3378 size=80 all=102043 active=18747 piece=▁주\n",
      "bpe_model_trainer.cc(258) LOG(INFO) Added: freq=2709 size=100 all=104419 active=21123 piece=었다\n",
      "bpe_model_trainer.cc(167) LOG(INFO) Updating active symbols. max_freq=2703 min_freq=58\n",
      "bpe_model_trainer.cc(258) LOG(INFO) Added: freq=2354 size=120 all=107203 active=7843 piece=▁일\n",
      "bpe_model_trainer.cc(258) LOG(INFO) Added: freq=2058 size=140 all=108881 active=9521 piece=▁끝\n",
      "bpe_model_trainer.cc(258) LOG(INFO) Added: freq=1859 size=160 all=111391 active=12031 piece=▁저\n",
      "bpe_model_trainer.cc(258) LOG(INFO) Added: freq=1696 size=180 all=113424 active=14064 piece=면서\n",
      "bpe_model_trainer.cc(258) LOG(INFO) Added: freq=1569 size=200 all=115191 active=15831 piece=▁되\n",
      "bpe_model_trainer.cc(167) LOG(INFO) Updating active symbols. max_freq=1566 min_freq=50\n",
      "bpe_model_trainer.cc(258) LOG(INFO) Added: freq=1462 size=220 all=116990 active=7496 piece=▁불\n",
      "bpe_model_trainer.cc(258) LOG(INFO) Added: freq=1309 size=240 all=119133 active=9639 piece=▁지금\n",
      "bpe_model_trainer.cc(258) LOG(INFO) Added: freq=1234 size=260 all=121249 active=11754 piece=▁살\n",
      "bpe_model_trainer.cc(258) LOG(INFO) Added: freq=1148 size=280 all=123223 active=13728 piece=▁초\n",
      "bpe_model_trainer.cc(258) LOG(INFO) Added: freq=1081 size=300 all=124698 active=15203 piece=▁모르\n",
      "bpe_model_trainer.cc(167) LOG(INFO) Updating active symbols. max_freq=1079 min_freq=45\n",
      "bpe_model_trainer.cc(258) LOG(INFO) Added: freq=1015 size=320 all=126065 active=7573 piece=▁ᄏ\n",
      "bpe_model_trainer.cc(258) LOG(INFO) Added: freq=963 size=340 all=128155 active=9663 piece=정도\n",
      "bpe_model_trainer.cc(258) LOG(INFO) Added: freq=903 size=360 all=130263 active=11771 piece=▁차\n",
      "bpe_model_trainer.cc(258) LOG(INFO) Added: freq=864 size=380 all=131869 active=13377 piece=▁결말\n",
      "bpe_model_trainer.cc(258) LOG(INFO) Added: freq=808 size=400 all=133234 active=14742 piece=▁솔\n",
      "bpe_model_trainer.cc(167) LOG(INFO) Updating active symbols. max_freq=807 min_freq=42\n",
      "bpe_model_trainer.cc(258) LOG(INFO) Added: freq=767 size=420 all=134659 active=8078 piece=▁원작\n",
      "bpe_model_trainer.cc(258) LOG(INFO) Added: freq=737 size=440 all=135985 active=9404 piece=▁잼있\n",
      "bpe_model_trainer.cc(258) LOG(INFO) Added: freq=718 size=460 all=136994 active=10413 piece=▁그런\n",
      "bpe_model_trainer.cc(258) LOG(INFO) Added: freq=682 size=480 all=138404 active=11823 piece=던데\n",
      "bpe_model_trainer.cc(258) LOG(INFO) Added: freq=654 size=500 all=139962 active=13381 piece=타임\n",
      "bpe_model_trainer.cc(167) LOG(INFO) Updating active symbols. max_freq=653 min_freq=39\n",
      "bpe_model_trainer.cc(258) LOG(INFO) Added: freq=628 size=520 all=141426 active=8399 piece=▁그리고\n",
      "bpe_model_trainer.cc(258) LOG(INFO) Added: freq=602 size=540 all=142556 active=9529 piece=▁약\n",
      "bpe_model_trainer.cc(258) LOG(INFO) Added: freq=585 size=560 all=144038 active=11011 piece=▁오랜\n",
      "bpe_model_trainer.cc(258) LOG(INFO) Added: freq=561 size=580 all=145197 active=12170 piece=▁왜이\n",
      "bpe_model_trainer.cc(258) LOG(INFO) Added: freq=546 size=600 all=146339 active=13312 piece=있다\n",
      "bpe_model_trainer.cc(167) LOG(INFO) Updating active symbols. max_freq=545 min_freq=36\n",
      "bpe_model_trainer.cc(258) LOG(INFO) Added: freq=525 size=620 all=147653 active=8537 piece=영화가\n",
      "bpe_model_trainer.cc(258) LOG(INFO) Added: freq=508 size=640 all=148944 active=9828 piece=▁받\n",
      "bpe_model_trainer.cc(258) LOG(INFO) Added: freq=496 size=660 all=150439 active=11323 piece=없음\n",
      "bpe_model_trainer.cc(258) LOG(INFO) Added: freq=479 size=680 all=152043 active=12927 piece=▁부족\n",
      "bpe_model_trainer.cc(258) LOG(INFO) Added: freq=469 size=700 all=152905 active=13789 piece=▁로맨\n",
      "bpe_model_trainer.cc(167) LOG(INFO) Updating active symbols. max_freq=468 min_freq=34\n",
      "bpe_model_trainer.cc(258) LOG(INFO) Added: freq=455 size=720 all=154047 active=8782 piece=리오\n",
      "bpe_model_trainer.cc(258) LOG(INFO) Added: freq=445 size=740 all=155045 active=9780 piece=▁재미가\n",
      "bpe_model_trainer.cc(258) LOG(INFO) Added: freq=436 size=760 all=156200 active=10935 piece=훌륭\n",
      "bpe_model_trainer.cc(258) LOG(INFO) Added: freq=427 size=780 all=157472 active=12207 piece=▁제대로\n",
      "bpe_model_trainer.cc(258) LOG(INFO) Added: freq=415 size=800 all=158472 active=13207 piece=▁6\n",
      "bpe_model_trainer.cc(167) LOG(INFO) Updating active symbols. max_freq=415 min_freq=32\n",
      "bpe_model_trainer.cc(258) LOG(INFO) Added: freq=408 size=820 all=159758 active=9197 piece=▁담\n",
      "bpe_model_trainer.cc(258) LOG(INFO) Added: freq=397 size=840 all=160716 active=10155 piece=이라는\n",
      "bpe_model_trainer.cc(258) LOG(INFO) Added: freq=389 size=860 all=162188 active=11627 piece=▁영화로\n",
      "bpe_model_trainer.cc(258) LOG(INFO) Added: freq=378 size=880 all=163246 active=12685 piece=▁봤어요\n",
      "bpe_model_trainer.cc(258) LOG(INFO) Added: freq=369 size=900 all=164183 active=13622 piece=말이\n",
      "bpe_model_trainer.cc(167) LOG(INFO) Updating active symbols. max_freq=369 min_freq=30\n",
      "bpe_model_trainer.cc(258) LOG(INFO) Added: freq=358 size=920 all=165268 active=9194 piece=▁전쟁\n",
      "bpe_model_trainer.cc(258) LOG(INFO) Added: freq=346 size=940 all=166609 active=10535 piece=▁영화중\n",
      "bpe_model_trainer.cc(258) LOG(INFO) Added: freq=339 size=960 all=167586 active=11512 piece=▁재미없음\n",
      "bpe_model_trainer.cc(258) LOG(INFO) Added: freq=331 size=980 all=168"
     ]
    },
    {
     "ename": "KeyboardInterrupt",
     "evalue": "",
     "output_type": "error",
     "traceback": [
      "\u001b[0;31m---------------------------------------------------------------------------\u001b[0m",
      "\u001b[0;31mKeyboardInterrupt\u001b[0m                         Traceback (most recent call last)",
      "\u001b[0;32m/tmp/ipykernel_1077/714105540.py\u001b[0m in \u001b[0;36m<module>\u001b[0;34m\u001b[0m\n\u001b[1;32m      9\u001b[0m         \u001b[0mf\u001b[0m\u001b[0;34m.\u001b[0m\u001b[0mwrite\u001b[0m\u001b[0;34m(\u001b[0m\u001b[0mstr\u001b[0m\u001b[0;34m(\u001b[0m\u001b[0mrow\u001b[0m\u001b[0;34m)\u001b[0m \u001b[0;34m+\u001b[0m \u001b[0;34m'\\n'\u001b[0m\u001b[0;34m)\u001b[0m\u001b[0;34m\u001b[0m\u001b[0;34m\u001b[0m\u001b[0m\n\u001b[1;32m     10\u001b[0m \u001b[0;34m\u001b[0m\u001b[0m\n\u001b[0;32m---> 11\u001b[0;31m spm.SentencePieceTrainer.Train(\n\u001b[0m\u001b[1;32m     12\u001b[0m     \u001b[0;34m'--input={} --model_prefix=korean_spm_bpe_25000 --model_type=bpe --vocab_size={}'\u001b[0m\u001b[0;34m.\u001b[0m\u001b[0mformat\u001b[0m\u001b[0;34m(\u001b[0m\u001b[0mtemp_file\u001b[0m\u001b[0;34m,\u001b[0m \u001b[0mvocab_size\u001b[0m\u001b[0;34m)\u001b[0m\u001b[0;34m\u001b[0m\u001b[0;34m\u001b[0m\u001b[0m\n\u001b[1;32m     13\u001b[0m )\n",
      "\u001b[0;32m/opt/conda/lib/python3.9/site-packages/sentencepiece/__init__.py\u001b[0m in \u001b[0;36mTrain\u001b[0;34m(arg, **kwargs)\u001b[0m\n\u001b[1;32m    405\u001b[0m       \u001b[0;34m\"\"\"Train Sentencepiece model. Accept both kwargs and legacy string arg.\"\"\"\u001b[0m\u001b[0;34m\u001b[0m\u001b[0;34m\u001b[0m\u001b[0m\n\u001b[1;32m    406\u001b[0m       \u001b[0;32mif\u001b[0m \u001b[0marg\u001b[0m \u001b[0;32mis\u001b[0m \u001b[0;32mnot\u001b[0m \u001b[0;32mNone\u001b[0m \u001b[0;32mand\u001b[0m \u001b[0mtype\u001b[0m\u001b[0;34m(\u001b[0m\u001b[0marg\u001b[0m\u001b[0;34m)\u001b[0m \u001b[0;32mis\u001b[0m \u001b[0mstr\u001b[0m\u001b[0;34m:\u001b[0m\u001b[0;34m\u001b[0m\u001b[0;34m\u001b[0m\u001b[0m\n\u001b[0;32m--> 407\u001b[0;31m         \u001b[0;32mreturn\u001b[0m \u001b[0mSentencePieceTrainer\u001b[0m\u001b[0;34m.\u001b[0m\u001b[0m_TrainFromString\u001b[0m\u001b[0;34m(\u001b[0m\u001b[0marg\u001b[0m\u001b[0;34m)\u001b[0m\u001b[0;34m\u001b[0m\u001b[0;34m\u001b[0m\u001b[0m\n\u001b[0m\u001b[1;32m    408\u001b[0m \u001b[0;34m\u001b[0m\u001b[0m\n\u001b[1;32m    409\u001b[0m       \u001b[0;32mdef\u001b[0m \u001b[0m_encode\u001b[0m\u001b[0;34m(\u001b[0m\u001b[0mvalue\u001b[0m\u001b[0;34m)\u001b[0m\u001b[0;34m:\u001b[0m\u001b[0;34m\u001b[0m\u001b[0;34m\u001b[0m\u001b[0m\n",
      "\u001b[0;32m/opt/conda/lib/python3.9/site-packages/sentencepiece/__init__.py\u001b[0m in \u001b[0;36m_TrainFromString\u001b[0;34m(arg)\u001b[0m\n\u001b[1;32m    383\u001b[0m     \u001b[0;34m@\u001b[0m\u001b[0mstaticmethod\u001b[0m\u001b[0;34m\u001b[0m\u001b[0;34m\u001b[0m\u001b[0m\n\u001b[1;32m    384\u001b[0m     \u001b[0;32mdef\u001b[0m \u001b[0m_TrainFromString\u001b[0m\u001b[0;34m(\u001b[0m\u001b[0marg\u001b[0m\u001b[0;34m)\u001b[0m\u001b[0;34m:\u001b[0m\u001b[0;34m\u001b[0m\u001b[0;34m\u001b[0m\u001b[0m\n\u001b[0;32m--> 385\u001b[0;31m         \u001b[0;32mreturn\u001b[0m \u001b[0m_sentencepiece\u001b[0m\u001b[0;34m.\u001b[0m\u001b[0mSentencePieceTrainer__TrainFromString\u001b[0m\u001b[0;34m(\u001b[0m\u001b[0marg\u001b[0m\u001b[0;34m)\u001b[0m\u001b[0;34m\u001b[0m\u001b[0;34m\u001b[0m\u001b[0m\n\u001b[0m\u001b[1;32m    386\u001b[0m \u001b[0;34m\u001b[0m\u001b[0m\n\u001b[1;32m    387\u001b[0m     \u001b[0;34m@\u001b[0m\u001b[0mstaticmethod\u001b[0m\u001b[0;34m\u001b[0m\u001b[0;34m\u001b[0m\u001b[0m\n",
      "\u001b[0;31mKeyboardInterrupt\u001b[0m: "
     ]
    }
   ],
   "source": []
  },
  {
   "cell_type": "code",
   "execution_count": null,
   "id": "b2e66a5a",
   "metadata": {},
   "outputs": [],
   "source": []
  }
 ],
 "metadata": {
  "kernelspec": {
   "display_name": "Python 3 (ipykernel)",
   "language": "python",
   "name": "python3"
  },
  "language_info": {
   "codemirror_mode": {
    "name": "ipython",
    "version": 3
   },
   "file_extension": ".py",
   "mimetype": "text/x-python",
   "name": "python",
   "nbconvert_exporter": "python",
   "pygments_lexer": "ipython3",
   "version": "3.9.7"
  }
 },
 "nbformat": 4,
 "nbformat_minor": 5
}
